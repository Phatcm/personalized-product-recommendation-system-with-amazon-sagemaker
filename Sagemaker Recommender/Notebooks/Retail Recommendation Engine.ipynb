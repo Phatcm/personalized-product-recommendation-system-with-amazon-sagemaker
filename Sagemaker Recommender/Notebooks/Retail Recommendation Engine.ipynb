{
 "cells": [
  {
   "cell_type": "code",
   "execution_count": 353,
   "id": "9b42b66b",
   "metadata": {},
   "outputs": [
    {
     "name": "stdout",
     "output_type": "stream",
     "text": [
      "Requirement already satisfied: python-dotenv in c:\\users\\admin\\anaconda3\\lib\\site-packages (1.0.0)\n",
      "Requirement already satisfied: keras in c:\\users\\admin\\anaconda3\\lib\\site-packages (2.13.1)\n",
      "Requirement already satisfied: tensorflow in c:\\users\\admin\\anaconda3\\lib\\site-packages (2.13.0)\n",
      "Requirement already satisfied: tensorflow-intel==2.13.0 in c:\\users\\admin\\anaconda3\\lib\\site-packages (from tensorflow) (2.13.0)\n",
      "Requirement already satisfied: absl-py>=1.0.0 in c:\\users\\admin\\anaconda3\\lib\\site-packages (from tensorflow-intel==2.13.0->tensorflow) (1.4.0)\n",
      "Requirement already satisfied: astunparse>=1.6.0 in c:\\users\\admin\\anaconda3\\lib\\site-packages (from tensorflow-intel==2.13.0->tensorflow) (1.6.3)\n",
      "Requirement already satisfied: flatbuffers>=23.1.21 in c:\\users\\admin\\anaconda3\\lib\\site-packages (from tensorflow-intel==2.13.0->tensorflow) (23.5.26)\n",
      "Requirement already satisfied: gast<=0.4.0,>=0.2.1 in c:\\users\\admin\\anaconda3\\lib\\site-packages (from tensorflow-intel==2.13.0->tensorflow) (0.4.0)\n",
      "Requirement already satisfied: google-pasta>=0.1.1 in c:\\users\\admin\\anaconda3\\lib\\site-packages (from tensorflow-intel==2.13.0->tensorflow) (0.2.0)\n",
      "Requirement already satisfied: h5py>=2.9.0 in c:\\users\\admin\\anaconda3\\lib\\site-packages (from tensorflow-intel==2.13.0->tensorflow) (3.7.0)\n",
      "Requirement already satisfied: libclang>=13.0.0 in c:\\users\\admin\\anaconda3\\lib\\site-packages (from tensorflow-intel==2.13.0->tensorflow) (16.0.6)\n",
      "Requirement already satisfied: numpy<=1.24.3,>=1.22 in c:\\users\\admin\\anaconda3\\lib\\site-packages (from tensorflow-intel==2.13.0->tensorflow) (1.24.3)\n",
      "Requirement already satisfied: opt-einsum>=2.3.2 in c:\\users\\admin\\anaconda3\\lib\\site-packages (from tensorflow-intel==2.13.0->tensorflow) (3.3.0)\n",
      "Requirement already satisfied: packaging in c:\\users\\admin\\anaconda3\\lib\\site-packages (from tensorflow-intel==2.13.0->tensorflow) (23.0)\n",
      "Requirement already satisfied: protobuf!=4.21.0,!=4.21.1,!=4.21.2,!=4.21.3,!=4.21.4,!=4.21.5,<5.0.0dev,>=3.20.3 in c:\\users\\admin\\anaconda3\\lib\\site-packages (from tensorflow-intel==2.13.0->tensorflow) (4.23.4)\n",
      "Requirement already satisfied: setuptools in c:\\users\\admin\\anaconda3\\lib\\site-packages (from tensorflow-intel==2.13.0->tensorflow) (67.8.0)\n",
      "Requirement already satisfied: six>=1.12.0 in c:\\users\\admin\\anaconda3\\lib\\site-packages (from tensorflow-intel==2.13.0->tensorflow) (1.16.0)\n",
      "Requirement already satisfied: termcolor>=1.1.0 in c:\\users\\admin\\anaconda3\\lib\\site-packages (from tensorflow-intel==2.13.0->tensorflow) (2.3.0)\n",
      "Requirement already satisfied: typing-extensions<4.6.0,>=3.6.6 in c:\\users\\admin\\anaconda3\\lib\\site-packages (from tensorflow-intel==2.13.0->tensorflow) (4.5.0)\n",
      "Requirement already satisfied: wrapt>=1.11.0 in c:\\users\\admin\\anaconda3\\lib\\site-packages (from tensorflow-intel==2.13.0->tensorflow) (1.14.1)\n",
      "Requirement already satisfied: grpcio<2.0,>=1.24.3 in c:\\users\\admin\\anaconda3\\lib\\site-packages (from tensorflow-intel==2.13.0->tensorflow) (1.57.0)\n",
      "Requirement already satisfied: tensorboard<2.14,>=2.13 in c:\\users\\admin\\anaconda3\\lib\\site-packages (from tensorflow-intel==2.13.0->tensorflow) (2.13.0)\n",
      "Requirement already satisfied: tensorflow-estimator<2.14,>=2.13.0 in c:\\users\\admin\\anaconda3\\lib\\site-packages (from tensorflow-intel==2.13.0->tensorflow) (2.13.0)\n",
      "Requirement already satisfied: keras<2.14,>=2.13.1 in c:\\users\\admin\\anaconda3\\lib\\site-packages (from tensorflow-intel==2.13.0->tensorflow) (2.13.1)\n",
      "Requirement already satisfied: tensorflow-io-gcs-filesystem>=0.23.1 in c:\\users\\admin\\anaconda3\\lib\\site-packages (from tensorflow-intel==2.13.0->tensorflow) (0.31.0)\n",
      "Requirement already satisfied: wheel<1.0,>=0.23.0 in c:\\users\\admin\\anaconda3\\lib\\site-packages (from astunparse>=1.6.0->tensorflow-intel==2.13.0->tensorflow) (0.38.4)\n",
      "Requirement already satisfied: google-auth<3,>=1.6.3 in c:\\users\\admin\\anaconda3\\lib\\site-packages (from tensorboard<2.14,>=2.13->tensorflow-intel==2.13.0->tensorflow) (2.22.0)\n",
      "Requirement already satisfied: google-auth-oauthlib<1.1,>=0.5 in c:\\users\\admin\\anaconda3\\lib\\site-packages (from tensorboard<2.14,>=2.13->tensorflow-intel==2.13.0->tensorflow) (1.0.0)\n",
      "Requirement already satisfied: markdown>=2.6.8 in c:\\users\\admin\\anaconda3\\lib\\site-packages (from tensorboard<2.14,>=2.13->tensorflow-intel==2.13.0->tensorflow) (3.4.1)\n",
      "Requirement already satisfied: requests<3,>=2.21.0 in c:\\users\\admin\\anaconda3\\lib\\site-packages (from tensorboard<2.14,>=2.13->tensorflow-intel==2.13.0->tensorflow) (2.29.0)\n",
      "Requirement already satisfied: tensorboard-data-server<0.8.0,>=0.7.0 in c:\\users\\admin\\anaconda3\\lib\\site-packages (from tensorboard<2.14,>=2.13->tensorflow-intel==2.13.0->tensorflow) (0.7.1)\n",
      "Requirement already satisfied: werkzeug>=1.0.1 in c:\\users\\admin\\anaconda3\\lib\\site-packages (from tensorboard<2.14,>=2.13->tensorflow-intel==2.13.0->tensorflow) (2.2.3)\n",
      "Requirement already satisfied: cachetools<6.0,>=2.0.0 in c:\\users\\admin\\anaconda3\\lib\\site-packages (from google-auth<3,>=1.6.3->tensorboard<2.14,>=2.13->tensorflow-intel==2.13.0->tensorflow) (5.3.1)\n",
      "Requirement already satisfied: pyasn1-modules>=0.2.1 in c:\\users\\admin\\anaconda3\\lib\\site-packages (from google-auth<3,>=1.6.3->tensorboard<2.14,>=2.13->tensorflow-intel==2.13.0->tensorflow) (0.2.8)\n",
      "Requirement already satisfied: rsa<5,>=3.1.4 in c:\\users\\admin\\anaconda3\\lib\\site-packages (from google-auth<3,>=1.6.3->tensorboard<2.14,>=2.13->tensorflow-intel==2.13.0->tensorflow) (4.7.2)\n",
      "Requirement already satisfied: urllib3<2.0 in c:\\users\\admin\\anaconda3\\lib\\site-packages (from google-auth<3,>=1.6.3->tensorboard<2.14,>=2.13->tensorflow-intel==2.13.0->tensorflow) (1.26.16)\n",
      "Requirement already satisfied: requests-oauthlib>=0.7.0 in c:\\users\\admin\\anaconda3\\lib\\site-packages (from google-auth-oauthlib<1.1,>=0.5->tensorboard<2.14,>=2.13->tensorflow-intel==2.13.0->tensorflow) (1.3.1)\n",
      "Requirement already satisfied: charset-normalizer<4,>=2 in c:\\users\\admin\\anaconda3\\lib\\site-packages (from requests<3,>=2.21.0->tensorboard<2.14,>=2.13->tensorflow-intel==2.13.0->tensorflow) (2.0.4)\n",
      "Requirement already satisfied: idna<4,>=2.5 in c:\\users\\admin\\anaconda3\\lib\\site-packages (from requests<3,>=2.21.0->tensorboard<2.14,>=2.13->tensorflow-intel==2.13.0->tensorflow) (3.4)\n",
      "Requirement already satisfied: certifi>=2017.4.17 in c:\\users\\admin\\anaconda3\\lib\\site-packages (from requests<3,>=2.21.0->tensorboard<2.14,>=2.13->tensorflow-intel==2.13.0->tensorflow) (2023.5.7)\n",
      "Requirement already satisfied: MarkupSafe>=2.1.1 in c:\\users\\admin\\anaconda3\\lib\\site-packages (from werkzeug>=1.0.1->tensorboard<2.14,>=2.13->tensorflow-intel==2.13.0->tensorflow) (2.1.1)\n",
      "Requirement already satisfied: pyasn1<0.5.0,>=0.4.6 in c:\\users\\admin\\anaconda3\\lib\\site-packages (from pyasn1-modules>=0.2.1->google-auth<3,>=1.6.3->tensorboard<2.14,>=2.13->tensorflow-intel==2.13.0->tensorflow) (0.4.8)\n",
      "Requirement already satisfied: oauthlib>=3.0.0 in c:\\users\\admin\\anaconda3\\lib\\site-packages (from requests-oauthlib>=0.7.0->google-auth-oauthlib<1.1,>=0.5->tensorboard<2.14,>=2.13->tensorflow-intel==2.13.0->tensorflow) (3.2.2)\n"
     ]
    }
   ],
   "source": [
    "!pip install sagemaker-experiments\n",
    "!pip install python-dotenv\n",
    "!pip install keras\n",
    "!pip install tensorflow"
   ]
  },
  {
   "cell_type": "markdown",
   "id": "1e99969b",
   "metadata": {},
   "source": [
    "# IMPORT LIBRARY"
   ]
  },
  {
   "cell_type": "code",
   "execution_count": 1,
   "id": "0b8af605-b37b-4154-ae68-7be83ddd1530",
   "metadata": {
    "tags": []
   },
   "outputs": [],
   "source": [
    "import re\n",
    "import pandas as pd\n",
    "import json\n",
    "import numpy as np\n",
    "from sklearn.preprocessing import OneHotEncoder\n",
    "from decimal import *\n",
    "import pprint\n",
    "\n",
    "import seaborn as sns\n",
    "import matplotlib.pyplot as plt\n",
    "\n",
    "sns.set(rc={'figure.figsize':(10,7)})\n",
    "from scipy.sparse import lil_matrix\n",
    "import boto3\n",
    "import sagemaker\n",
    "from sagemaker import get_execution_role\n",
    "import io\n",
    "import sagemaker.amazon.common as smac\n",
    "\n",
    "from sagemaker.tuner import HyperparameterTuner\n",
    "from sagemaker.tuner import IntegerParameter, ContinuousParameter\n",
    "\n",
    "from sagemaker.deserializers import JSONDeserializer\n",
    "from sagemaker.serializers import JSONSerializer\n",
    "import psycopg2\n",
    "import os\n",
    "from dotenv import load_dotenv\n",
    "from tensorflow import keras"
   ]
  },
  {
   "cell_type": "code",
   "execution_count": 2,
   "id": "928ad262-828e-4061-9e3e-ae606e0e727a",
   "metadata": {
    "tags": []
   },
   "outputs": [
    {
     "name": "stdout",
     "output_type": "stream",
     "text": [
      "psycopg2 version: 2.9.7 (dt dec pq3 ext lo64)\n"
     ]
    }
   ],
   "source": [
    "print(\"psycopg2 version:\", psycopg2.__version__)"
   ]
  },
  {
   "cell_type": "markdown",
   "id": "47d87642",
   "metadata": {},
   "source": [
    "# AWS ENVIRONMENT CONFIGURATION AND GETTING DATA"
   ]
  },
  {
   "cell_type": "code",
   "execution_count": null,
   "id": "e7a5cf20",
   "metadata": {},
   "outputs": [],
   "source": [
    "# from psycopg2 import sql\n",
    "# import psycopg2\n",
    "# import pandas as pd\n",
    "# import boto3\n",
    "# import os\n",
    "# from sqlalchemy import create_engine\n",
    "# from dotenv import load_dotenv\n",
    "# env_path = r\"../Resources/env/\"\n",
    "# load_dotenv(env_path + 'AwsCfg.env')\n",
    "# table_name = 'GroceryProducts'\n",
    "# dbname = os.getenv(\"dbname\")\n",
    "# user = os.getenv(\"user\")\n",
    "# password = os.getenv(\"password\")\n",
    "# host = os.getenv(\"host\")\n",
    "# port = os.getenv(\"port\")\n",
    "# role = os.getenv(\"role\")\n",
    "# conn_str = f\"postgresql+psycopg2://{user}:{password}@{host}:{port}/{dbname}\"\n",
    "# engine = create_engine(conn_str)\n",
    "\n",
    "# query = f\"\"\"SELECT * FROM public.{table_name} order by product_id;\"\"\"\n",
    "# df = pd.read_sql_query(query, engine)\n",
    "\n",
    "# engine.dispose()"
   ]
  },
  {
   "cell_type": "code",
   "execution_count": 3,
   "id": "495038f3-bdf4-498f-a313-995192c507a9",
   "metadata": {
    "tags": []
   },
   "outputs": [],
   "source": [
    "db_params = {\n",
    "    'dbname': 'DA2',\n",
    "    'user': 'postgres',\n",
    "    'password': '123456',\n",
    "    'host': 'localhost',\n",
    "    'port': '5432'   \n",
    "}\n",
    "# Establish a connection\n",
    "conn = psycopg2.connect(**db_params)"
   ]
  },
  {
   "cell_type": "code",
   "execution_count": 4,
   "id": "d4a3e263",
   "metadata": {},
   "outputs": [],
   "source": [
    "env_path = r\"../Resources/env/\"\n",
    "# Load environment variables from .env file\n",
    "load_dotenv(env_path + 'AwsCfg.env')\n",
    "\n",
    "# Access the environment variable\n",
    "role_arn = os.getenv(\"ROLE_ARN\")\n",
    "region = os.getenv(\"region\")\n",
    "\n",
    "#print(\"Role ARN:\", role_arn)"
   ]
  },
  {
   "cell_type": "code",
   "execution_count": 5,
   "id": "ab83b316",
   "metadata": {},
   "outputs": [],
   "source": [
    "# Set up default session and clients\n",
    "boto3.setup_default_session(region_name=region)\n",
    "boto_session = boto3.Session(region_name=region)\n",
    "s3_client = boto3.client(\"s3\", region_name=region , verify = False)\n",
    "sagemaker_boto_client = boto_session.client(\"sagemaker\", region_name=region)\n",
    "\n",
    "# Set up SageMaker session\n",
    "sagemaker_session = sagemaker.Session(boto_session=boto_session)"
   ]
  },
  {
   "cell_type": "code",
   "execution_count": 6,
   "id": "5cd49290-744c-4d58-b714-323fbf050b06",
   "metadata": {
    "tags": []
   },
   "outputs": [
    {
     "name": "stdout",
     "output_type": "stream",
     "text": [
      "role: arn:aws:iam::964448433964:role/service-role/AmazonSageMaker-ExecutionRole-20230710T171952 bucket: sagemaker-ap-southeast-1-964448433964\n"
     ]
    }
   ],
   "source": [
    "# Get the default bucket\n",
    "bucket = sagemaker_session.default_bucket()\n",
    "\n",
    "prefix = \"builtin-notebooks/Recomendation-Machine/Explicit\"\n",
    "print(f\"role: {role_arn} bucket: {bucket}\")\n",
    "\n",
    "train_key = 'train.protobuf'\n",
    "train_prefix = '{}/{}'.format(prefix, 'train')\n",
    "s3_train = 's3://{}/{}/train/'.format(bucket,prefix)\n",
    "\n",
    "test_key = 'test.protobuf'\n",
    "test_prefix = '{}/{}'.format(prefix, 'test')\n",
    "\n",
    "output_prefix = 's3://{}/{}/output'.format(bucket, prefix)"
   ]
  },
  {
   "cell_type": "code",
   "execution_count": 7,
   "id": "950c3109",
   "metadata": {},
   "outputs": [
    {
     "name": "stderr",
     "output_type": "stream",
     "text": [
      "C:\\Users\\Admin\\AppData\\Local\\Temp\\ipykernel_6664\\1513602498.py:5: UserWarning: pandas only supports SQLAlchemy connectable (engine/connection) or database string URI or sqlite3 DBAPI2 connection. Other DBAPI2 objects are not tested. Please consider using SQLAlchemy.\n",
      "  df = pd.read_sql(query, conn)\n"
     ]
    }
   ],
   "source": [
    "# SQL query\n",
    "#query = 'SELECT * FROM core.\"GroceryProducts\"'\n",
    "query = 'select r.customer_fk as customer_id,p.product_pk as product_id,p.product_title,p.product_category,r.star_rating,r.review_date from core.products p left join core.reviews r on p.product_pk = r.product_fk order by p.product_pk ASC'\n",
    "# Fetch data into a DataFrame\n",
    "df = pd.read_sql(query, conn)\n",
    "# Close the connection\n",
    "conn.close()"
   ]
  },
  {
   "cell_type": "code",
   "execution_count": 8,
   "id": "75bd5c46",
   "metadata": {},
   "outputs": [
    {
     "name": "stdout",
     "output_type": "stream",
     "text": [
      "['.ipynb_checkpoints']\n"
     ]
    }
   ],
   "source": [
    "folder_path = r\"../Resources/data/\"\n",
    "#get all file names in the folder\n",
    "file_names = os.listdir(folder_path)\n",
    "print(file_names)"
   ]
  },
  {
   "cell_type": "code",
   "execution_count": 9,
   "id": "64a0f4ca-4be2-499d-83e3-be6872e25b04",
   "metadata": {
    "tags": []
   },
   "outputs": [
    {
     "name": "stdout",
     "output_type": "stream",
     "text": [
      "Shape of train data dataset for training: (238699, 6)\n"
     ]
    },
    {
     "data": {
      "text/html": [
       "<div>\n",
       "<style scoped>\n",
       "    .dataframe tbody tr th:only-of-type {\n",
       "        vertical-align: middle;\n",
       "    }\n",
       "\n",
       "    .dataframe tbody tr th {\n",
       "        vertical-align: top;\n",
       "    }\n",
       "\n",
       "    .dataframe thead th {\n",
       "        text-align: right;\n",
       "    }\n",
       "</style>\n",
       "<table border=\"1\" class=\"dataframe\">\n",
       "  <thead>\n",
       "    <tr style=\"text-align: right;\">\n",
       "      <th></th>\n",
       "      <th>customer_id</th>\n",
       "      <th>product_id</th>\n",
       "      <th>product_title</th>\n",
       "      <th>product_category</th>\n",
       "      <th>star_rating</th>\n",
       "      <th>review_date</th>\n",
       "    </tr>\n",
       "  </thead>\n",
       "  <tbody>\n",
       "    <tr>\n",
       "      <th>0</th>\n",
       "      <td>7269</td>\n",
       "      <td>1</td>\n",
       "      <td>Delgada coffee infused with Chaga 28 Sachets p...</td>\n",
       "      <td>Grocery</td>\n",
       "      <td>5</td>\n",
       "      <td>2015-07-22</td>\n",
       "    </tr>\n",
       "    <tr>\n",
       "      <th>1</th>\n",
       "      <td>570641</td>\n",
       "      <td>2</td>\n",
       "      <td>Communion Bread Pack of 500</td>\n",
       "      <td>Grocery</td>\n",
       "      <td>3</td>\n",
       "      <td>2015-08-04</td>\n",
       "    </tr>\n",
       "    <tr>\n",
       "      <th>2</th>\n",
       "      <td>518854</td>\n",
       "      <td>2</td>\n",
       "      <td>Communion Bread Pack of 500</td>\n",
       "      <td>Grocery</td>\n",
       "      <td>5</td>\n",
       "      <td>2015-01-28</td>\n",
       "    </tr>\n",
       "    <tr>\n",
       "      <th>3</th>\n",
       "      <td>311501</td>\n",
       "      <td>2</td>\n",
       "      <td>Communion Bread Pack of 500</td>\n",
       "      <td>Grocery</td>\n",
       "      <td>5</td>\n",
       "      <td>2012-05-20</td>\n",
       "    </tr>\n",
       "    <tr>\n",
       "      <th>4</th>\n",
       "      <td>223609</td>\n",
       "      <td>2</td>\n",
       "      <td>Communion Bread Pack of 500</td>\n",
       "      <td>Grocery</td>\n",
       "      <td>2</td>\n",
       "      <td>2013-12-02</td>\n",
       "    </tr>\n",
       "  </tbody>\n",
       "</table>\n",
       "</div>"
      ],
      "text/plain": [
       "   customer_id  product_id                                      product_title  \\\n",
       "0         7269           1  Delgada coffee infused with Chaga 28 Sachets p...   \n",
       "1       570641           2                        Communion Bread Pack of 500   \n",
       "2       518854           2                        Communion Bread Pack of 500   \n",
       "3       311501           2                        Communion Bread Pack of 500   \n",
       "4       223609           2                        Communion Bread Pack of 500   \n",
       "\n",
       "  product_category  star_rating review_date  \n",
       "0          Grocery            5  2015-07-22  \n",
       "1          Grocery            3  2015-08-04  \n",
       "2          Grocery            5  2015-01-28  \n",
       "3          Grocery            5  2012-05-20  \n",
       "4          Grocery            2  2013-12-02  "
      ]
     },
     "execution_count": 9,
     "metadata": {},
     "output_type": "execute_result"
    }
   ],
   "source": [
    "#df.to_csv(folder_path +'GroceryData.csv', index=False)\n",
    "df.to_csv(folder_path + 'GroceryData.csv', sep='\\t', index=False)\n",
    "df.isna().sum()\n",
    "train_data = df.head(int(len(df) * 0.2))\n",
    "print('Shape of train data dataset for training: {}'.format(train_data.shape))\n",
    "train_data.head()"
   ]
  },
  {
   "cell_type": "code",
   "execution_count": 10,
   "id": "3ccfc3a3-0ff7-462e-853f-df59f82854b1",
   "metadata": {
    "tags": []
   },
   "outputs": [
    {
     "name": "stdout",
     "output_type": "stream",
     "text": [
      "<class 'pandas.core.frame.DataFrame'>\n",
      "RangeIndex: 47739 entries, 0 to 47738\n",
      "Data columns (total 6 columns):\n",
      " #   Column            Non-Null Count  Dtype \n",
      "---  ------            --------------  ----- \n",
      " 0   customer_id       47739 non-null  int64 \n",
      " 1   product_id        47739 non-null  int64 \n",
      " 2   product_title     47739 non-null  object\n",
      " 3   product_category  47739 non-null  object\n",
      " 4   star_rating       47739 non-null  int64 \n",
      " 5   review_date       47739 non-null  object\n",
      "dtypes: int64(3), object(3)\n",
      "memory usage: 2.2+ MB\n"
     ]
    },
    {
     "data": {
      "text/html": [
       "<div>\n",
       "<style scoped>\n",
       "    .dataframe tbody tr th:only-of-type {\n",
       "        vertical-align: middle;\n",
       "    }\n",
       "\n",
       "    .dataframe tbody tr th {\n",
       "        vertical-align: top;\n",
       "    }\n",
       "\n",
       "    .dataframe thead th {\n",
       "        text-align: right;\n",
       "    }\n",
       "</style>\n",
       "<table border=\"1\" class=\"dataframe\">\n",
       "  <thead>\n",
       "    <tr style=\"text-align: right;\">\n",
       "      <th></th>\n",
       "      <th>customer_id</th>\n",
       "      <th>product_id</th>\n",
       "      <th>product_title</th>\n",
       "      <th>product_category</th>\n",
       "      <th>star_rating</th>\n",
       "      <th>review_date</th>\n",
       "    </tr>\n",
       "  </thead>\n",
       "  <tbody>\n",
       "    <tr>\n",
       "      <th>0</th>\n",
       "      <td>7269</td>\n",
       "      <td>1</td>\n",
       "      <td>Delgada coffee infused with Chaga 28 Sachets p...</td>\n",
       "      <td>Grocery</td>\n",
       "      <td>5</td>\n",
       "      <td>2015-07-22</td>\n",
       "    </tr>\n",
       "    <tr>\n",
       "      <th>1</th>\n",
       "      <td>570641</td>\n",
       "      <td>2</td>\n",
       "      <td>Communion Bread Pack of 500</td>\n",
       "      <td>Grocery</td>\n",
       "      <td>3</td>\n",
       "      <td>2015-08-04</td>\n",
       "    </tr>\n",
       "    <tr>\n",
       "      <th>2</th>\n",
       "      <td>518854</td>\n",
       "      <td>2</td>\n",
       "      <td>Communion Bread Pack of 500</td>\n",
       "      <td>Grocery</td>\n",
       "      <td>5</td>\n",
       "      <td>2015-01-28</td>\n",
       "    </tr>\n",
       "    <tr>\n",
       "      <th>3</th>\n",
       "      <td>311501</td>\n",
       "      <td>2</td>\n",
       "      <td>Communion Bread Pack of 500</td>\n",
       "      <td>Grocery</td>\n",
       "      <td>5</td>\n",
       "      <td>2012-05-20</td>\n",
       "    </tr>\n",
       "    <tr>\n",
       "      <th>4</th>\n",
       "      <td>223609</td>\n",
       "      <td>2</td>\n",
       "      <td>Communion Bread Pack of 500</td>\n",
       "      <td>Grocery</td>\n",
       "      <td>2</td>\n",
       "      <td>2013-12-02</td>\n",
       "    </tr>\n",
       "  </tbody>\n",
       "</table>\n",
       "</div>"
      ],
      "text/plain": [
       "   customer_id  product_id                                      product_title  \\\n",
       "0         7269           1  Delgada coffee infused with Chaga 28 Sachets p...   \n",
       "1       570641           2                        Communion Bread Pack of 500   \n",
       "2       518854           2                        Communion Bread Pack of 500   \n",
       "3       311501           2                        Communion Bread Pack of 500   \n",
       "4       223609           2                        Communion Bread Pack of 500   \n",
       "\n",
       "  product_category  star_rating review_date  \n",
       "0          Grocery            5  2015-07-22  \n",
       "1          Grocery            3  2015-08-04  \n",
       "2          Grocery            5  2015-01-28  \n",
       "3          Grocery            5  2012-05-20  \n",
       "4          Grocery            2  2013-12-02  "
      ]
     },
     "execution_count": 10,
     "metadata": {},
     "output_type": "execute_result"
    }
   ],
   "source": [
    "test_data = train_data.head(int(len(train_data) * 0.2))\n",
    "test_data.info()\n",
    "test_data.head()\n"
   ]
  },
  {
   "cell_type": "markdown",
   "id": "b775bfce",
   "metadata": {},
   "source": [
    "# Exploratory data analysis"
   ]
  },
  {
   "cell_type": "code",
   "execution_count": 11,
   "id": "1da64e59-3b19-4a60-adb4-b4037f8d0aba",
   "metadata": {
    "tags": []
   },
   "outputs": [
    {
     "name": "stdout",
     "output_type": "stream",
     "text": [
      "DATASET TRAIN:\n",
      "Number of train_data: 238699\n",
      "Number of different customer: 194421\n",
      "Number of different product: 36424\n",
      "The dataset will consist of just over 238699 train_data applied to over 194421 products by approximately 36424 customers. \n"
     ]
    }
   ],
   "source": [
    "print(\"DATASET TRAIN:\")\n",
    "print(\"Number of train_data: {}\".format(train_data.shape[0]))\n",
    "print('Number of different customer: {}'.format(len(train_data.customer_id.unique())))\n",
    "print('Number of different product: {}'.format(len(train_data.product_id.unique())))\n",
    "print('The dataset will consist of just over {} train_data applied to over {} products by approximately {} customers. '.format(train_data.shape[0],len(train_data.customer_id.unique()),len(train_data.product_id.unique())))"
   ]
  },
  {
   "cell_type": "code",
   "execution_count": 12,
   "id": "2ab152ba-4c7b-4642-a8c0-694072e0666f",
   "metadata": {
    "tags": []
   },
   "outputs": [
    {
     "name": "stdout",
     "output_type": "stream",
     "text": [
      "DATASET TEST:\n",
      "Number of test_data: 47739\n",
      "Number of different customer: 44205\n",
      "Number of different product: 8840\n",
      "The dataset test will consist of just over 47739 testing data applied to over 44205 product by approximately 8840 customer. \n"
     ]
    }
   ],
   "source": [
    "print(\"DATASET TEST:\")\n",
    "print(\"Number of test_data: {}\".format(test_data.shape[0]))\n",
    "print('Number of different customer: {}'.format(len(test_data.customer_id.unique())))\n",
    "print('Number of different product: {}'.format(len(test_data.product_id.unique())))\n",
    "print('The dataset test will consist of just over {} testing data applied to over {} product by approximately {} customer. '.format(test_data.shape[0],len(test_data.customer_id.unique()),len(test_data.product_id.unique())))"
   ]
  },
  {
   "cell_type": "code",
   "execution_count": 13,
   "id": "40491320-7bdc-4adb-9f74-69c092a8065b",
   "metadata": {
    "tags": []
   },
   "outputs": [
    {
     "data": {
      "text/plain": [
       "count    238699.000000\n",
       "mean          4.330416\n",
       "std           1.221105\n",
       "min           1.000000\n",
       "25%           4.000000\n",
       "50%           5.000000\n",
       "75%           5.000000\n",
       "max           5.000000\n",
       "Name: star_rating, dtype: float64"
      ]
     },
     "execution_count": 13,
     "metadata": {},
     "output_type": "execute_result"
    }
   ],
   "source": [
    "train_data.star_rating.describe()"
   ]
  },
  {
   "cell_type": "code",
   "execution_count": 14,
   "id": "b298cf6d-f473-456a-9786-b59354f315bf",
   "metadata": {
    "tags": []
   },
   "outputs": [
    {
     "name": "stderr",
     "output_type": "stream",
     "text": [
      "C:\\Users\\Admin\\AppData\\Local\\Temp\\ipykernel_6664\\3146463780.py:2: UserWarning: \n",
      "\n",
      "`distplot` is a deprecated function and will be removed in seaborn v0.14.0.\n",
      "\n",
      "Please adapt your code to use either `displot` (a figure-level function with\n",
      "similar flexibility) or `histplot` (an axes-level function for histograms).\n",
      "\n",
      "For a guide to updating your code to use the new functions, please see\n",
      "https://gist.github.com/mwaskom/de44147ed2974457ad6372750bbe5751\n",
      "\n",
      "  sns.distplot(train_data['star_rating'],\n"
     ]
    },
    {
     "data": {
      "image/png": "[encoded data removed]",
      "text/plain": [
       "<Figure size 1000x700 with 1 Axes>"
      ]
     },
     "metadata": {},
     "output_type": "display_data"
    }
   ],
   "source": [
    "# seaborn histogram\n",
    "sns.distplot(train_data['star_rating'], \n",
    "             hist=True, \n",
    "             kde=False, \n",
    "             color='blue',\n",
    "             hist_kws={'edgecolor':'black'})\n",
    "\n",
    "plt.title(\"Ratings Distribution\")\n",
    "plt.ylabel(\"Frecuency\")\n",
    "plt.show()"
   ]
  },
  {
   "cell_type": "code",
   "execution_count": 15,
   "id": "d4bb45d0-52ce-44e0-85f2-8ab20f8929be",
   "metadata": {
    "tags": []
   },
   "outputs": [
    {
     "data": {
      "text/html": [
       "<div>\n",
       "<style scoped>\n",
       "    .dataframe tbody tr th:only-of-type {\n",
       "        vertical-align: middle;\n",
       "    }\n",
       "\n",
       "    .dataframe tbody tr th {\n",
       "        vertical-align: top;\n",
       "    }\n",
       "\n",
       "    .dataframe thead th {\n",
       "        text-align: right;\n",
       "    }\n",
       "</style>\n",
       "<table border=\"1\" class=\"dataframe\">\n",
       "  <thead>\n",
       "    <tr style=\"text-align: right;\">\n",
       "      <th></th>\n",
       "      <th>customer_id</th>\n",
       "      <th>product_id</th>\n",
       "      <th>product_title</th>\n",
       "      <th>product_category</th>\n",
       "      <th>star_rating</th>\n",
       "      <th>review_date</th>\n",
       "      <th>rating_bin</th>\n",
       "    </tr>\n",
       "  </thead>\n",
       "  <tbody>\n",
       "    <tr>\n",
       "      <th>0</th>\n",
       "      <td>7269</td>\n",
       "      <td>1</td>\n",
       "      <td>Delgada coffee infused with Chaga 28 Sachets p...</td>\n",
       "      <td>Grocery</td>\n",
       "      <td>5</td>\n",
       "      <td>2015-07-22</td>\n",
       "      <td>1.0</td>\n",
       "    </tr>\n",
       "    <tr>\n",
       "      <th>1</th>\n",
       "      <td>570641</td>\n",
       "      <td>2</td>\n",
       "      <td>Communion Bread Pack of 500</td>\n",
       "      <td>Grocery</td>\n",
       "      <td>3</td>\n",
       "      <td>2015-08-04</td>\n",
       "      <td>0.0</td>\n",
       "    </tr>\n",
       "    <tr>\n",
       "      <th>2</th>\n",
       "      <td>518854</td>\n",
       "      <td>2</td>\n",
       "      <td>Communion Bread Pack of 500</td>\n",
       "      <td>Grocery</td>\n",
       "      <td>5</td>\n",
       "      <td>2015-01-28</td>\n",
       "      <td>1.0</td>\n",
       "    </tr>\n",
       "    <tr>\n",
       "      <th>3</th>\n",
       "      <td>311501</td>\n",
       "      <td>2</td>\n",
       "      <td>Communion Bread Pack of 500</td>\n",
       "      <td>Grocery</td>\n",
       "      <td>5</td>\n",
       "      <td>2012-05-20</td>\n",
       "      <td>1.0</td>\n",
       "    </tr>\n",
       "    <tr>\n",
       "      <th>4</th>\n",
       "      <td>223609</td>\n",
       "      <td>2</td>\n",
       "      <td>Communion Bread Pack of 500</td>\n",
       "      <td>Grocery</td>\n",
       "      <td>2</td>\n",
       "      <td>2013-12-02</td>\n",
       "      <td>0.0</td>\n",
       "    </tr>\n",
       "  </tbody>\n",
       "</table>\n",
       "</div>"
      ],
      "text/plain": [
       "   customer_id  product_id                                      product_title  \\\n",
       "0         7269           1  Delgada coffee infused with Chaga 28 Sachets p...   \n",
       "1       570641           2                        Communion Bread Pack of 500   \n",
       "2       518854           2                        Communion Bread Pack of 500   \n",
       "3       311501           2                        Communion Bread Pack of 500   \n",
       "4       223609           2                        Communion Bread Pack of 500   \n",
       "\n",
       "  product_category  star_rating review_date  rating_bin  \n",
       "0          Grocery            5  2015-07-22         1.0  \n",
       "1          Grocery            3  2015-08-04         0.0  \n",
       "2          Grocery            5  2015-01-28         1.0  \n",
       "3          Grocery            5  2012-05-20         1.0  \n",
       "4          Grocery            2  2013-12-02         0.0  "
      ]
     },
     "execution_count": 15,
     "metadata": {},
     "output_type": "execute_result"
    }
   ],
   "source": [
    "train_data = train_data.copy()\n",
    "train_data['rating_bin'] = (train_data.star_rating>=4).astype('float32')\n",
    "test_data['rating_bin'] = (test_data.star_rating>=4).astype('float32')\n",
    "train_data.head()"
   ]
  },
  {
   "cell_type": "code",
   "execution_count": 16,
   "id": "c1cb49bd-3691-4375-8296-74e8afd11704",
   "metadata": {
    "tags": []
   },
   "outputs": [
    {
     "data": {
      "text/plain": [
       "1.0    0.82\n",
       "0.0    0.18\n",
       "Name: rating_bin, dtype: float64"
      ]
     },
     "execution_count": 16,
     "metadata": {},
     "output_type": "execute_result"
    }
   ],
   "source": [
    "round(train_data.rating_bin.value_counts(normalize=True), 2)"
   ]
  },
  {
   "cell_type": "code",
   "execution_count": 17,
   "id": "e59262fb-647e-4234-a4b7-8b6aa7d8f294",
   "metadata": {
    "tags": []
   },
   "outputs": [
    {
     "data": {
      "text/plain": [
       "customer_id\n",
       "11          1\n",
       "531929      1\n",
       "531942      1\n",
       "531948      1\n",
       "531952      1\n",
       "         ... \n",
       "793638     65\n",
       "728381     68\n",
       "733863     75\n",
       "474731     75\n",
       "720268    135\n",
       "Name: star_rating, Length: 194421, dtype: int64"
      ]
     },
     "execution_count": 17,
     "metadata": {},
     "output_type": "execute_result"
    }
   ],
   "source": [
    "train_data.groupby('customer_id').count().star_rating.sort_values()"
   ]
  },
  {
   "cell_type": "code",
   "execution_count": 18,
   "id": "d02d7c2f-dcce-41ac-9aac-c123b6bcb3de",
   "metadata": {
    "tags": []
   },
   "outputs": [
    {
     "data": {
      "text/plain": [
       "customer_id\n",
       "11         1\n",
       "542423     1\n",
       "542432     1\n",
       "542445     1\n",
       "542446     1\n",
       "          ..\n",
       "795643    25\n",
       "474731    26\n",
       "375736    34\n",
       "720268    60\n",
       "728381    63\n",
       "Name: star_rating, Length: 44205, dtype: int64"
      ]
     },
     "execution_count": 18,
     "metadata": {},
     "output_type": "execute_result"
    }
   ],
   "source": [
    "test_data.groupby('customer_id').count().star_rating.sort_values()"
   ]
  },
  {
   "cell_type": "code",
   "execution_count": 19,
   "id": "855476cd-0044-48e7-999b-e3fb5330040e",
   "metadata": {
    "tags": []
   },
   "outputs": [
    {
     "name": "stdout",
     "output_type": "stream",
     "text": [
      "Customers of the test dataset are on the train dataset: True\n",
      "Products of the test dataset are on the train dataset: True\n"
     ]
    }
   ],
   "source": [
    "print('Customers of the test dataset are on the train dataset: {}'.format(test_data.customer_id.isin(train_data.customer_id).sum()==len(test_data.customer_id)))\n",
    "print('Products of the test dataset are on the train dataset: {}'.format(test_data.product_id.isin(train_data.product_id).sum()==len(test_data.product_id)))"
   ]
  },
  {
   "cell_type": "code",
   "execution_count": 20,
   "id": "096609c0-d204-49df-9817-b590eda6875c",
   "metadata": {
    "tags": []
   },
   "outputs": [
    {
     "name": "stdout",
     "output_type": "stream",
     "text": [
      "The products that are in the test dataset and not in the train dataset are:\n"
     ]
    },
    {
     "data": {
      "text/html": [
       "<div>\n",
       "<style scoped>\n",
       "    .dataframe tbody tr th:only-of-type {\n",
       "        vertical-align: middle;\n",
       "    }\n",
       "\n",
       "    .dataframe tbody tr th {\n",
       "        vertical-align: top;\n",
       "    }\n",
       "\n",
       "    .dataframe thead th {\n",
       "        text-align: right;\n",
       "    }\n",
       "</style>\n",
       "<table border=\"1\" class=\"dataframe\">\n",
       "  <thead>\n",
       "    <tr style=\"text-align: right;\">\n",
       "      <th></th>\n",
       "      <th>customer_id</th>\n",
       "      <th>product_id</th>\n",
       "      <th>product_title</th>\n",
       "      <th>product_category</th>\n",
       "      <th>star_rating</th>\n",
       "      <th>review_date</th>\n",
       "      <th>rating_bin</th>\n",
       "    </tr>\n",
       "  </thead>\n",
       "  <tbody>\n",
       "  </tbody>\n",
       "</table>\n",
       "</div>"
      ],
      "text/plain": [
       "Empty DataFrame\n",
       "Columns: [customer_id, product_id, product_title, product_category, star_rating, review_date, rating_bin]\n",
       "Index: []"
      ]
     },
     "execution_count": 20,
     "metadata": {},
     "output_type": "execute_result"
    }
   ],
   "source": [
    "print('The products that are in the test dataset and not in the train dataset are:')\n",
    "test_data[test_data.product_id.isin(train_data.product_id)==False]"
   ]
  },
  {
   "cell_type": "code",
   "execution_count": 21,
   "id": "cfeaac6b-be9c-4f2b-ad0e-6837a3bfaee5",
   "metadata": {
    "tags": []
   },
   "outputs": [],
   "source": [
    "# We remove the observations\n",
    "test_data = test_data.drop(index=test_data[test_data.product_id.isin(train_data.product_id)==False].index)\n",
    "test_data.reset_index(drop=True,inplace=True)"
   ]
  },
  {
   "cell_type": "code",
   "execution_count": 22,
   "id": "bfb4cb88-52af-4772-9b5f-2d87cd6aa18d",
   "metadata": {
    "tags": []
   },
   "outputs": [
    {
     "name": "stdout",
     "output_type": "stream",
     "text": [
      "Customer of the test dataset are on the train dataset: True\n",
      "Product of the test dataset are on the train dataset: True\n"
     ]
    }
   ],
   "source": [
    "print('Customer of the test dataset are on the train dataset: {}'.format(test_data.customer_id.isin(train_data.customer_id).sum()==len(test_data.customer_id)))\n",
    "print('Product of the test dataset are on the train dataset: {}'.format(test_data.product_id.isin(train_data.product_id).sum()==len(test_data.product_id)))"
   ]
  },
  {
   "cell_type": "code",
   "execution_count": 23,
   "id": "aac68b91-ce5a-4402-8cba-ac7bcce15ce3",
   "metadata": {
    "tags": []
   },
   "outputs": [],
   "source": [
    "#create sparse matrix\n",
    "enc = OneHotEncoder(handle_unknown='ignore')\n",
    "enc.fit(train_data[['customer_id','product_id']])\n",
    "\n",
    "X_train = enc.transform(train_data[['customer_id','product_id']]).astype('float32')\n",
    "Y_train = train_data['rating_bin']\n",
    "\n",
    "X_test = enc.transform(test_data[['customer_id','product_id']]).astype('float32')\n",
    "Y_test = test_data['rating_bin']"
   ]
  },
  {
   "cell_type": "code",
   "execution_count": 24,
   "id": "5a4d2bf5-06a2-478b-b367-c2c22e9a00d1",
   "metadata": {
    "tags": []
   },
   "outputs": [
    {
     "name": "stdout",
     "output_type": "stream",
     "text": [
      "  (0, 1028)\t1.0\n",
      "  (0, 194421)\t1.0\n",
      "  (1, 134074)\t1.0\n",
      "  (1, 194422)\t1.0\n",
      "  (2, 121227)\t1.0\n",
      "  (2, 194422)\t1.0\n",
      "  (3, 70682)\t1.0\n",
      "  (3, 194422)\t1.0\n",
      "  (4, 49355)\t1.0\n",
      "  (4, 194422)\t1.0\n",
      "  (5, 137237)\t1.0\n",
      "  (5, 194422)\t1.0\n",
      "  (6, 17772)\t1.0\n",
      "  (6, 194422)\t1.0\n",
      "  (7, 92412)\t1.0\n",
      "  (7, 194422)\t1.0\n",
      "  (8, 177367)\t1.0\n",
      "  (8, 194422)\t1.0\n",
      "  (9, 70035)\t1.0\n",
      "  (9, 194422)\t1.0\n",
      "<class 'scipy.sparse._csr.csr_matrix'>\n"
     ]
    }
   ],
   "source": [
    "print(X_train[:10])\n",
    "print(type(X_train))"
   ]
  },
  {
   "cell_type": "code",
   "execution_count": 25,
   "id": "a602646d-3122-4c42-b0c0-1f6b7da8ef43",
   "metadata": {
    "tags": []
   },
   "outputs": [
    {
     "name": "stdout",
     "output_type": "stream",
     "text": [
      "0        1.0\n",
      "1        0.0\n",
      "2        1.0\n",
      "3        1.0\n",
      "4        0.0\n",
      "        ... \n",
      "47734    0.0\n",
      "47735    1.0\n",
      "47736    1.0\n",
      "47737    1.0\n",
      "47738    1.0\n",
      "Name: rating_bin, Length: 47739, dtype: float32\n"
     ]
    }
   ],
   "source": [
    "print(Y_test)"
   ]
  },
  {
   "cell_type": "code",
   "execution_count": 26,
   "id": "7e796ff7-0abc-40c6-bcd6-c3812cea5020",
   "metadata": {
    "tags": []
   },
   "outputs": [
    {
     "name": "stdout",
     "output_type": "stream",
     "text": [
      "Columns:230845 \n",
      "Rows:238699 \n"
     ]
    }
   ],
   "source": [
    "columns = X_train.shape[1]\n",
    "\n",
    "print(\"Columns:{} \".format(X_train.shape[1]))\n",
    "print(\"Rows:{} \".format(X_train.shape[0]))"
   ]
  },
  {
   "cell_type": "code",
   "execution_count": 27,
   "id": "dad12d77",
   "metadata": {},
   "outputs": [
    {
     "name": "stdout",
     "output_type": "stream",
     "text": [
      "Total elements: 55102470655\n",
      "Non-zero elements: 477398\n",
      "Sparsity: 99.9991 %\n"
     ]
    }
   ],
   "source": [
    "total = X_train.shape[0] * X_train.shape[1]\n",
    "non_zero = X_train.nnz\n",
    "sparsity = (total - non_zero) / total\n",
    "\n",
    "print(\"Total elements:\", total)\n",
    "print(\"Non-zero elements:\", non_zero)\n",
    "print(\"Sparsity:\", round(sparsity*100, 4), \"%\")"
   ]
  },
  {
   "cell_type": "markdown",
   "id": "4d2c8fbc-bec3-4aa1-bf69-3037749063b1",
   "metadata": {},
   "source": [
    "# Upload training data"
   ]
  },
  {
   "cell_type": "code",
   "execution_count": 28,
   "id": "3e4b0319-dd23-4e04-8852-ef48f5330710",
   "metadata": {
    "tags": []
   },
   "outputs": [],
   "source": [
    "def writeDatasetToProtobuf(X, Y, bucket, prefix, key):\n",
    "    buf = io.BytesIO()\n",
    "    smac.write_spmatrix_to_sparse_tensor(buf, X, Y)\n",
    "    buf.seek(0)\n",
    "    obj = '{}/{}'.format(prefix, key)\n",
    "    boto3.resource('s3').Bucket(bucket).Object(obj).upload_fileobj(buf)\n",
    "    return 's3://{}/{}'.format(bucket, obj)"
   ]
  },
  {
   "cell_type": "code",
   "execution_count": 29,
   "id": "1bc82256-b737-4ab0-83e2-13783af8c4a2",
   "metadata": {
    "tags": []
   },
   "outputs": [
    {
     "name": "stdout",
     "output_type": "stream",
     "text": [
      "s3://sagemaker-ap-southeast-1-964448433964/builtin-notebooks/Recomendation-Machine/Explicit/train/train.protobuf\n",
      "s3://sagemaker-ap-southeast-1-964448433964/builtin-notebooks/Recomendation-Machine/Explicit/test/test.protobuf\n",
      "Output: s3://sagemaker-ap-southeast-1-964448433964/builtin-notebooks/Recomendation-Machine/Explicit/output\n",
      "CPU times: total: 28.6 s\n",
      "Wall time: 36.5 s\n"
     ]
    }
   ],
   "source": [
    "%%time\n",
    "train_data_location = writeDatasetToProtobuf(X_train, Y_train, bucket, train_prefix, train_key)    \n",
    "test_data_location = writeDatasetToProtobuf(X_test, Y_test, bucket, test_prefix, test_key)    \n",
    "  \n",
    "print(train_data_location)\n",
    "print(test_data_location)\n",
    "print('Output: {}'.format(output_prefix))"
   ]
  },
  {
   "cell_type": "markdown",
   "id": "bf1df908-24f8-4501-9f80-70d08ad1eb20",
   "metadata": {},
   "source": [
    "# Training the model"
   ]
  },
  {
   "cell_type": "code",
   "execution_count": 30,
   "id": "fde58c96",
   "metadata": {},
   "outputs": [],
   "source": [
    "from smexperiments.experiment import Experiment\n",
    "from smexperiments.trial import Trial\n",
    "from smexperiments.trial_component import TrialComponent\n",
    "from smexperiments.tracker import Tracker\n",
    "from time import strftime, gmtime"
   ]
  },
  {
   "cell_type": "code",
   "execution_count": 31,
   "id": "7f331695",
   "metadata": {},
   "outputs": [],
   "source": [
    "create_date = strftime(\"%Y-%m-%d-%H-%M-%S\", gmtime())\n",
    "sagemaker_experiment = Experiment.create(\n",
    "    experiment_name=\"Experiment\"+create_date,\n",
    "    description=\"Using FM to predict\",\n",
    "    sagemaker_boto_client=boto3.client(\"sagemaker\"),\n",
    ")"
   ]
  },
  {
   "cell_type": "code",
   "execution_count": 32,
   "id": "7b6503a6",
   "metadata": {},
   "outputs": [],
   "source": [
    "from sagemaker.debugger import rule_configs, Rule, DebuggerHookConfig\n",
    "debug_rules = [\n",
    "    Rule.sagemaker(rule_configs.loss_not_decreasing()),\n",
    "    Rule.sagemaker(rule_configs.overtraining()),\n",
    "    Rule.sagemaker(rule_configs.overfit()),\n",
    "]\n"
   ]
  },
  {
   "cell_type": "code",
   "execution_count": 33,
   "id": "b8bdfd46-31d9-4879-ac09-87f6b952eaf6",
   "metadata": {
    "tags": []
   },
   "outputs": [
    {
     "name": "stderr",
     "output_type": "stream",
     "text": [
      "INFO:sagemaker.image_uris:Same images used for training and inference. Defaulting to image scope: inference.\n",
      "INFO:sagemaker.image_uris:Defaulting to the only supported framework/algorithm version: 1.\n",
      "INFO:sagemaker.image_uris:Ignoring unnecessary instance type: None.\n"
     ]
    },
    {
     "data": {
      "text/plain": [
       "'475088953585.dkr.ecr.ap-southeast-1.amazonaws.com/factorization-machines:1'"
      ]
     },
     "execution_count": 33,
     "metadata": {},
     "output_type": "execute_result"
    }
   ],
   "source": [
    "from sagemaker.image_uris import retrieve\n",
    "\n",
    "#container = retrieve(region=boto3.Session().region_name, framework=\"factorization-machines\")\n",
    "container = sagemaker.image_uris.retrieve(\"factorization-machines\", region=boto_session.region_name)\n",
    "container"
   ]
  },
  {
   "cell_type": "code",
   "execution_count": 34,
   "id": "3f3e206b-544b-44f5-b26b-13a723fde203",
   "metadata": {
    "tags": []
   },
   "outputs": [],
   "source": [
    "fm = sagemaker.estimator.Estimator(\n",
    "    container,\n",
    "    role_arn,\n",
    "    instance_count=1,\n",
    "    instance_type='ml.m4.xlarge',\n",
    "    volume_size=30,\n",
    "    max_run=86400,\n",
    "    output_path=output_prefix,\n",
    "    sagemaker_session=sagemaker_session,\n",
    "    rules=debug_rules\n",
    ")"
   ]
  },
  {
   "cell_type": "code",
   "execution_count": 35,
   "id": "05861ebe-b2f1-4c77-ab5c-fc4dbb88fbbd",
   "metadata": {
    "tags": []
   },
   "outputs": [],
   "source": [
    "fm.set_hyperparameters(\n",
    "    feature_dim=columns,\n",
    "    num_factors=64,\n",
    "    predictor_type='binary_classifier',\n",
    "    epochs=100,\n",
    "    mini_batch_size=500\n",
    ")"
   ]
  },
  {
   "cell_type": "code",
   "execution_count": 36,
   "id": "e5a40d21-b3bd-4027-8f9f-49958caa7dc4",
   "metadata": {
    "tags": []
   },
   "outputs": [],
   "source": [
    "data_channels = {\n",
    "    \"train\": train_data_location,\n",
    "    \"test\": test_data_location\n",
    "}"
   ]
  },
  {
   "cell_type": "code",
   "execution_count": 37,
   "id": "b7514c6c",
   "metadata": {},
   "outputs": [],
   "source": [
    "trial = Trial.create(\n",
    "    trial_name=\"algorithm-mode-trial-{}\".format(strftime(\"%Y-%m-%d-%H-%M-%S\", gmtime())),\n",
    "    experiment_name=sagemaker_experiment.experiment_name,\n",
    "    sagemaker_boto_client=boto3.client(\"sagemaker\"),\n",
    ")"
   ]
  },
  {
   "cell_type": "code",
   "execution_count": 38,
   "id": "a9d1538a",
   "metadata": {},
   "outputs": [
    {
     "name": "stderr",
     "output_type": "stream",
     "text": [
      "INFO:sagemaker.image_uris:Defaulting to the only supported framework/algorithm version: latest.\n",
      "INFO:sagemaker.image_uris:Ignoring unnecessary instance type: None.\n",
      "INFO:sagemaker.image_uris:Defaulting to the only supported framework/algorithm version: latest.\n",
      "INFO:sagemaker.image_uris:Ignoring unnecessary instance type: None.\n",
      "INFO:sagemaker.image_uris:Defaulting to the only supported framework/algorithm version: latest.\n",
      "INFO:sagemaker.image_uris:Ignoring unnecessary instance type: None.\n",
      "INFO:sagemaker:Creating training-job with name: factorization-machines-2023-08-30-11-02-34-424\n"
     ]
    },
    {
     "name": "stdout",
     "output_type": "stream",
     "text": [
      "2023-08-30 11:02:34 Starting - Starting the training job...\n",
      "2023-08-30 11:02:59 Starting - Preparing the instances for trainingLossNotDecreasing: InProgress\n",
      "Overtraining: InProgress\n",
      "Overfit: InProgress\n",
      "......\n",
      "2023-08-30 11:04:04 Downloading - Downloading input data...\n",
      "2023-08-30 11:04:29 Training - Downloading the training image...............\n",
      "2023-08-30 11:06:58 Training - Training image download completed. Training in progress.\u001b[34mDocker entrypoint called with argument(s): train\u001b[0m\n",
      "\u001b[34mRunning default environment configuration script\u001b[0m\n",
      "\u001b[34m[08/30/2023 11:07:04 INFO 140026071775040] Reading default configuration from /opt/amazon/lib/python3.7/site-packages/algorithm/resources/default-conf.json: {'epochs': 1, 'mini_batch_size': '1000', 'use_bias': 'true', 'use_linear': 'true', 'bias_lr': '0.1', 'linear_lr': '0.001', 'factors_lr': '0.0001', 'bias_wd': '0.01', 'linear_wd': '0.001', 'factors_wd': '0.00001', 'bias_init_method': 'normal', 'bias_init_sigma': '0.01', 'linear_init_method': 'normal', 'linear_init_sigma': '0.01', 'factors_init_method': 'normal', 'factors_init_sigma': '0.001', 'batch_metrics_publish_interval': '500', '_data_format': 'record', '_kvstore': 'auto', '_learning_rate': '1.0', '_log_level': 'info', '_num_gpus': 'auto', '_num_kv_servers': 'auto', '_optimizer': 'adam', '_tuning_objective_metric': '', '_use_full_symbolic': 'true', '_wd': '1.0'}\u001b[0m\n",
      "\u001b[34m[08/30/2023 11:07:04 INFO 140026071775040] Merging with provided configuration from /opt/ml/input/config/hyperparameters.json: {'epochs': '100', 'feature_dim': '230845', 'mini_batch_size': '500', 'num_factors': '64', 'predictor_type': 'binary_classifier'}\u001b[0m\n",
      "\u001b[34m[08/30/2023 11:07:04 INFO 140026071775040] Final configuration: {'epochs': '100', 'mini_batch_size': '500', 'use_bias': 'true', 'use_linear': 'true', 'bias_lr': '0.1', 'linear_lr': '0.001', 'factors_lr': '0.0001', 'bias_wd': '0.01', 'linear_wd': '0.001', 'factors_wd': '0.00001', 'bias_init_method': 'normal', 'bias_init_sigma': '0.01', 'linear_init_method': 'normal', 'linear_init_sigma': '0.01', 'factors_init_method': 'normal', 'factors_init_sigma': '0.001', 'batch_metrics_publish_interval': '500', '_data_format': 'record', '_kvstore': 'auto', '_learning_rate': '1.0', '_log_level': 'info', '_num_gpus': 'auto', '_num_kv_servers': 'auto', '_optimizer': 'adam', '_tuning_objective_metric': '', '_use_full_symbolic': 'true', '_wd': '1.0', 'feature_dim': '230845', 'num_factors': '64', 'predictor_type': 'binary_classifier'}\u001b[0m\n",
      "\u001b[34m[08/30/2023 11:07:04 WARNING 140026071775040] Loggers have already been setup.\u001b[0m\n",
      "\u001b[34mProcess 6 is a worker.\u001b[0m\n",
      "\u001b[34m[08/30/2023 11:07:04 INFO 140026071775040] Using default worker.\u001b[0m\n",
      "\u001b[34m[08/30/2023 11:07:04 INFO 140026071775040] Checkpoint loading and saving are disabled.\u001b[0m\n",
      "\u001b[34m[2023-08-30 11:07:04.159] [tensorio] [warning] TensorIO is already initialized; ignoring the initialization routine.\u001b[0m\n",
      "\u001b[34m[2023-08-30 11:07:04.164] [tensorio] [info] epoch_stats={\"data_pipeline\": \"/opt/ml/input/data/train\", \"epoch\": 0, \"duration\": 7, \"num_examples\": 1, \"num_bytes\": 33820}\u001b[0m\n",
      "\u001b[34m[08/30/2023 11:07:04 INFO 140026071775040] nvidia-smi: took 0.031 seconds to run.\u001b[0m\n",
      "\u001b[34m[08/30/2023 11:07:04 INFO 140026071775040] nvidia-smi identified 0 GPUs.\u001b[0m\n",
      "\u001b[34m[08/30/2023 11:07:04 INFO 140026071775040] Number of GPUs being used: 0\u001b[0m\n",
      "\u001b[34m[08/30/2023 11:07:04 INFO 140026071775040] [Sparse network] Building a sparse network.\u001b[0m\n",
      "\u001b[34m[08/30/2023 11:07:04 INFO 140026071775040] Create Store: local\u001b[0m\n",
      "\u001b[34m#metrics {\"StartTime\": 1693393624.1562517, \"EndTime\": 1693393624.2000904, \"Dimensions\": {\"Algorithm\": \"factorization-machines\", \"Host\": \"algo-1\", \"Operation\": \"training\"}, \"Metrics\": {\"initialize.time\": {\"sum\": 37.30177879333496, \"count\": 1, \"min\": 37.30177879333496, \"max\": 37.30177879333496}}}\u001b[0m\n",
      "\u001b[34m#metrics {\"StartTime\": 1693393624.20028, \"EndTime\": 1693393624.2003305, \"Dimensions\": {\"Algorithm\": \"factorization-machines\", \"Host\": \"algo-1\", \"Operation\": \"training\", \"Meta\": \"init_train_data_iter\"}, \"Metrics\": {\"Total Records Seen\": {\"sum\": 500.0, \"count\": 1, \"min\": 500, \"max\": 500}, \"Total Batches Seen\": {\"sum\": 1.0, \"count\": 1, \"min\": 1, \"max\": 1}, \"Max Records Seen Between Resets\": {\"sum\": 500.0, \"count\": 1, \"min\": 500, \"max\": 500}, \"Max Batches Seen Between Resets\": {\"sum\": 1.0, \"count\": 1, \"min\": 1, \"max\": 1}, \"Reset Count\": {\"sum\": 1.0, \"count\": 1, \"min\": 1, \"max\": 1}, \"Number of Records Since Last Reset\": {\"sum\": 0.0, \"count\": 1, \"min\": 0, \"max\": 0}, \"Number of Batches Since Last Reset\": {\"sum\": 0.0, \"count\": 1, \"min\": 0, \"max\": 0}}}\u001b[0m\n",
      "\u001b[34m[11:07:04] /opt/brazil-pkg-cache/packages/AIAlgorithmsMXNet/AIAlgorithmsMXNet-1.3.x_Cuda_11.1.x.284.0/AL2_x86_64/generic-flavor/src/src/kvstore/./kvstore_local.h:306: Warning: non-default weights detected during kvstore pull. This call has been ignored. Please make sure to use kv.row_sparse_pull() or module.prepare() with row_ids.\u001b[0m\n",
      "\u001b[34m[11:07:04] /opt/brazil-pkg-cache/packages/AIAlgorithmsMXNet/AIAlgorithmsMXNet-1.3.x_Cuda_11.1.x.284.0/AL2_x86_64/generic-flavor/src/src/kvstore/./kvstore_local.h:306: Warning: non-default weights detected during kvstore pull. This call has been ignored. Please make sure to use kv.row_sparse_pull() or module.prepare() with row_ids.\u001b[0m\n",
      "\u001b[34m[11:07:04] /opt/brazil-pkg-cache/packages/AIAlgorithmsMXNet/AIAlgorithmsMXNet-1.3.x_Cuda_11.1.x.284.0/AL2_x86_64/generic-flavor/src/src/operator/././../common/utils.h:450: Optimizer with lazy_update = True detected. Be aware that lazy update with row_sparse gradient is different from standard update, and may lead to different empirical results. See https://mxnet.incubator.apache.org/api/python/optimization/optimization.html for more details.\u001b[0m\n",
      "\u001b[34m[08/30/2023 11:07:04 INFO 140026071775040] #quality_metric: host=algo-1, epoch=0, batch=0 train binary_classification_accuracy <score>=0.7\u001b[0m\n",
      "\u001b[34m[08/30/2023 11:07:04 INFO 140026071775040] #quality_metric: host=algo-1, epoch=0, batch=0 train binary_classification_cross_entropy <loss>=0.6897539672851563\u001b[0m\n",
      "\u001b[34m[08/30/2023 11:07:04 INFO 140026071775040] #quality_metric: host=algo-1, epoch=0, batch=0 train binary_f_1.000 <score>=0.8148148148148148\u001b[0m\n",
      "\u001b[34m[2023-08-30 11:07:08.581] [tensorio] [info] epoch_stats={\"data_pipeline\": \"/opt/ml/input/data/train\", \"epoch\": 2, \"duration\": 3736, \"num_examples\": 478, \"num_bytes\": 16157236}\u001b[0m\n",
      "\u001b[34m[08/30/2023 11:07:08 INFO 140026071775040] #quality_metric: host=algo-1, epoch=0, train binary_classification_accuracy <score>=0.8190878661087866\u001b[0m\n",
      "\u001b[34m[08/30/2023 11:07:08 INFO 140026071775040] #quality_metric: host=algo-1, epoch=0, train binary_classification_cross_entropy <loss>=0.47611803777846334\u001b[0m\n",
      "\u001b[34m[08/30/2023 11:07:08 INFO 140026071775040] #quality_metric: host=algo-1, epoch=0, train binary_f_1.000 <score>=0.9005387350996729\u001b[0m\n",
      "\u001b[34m#metrics {\"StartTime\": 1693393624.2002158, \"EndTime\": 1693393628.5828166, \"Dimensions\": {\"Algorithm\": \"factorization-machines\", \"Host\": \"algo-1\", \"Operation\": \"training\"}, \"Metrics\": {\"epochs\": {\"sum\": 100.0, \"count\": 1, \"min\": 100, \"max\": 100}, \"update.time\": {\"sum\": 4382.075309753418, \"count\": 1, \"min\": 4382.075309753418, \"max\": 4382.075309753418}}}\u001b[0m\n",
      "\u001b[34m[08/30/2023 11:07:08 INFO 140026071775040] #progress_metric: host=algo-1, completed 1.0 % of epochs\u001b[0m\n",
      "\u001b[34m#metrics {\"StartTime\": 1693393624.2007065, \"EndTime\": 1693393628.5834172, \"Dimensions\": {\"Algorithm\": \"factorization-machines\", \"Host\": \"algo-1\", \"Operation\": \"training\", \"epoch\": 0, \"Meta\": \"training_data_iter\"}, \"Metrics\": {\"Total Records Seen\": {\"sum\": 239199.0, \"count\": 1, \"min\": 239199, \"max\": 239199}, \"Total Batches Seen\": {\"sum\": 479.0, \"count\": 1, \"min\": 479, \"max\": 479}, \"Max Records Seen Between Resets\": {\"sum\": 238699.0, \"count\": 1, \"min\": 238699, \"max\": 238699}, \"Max Batches Seen Between Resets\": {\"sum\": 478.0, \"count\": 1, \"min\": 478, \"max\": 478}, \"Reset Count\": {\"sum\": 2.0, \"count\": 1, \"min\": 2, \"max\": 2}, \"Number of Records Since Last Reset\": {\"sum\": 238699.0, \"count\": 1, \"min\": 238699, \"max\": 238699}, \"Number of Batches Since Last Reset\": {\"sum\": 478.0, \"count\": 1, \"min\": 478, \"max\": 478}}}\u001b[0m\n",
      "\u001b[34m[08/30/2023 11:07:08 INFO 140026071775040] #throughput_metric: host=algo-1, train throughput=54461.029708730995 records/second\u001b[0m\n",
      "\u001b[34m[08/30/2023 11:07:08 INFO 140026071775040] #quality_metric: host=algo-1, epoch=1, batch=0 train binary_classification_accuracy <score>=0.846\u001b[0m\n",
      "\u001b[34m[08/30/2023 11:07:08 INFO 140026071775040] #quality_metric: host=algo-1, epoch=1, batch=0 train binary_classification_cross_entropy <loss>=0.4414623107910156\u001b[0m\n",
      "\u001b[34m[08/30/2023 11:07:08 INFO 140026071775040] #quality_metric: host=algo-1, epoch=1, batch=0 train binary_f_1.000 <score>=0.9165763813651138\u001b[0m\n"
     ]
    },
    {
     "name": "stdout",
     "output_type": "stream",
     "text": [
      "\u001b[34m[2023-08-30 11:07:11.806] [tensorio] [info] epoch_stats={\"data_pipeline\": \"/opt/ml/input/data/train\", \"epoch\": 4, \"duration\": 3215, \"num_examples\": 478, \"num_bytes\": 16157236}\u001b[0m\n",
      "\u001b[34m[08/30/2023 11:07:11 INFO 140026071775040] #quality_metric: host=algo-1, epoch=1, train binary_classification_accuracy <score>=0.8193933054393305\u001b[0m\n",
      "\u001b[34m[08/30/2023 11:07:11 INFO 140026071775040] #quality_metric: host=algo-1, epoch=1, train binary_classification_cross_entropy <loss>=0.4727934141917209\u001b[0m\n",
      "\u001b[34m[08/30/2023 11:07:11 INFO 140026071775040] #quality_metric: host=algo-1, epoch=1, train binary_f_1.000 <score>=0.9007324617383605\u001b[0m\n",
      "\u001b[34m#metrics {\"StartTime\": 1693393628.5829756, \"EndTime\": 1693393631.8077106, \"Dimensions\": {\"Algorithm\": \"factorization-machines\", \"Host\": \"algo-1\", \"Operation\": \"training\"}, \"Metrics\": {\"update.time\": {\"sum\": 3223.0100631713867, \"count\": 1, \"min\": 3223.0100631713867, \"max\": 3223.0100631713867}}}\u001b[0m\n",
      "\u001b[34m[08/30/2023 11:07:11 INFO 140026071775040] #progress_metric: host=algo-1, completed 2.0 % of epochs\u001b[0m\n",
      "\u001b[34m#metrics {\"StartTime\": 1693393628.5846653, \"EndTime\": 1693393631.8079536, \"Dimensions\": {\"Algorithm\": \"factorization-machines\", \"Host\": \"algo-1\", \"Operation\": \"training\", \"epoch\": 1, \"Meta\": \"training_data_iter\"}, \"Metrics\": {\"Total Records Seen\": {\"sum\": 477898.0, \"count\": 1, \"min\": 477898, \"max\": 477898}, \"Total Batches Seen\": {\"sum\": 957.0, \"count\": 1, \"min\": 957, \"max\": 957}, \"Max Records Seen Between Resets\": {\"sum\": 238699.0, \"count\": 1, \"min\": 238699, \"max\": 238699}, \"Max Batches Seen Between Resets\": {\"sum\": 478.0, \"count\": 1, \"min\": 478, \"max\": 478}, \"Reset Count\": {\"sum\": 3.0, \"count\": 1, \"min\": 3, \"max\": 3}, \"Number of Records Since Last Reset\": {\"sum\": 238699.0, \"count\": 1, \"min\": 238699, \"max\": 238699}, \"Number of Batches Since Last Reset\": {\"sum\": 478.0, \"count\": 1, \"min\": 478, \"max\": 478}}}\u001b[0m\n",
      "\u001b[34m[08/30/2023 11:07:11 INFO 140026071775040] #throughput_metric: host=algo-1, train throughput=74051.33853983143 records/second\u001b[0m\n",
      "\u001b[34m[08/30/2023 11:07:11 INFO 140026071775040] #quality_metric: host=algo-1, epoch=2, batch=0 train binary_classification_accuracy <score>=0.846\u001b[0m\n",
      "\u001b[34m[08/30/2023 11:07:11 INFO 140026071775040] #quality_metric: host=algo-1, epoch=2, batch=0 train binary_classification_cross_entropy <loss>=0.4409072265625\u001b[0m\n",
      "\u001b[34m[08/30/2023 11:07:11 INFO 140026071775040] #quality_metric: host=algo-1, epoch=2, batch=0 train binary_f_1.000 <score>=0.9165763813651138\u001b[0m\n",
      "\u001b[34m[2023-08-30 11:07:14.904] [tensorio] [info] epoch_stats={\"data_pipeline\": \"/opt/ml/input/data/train\", \"epoch\": 6, \"duration\": 3089, \"num_examples\": 478, \"num_bytes\": 16157236}\u001b[0m\n",
      "\u001b[34m[08/30/2023 11:07:14 INFO 140026071775040] #quality_metric: host=algo-1, epoch=2, train binary_classification_accuracy <score>=0.8193933054393305\u001b[0m\n",
      "\u001b[34m[08/30/2023 11:07:14 INFO 140026071775040] #quality_metric: host=algo-1, epoch=2, train binary_classification_cross_entropy <loss>=0.4710635571340138\u001b[0m\n",
      "\u001b[34m[08/30/2023 11:07:14 INFO 140026071775040] #quality_metric: host=algo-1, epoch=2, train binary_f_1.000 <score>=0.9007324617383605\u001b[0m\n",
      "\u001b[34m#metrics {\"StartTime\": 1693393631.8077943, \"EndTime\": 1693393634.9050357, \"Dimensions\": {\"Algorithm\": \"factorization-machines\", \"Host\": \"algo-1\", \"Operation\": \"training\"}, \"Metrics\": {\"update.time\": {\"sum\": 3095.8597660064697, \"count\": 1, \"min\": 3095.8597660064697, \"max\": 3095.8597660064697}}}\u001b[0m\n",
      "\u001b[34m[08/30/2023 11:07:14 INFO 140026071775040] #progress_metric: host=algo-1, completed 3.0 % of epochs\u001b[0m\n",
      "\u001b[34m#metrics {\"StartTime\": 1693393631.8091514, \"EndTime\": 1693393634.9052684, \"Dimensions\": {\"Algorithm\": \"factorization-machines\", \"Host\": \"algo-1\", \"Operation\": \"training\", \"epoch\": 2, \"Meta\": \"training_data_iter\"}, \"Metrics\": {\"Total Records Seen\": {\"sum\": 716597.0, \"count\": 1, \"min\": 716597, \"max\": 716597}, \"Total Batches Seen\": {\"sum\": 1435.0, \"count\": 1, \"min\": 1435, \"max\": 1435}, \"Max Records Seen Between Resets\": {\"sum\": 238699.0, \"count\": 1, \"min\": 238699, \"max\": 238699}, \"Max Batches Seen Between Resets\": {\"sum\": 478.0, \"count\": 1, \"min\": 478, \"max\": 478}, \"Reset Count\": {\"sum\": 4.0, \"count\": 1, \"min\": 4, \"max\": 4}, \"Number of Records Since Last Reset\": {\"sum\": 238699.0, \"count\": 1, \"min\": 238699, \"max\": 238699}, \"Number of Batches Since Last Reset\": {\"sum\": 478.0, \"count\": 1, \"min\": 478, \"max\": 478}}}\u001b[0m\n",
      "\u001b[34m[08/30/2023 11:07:14 INFO 140026071775040] #throughput_metric: host=algo-1, train throughput=77093.05824060245 records/second\u001b[0m\n",
      "\u001b[34m[08/30/2023 11:07:14 INFO 140026071775040] #quality_metric: host=algo-1, epoch=3, batch=0 train binary_classification_accuracy <score>=0.846\u001b[0m\n",
      "\u001b[34m[08/30/2023 11:07:14 INFO 140026071775040] #quality_metric: host=algo-1, epoch=3, batch=0 train binary_classification_cross_entropy <loss>=0.43947607421875\u001b[0m\n",
      "\u001b[34m[08/30/2023 11:07:14 INFO 140026071775040] #quality_metric: host=algo-1, epoch=3, batch=0 train binary_f_1.000 <score>=0.9165763813651138\u001b[0m\n",
      "\u001b[34m[2023-08-30 11:07:18.089] [tensorio] [info] epoch_stats={\"data_pipeline\": \"/opt/ml/input/data/train\", \"epoch\": 8, \"duration\": 3177, \"num_examples\": 478, \"num_bytes\": 16157236}\u001b[0m\n",
      "\u001b[34m[08/30/2023 11:07:18 INFO 140026071775040] #quality_metric: host=algo-1, epoch=3, train binary_classification_accuracy <score>=0.8193933054393305\u001b[0m\n",
      "\u001b[34m[08/30/2023 11:07:18 INFO 140026071775040] #quality_metric: host=algo-1, epoch=3, train binary_classification_cross_entropy <loss>=0.4688382581128236\u001b[0m\n",
      "\u001b[34m[08/30/2023 11:07:18 INFO 140026071775040] #quality_metric: host=algo-1, epoch=3, train binary_f_1.000 <score>=0.9007324617383605\u001b[0m\n",
      "\u001b[34m#metrics {\"StartTime\": 1693393634.905118, \"EndTime\": 1693393638.0907788, \"Dimensions\": {\"Algorithm\": \"factorization-machines\", \"Host\": \"algo-1\", \"Operation\": \"training\"}, \"Metrics\": {\"update.time\": {\"sum\": 3184.243679046631, \"count\": 1, \"min\": 3184.243679046631, \"max\": 3184.243679046631}}}\u001b[0m\n",
      "\u001b[34m[08/30/2023 11:07:18 INFO 140026071775040] #progress_metric: host=algo-1, completed 4.0 % of epochs\u001b[0m\n",
      "\u001b[34m#metrics {\"StartTime\": 1693393634.9065013, \"EndTime\": 1693393638.0911148, \"Dimensions\": {\"Algorithm\": \"factorization-machines\", \"Host\": \"algo-1\", \"Operation\": \"training\", \"epoch\": 3, \"Meta\": \"training_data_iter\"}, \"Metrics\": {\"Total Records Seen\": {\"sum\": 955296.0, \"count\": 1, \"min\": 955296, \"max\": 955296}, \"Total Batches Seen\": {\"sum\": 1913.0, \"count\": 1, \"min\": 1913, \"max\": 1913}, \"Max Records Seen Between Resets\": {\"sum\": 238699.0, \"count\": 1, \"min\": 238699, \"max\": 238699}, \"Max Batches Seen Between Resets\": {\"sum\": 478.0, \"count\": 1, \"min\": 478, \"max\": 478}, \"Reset Count\": {\"sum\": 5.0, \"count\": 1, \"min\": 5, \"max\": 5}, \"Number of Records Since Last Reset\": {\"sum\": 238699.0, \"count\": 1, \"min\": 238699, \"max\": 238699}, \"Number of Batches Since Last Reset\": {\"sum\": 478.0, \"count\": 1, \"min\": 478, \"max\": 478}}}\u001b[0m\n",
      "\u001b[34m[08/30/2023 11:07:18 INFO 140026071775040] #throughput_metric: host=algo-1, train throughput=74949.78054253793 records/second\u001b[0m\n",
      "\u001b[34m[08/30/2023 11:07:18 INFO 140026071775040] #quality_metric: host=algo-1, epoch=4, batch=0 train binary_classification_accuracy <score>=0.846\u001b[0m\n",
      "\u001b[34m[08/30/2023 11:07:18 INFO 140026071775040] #quality_metric: host=algo-1, epoch=4, batch=0 train binary_classification_cross_entropy <loss>=0.437618408203125\u001b[0m\n",
      "\u001b[34m[08/30/2023 11:07:18 INFO 140026071775040] #quality_metric: host=algo-1, epoch=4, batch=0 train binary_f_1.000 <score>=0.9165763813651138\u001b[0m\n",
      "\u001b[34m[2023-08-30 11:07:21.229] [tensorio] [info] epoch_stats={\"data_pipeline\": \"/opt/ml/input/data/train\", \"epoch\": 10, \"duration\": 3131, \"num_examples\": 478, \"num_bytes\": 16157236}\u001b[0m\n",
      "\u001b[34m[08/30/2023 11:07:21 INFO 140026071775040] #quality_metric: host=algo-1, epoch=4, train binary_classification_accuracy <score>=0.8193933054393305\u001b[0m\n",
      "\u001b[34m[08/30/2023 11:07:21 INFO 140026071775040] #quality_metric: host=algo-1, epoch=4, train binary_classification_cross_entropy <loss>=0.46631232723730875\u001b[0m\n",
      "\u001b[34m[08/30/2023 11:07:21 INFO 140026071775040] #quality_metric: host=algo-1, epoch=4, train binary_f_1.000 <score>=0.9007324617383605\u001b[0m\n",
      "\u001b[34m#metrics {\"StartTime\": 1693393638.0909002, \"EndTime\": 1693393641.2306006, \"Dimensions\": {\"Algorithm\": \"factorization-machines\", \"Host\": \"algo-1\", \"Operation\": \"training\"}, \"Metrics\": {\"update.time\": {\"sum\": 3138.212203979492, \"count\": 1, \"min\": 3138.212203979492, \"max\": 3138.212203979492}}}\u001b[0m\n",
      "\u001b[34m[08/30/2023 11:07:21 INFO 140026071775040] #progress_metric: host=algo-1, completed 5.0 % of epochs\u001b[0m\n",
      "\u001b[34m#metrics {\"StartTime\": 1693393638.0923562, \"EndTime\": 1693393641.230902, \"Dimensions\": {\"Algorithm\": \"factorization-machines\", \"Host\": \"algo-1\", \"Operation\": \"training\", \"epoch\": 4, \"Meta\": \"training_data_iter\"}, \"Metrics\": {\"Total Records Seen\": {\"sum\": 1193995.0, \"count\": 1, \"min\": 1193995, \"max\": 1193995}, \"Total Batches Seen\": {\"sum\": 2391.0, \"count\": 1, \"min\": 2391, \"max\": 2391}, \"Max Records Seen Between Resets\": {\"sum\": 238699.0, \"count\": 1, \"min\": 238699, \"max\": 238699}, \"Max Batches Seen Between Resets\": {\"sum\": 478.0, \"count\": 1, \"min\": 478, \"max\": 478}, \"Reset Count\": {\"sum\": 6.0, \"count\": 1, \"min\": 6, \"max\": 6}, \"Number of Records Since Last Reset\": {\"sum\": 238699.0, \"count\": 1, \"min\": 238699, \"max\": 238699}, \"Number of Batches Since Last Reset\": {\"sum\": 478.0, \"count\": 1, \"min\": 478, \"max\": 478}}}\u001b[0m\n",
      "\u001b[34m[08/30/2023 11:07:21 INFO 140026071775040] #throughput_metric: host=algo-1, train throughput=76050.10208336056 records/second\u001b[0m\n",
      "\u001b[34m[08/30/2023 11:07:21 INFO 140026071775040] #quality_metric: host=algo-1, epoch=5, batch=0 train binary_classification_accuracy <score>=0.846\u001b[0m\n",
      "\u001b[34m[08/30/2023 11:07:21 INFO 140026071775040] #quality_metric: host=algo-1, epoch=5, batch=0 train binary_classification_cross_entropy <loss>=0.435509521484375\u001b[0m\n",
      "\u001b[34m[08/30/2023 11:07:21 INFO 140026071775040] #quality_metric: host=algo-1, epoch=5, batch=0 train binary_f_1.000 <score>=0.9165763813651138\u001b[0m\n",
      "\u001b[34m[2023-08-30 11:07:24.390] [tensorio] [info] epoch_stats={\"data_pipeline\": \"/opt/ml/input/data/train\", \"epoch\": 12, \"duration\": 3151, \"num_examples\": 478, \"num_bytes\": 16157236}\u001b[0m\n",
      "\u001b[34m[08/30/2023 11:07:24 INFO 140026071775040] #quality_metric: host=algo-1, epoch=5, train binary_classification_accuracy <score>=0.8193933054393305\u001b[0m\n",
      "\u001b[34m[08/30/2023 11:07:24 INFO 140026071775040] #quality_metric: host=algo-1, epoch=5, train binary_classification_cross_entropy <loss>=0.4636029068057008\u001b[0m\n",
      "\u001b[34m[08/30/2023 11:07:24 INFO 140026071775040] #quality_metric: host=algo-1, epoch=5, train binary_f_1.000 <score>=0.9007324617383605\u001b[0m\n",
      "\u001b[34m#metrics {\"StartTime\": 1693393641.2306974, \"EndTime\": 1693393644.3913004, \"Dimensions\": {\"Algorithm\": \"factorization-machines\", \"Host\": \"algo-1\", \"Operation\": \"training\"}, \"Metrics\": {\"update.time\": {\"sum\": 3159.1343879699707, \"count\": 1, \"min\": 3159.1343879699707, \"max\": 3159.1343879699707}}}\u001b[0m\n",
      "\u001b[34m[08/30/2023 11:07:24 INFO 140026071775040] #progress_metric: host=algo-1, completed 6.0 % of epochs\u001b[0m\n",
      "\u001b[34m#metrics {\"StartTime\": 1693393641.2321239, \"EndTime\": 1693393644.3916202, \"Dimensions\": {\"Algorithm\": \"factorization-machines\", \"Host\": \"algo-1\", \"Operation\": \"training\", \"epoch\": 5, \"Meta\": \"training_data_iter\"}, \"Metrics\": {\"Total Records Seen\": {\"sum\": 1432694.0, \"count\": 1, \"min\": 1432694, \"max\": 1432694}, \"Total Batches Seen\": {\"sum\": 2869.0, \"count\": 1, \"min\": 2869, \"max\": 2869}, \"Max Records Seen Between Resets\": {\"sum\": 238699.0, \"count\": 1, \"min\": 238699, \"max\": 238699}, \"Max Batches Seen Between Resets\": {\"sum\": 478.0, \"count\": 1, \"min\": 478, \"max\": 478}, \"Reset Count\": {\"sum\": 7.0, \"count\": 1, \"min\": 7, \"max\": 7}, \"Number of Records Since Last Reset\": {\"sum\": 238699.0, \"count\": 1, \"min\": 238699, \"max\": 238699}, \"Number of Batches Since Last Reset\": {\"sum\": 478.0, \"count\": 1, \"min\": 478, \"max\": 478}}}\u001b[0m\n",
      "\u001b[34m[08/30/2023 11:07:24 INFO 140026071775040] #throughput_metric: host=algo-1, train throughput=75545.48203541215 records/second\u001b[0m\n",
      "\u001b[34m[08/30/2023 11:07:24 INFO 140026071775040] #quality_metric: host=algo-1, epoch=6, batch=0 train binary_classification_accuracy <score>=0.846\u001b[0m\n",
      "\u001b[34m[08/30/2023 11:07:24 INFO 140026071775040] #quality_metric: host=algo-1, epoch=6, batch=0 train binary_classification_cross_entropy <loss>=0.433244873046875\u001b[0m\n",
      "\u001b[34m[08/30/2023 11:07:24 INFO 140026071775040] #quality_metric: host=algo-1, epoch=6, batch=0 train binary_f_1.000 <score>=0.9165763813651138\u001b[0m\n",
      "\u001b[34m[2023-08-30 11:07:27.559] [tensorio] [info] epoch_stats={\"data_pipeline\": \"/opt/ml/input/data/train\", \"epoch\": 14, \"duration\": 3160, \"num_examples\": 478, \"num_bytes\": 16157236}\u001b[0m\n",
      "\u001b[34m[08/30/2023 11:07:27 INFO 140026071775040] #quality_metric: host=algo-1, epoch=6, train binary_classification_accuracy <score>=0.8193933054393305\u001b[0m\n",
      "\u001b[34m[08/30/2023 11:07:27 INFO 140026071775040] #quality_metric: host=algo-1, epoch=6, train binary_classification_cross_entropy <loss>=0.46078487124901935\u001b[0m\n",
      "\u001b[34m[08/30/2023 11:07:27 INFO 140026071775040] #quality_metric: host=algo-1, epoch=6, train binary_f_1.000 <score>=0.9007324617383605\u001b[0m\n",
      "\u001b[34m#metrics {\"StartTime\": 1693393644.391389, \"EndTime\": 1693393647.5606604, \"Dimensions\": {\"Algorithm\": \"factorization-machines\", \"Host\": \"algo-1\", \"Operation\": \"training\"}, \"Metrics\": {\"update.time\": {\"sum\": 3167.743682861328, \"count\": 1, \"min\": 3167.743682861328, \"max\": 3167.743682861328}}}\u001b[0m\n",
      "\u001b[34m[08/30/2023 11:07:27 INFO 140026071775040] #progress_metric: host=algo-1, completed 7.0 % of epochs\u001b[0m\n",
      "\u001b[34m#metrics {\"StartTime\": 1693393644.392884, \"EndTime\": 1693393647.560951, \"Dimensions\": {\"Algorithm\": \"factorization-machines\", \"Host\": \"algo-1\", \"Operation\": \"training\", \"epoch\": 6, \"Meta\": \"training_data_iter\"}, \"Metrics\": {\"Total Records Seen\": {\"sum\": 1671393.0, \"count\": 1, \"min\": 1671393, \"max\": 1671393}, \"Total Batches Seen\": {\"sum\": 3347.0, \"count\": 1, \"min\": 3347, \"max\": 3347}, \"Max Records Seen Between Resets\": {\"sum\": 238699.0, \"count\": 1, \"min\": 238699, \"max\": 238699}, \"Max Batches Seen Between Resets\": {\"sum\": 478.0, \"count\": 1, \"min\": 478, \"max\": 478}, \"Reset Count\": {\"sum\": 8.0, \"count\": 1, \"min\": 8, \"max\": 8}, \"Number of Records Since Last Reset\": {\"sum\": 238699.0, \"count\": 1, \"min\": 238699, \"max\": 238699}, \"Number of Batches Since Last Reset\": {\"sum\": 478.0, \"count\": 1, \"min\": 478, \"max\": 478}}}\u001b[0m\n",
      "\u001b[34m[08/30/2023 11:07:27 INFO 140026071775040] #throughput_metric: host=algo-1, train throughput=75342.34817828146 records/second\u001b[0m\n",
      "\u001b[34m[08/30/2023 11:07:27 INFO 140026071775040] #quality_metric: host=algo-1, epoch=7, batch=0 train binary_classification_accuracy <score>=0.846\u001b[0m\n",
      "\u001b[34m[08/30/2023 11:07:27 INFO 140026071775040] #quality_metric: host=algo-1, epoch=7, batch=0 train binary_classification_cross_entropy <loss>=0.4308831787109375\u001b[0m\n",
      "\u001b[34m[08/30/2023 11:07:27 INFO 140026071775040] #quality_metric: host=algo-1, epoch=7, batch=0 train binary_f_1.000 <score>=0.9165763813651138\u001b[0m\n"
     ]
    },
    {
     "name": "stdout",
     "output_type": "stream",
     "text": [
      "\u001b[34m[2023-08-30 11:07:30.686] [tensorio] [info] epoch_stats={\"data_pipeline\": \"/opt/ml/input/data/train\", \"epoch\": 16, \"duration\": 3057, \"num_examples\": 478, \"num_bytes\": 16157236}\u001b[0m\n",
      "\u001b[34m[08/30/2023 11:07:30 INFO 140026071775040] #quality_metric: host=algo-1, epoch=7, train binary_classification_accuracy <score>=0.8193933054393305\u001b[0m\n",
      "\u001b[34m[08/30/2023 11:07:30 INFO 140026071775040] #quality_metric: host=algo-1, epoch=7, train binary_classification_cross_entropy <loss>=0.45790732194589273\u001b[0m\n",
      "\u001b[34m[08/30/2023 11:07:30 INFO 140026071775040] #quality_metric: host=algo-1, epoch=7, train binary_f_1.000 <score>=0.9007324617383605\u001b[0m\n",
      "\u001b[34m#metrics {\"StartTime\": 1693393647.5607567, \"EndTime\": 1693393650.6868646, \"Dimensions\": {\"Algorithm\": \"factorization-machines\", \"Host\": \"algo-1\", \"Operation\": \"training\"}, \"Metrics\": {\"update.time\": {\"sum\": 3124.7148513793945, \"count\": 1, \"min\": 3124.7148513793945, \"max\": 3124.7148513793945}}}\u001b[0m\n",
      "\u001b[34m[08/30/2023 11:07:30 INFO 140026071775040] #progress_metric: host=algo-1, completed 8.0 % of epochs\u001b[0m\n",
      "\u001b[34m#metrics {\"StartTime\": 1693393647.5621216, \"EndTime\": 1693393650.68711, \"Dimensions\": {\"Algorithm\": \"factorization-machines\", \"Host\": \"algo-1\", \"Operation\": \"training\", \"epoch\": 7, \"Meta\": \"training_data_iter\"}, \"Metrics\": {\"Total Records Seen\": {\"sum\": 1910092.0, \"count\": 1, \"min\": 1910092, \"max\": 1910092}, \"Total Batches Seen\": {\"sum\": 3825.0, \"count\": 1, \"min\": 3825, \"max\": 3825}, \"Max Records Seen Between Resets\": {\"sum\": 238699.0, \"count\": 1, \"min\": 238699, \"max\": 238699}, \"Max Batches Seen Between Resets\": {\"sum\": 478.0, \"count\": 1, \"min\": 478, \"max\": 478}, \"Reset Count\": {\"sum\": 9.0, \"count\": 1, \"min\": 9, \"max\": 9}, \"Number of Records Since Last Reset\": {\"sum\": 238699.0, \"count\": 1, \"min\": 238699, \"max\": 238699}, \"Number of Batches Since Last Reset\": {\"sum\": 478.0, \"count\": 1, \"min\": 478, \"max\": 478}}}\u001b[0m\n",
      "\u001b[34m[08/30/2023 11:07:30 INFO 140026071775040] #throughput_metric: host=algo-1, train throughput=76380.67889758055 records/second\u001b[0m\n",
      "\u001b[34m[08/30/2023 11:07:30 INFO 140026071775040] #quality_metric: host=algo-1, epoch=8, batch=0 train binary_classification_accuracy <score>=0.846\u001b[0m\n",
      "\u001b[34m[08/30/2023 11:07:30 INFO 140026071775040] #quality_metric: host=algo-1, epoch=8, batch=0 train binary_classification_cross_entropy <loss>=0.42846270751953125\u001b[0m\n",
      "\u001b[34m[08/30/2023 11:07:30 INFO 140026071775040] #quality_metric: host=algo-1, epoch=8, batch=0 train binary_f_1.000 <score>=0.9165763813651138\u001b[0m\n",
      "\u001b[34m[2023-08-30 11:07:33.825] [tensorio] [info] epoch_stats={\"data_pipeline\": \"/opt/ml/input/data/train\", \"epoch\": 18, \"duration\": 3130, \"num_examples\": 478, \"num_bytes\": 16157236}\u001b[0m\n",
      "\u001b[34m[08/30/2023 11:07:33 INFO 140026071775040] #quality_metric: host=algo-1, epoch=8, train binary_classification_accuracy <score>=0.8193933054393305\u001b[0m\n",
      "\u001b[34m[08/30/2023 11:07:33 INFO 140026071775040] #quality_metric: host=algo-1, epoch=8, train binary_classification_cross_entropy <loss>=0.45500294775543854\u001b[0m\n",
      "\u001b[34m[08/30/2023 11:07:33 INFO 140026071775040] #quality_metric: host=algo-1, epoch=8, train binary_f_1.000 <score>=0.9007324617383605\u001b[0m\n",
      "\u001b[34m#metrics {\"StartTime\": 1693393650.6869535, \"EndTime\": 1693393653.8259366, \"Dimensions\": {\"Algorithm\": \"factorization-machines\", \"Host\": \"algo-1\", \"Operation\": \"training\"}, \"Metrics\": {\"update.time\": {\"sum\": 3137.502670288086, \"count\": 1, \"min\": 3137.502670288086, \"max\": 3137.502670288086}}}\u001b[0m\n",
      "\u001b[34m[08/30/2023 11:07:33 INFO 140026071775040] #progress_metric: host=algo-1, completed 9.0 % of epochs\u001b[0m\n",
      "\u001b[34m#metrics {\"StartTime\": 1693393650.688403, \"EndTime\": 1693393653.8262985, \"Dimensions\": {\"Algorithm\": \"factorization-machines\", \"Host\": \"algo-1\", \"Operation\": \"training\", \"epoch\": 8, \"Meta\": \"training_data_iter\"}, \"Metrics\": {\"Total Records Seen\": {\"sum\": 2148791.0, \"count\": 1, \"min\": 2148791, \"max\": 2148791}, \"Total Batches Seen\": {\"sum\": 4303.0, \"count\": 1, \"min\": 4303, \"max\": 4303}, \"Max Records Seen Between Resets\": {\"sum\": 238699.0, \"count\": 1, \"min\": 238699, \"max\": 238699}, \"Max Batches Seen Between Resets\": {\"sum\": 478.0, \"count\": 1, \"min\": 478, \"max\": 478}, \"Reset Count\": {\"sum\": 10.0, \"count\": 1, \"min\": 10, \"max\": 10}, \"Number of Records Since Last Reset\": {\"sum\": 238699.0, \"count\": 1, \"min\": 238699, \"max\": 238699}, \"Number of Batches Since Last Reset\": {\"sum\": 478.0, \"count\": 1, \"min\": 478, \"max\": 478}}}\u001b[0m\n",
      "\u001b[34m[08/30/2023 11:07:33 INFO 140026071775040] #throughput_metric: host=algo-1, train throughput=76066.06679735167 records/second\u001b[0m\n",
      "\u001b[34m[08/30/2023 11:07:33 INFO 140026071775040] #quality_metric: host=algo-1, epoch=9, batch=0 train binary_classification_accuracy <score>=0.846\u001b[0m\n",
      "\u001b[34m[08/30/2023 11:07:33 INFO 140026071775040] #quality_metric: host=algo-1, epoch=9, batch=0 train binary_classification_cross_entropy <loss>=0.42600909423828126\u001b[0m\n",
      "\u001b[34m[08/30/2023 11:07:33 INFO 140026071775040] #quality_metric: host=algo-1, epoch=9, batch=0 train binary_f_1.000 <score>=0.9165763813651138\u001b[0m\n",
      "\u001b[34m[2023-08-30 11:07:37.042] [tensorio] [info] epoch_stats={\"data_pipeline\": \"/opt/ml/input/data/train\", \"epoch\": 20, \"duration\": 3207, \"num_examples\": 478, \"num_bytes\": 16157236}\u001b[0m\n",
      "\u001b[34m[08/30/2023 11:07:37 INFO 140026071775040] #quality_metric: host=algo-1, epoch=9, train binary_classification_accuracy <score>=0.8193933054393305\u001b[0m\n",
      "\u001b[34m[08/30/2023 11:07:37 INFO 140026071775040] #quality_metric: host=algo-1, epoch=9, train binary_classification_cross_entropy <loss>=0.4520937342304565\u001b[0m\n",
      "\u001b[34m[08/30/2023 11:07:37 INFO 140026071775040] #quality_metric: host=algo-1, epoch=9, train binary_f_1.000 <score>=0.9007324617383605\u001b[0m\n",
      "\u001b[34m#metrics {\"StartTime\": 1693393653.8260453, \"EndTime\": 1693393657.0430372, \"Dimensions\": {\"Algorithm\": \"factorization-machines\", \"Host\": \"algo-1\", \"Operation\": \"training\"}, \"Metrics\": {\"update.time\": {\"sum\": 3215.5115604400635, \"count\": 1, \"min\": 3215.5115604400635, \"max\": 3215.5115604400635}}}\u001b[0m\n",
      "\u001b[34m[08/30/2023 11:07:37 INFO 140026071775040] #progress_metric: host=algo-1, completed 10.0 % of epochs\u001b[0m\n",
      "\u001b[34m#metrics {\"StartTime\": 1693393653.8274896, \"EndTime\": 1693393657.0433419, \"Dimensions\": {\"Algorithm\": \"factorization-machines\", \"Host\": \"algo-1\", \"Operation\": \"training\", \"epoch\": 9, \"Meta\": \"training_data_iter\"}, \"Metrics\": {\"Total Records Seen\": {\"sum\": 2387490.0, \"count\": 1, \"min\": 2387490, \"max\": 2387490}, \"Total Batches Seen\": {\"sum\": 4781.0, \"count\": 1, \"min\": 4781, \"max\": 4781}, \"Max Records Seen Between Resets\": {\"sum\": 238699.0, \"count\": 1, \"min\": 238699, \"max\": 238699}, \"Max Batches Seen Between Resets\": {\"sum\": 478.0, \"count\": 1, \"min\": 478, \"max\": 478}, \"Reset Count\": {\"sum\": 11.0, \"count\": 1, \"min\": 11, \"max\": 11}, \"Number of Records Since Last Reset\": {\"sum\": 238699.0, \"count\": 1, \"min\": 238699, \"max\": 238699}, \"Number of Batches Since Last Reset\": {\"sum\": 478.0, \"count\": 1, \"min\": 478, \"max\": 478}}}\u001b[0m\n",
      "\u001b[34m[08/30/2023 11:07:37 INFO 140026071775040] #throughput_metric: host=algo-1, train throughput=74221.89483073565 records/second\u001b[0m\n",
      "\u001b[34m[08/30/2023 11:07:37 INFO 140026071775040] #quality_metric: host=algo-1, epoch=10, batch=0 train binary_classification_accuracy <score>=0.846\u001b[0m\n",
      "\u001b[34m[08/30/2023 11:07:37 INFO 140026071775040] #quality_metric: host=algo-1, epoch=10, batch=0 train binary_classification_cross_entropy <loss>=0.42353973388671873\u001b[0m\n",
      "\u001b[34m[08/30/2023 11:07:37 INFO 140026071775040] #quality_metric: host=algo-1, epoch=10, batch=0 train binary_f_1.000 <score>=0.9165763813651138\u001b[0m\n",
      "\u001b[34m[2023-08-30 11:07:40.160] [tensorio] [info] epoch_stats={\"data_pipeline\": \"/opt/ml/input/data/train\", \"epoch\": 22, \"duration\": 3102, \"num_examples\": 478, \"num_bytes\": 16157236}\u001b[0m\n",
      "\u001b[34m[08/30/2023 11:07:40 INFO 140026071775040] #quality_metric: host=algo-1, epoch=10, train binary_classification_accuracy <score>=0.8193933054393305\u001b[0m\n",
      "\u001b[34m[08/30/2023 11:07:40 INFO 140026071775040] #quality_metric: host=algo-1, epoch=10, train binary_classification_cross_entropy <loss>=0.44919458952708224\u001b[0m\n",
      "\u001b[34m[08/30/2023 11:07:40 INFO 140026071775040] #quality_metric: host=algo-1, epoch=10, train binary_f_1.000 <score>=0.9007324617383605\u001b[0m\n",
      "\u001b[34m#metrics {\"StartTime\": 1693393657.0431302, \"EndTime\": 1693393660.161142, \"Dimensions\": {\"Algorithm\": \"factorization-machines\", \"Host\": \"algo-1\", \"Operation\": \"training\"}, \"Metrics\": {\"update.time\": {\"sum\": 3116.2519454956055, \"count\": 1, \"min\": 3116.2519454956055, \"max\": 3116.2519454956055}}}\u001b[0m\n",
      "\u001b[34m[08/30/2023 11:07:40 INFO 140026071775040] #progress_metric: host=algo-1, completed 11.0 % of epochs\u001b[0m\n",
      "\u001b[34m#metrics {\"StartTime\": 1693393657.0448582, \"EndTime\": 1693393660.1613872, \"Dimensions\": {\"Algorithm\": \"factorization-machines\", \"Host\": \"algo-1\", \"Operation\": \"training\", \"epoch\": 10, \"Meta\": \"training_data_iter\"}, \"Metrics\": {\"Total Records Seen\": {\"sum\": 2626189.0, \"count\": 1, \"min\": 2626189, \"max\": 2626189}, \"Total Batches Seen\": {\"sum\": 5259.0, \"count\": 1, \"min\": 5259, \"max\": 5259}, \"Max Records Seen Between Resets\": {\"sum\": 238699.0, \"count\": 1, \"min\": 238699, \"max\": 238699}, \"Max Batches Seen Between Resets\": {\"sum\": 478.0, \"count\": 1, \"min\": 478, \"max\": 478}, \"Reset Count\": {\"sum\": 12.0, \"count\": 1, \"min\": 12, \"max\": 12}, \"Number of Records Since Last Reset\": {\"sum\": 238699.0, \"count\": 1, \"min\": 238699, \"max\": 238699}, \"Number of Batches Since Last Reset\": {\"sum\": 478.0, \"count\": 1, \"min\": 478, \"max\": 478}}}\u001b[0m\n",
      "\u001b[34m[08/30/2023 11:07:40 INFO 140026071775040] #throughput_metric: host=algo-1, train throughput=76587.80585523581 records/second\u001b[0m\n",
      "\u001b[34m[08/30/2023 11:07:40 INFO 140026071775040] #quality_metric: host=algo-1, epoch=11, batch=0 train binary_classification_accuracy <score>=0.846\u001b[0m\n",
      "\u001b[34m[08/30/2023 11:07:40 INFO 140026071775040] #quality_metric: host=algo-1, epoch=11, batch=0 train binary_classification_cross_entropy <loss>=0.4210665588378906\u001b[0m\n",
      "\u001b[34m[08/30/2023 11:07:40 INFO 140026071775040] #quality_metric: host=algo-1, epoch=11, batch=0 train binary_f_1.000 <score>=0.9165763813651138\u001b[0m\n",
      "\u001b[34m[2023-08-30 11:07:43.286] [tensorio] [info] epoch_stats={\"data_pipeline\": \"/opt/ml/input/data/train\", \"epoch\": 24, \"duration\": 3113, \"num_examples\": 478, \"num_bytes\": 16157236}\u001b[0m\n",
      "\u001b[34m[08/30/2023 11:07:43 INFO 140026071775040] #quality_metric: host=algo-1, epoch=11, train binary_classification_accuracy <score>=0.8193933054393305\u001b[0m\n",
      "\u001b[34m[08/30/2023 11:07:43 INFO 140026071775040] #quality_metric: host=algo-1, epoch=11, train binary_classification_cross_entropy <loss>=0.44631568251095055\u001b[0m\n",
      "\u001b[34m[08/30/2023 11:07:43 INFO 140026071775040] #quality_metric: host=algo-1, epoch=11, train binary_f_1.000 <score>=0.9007324617383605\u001b[0m\n",
      "\u001b[34m#metrics {\"StartTime\": 1693393660.1612334, \"EndTime\": 1693393663.2872703, \"Dimensions\": {\"Algorithm\": \"factorization-machines\", \"Host\": \"algo-1\", \"Operation\": \"training\"}, \"Metrics\": {\"update.time\": {\"sum\": 3124.5739459991455, \"count\": 1, \"min\": 3124.5739459991455, \"max\": 3124.5739459991455}}}\u001b[0m\n",
      "\u001b[34m[08/30/2023 11:07:43 INFO 140026071775040] #progress_metric: host=algo-1, completed 12.0 % of epochs\u001b[0m\n",
      "\u001b[34m#metrics {\"StartTime\": 1693393660.1626632, \"EndTime\": 1693393663.2876716, \"Dimensions\": {\"Algorithm\": \"factorization-machines\", \"Host\": \"algo-1\", \"Operation\": \"training\", \"epoch\": 11, \"Meta\": \"training_data_iter\"}, \"Metrics\": {\"Total Records Seen\": {\"sum\": 2864888.0, \"count\": 1, \"min\": 2864888, \"max\": 2864888}, \"Total Batches Seen\": {\"sum\": 5737.0, \"count\": 1, \"min\": 5737, \"max\": 5737}, \"Max Records Seen Between Resets\": {\"sum\": 238699.0, \"count\": 1, \"min\": 238699, \"max\": 238699}, \"Max Batches Seen Between Resets\": {\"sum\": 478.0, \"count\": 1, \"min\": 478, \"max\": 478}, \"Reset Count\": {\"sum\": 13.0, \"count\": 1, \"min\": 13, \"max\": 13}, \"Number of Records Since Last Reset\": {\"sum\": 238699.0, \"count\": 1, \"min\": 238699, \"max\": 238699}, \"Number of Batches Since Last Reset\": {\"sum\": 478.0, \"count\": 1, \"min\": 478, \"max\": 478}}}\u001b[0m\n",
      "\u001b[34m[08/30/2023 11:07:43 INFO 140026071775040] #throughput_metric: host=algo-1, train throughput=76378.63944800396 records/second\u001b[0m\n",
      "\u001b[34m[08/30/2023 11:07:43 INFO 140026071775040] #quality_metric: host=algo-1, epoch=12, batch=0 train binary_classification_accuracy <score>=0.846\u001b[0m\n",
      "\u001b[34m[08/30/2023 11:07:43 INFO 140026071775040] #quality_metric: host=algo-1, epoch=12, batch=0 train binary_classification_cross_entropy <loss>=0.41859808349609373\u001b[0m\n",
      "\u001b[34m[08/30/2023 11:07:43 INFO 140026071775040] #quality_metric: host=algo-1, epoch=12, batch=0 train binary_f_1.000 <score>=0.9165763813651138\u001b[0m\n",
      "\u001b[34m[2023-08-30 11:07:46.481] [tensorio] [info] epoch_stats={\"data_pipeline\": \"/opt/ml/input/data/train\", \"epoch\": 26, \"duration\": 3185, \"num_examples\": 478, \"num_bytes\": 16157236}\u001b[0m\n",
      "\u001b[34m[08/30/2023 11:07:46 INFO 140026071775040] #quality_metric: host=algo-1, epoch=12, train binary_classification_accuracy <score>=0.8193933054393305\u001b[0m\n",
      "\u001b[34m[08/30/2023 11:07:46 INFO 140026071775040] #quality_metric: host=algo-1, epoch=12, train binary_classification_cross_entropy <loss>=0.4434639590594559\u001b[0m\n",
      "\u001b[34m[08/30/2023 11:07:46 INFO 140026071775040] #quality_metric: host=algo-1, epoch=12, train binary_f_1.000 <score>=0.9007324617383605\u001b[0m\n",
      "\u001b[34m#metrics {\"StartTime\": 1693393663.2874064, \"EndTime\": 1693393666.481863, \"Dimensions\": {\"Algorithm\": \"factorization-machines\", \"Host\": \"algo-1\", \"Operation\": \"training\"}, \"Metrics\": {\"update.time\": {\"sum\": 3192.8720474243164, \"count\": 1, \"min\": 3192.8720474243164, \"max\": 3192.8720474243164}}}\u001b[0m\n",
      "\u001b[34m[08/30/2023 11:07:46 INFO 140026071775040] #progress_metric: host=algo-1, completed 13.0 % of epochs\u001b[0m\n",
      "\u001b[34m#metrics {\"StartTime\": 1693393663.2889597, \"EndTime\": 1693393666.482159, \"Dimensions\": {\"Algorithm\": \"factorization-machines\", \"Host\": \"algo-1\", \"Operation\": \"training\", \"epoch\": 12, \"Meta\": \"training_data_iter\"}, \"Metrics\": {\"Total Records Seen\": {\"sum\": 3103587.0, \"count\": 1, \"min\": 3103587, \"max\": 3103587}, \"Total Batches Seen\": {\"sum\": 6215.0, \"count\": 1, \"min\": 6215, \"max\": 6215}, \"Max Records Seen Between Resets\": {\"sum\": 238699.0, \"count\": 1, \"min\": 238699, \"max\": 238699}, \"Max Batches Seen Between Resets\": {\"sum\": 478.0, \"count\": 1, \"min\": 478, \"max\": 478}, \"Reset Count\": {\"sum\": 14.0, \"count\": 1, \"min\": 14, \"max\": 14}, \"Number of Records Since Last Reset\": {\"sum\": 238699.0, \"count\": 1, \"min\": 238699, \"max\": 238699}, \"Number of Batches Since Last Reset\": {\"sum\": 478.0, \"count\": 1, \"min\": 478, \"max\": 478}}}\u001b[0m\n",
      "\u001b[34m[08/30/2023 11:07:46 INFO 140026071775040] #throughput_metric: host=algo-1, train throughput=74748.67812910028 records/second\u001b[0m\n",
      "\u001b[34m[08/30/2023 11:07:46 INFO 140026071775040] #quality_metric: host=algo-1, epoch=13, batch=0 train binary_classification_accuracy <score>=0.846\u001b[0m\n",
      "\u001b[34m[08/30/2023 11:07:46 INFO 140026071775040] #quality_metric: host=algo-1, epoch=13, batch=0 train binary_classification_cross_entropy <loss>=0.41614031982421873\u001b[0m\n",
      "\u001b[34m[08/30/2023 11:07:46 INFO 140026071775040] #quality_metric: host=algo-1, epoch=13, batch=0 train binary_f_1.000 <score>=0.9165763813651138\u001b[0m\n"
     ]
    },
    {
     "name": "stdout",
     "output_type": "stream",
     "text": [
      "\u001b[34m[2023-08-30 11:07:49.599] [tensorio] [info] epoch_stats={\"data_pipeline\": \"/opt/ml/input/data/train\", \"epoch\": 28, \"duration\": 3064, \"num_examples\": 478, \"num_bytes\": 16157236}\u001b[0m\n",
      "\u001b[34m[08/30/2023 11:07:49 INFO 140026071775040] #quality_metric: host=algo-1, epoch=13, train binary_classification_accuracy <score>=0.8193933054393305\u001b[0m\n",
      "\u001b[34m[08/30/2023 11:07:49 INFO 140026071775040] #quality_metric: host=algo-1, epoch=13, train binary_classification_cross_entropy <loss>=0.4406441456942379\u001b[0m\n",
      "\u001b[34m[08/30/2023 11:07:49 INFO 140026071775040] #quality_metric: host=algo-1, epoch=13, train binary_f_1.000 <score>=0.9007324617383605\u001b[0m\n",
      "\u001b[34m#metrics {\"StartTime\": 1693393666.4819624, \"EndTime\": 1693393669.600223, \"Dimensions\": {\"Algorithm\": \"factorization-machines\", \"Host\": \"algo-1\", \"Operation\": \"training\"}, \"Metrics\": {\"update.time\": {\"sum\": 3116.804599761963, \"count\": 1, \"min\": 3116.804599761963, \"max\": 3116.804599761963}}}\u001b[0m\n",
      "\u001b[34m[08/30/2023 11:07:49 INFO 140026071775040] #progress_metric: host=algo-1, completed 14.0 % of epochs\u001b[0m\n",
      "\u001b[34m#metrics {\"StartTime\": 1693393666.4833846, \"EndTime\": 1693393669.600567, \"Dimensions\": {\"Algorithm\": \"factorization-machines\", \"Host\": \"algo-1\", \"Operation\": \"training\", \"epoch\": 13, \"Meta\": \"training_data_iter\"}, \"Metrics\": {\"Total Records Seen\": {\"sum\": 3342286.0, \"count\": 1, \"min\": 3342286, \"max\": 3342286}, \"Total Batches Seen\": {\"sum\": 6693.0, \"count\": 1, \"min\": 6693, \"max\": 6693}, \"Max Records Seen Between Resets\": {\"sum\": 238699.0, \"count\": 1, \"min\": 238699, \"max\": 238699}, \"Max Batches Seen Between Resets\": {\"sum\": 478.0, \"count\": 1, \"min\": 478, \"max\": 478}, \"Reset Count\": {\"sum\": 15.0, \"count\": 1, \"min\": 15, \"max\": 15}, \"Number of Records Since Last Reset\": {\"sum\": 238699.0, \"count\": 1, \"min\": 238699, \"max\": 238699}, \"Number of Batches Since Last Reset\": {\"sum\": 478.0, \"count\": 1, \"min\": 478, \"max\": 478}}}\u001b[0m\n",
      "\u001b[34m[08/30/2023 11:07:49 INFO 140026071775040] #throughput_metric: host=algo-1, train throughput=76569.91139995721 records/second\u001b[0m\n",
      "\u001b[34m[08/30/2023 11:07:49 INFO 140026071775040] #quality_metric: host=algo-1, epoch=14, batch=0 train binary_classification_accuracy <score>=0.846\u001b[0m\n",
      "\u001b[34m[08/30/2023 11:07:49 INFO 140026071775040] #quality_metric: host=algo-1, epoch=14, batch=0 train binary_classification_cross_entropy <loss>=0.41369769287109376\u001b[0m\n",
      "\u001b[34m[08/30/2023 11:07:49 INFO 140026071775040] #quality_metric: host=algo-1, epoch=14, batch=0 train binary_f_1.000 <score>=0.9165763813651138\u001b[0m\n",
      "\u001b[34m[2023-08-30 11:07:52.782] [tensorio] [info] epoch_stats={\"data_pipeline\": \"/opt/ml/input/data/train\", \"epoch\": 30, \"duration\": 3173, \"num_examples\": 478, \"num_bytes\": 16157236}\u001b[0m\n",
      "\u001b[34m[08/30/2023 11:07:52 INFO 140026071775040] #quality_metric: host=algo-1, epoch=14, train binary_classification_accuracy <score>=0.8193933054393305\u001b[0m\n",
      "\u001b[34m[08/30/2023 11:07:52 INFO 140026071775040] #quality_metric: host=algo-1, epoch=14, train binary_classification_cross_entropy <loss>=0.43785942202133116\u001b[0m\n",
      "\u001b[34m[08/30/2023 11:07:52 INFO 140026071775040] #quality_metric: host=algo-1, epoch=14, train binary_f_1.000 <score>=0.9007324617383605\u001b[0m\n",
      "\u001b[34m#metrics {\"StartTime\": 1693393669.6003401, \"EndTime\": 1693393672.7838118, \"Dimensions\": {\"Algorithm\": \"factorization-machines\", \"Host\": \"algo-1\", \"Operation\": \"training\"}, \"Metrics\": {\"update.time\": {\"sum\": 3181.879997253418, \"count\": 1, \"min\": 3181.879997253418, \"max\": 3181.879997253418}}}\u001b[0m\n",
      "\u001b[34m[08/30/2023 11:07:52 INFO 140026071775040] #progress_metric: host=algo-1, completed 15.0 % of epochs\u001b[0m\n",
      "\u001b[34m#metrics {\"StartTime\": 1693393669.6019044, \"EndTime\": 1693393672.7840672, \"Dimensions\": {\"Algorithm\": \"factorization-machines\", \"Host\": \"algo-1\", \"Operation\": \"training\", \"epoch\": 14, \"Meta\": \"training_data_iter\"}, \"Metrics\": {\"Total Records Seen\": {\"sum\": 3580985.0, \"count\": 1, \"min\": 3580985, \"max\": 3580985}, \"Total Batches Seen\": {\"sum\": 7171.0, \"count\": 1, \"min\": 7171, \"max\": 7171}, \"Max Records Seen Between Resets\": {\"sum\": 238699.0, \"count\": 1, \"min\": 238699, \"max\": 238699}, \"Max Batches Seen Between Resets\": {\"sum\": 478.0, \"count\": 1, \"min\": 478, \"max\": 478}, \"Reset Count\": {\"sum\": 16.0, \"count\": 1, \"min\": 16, \"max\": 16}, \"Number of Records Since Last Reset\": {\"sum\": 238699.0, \"count\": 1, \"min\": 238699, \"max\": 238699}, \"Number of Batches Since Last Reset\": {\"sum\": 478.0, \"count\": 1, \"min\": 478, \"max\": 478}}}\u001b[0m\n",
      "\u001b[34m[08/30/2023 11:07:52 INFO 140026071775040] #throughput_metric: host=algo-1, train throughput=75008.58367477087 records/second\u001b[0m\n",
      "\u001b[34m[08/30/2023 11:07:52 INFO 140026071775040] #quality_metric: host=algo-1, epoch=15, batch=0 train binary_classification_accuracy <score>=0.846\u001b[0m\n",
      "\u001b[34m[08/30/2023 11:07:52 INFO 140026071775040] #quality_metric: host=algo-1, epoch=15, batch=0 train binary_classification_cross_entropy <loss>=0.41127349853515627\u001b[0m\n",
      "\u001b[34m[08/30/2023 11:07:52 INFO 140026071775040] #quality_metric: host=algo-1, epoch=15, batch=0 train binary_f_1.000 <score>=0.9165763813651138\u001b[0m\n",
      "\u001b[34m[2023-08-30 11:07:55.889] [tensorio] [info] epoch_stats={\"data_pipeline\": \"/opt/ml/input/data/train\", \"epoch\": 32, \"duration\": 3098, \"num_examples\": 478, \"num_bytes\": 16157236}\u001b[0m\n",
      "\u001b[34m[08/30/2023 11:07:55 INFO 140026071775040] #quality_metric: host=algo-1, epoch=15, train binary_classification_accuracy <score>=0.8193933054393305\u001b[0m\n",
      "\u001b[34m[08/30/2023 11:07:55 INFO 140026071775040] #quality_metric: host=algo-1, epoch=15, train binary_classification_cross_entropy <loss>=0.4351118696843231\u001b[0m\n",
      "\u001b[34m[08/30/2023 11:07:55 INFO 140026071775040] #quality_metric: host=algo-1, epoch=15, train binary_f_1.000 <score>=0.9007324617383605\u001b[0m\n",
      "\u001b[34m#metrics {\"StartTime\": 1693393672.783903, \"EndTime\": 1693393675.8905315, \"Dimensions\": {\"Algorithm\": \"factorization-machines\", \"Host\": \"algo-1\", \"Operation\": \"training\"}, \"Metrics\": {\"update.time\": {\"sum\": 3105.2193641662598, \"count\": 1, \"min\": 3105.2193641662598, \"max\": 3105.2193641662598}}}\u001b[0m\n",
      "\u001b[34m[08/30/2023 11:07:55 INFO 140026071775040] #progress_metric: host=algo-1, completed 16.0 % of epochs\u001b[0m\n",
      "\u001b[34m#metrics {\"StartTime\": 1693393672.7852845, \"EndTime\": 1693393675.8907616, \"Dimensions\": {\"Algorithm\": \"factorization-machines\", \"Host\": \"algo-1\", \"Operation\": \"training\", \"epoch\": 15, \"Meta\": \"training_data_iter\"}, \"Metrics\": {\"Total Records Seen\": {\"sum\": 3819684.0, \"count\": 1, \"min\": 3819684, \"max\": 3819684}, \"Total Batches Seen\": {\"sum\": 7649.0, \"count\": 1, \"min\": 7649, \"max\": 7649}, \"Max Records Seen Between Resets\": {\"sum\": 238699.0, \"count\": 1, \"min\": 238699, \"max\": 238699}, \"Max Batches Seen Between Resets\": {\"sum\": 478.0, \"count\": 1, \"min\": 478, \"max\": 478}, \"Reset Count\": {\"sum\": 17.0, \"count\": 1, \"min\": 17, \"max\": 17}, \"Number of Records Since Last Reset\": {\"sum\": 238699.0, \"count\": 1, \"min\": 238699, \"max\": 238699}, \"Number of Batches Since Last Reset\": {\"sum\": 478.0, \"count\": 1, \"min\": 478, \"max\": 478}}}\u001b[0m\n",
      "\u001b[34m[08/30/2023 11:07:55 INFO 140026071775040] #throughput_metric: host=algo-1, train throughput=76860.80550659516 records/second\u001b[0m\n",
      "\u001b[34m[08/30/2023 11:07:55 INFO 140026071775040] #quality_metric: host=algo-1, epoch=16, batch=0 train binary_classification_accuracy <score>=0.846\u001b[0m\n",
      "\u001b[34m[08/30/2023 11:07:55 INFO 140026071775040] #quality_metric: host=algo-1, epoch=16, batch=0 train binary_classification_cross_entropy <loss>=0.40887017822265626\u001b[0m\n",
      "\u001b[34m[08/30/2023 11:07:55 INFO 140026071775040] #quality_metric: host=algo-1, epoch=16, batch=0 train binary_f_1.000 <score>=0.9165763813651138\u001b[0m\n",
      "\u001b[34m[2023-08-30 11:07:59.030] [tensorio] [info] epoch_stats={\"data_pipeline\": \"/opt/ml/input/data/train\", \"epoch\": 34, \"duration\": 3131, \"num_examples\": 478, \"num_bytes\": 16157236}\u001b[0m\n",
      "\u001b[34m[08/30/2023 11:07:59 INFO 140026071775040] #quality_metric: host=algo-1, epoch=16, train binary_classification_accuracy <score>=0.8193933054393305\u001b[0m\n",
      "\u001b[34m[08/30/2023 11:07:59 INFO 140026071775040] #quality_metric: host=algo-1, epoch=16, train binary_classification_cross_entropy <loss>=0.43240277536942867\u001b[0m\n",
      "\u001b[34m[08/30/2023 11:07:59 INFO 140026071775040] #quality_metric: host=algo-1, epoch=16, train binary_f_1.000 <score>=0.9007324617383605\u001b[0m\n",
      "\u001b[34m#metrics {\"StartTime\": 1693393675.8906121, \"EndTime\": 1693393679.0309963, \"Dimensions\": {\"Algorithm\": \"factorization-machines\", \"Host\": \"algo-1\", \"Operation\": \"training\"}, \"Metrics\": {\"update.time\": {\"sum\": 3138.873338699341, \"count\": 1, \"min\": 3138.873338699341, \"max\": 3138.873338699341}}}\u001b[0m\n",
      "\u001b[34m[08/30/2023 11:07:59 INFO 140026071775040] #progress_metric: host=algo-1, completed 17.0 % of epochs\u001b[0m\n",
      "\u001b[34m#metrics {\"StartTime\": 1693393675.892094, \"EndTime\": 1693393679.0313284, \"Dimensions\": {\"Algorithm\": \"factorization-machines\", \"Host\": \"algo-1\", \"Operation\": \"training\", \"epoch\": 16, \"Meta\": \"training_data_iter\"}, \"Metrics\": {\"Total Records Seen\": {\"sum\": 4058383.0, \"count\": 1, \"min\": 4058383, \"max\": 4058383}, \"Total Batches Seen\": {\"sum\": 8127.0, \"count\": 1, \"min\": 8127, \"max\": 8127}, \"Max Records Seen Between Resets\": {\"sum\": 238699.0, \"count\": 1, \"min\": 238699, \"max\": 238699}, \"Max Batches Seen Between Resets\": {\"sum\": 478.0, \"count\": 1, \"min\": 478, \"max\": 478}, \"Reset Count\": {\"sum\": 18.0, \"count\": 1, \"min\": 18, \"max\": 18}, \"Number of Records Since Last Reset\": {\"sum\": 238699.0, \"count\": 1, \"min\": 238699, \"max\": 238699}, \"Number of Batches Since Last Reset\": {\"sum\": 478.0, \"count\": 1, \"min\": 478, \"max\": 478}}}\u001b[0m\n",
      "\u001b[34m[08/30/2023 11:07:59 INFO 140026071775040] #throughput_metric: host=algo-1, train throughput=76033.11046585893 records/second\u001b[0m\n",
      "\u001b[34m[08/30/2023 11:07:59 INFO 140026071775040] #quality_metric: host=algo-1, epoch=17, batch=0 train binary_classification_accuracy <score>=0.846\u001b[0m\n",
      "\u001b[34m[08/30/2023 11:07:59 INFO 140026071775040] #quality_metric: host=algo-1, epoch=17, batch=0 train binary_classification_cross_entropy <loss>=0.40648956298828126\u001b[0m\n",
      "\u001b[34m[08/30/2023 11:07:59 INFO 140026071775040] #quality_metric: host=algo-1, epoch=17, batch=0 train binary_f_1.000 <score>=0.9165763813651138\u001b[0m\n"
     ]
    },
    {
     "name": "stdout",
     "output_type": "stream",
     "text": [
      "\u001b[34m[2023-08-30 11:08:02.448] [tensorio] [info] epoch_stats={\"data_pipeline\": \"/opt/ml/input/data/train\", \"epoch\": 36, \"duration\": 3409, \"num_examples\": 478, \"num_bytes\": 16157236}\u001b[0m\n",
      "\u001b[34m[08/30/2023 11:08:02 INFO 140026071775040] #quality_metric: host=algo-1, epoch=17, train binary_classification_accuracy <score>=0.8193933054393305\u001b[0m\n",
      "\u001b[34m[08/30/2023 11:08:02 INFO 140026071775040] #quality_metric: host=algo-1, epoch=17, train binary_classification_cross_entropy <loss>=0.4297328552501471\u001b[0m\n",
      "\u001b[34m[08/30/2023 11:08:02 INFO 140026071775040] #quality_metric: host=algo-1, epoch=17, train binary_f_1.000 <score>=0.9007324617383605\u001b[0m\n",
      "\u001b[34m#metrics {\"StartTime\": 1693393679.0310795, \"EndTime\": 1693393682.4495833, \"Dimensions\": {\"Algorithm\": \"factorization-machines\", \"Host\": \"algo-1\", \"Operation\": \"training\"}, \"Metrics\": {\"update.time\": {\"sum\": 3416.8667793273926, \"count\": 1, \"min\": 3416.8667793273926, \"max\": 3416.8667793273926}}}\u001b[0m\n",
      "\u001b[34m[08/30/2023 11:08:02 INFO 140026071775040] #progress_metric: host=algo-1, completed 18.0 % of epochs\u001b[0m\n",
      "\u001b[34m#metrics {\"StartTime\": 1693393679.0326843, \"EndTime\": 1693393682.4498646, \"Dimensions\": {\"Algorithm\": \"factorization-machines\", \"Host\": \"algo-1\", \"Operation\": \"training\", \"epoch\": 17, \"Meta\": \"training_data_iter\"}, \"Metrics\": {\"Total Records Seen\": {\"sum\": 4297082.0, \"count\": 1, \"min\": 4297082, \"max\": 4297082}, \"Total Batches Seen\": {\"sum\": 8605.0, \"count\": 1, \"min\": 8605, \"max\": 8605}, \"Max Records Seen Between Resets\": {\"sum\": 238699.0, \"count\": 1, \"min\": 238699, \"max\": 238699}, \"Max Batches Seen Between Resets\": {\"sum\": 478.0, \"count\": 1, \"min\": 478, \"max\": 478}, \"Reset Count\": {\"sum\": 19.0, \"count\": 1, \"min\": 19, \"max\": 19}, \"Number of Records Since Last Reset\": {\"sum\": 238699.0, \"count\": 1, \"min\": 238699, \"max\": 238699}, \"Number of Batches Since Last Reset\": {\"sum\": 478.0, \"count\": 1, \"min\": 478, \"max\": 478}}}\u001b[0m\n",
      "\u001b[34m[08/30/2023 11:08:02 INFO 140026071775040] #throughput_metric: host=algo-1, train throughput=69849.84789198718 records/second\u001b[0m\n",
      "\u001b[34m[08/30/2023 11:08:02 INFO 140026071775040] #quality_metric: host=algo-1, epoch=18, batch=0 train binary_classification_accuracy <score>=0.846\u001b[0m\n",
      "\u001b[34m[08/30/2023 11:08:02 INFO 140026071775040] #quality_metric: host=algo-1, epoch=18, batch=0 train binary_classification_cross_entropy <loss>=0.4041328430175781\u001b[0m\n",
      "\u001b[34m[08/30/2023 11:08:02 INFO 140026071775040] #quality_metric: host=algo-1, epoch=18, batch=0 train binary_f_1.000 <score>=0.9165763813651138\u001b[0m\n",
      "\u001b[34m[2023-08-30 11:08:05.970] [tensorio] [info] epoch_stats={\"data_pipeline\": \"/opt/ml/input/data/train\", \"epoch\": 38, \"duration\": 3509, \"num_examples\": 478, \"num_bytes\": 16157236}\u001b[0m\n",
      "\u001b[34m[08/30/2023 11:08:05 INFO 140026071775040] #quality_metric: host=algo-1, epoch=18, train binary_classification_accuracy <score>=0.8193933054393305\u001b[0m\n",
      "\u001b[34m[08/30/2023 11:08:05 INFO 140026071775040] #quality_metric: host=algo-1, epoch=18, train binary_classification_cross_entropy <loss>=0.42710239550857865\u001b[0m\n",
      "\u001b[34m[08/30/2023 11:08:05 INFO 140026071775040] #quality_metric: host=algo-1, epoch=18, train binary_f_1.000 <score>=0.9007324617383605\u001b[0m\n",
      "\u001b[34m#metrics {\"StartTime\": 1693393682.4496746, \"EndTime\": 1693393685.9714768, \"Dimensions\": {\"Algorithm\": \"factorization-machines\", \"Host\": \"algo-1\", \"Operation\": \"training\"}, \"Metrics\": {\"update.time\": {\"sum\": 3520.4131603240967, \"count\": 1, \"min\": 3520.4131603240967, \"max\": 3520.4131603240967}}}\u001b[0m\n",
      "\u001b[34m[08/30/2023 11:08:05 INFO 140026071775040] #progress_metric: host=algo-1, completed 19.0 % of epochs\u001b[0m\n",
      "\u001b[34m#metrics {\"StartTime\": 1693393682.4510312, \"EndTime\": 1693393685.9718268, \"Dimensions\": {\"Algorithm\": \"factorization-machines\", \"Host\": \"algo-1\", \"Operation\": \"training\", \"epoch\": 18, \"Meta\": \"training_data_iter\"}, \"Metrics\": {\"Total Records Seen\": {\"sum\": 4535781.0, \"count\": 1, \"min\": 4535781, \"max\": 4535781}, \"Total Batches Seen\": {\"sum\": 9083.0, \"count\": 1, \"min\": 9083, \"max\": 9083}, \"Max Records Seen Between Resets\": {\"sum\": 238699.0, \"count\": 1, \"min\": 238699, \"max\": 238699}, \"Max Batches Seen Between Resets\": {\"sum\": 478.0, \"count\": 1, \"min\": 478, \"max\": 478}, \"Reset Count\": {\"sum\": 20.0, \"count\": 1, \"min\": 20, \"max\": 20}, \"Number of Records Since Last Reset\": {\"sum\": 238699.0, \"count\": 1, \"min\": 238699, \"max\": 238699}, \"Number of Batches Since Last Reset\": {\"sum\": 478.0, \"count\": 1, \"min\": 478, \"max\": 478}}}\u001b[0m\n",
      "\u001b[34m[08/30/2023 11:08:05 INFO 140026071775040] #throughput_metric: host=algo-1, train throughput=67793.98659364352 records/second\u001b[0m\n",
      "\u001b[34m[08/30/2023 11:08:06 INFO 140026071775040] #quality_metric: host=algo-1, epoch=19, batch=0 train binary_classification_accuracy <score>=0.846\u001b[0m\n",
      "\u001b[34m[08/30/2023 11:08:06 INFO 140026071775040] #quality_metric: host=algo-1, epoch=19, batch=0 train binary_classification_cross_entropy <loss>=0.40180096435546875\u001b[0m\n",
      "\u001b[34m[08/30/2023 11:08:06 INFO 140026071775040] #quality_metric: host=algo-1, epoch=19, batch=0 train binary_f_1.000 <score>=0.9165763813651138\u001b[0m\n",
      "\u001b[34m[2023-08-30 11:08:09.129] [tensorio] [info] epoch_stats={\"data_pipeline\": \"/opt/ml/input/data/train\", \"epoch\": 40, \"duration\": 3149, \"num_examples\": 478, \"num_bytes\": 16157236}\u001b[0m\n",
      "\u001b[34m[08/30/2023 11:08:09 INFO 140026071775040] #quality_metric: host=algo-1, epoch=19, train binary_classification_accuracy <score>=0.8193933054393305\u001b[0m\n",
      "\u001b[34m[08/30/2023 11:08:09 INFO 140026071775040] #quality_metric: host=algo-1, epoch=19, train binary_classification_cross_entropy <loss>=0.4245113743418929\u001b[0m\n",
      "\u001b[34m[08/30/2023 11:08:09 INFO 140026071775040] #quality_metric: host=algo-1, epoch=19, train binary_f_1.000 <score>=0.9007324617383605\u001b[0m\n",
      "\u001b[34m#metrics {\"StartTime\": 1693393685.971614, \"EndTime\": 1693393689.130154, \"Dimensions\": {\"Algorithm\": \"factorization-machines\", \"Host\": \"algo-1\", \"Operation\": \"training\"}, \"Metrics\": {\"update.time\": {\"sum\": 3157.0756435394287, \"count\": 1, \"min\": 3157.0756435394287, \"max\": 3157.0756435394287}}}\u001b[0m\n",
      "\u001b[34m[08/30/2023 11:08:09 INFO 140026071775040] #progress_metric: host=algo-1, completed 20.0 % of epochs\u001b[0m\n",
      "\u001b[34m#metrics {\"StartTime\": 1693393685.9730496, \"EndTime\": 1693393689.130413, \"Dimensions\": {\"Algorithm\": \"factorization-machines\", \"Host\": \"algo-1\", \"Operation\": \"training\", \"epoch\": 19, \"Meta\": \"training_data_iter\"}, \"Metrics\": {\"Total Records Seen\": {\"sum\": 4774480.0, \"count\": 1, \"min\": 4774480, \"max\": 4774480}, \"Total Batches Seen\": {\"sum\": 9561.0, \"count\": 1, \"min\": 9561, \"max\": 9561}, \"Max Records Seen Between Resets\": {\"sum\": 238699.0, \"count\": 1, \"min\": 238699, \"max\": 238699}, \"Max Batches Seen Between Resets\": {\"sum\": 478.0, \"count\": 1, \"min\": 478, \"max\": 478}, \"Reset Count\": {\"sum\": 21.0, \"count\": 1, \"min\": 21, \"max\": 21}, \"Number of Records Since Last Reset\": {\"sum\": 238699.0, \"count\": 1, \"min\": 238699, \"max\": 238699}, \"Number of Batches Since Last Reset\": {\"sum\": 478.0, \"count\": 1, \"min\": 478, \"max\": 478}}}\u001b[0m\n",
      "\u001b[34m[08/30/2023 11:08:09 INFO 140026071775040] #throughput_metric: host=algo-1, train throughput=75597.67116299274 records/second\u001b[0m\n",
      "\u001b[34m[08/30/2023 11:08:09 INFO 140026071775040] #quality_metric: host=algo-1, epoch=20, batch=0 train binary_classification_accuracy <score>=0.846\u001b[0m\n",
      "\u001b[34m[08/30/2023 11:08:09 INFO 140026071775040] #quality_metric: host=algo-1, epoch=20, batch=0 train binary_classification_cross_entropy <loss>=0.3994946594238281\u001b[0m\n",
      "\u001b[34m[08/30/2023 11:08:09 INFO 140026071775040] #quality_metric: host=algo-1, epoch=20, batch=0 train binary_f_1.000 <score>=0.9165763813651138\u001b[0m\n",
      "\u001b[34m[2023-08-30 11:08:12.272] [tensorio] [info] epoch_stats={\"data_pipeline\": \"/opt/ml/input/data/train\", \"epoch\": 42, \"duration\": 3134, \"num_examples\": 478, \"num_bytes\": 16157236}\u001b[0m\n",
      "\u001b[34m[08/30/2023 11:08:12 INFO 140026071775040] #quality_metric: host=algo-1, epoch=20, train binary_classification_accuracy <score>=0.8193933054393305\u001b[0m\n",
      "\u001b[34m[08/30/2023 11:08:12 INFO 140026071775040] #quality_metric: host=algo-1, epoch=20, train binary_classification_cross_entropy <loss>=0.4219595339787056\u001b[0m\n",
      "\u001b[34m[08/30/2023 11:08:12 INFO 140026071775040] #quality_metric: host=algo-1, epoch=20, train binary_f_1.000 <score>=0.9007324617383605\u001b[0m\n",
      "\u001b[34m#metrics {\"StartTime\": 1693393689.1302361, \"EndTime\": 1693393692.272802, \"Dimensions\": {\"Algorithm\": \"factorization-machines\", \"Host\": \"algo-1\", \"Operation\": \"training\"}, \"Metrics\": {\"update.time\": {\"sum\": 3140.993595123291, \"count\": 1, \"min\": 3140.993595123291, \"max\": 3140.993595123291}}}\u001b[0m\n",
      "\u001b[34m[08/30/2023 11:08:12 INFO 140026071775040] #progress_metric: host=algo-1, completed 21.0 % of epochs\u001b[0m\n",
      "\u001b[34m#metrics {\"StartTime\": 1693393689.131776, \"EndTime\": 1693393692.2731476, \"Dimensions\": {\"Algorithm\": \"factorization-machines\", \"Host\": \"algo-1\", \"Operation\": \"training\", \"epoch\": 20, \"Meta\": \"training_data_iter\"}, \"Metrics\": {\"Total Records Seen\": {\"sum\": 5013179.0, \"count\": 1, \"min\": 5013179, \"max\": 5013179}, \"Total Batches Seen\": {\"sum\": 10039.0, \"count\": 1, \"min\": 10039, \"max\": 10039}, \"Max Records Seen Between Resets\": {\"sum\": 238699.0, \"count\": 1, \"min\": 238699, \"max\": 238699}, \"Max Batches Seen Between Resets\": {\"sum\": 478.0, \"count\": 1, \"min\": 478, \"max\": 478}, \"Reset Count\": {\"sum\": 22.0, \"count\": 1, \"min\": 22, \"max\": 22}, \"Number of Records Since Last Reset\": {\"sum\": 238699.0, \"count\": 1, \"min\": 238699, \"max\": 238699}, \"Number of Batches Since Last Reset\": {\"sum\": 478.0, \"count\": 1, \"min\": 478, \"max\": 478}}}\u001b[0m\n",
      "\u001b[34m[08/30/2023 11:08:12 INFO 140026071775040] #throughput_metric: host=algo-1, train throughput=75981.78901877641 records/second\u001b[0m\n",
      "\u001b[34m[08/30/2023 11:08:12 INFO 140026071775040] #quality_metric: host=algo-1, epoch=21, batch=0 train binary_classification_accuracy <score>=0.846\u001b[0m\n",
      "\u001b[34m[08/30/2023 11:08:12 INFO 140026071775040] #quality_metric: host=algo-1, epoch=21, batch=0 train binary_classification_cross_entropy <loss>=0.39721441650390626\u001b[0m\n",
      "\u001b[34m[08/30/2023 11:08:12 INFO 140026071775040] #quality_metric: host=algo-1, epoch=21, batch=0 train binary_f_1.000 <score>=0.9165763813651138\u001b[0m\n",
      "\u001b[34m[2023-08-30 11:08:15.434] [tensorio] [info] epoch_stats={\"data_pipeline\": \"/opt/ml/input/data/train\", \"epoch\": 44, \"duration\": 3153, \"num_examples\": 478, \"num_bytes\": 16157236}\u001b[0m\n",
      "\u001b[34m[08/30/2023 11:08:15 INFO 140026071775040] #quality_metric: host=algo-1, epoch=21, train binary_classification_accuracy <score>=0.8193933054393305\u001b[0m\n",
      "\u001b[34m[08/30/2023 11:08:15 INFO 140026071775040] #quality_metric: host=algo-1, epoch=21, train binary_classification_cross_entropy <loss>=0.41944643928815134\u001b[0m\n",
      "\u001b[34m[08/30/2023 11:08:15 INFO 140026071775040] #quality_metric: host=algo-1, epoch=21, train binary_f_1.000 <score>=0.9007324617383605\u001b[0m\n",
      "\u001b[34m#metrics {\"StartTime\": 1693393692.2729242, \"EndTime\": 1693393695.4356003, \"Dimensions\": {\"Algorithm\": \"factorization-machines\", \"Host\": \"algo-1\", \"Operation\": \"training\"}, \"Metrics\": {\"update.time\": {\"sum\": 3161.0639095306396, \"count\": 1, \"min\": 3161.0639095306396, \"max\": 3161.0639095306396}}}\u001b[0m\n",
      "\u001b[34m[08/30/2023 11:08:15 INFO 140026071775040] #progress_metric: host=algo-1, completed 22.0 % of epochs\u001b[0m\n",
      "\u001b[34m#metrics {\"StartTime\": 1693393692.2745028, \"EndTime\": 1693393695.43591, \"Dimensions\": {\"Algorithm\": \"factorization-machines\", \"Host\": \"algo-1\", \"Operation\": \"training\", \"epoch\": 21, \"Meta\": \"training_data_iter\"}, \"Metrics\": {\"Total Records Seen\": {\"sum\": 5251878.0, \"count\": 1, \"min\": 5251878, \"max\": 5251878}, \"Total Batches Seen\": {\"sum\": 10517.0, \"count\": 1, \"min\": 10517, \"max\": 10517}, \"Max Records Seen Between Resets\": {\"sum\": 238699.0, \"count\": 1, \"min\": 238699, \"max\": 238699}, \"Max Batches Seen Between Resets\": {\"sum\": 478.0, \"count\": 1, \"min\": 478, \"max\": 478}, \"Reset Count\": {\"sum\": 23.0, \"count\": 1, \"min\": 23, \"max\": 23}, \"Number of Records Since Last Reset\": {\"sum\": 238699.0, \"count\": 1, \"min\": 238699, \"max\": 238699}, \"Number of Batches Since Last Reset\": {\"sum\": 478.0, \"count\": 1, \"min\": 478, \"max\": 478}}}\u001b[0m\n",
      "\u001b[34m[08/30/2023 11:08:15 INFO 140026071775040] #throughput_metric: host=algo-1, train throughput=75500.57237583077 records/second\u001b[0m\n",
      "\u001b[34m[08/30/2023 11:08:15 INFO 140026071775040] #quality_metric: host=algo-1, epoch=22, batch=0 train binary_classification_accuracy <score>=0.846\u001b[0m\n",
      "\u001b[34m[08/30/2023 11:08:15 INFO 140026071775040] #quality_metric: host=algo-1, epoch=22, batch=0 train binary_classification_cross_entropy <loss>=0.39496044921875\u001b[0m\n",
      "\u001b[34m[08/30/2023 11:08:15 INFO 140026071775040] #quality_metric: host=algo-1, epoch=22, batch=0 train binary_f_1.000 <score>=0.9165763813651138\u001b[0m\n",
      "\u001b[34m[2023-08-30 11:08:18.557] [tensorio] [info] epoch_stats={\"data_pipeline\": \"/opt/ml/input/data/train\", \"epoch\": 46, \"duration\": 3114, \"num_examples\": 478, \"num_bytes\": 16157236}\u001b[0m\n",
      "\u001b[34m[08/30/2023 11:08:18 INFO 140026071775040] #quality_metric: host=algo-1, epoch=22, train binary_classification_accuracy <score>=0.8193933054393305\u001b[0m\n",
      "\u001b[34m[08/30/2023 11:08:18 INFO 140026071775040] #quality_metric: host=algo-1, epoch=22, train binary_classification_cross_entropy <loss>=0.4169715308345013\u001b[0m\n",
      "\u001b[34m[08/30/2023 11:08:18 INFO 140026071775040] #quality_metric: host=algo-1, epoch=22, train binary_f_1.000 <score>=0.9007324617383605\u001b[0m\n",
      "\u001b[34m#metrics {\"StartTime\": 1693393695.4357073, \"EndTime\": 1693393698.5586112, \"Dimensions\": {\"Algorithm\": \"factorization-machines\", \"Host\": \"algo-1\", \"Operation\": \"training\"}, \"Metrics\": {\"update.time\": {\"sum\": 3121.3901042938232, \"count\": 1, \"min\": 3121.3901042938232, \"max\": 3121.3901042938232}}}\u001b[0m\n",
      "\u001b[34m[08/30/2023 11:08:18 INFO 140026071775040] #progress_metric: host=algo-1, completed 23.0 % of epochs\u001b[0m\n",
      "\u001b[34m#metrics {\"StartTime\": 1693393695.437188, \"EndTime\": 1693393698.5589104, \"Dimensions\": {\"Algorithm\": \"factorization-machines\", \"Host\": \"algo-1\", \"Operation\": \"training\", \"epoch\": 22, \"Meta\": \"training_data_iter\"}, \"Metrics\": {\"Total Records Seen\": {\"sum\": 5490577.0, \"count\": 1, \"min\": 5490577, \"max\": 5490577}, \"Total Batches Seen\": {\"sum\": 10995.0, \"count\": 1, \"min\": 10995, \"max\": 10995}, \"Max Records Seen Between Resets\": {\"sum\": 238699.0, \"count\": 1, \"min\": 238699, \"max\": 238699}, \"Max Batches Seen Between Resets\": {\"sum\": 478.0, \"count\": 1, \"min\": 478, \"max\": 478}, \"Reset Count\": {\"sum\": 24.0, \"count\": 1, \"min\": 24, \"max\": 24}, \"Number of Records Since Last Reset\": {\"sum\": 238699.0, \"count\": 1, \"min\": 238699, \"max\": 238699}, \"Number of Batches Since Last Reset\": {\"sum\": 478.0, \"count\": 1, \"min\": 478, \"max\": 478}}}\u001b[0m\n",
      "\u001b[34m[08/30/2023 11:08:18 INFO 140026071775040] #throughput_metric: host=algo-1, train throughput=76460.30247260878 records/second\u001b[0m\n",
      "\u001b[34m[08/30/2023 11:08:18 INFO 140026071775040] #quality_metric: host=algo-1, epoch=23, batch=0 train binary_classification_accuracy <score>=0.846\u001b[0m\n",
      "\u001b[34m[08/30/2023 11:08:18 INFO 140026071775040] #quality_metric: host=algo-1, epoch=23, batch=0 train binary_classification_cross_entropy <loss>=0.39273284912109374\u001b[0m\n",
      "\u001b[34m[08/30/2023 11:08:18 INFO 140026071775040] #quality_metric: host=algo-1, epoch=23, batch=0 train binary_f_1.000 <score>=0.9165763813651138\u001b[0m\n"
     ]
    },
    {
     "name": "stdout",
     "output_type": "stream",
     "text": [
      "\u001b[34m[2023-08-30 11:08:21.699] [tensorio] [info] epoch_stats={\"data_pipeline\": \"/opt/ml/input/data/train\", \"epoch\": 48, \"duration\": 3132, \"num_examples\": 478, \"num_bytes\": 16157236}\u001b[0m\n",
      "\u001b[34m[08/30/2023 11:08:21 INFO 140026071775040] #quality_metric: host=algo-1, epoch=23, train binary_classification_accuracy <score>=0.8193933054393305\u001b[0m\n",
      "\u001b[34m[08/30/2023 11:08:21 INFO 140026071775040] #quality_metric: host=algo-1, epoch=23, train binary_classification_cross_entropy <loss>=0.4145341507021852\u001b[0m\n",
      "\u001b[34m[08/30/2023 11:08:21 INFO 140026071775040] #quality_metric: host=algo-1, epoch=23, train binary_f_1.000 <score>=0.9007324617383605\u001b[0m\n",
      "\u001b[34m#metrics {\"StartTime\": 1693393698.5587158, \"EndTime\": 1693393701.700353, \"Dimensions\": {\"Algorithm\": \"factorization-machines\", \"Host\": \"algo-1\", \"Operation\": \"training\"}, \"Metrics\": {\"update.time\": {\"sum\": 3140.105724334717, \"count\": 1, \"min\": 3140.105724334717, \"max\": 3140.105724334717}}}\u001b[0m\n",
      "\u001b[34m[08/30/2023 11:08:21 INFO 140026071775040] #progress_metric: host=algo-1, completed 24.0 % of epochs\u001b[0m\n",
      "\u001b[34m#metrics {\"StartTime\": 1693393698.560218, \"EndTime\": 1693393701.7006397, \"Dimensions\": {\"Algorithm\": \"factorization-machines\", \"Host\": \"algo-1\", \"Operation\": \"training\", \"epoch\": 23, \"Meta\": \"training_data_iter\"}, \"Metrics\": {\"Total Records Seen\": {\"sum\": 5729276.0, \"count\": 1, \"min\": 5729276, \"max\": 5729276}, \"Total Batches Seen\": {\"sum\": 11473.0, \"count\": 1, \"min\": 11473, \"max\": 11473}, \"Max Records Seen Between Resets\": {\"sum\": 238699.0, \"count\": 1, \"min\": 238699, \"max\": 238699}, \"Max Batches Seen Between Resets\": {\"sum\": 478.0, \"count\": 1, \"min\": 478, \"max\": 478}, \"Reset Count\": {\"sum\": 25.0, \"count\": 1, \"min\": 25, \"max\": 25}, \"Number of Records Since Last Reset\": {\"sum\": 238699.0, \"count\": 1, \"min\": 238699, \"max\": 238699}, \"Number of Batches Since Last Reset\": {\"sum\": 478.0, \"count\": 1, \"min\": 478, \"max\": 478}}}\u001b[0m\n",
      "\u001b[34m[08/30/2023 11:08:21 INFO 140026071775040] #throughput_metric: host=algo-1, train throughput=76004.93683218429 records/second\u001b[0m\n",
      "\u001b[34m[08/30/2023 11:08:21 INFO 140026071775040] #quality_metric: host=algo-1, epoch=24, batch=0 train binary_classification_accuracy <score>=0.846\u001b[0m\n",
      "\u001b[34m[08/30/2023 11:08:21 INFO 140026071775040] #quality_metric: host=algo-1, epoch=24, batch=0 train binary_classification_cross_entropy <loss>=0.3905315856933594\u001b[0m\n",
      "\u001b[34m[08/30/2023 11:08:21 INFO 140026071775040] #quality_metric: host=algo-1, epoch=24, batch=0 train binary_f_1.000 <score>=0.9165763813651138\u001b[0m\n",
      "\u001b[34m[2023-08-30 11:08:24.880] [tensorio] [info] epoch_stats={\"data_pipeline\": \"/opt/ml/input/data/train\", \"epoch\": 50, \"duration\": 3172, \"num_examples\": 478, \"num_bytes\": 16157236}\u001b[0m\n",
      "\u001b[34m[08/30/2023 11:08:24 INFO 140026071775040] #quality_metric: host=algo-1, epoch=24, train binary_classification_accuracy <score>=0.8193933054393305\u001b[0m\n",
      "\u001b[34m[08/30/2023 11:08:24 INFO 140026071775040] #quality_metric: host=algo-1, epoch=24, train binary_classification_cross_entropy <loss>=0.4121335667247054\u001b[0m\n",
      "\u001b[34m[08/30/2023 11:08:24 INFO 140026071775040] #quality_metric: host=algo-1, epoch=24, train binary_f_1.000 <score>=0.9007324617383605\u001b[0m\n",
      "\u001b[34m#metrics {\"StartTime\": 1693393701.7004528, \"EndTime\": 1693393704.8816786, \"Dimensions\": {\"Algorithm\": \"factorization-machines\", \"Host\": \"algo-1\", \"Operation\": \"training\"}, \"Metrics\": {\"update.time\": {\"sum\": 3179.833173751831, \"count\": 1, \"min\": 3179.833173751831, \"max\": 3179.833173751831}}}\u001b[0m\n",
      "\u001b[34m[08/30/2023 11:08:24 INFO 140026071775040] #progress_metric: host=algo-1, completed 25.0 % of epochs\u001b[0m\n",
      "\u001b[34m#metrics {\"StartTime\": 1693393701.701817, \"EndTime\": 1693393704.881921, \"Dimensions\": {\"Algorithm\": \"factorization-machines\", \"Host\": \"algo-1\", \"Operation\": \"training\", \"epoch\": 24, \"Meta\": \"training_data_iter\"}, \"Metrics\": {\"Total Records Seen\": {\"sum\": 5967975.0, \"count\": 1, \"min\": 5967975, \"max\": 5967975}, \"Total Batches Seen\": {\"sum\": 11951.0, \"count\": 1, \"min\": 11951, \"max\": 11951}, \"Max Records Seen Between Resets\": {\"sum\": 238699.0, \"count\": 1, \"min\": 238699, \"max\": 238699}, \"Max Batches Seen Between Resets\": {\"sum\": 478.0, \"count\": 1, \"min\": 478, \"max\": 478}, \"Reset Count\": {\"sum\": 26.0, \"count\": 1, \"min\": 26, \"max\": 26}, \"Number of Records Since Last Reset\": {\"sum\": 238699.0, \"count\": 1, \"min\": 238699, \"max\": 238699}, \"Number of Batches Since Last Reset\": {\"sum\": 478.0, \"count\": 1, \"min\": 478, \"max\": 478}}}\u001b[0m\n",
      "\u001b[34m[08/30/2023 11:08:24 INFO 140026071775040] #throughput_metric: host=algo-1, train throughput=75056.91030275823 records/second\u001b[0m\n",
      "\u001b[34m[08/30/2023 11:08:24 INFO 140026071775040] #quality_metric: host=algo-1, epoch=25, batch=0 train binary_classification_accuracy <score>=0.846\u001b[0m\n",
      "\u001b[34m[08/30/2023 11:08:24 INFO 140026071775040] #quality_metric: host=algo-1, epoch=25, batch=0 train binary_classification_cross_entropy <loss>=0.3883564453125\u001b[0m\n",
      "\u001b[34m[08/30/2023 11:08:24 INFO 140026071775040] #quality_metric: host=algo-1, epoch=25, batch=0 train binary_f_1.000 <score>=0.9165763813651138\u001b[0m\n",
      "\u001b[34m[2023-08-30 11:08:28.039] [tensorio] [info] epoch_stats={\"data_pipeline\": \"/opt/ml/input/data/train\", \"epoch\": 52, \"duration\": 3150, \"num_examples\": 478, \"num_bytes\": 16157236}\u001b[0m\n",
      "\u001b[34m[08/30/2023 11:08:28 INFO 140026071775040] #quality_metric: host=algo-1, epoch=25, train binary_classification_accuracy <score>=0.8193933054393305\u001b[0m\n",
      "\u001b[34m[08/30/2023 11:08:28 INFO 140026071775040] #quality_metric: host=algo-1, epoch=25, train binary_classification_cross_entropy <loss>=0.40976900217223866\u001b[0m\n",
      "\u001b[34m[08/30/2023 11:08:28 INFO 140026071775040] #quality_metric: host=algo-1, epoch=25, train binary_f_1.000 <score>=0.9007324617383605\u001b[0m\n",
      "\u001b[34m#metrics {\"StartTime\": 1693393704.881761, \"EndTime\": 1693393708.0404112, \"Dimensions\": {\"Algorithm\": \"factorization-machines\", \"Host\": \"algo-1\", \"Operation\": \"training\"}, \"Metrics\": {\"update.time\": {\"sum\": 3157.1176052093506, \"count\": 1, \"min\": 3157.1176052093506, \"max\": 3157.1176052093506}}}\u001b[0m\n",
      "\u001b[34m[08/30/2023 11:08:28 INFO 140026071775040] #progress_metric: host=algo-1, completed 26.0 % of epochs\u001b[0m\n",
      "\u001b[34m#metrics {\"StartTime\": 1693393704.8832614, \"EndTime\": 1693393708.0407333, \"Dimensions\": {\"Algorithm\": \"factorization-machines\", \"Host\": \"algo-1\", \"Operation\": \"training\", \"epoch\": 25, \"Meta\": \"training_data_iter\"}, \"Metrics\": {\"Total Records Seen\": {\"sum\": 6206674.0, \"count\": 1, \"min\": 6206674, \"max\": 6206674}, \"Total Batches Seen\": {\"sum\": 12429.0, \"count\": 1, \"min\": 12429, \"max\": 12429}, \"Max Records Seen Between Resets\": {\"sum\": 238699.0, \"count\": 1, \"min\": 238699, \"max\": 238699}, \"Max Batches Seen Between Resets\": {\"sum\": 478.0, \"count\": 1, \"min\": 478, \"max\": 478}, \"Reset Count\": {\"sum\": 27.0, \"count\": 1, \"min\": 27, \"max\": 27}, \"Number of Records Since Last Reset\": {\"sum\": 238699.0, \"count\": 1, \"min\": 238699, \"max\": 238699}, \"Number of Batches Since Last Reset\": {\"sum\": 478.0, \"count\": 1, \"min\": 478, \"max\": 478}}}\u001b[0m\n",
      "\u001b[34m[08/30/2023 11:08:28 INFO 140026071775040] #throughput_metric: host=algo-1, train throughput=75594.12077090019 records/second\u001b[0m\n",
      "\u001b[34m[08/30/2023 11:08:28 INFO 140026071775040] #quality_metric: host=algo-1, epoch=26, batch=0 train binary_classification_accuracy <score>=0.846\u001b[0m\n",
      "\u001b[34m[08/30/2023 11:08:28 INFO 140026071775040] #quality_metric: host=algo-1, epoch=26, batch=0 train binary_classification_cross_entropy <loss>=0.38620721435546873\u001b[0m\n",
      "\u001b[34m[08/30/2023 11:08:28 INFO 140026071775040] #quality_metric: host=algo-1, epoch=26, batch=0 train binary_f_1.000 <score>=0.9165763813651138\u001b[0m\n",
      "\u001b[34m[2023-08-30 11:08:31.167] [tensorio] [info] epoch_stats={\"data_pipeline\": \"/opt/ml/input/data/train\", \"epoch\": 54, \"duration\": 3119, \"num_examples\": 478, \"num_bytes\": 16157236}\u001b[0m\n",
      "\u001b[34m[08/30/2023 11:08:31 INFO 140026071775040] #quality_metric: host=algo-1, epoch=26, train binary_classification_accuracy <score>=0.8193933054393305\u001b[0m\n",
      "\u001b[34m[08/30/2023 11:08:31 INFO 140026071775040] #quality_metric: host=algo-1, epoch=26, train binary_classification_cross_entropy <loss>=0.4074396492547071\u001b[0m\n",
      "\u001b[34m[08/30/2023 11:08:31 INFO 140026071775040] #quality_metric: host=algo-1, epoch=26, train binary_f_1.000 <score>=0.9007324617383605\u001b[0m\n",
      "\u001b[34m#metrics {\"StartTime\": 1693393708.0405118, \"EndTime\": 1693393711.1684465, \"Dimensions\": {\"Algorithm\": \"factorization-machines\", \"Host\": \"algo-1\", \"Operation\": \"training\"}, \"Metrics\": {\"update.time\": {\"sum\": 3126.3253688812256, \"count\": 1, \"min\": 3126.3253688812256, \"max\": 3126.3253688812256}}}\u001b[0m\n",
      "\u001b[34m[08/30/2023 11:08:31 INFO 140026071775040] #progress_metric: host=algo-1, completed 27.0 % of epochs\u001b[0m\n",
      "\u001b[34m#metrics {\"StartTime\": 1693393708.042084, \"EndTime\": 1693393711.1686978, \"Dimensions\": {\"Algorithm\": \"factorization-machines\", \"Host\": \"algo-1\", \"Operation\": \"training\", \"epoch\": 26, \"Meta\": \"training_data_iter\"}, \"Metrics\": {\"Total Records Seen\": {\"sum\": 6445373.0, \"count\": 1, \"min\": 6445373, \"max\": 6445373}, \"Total Batches Seen\": {\"sum\": 12907.0, \"count\": 1, \"min\": 12907, \"max\": 12907}, \"Max Records Seen Between Resets\": {\"sum\": 238699.0, \"count\": 1, \"min\": 238699, \"max\": 238699}, \"Max Batches Seen Between Resets\": {\"sum\": 478.0, \"count\": 1, \"min\": 478, \"max\": 478}, \"Reset Count\": {\"sum\": 28.0, \"count\": 1, \"min\": 28, \"max\": 28}, \"Number of Records Since Last Reset\": {\"sum\": 238699.0, \"count\": 1, \"min\": 238699, \"max\": 238699}, \"Number of Batches Since Last Reset\": {\"sum\": 478.0, \"count\": 1, \"min\": 478, \"max\": 478}}}\u001b[0m\n",
      "\u001b[34m[08/30/2023 11:08:31 INFO 140026071775040] #throughput_metric: host=algo-1, train throughput=76340.41701342959 records/second\u001b[0m\n",
      "\u001b[34m[08/30/2023 11:08:31 INFO 140026071775040] #quality_metric: host=algo-1, epoch=27, batch=0 train binary_classification_accuracy <score>=0.846\u001b[0m\n",
      "\u001b[34m[08/30/2023 11:08:31 INFO 140026071775040] #quality_metric: host=algo-1, epoch=27, batch=0 train binary_classification_cross_entropy <loss>=0.38408355712890624\u001b[0m\n",
      "\u001b[34m[08/30/2023 11:08:31 INFO 140026071775040] #quality_metric: host=algo-1, epoch=27, batch=0 train binary_f_1.000 <score>=0.9165763813651138\u001b[0m\n"
     ]
    },
    {
     "name": "stdout",
     "output_type": "stream",
     "text": [
      "\u001b[34m[2023-08-30 11:08:34.305] [tensorio] [info] epoch_stats={\"data_pipeline\": \"/opt/ml/input/data/train\", \"epoch\": 56, \"duration\": 3125, \"num_examples\": 478, \"num_bytes\": 16157236}\u001b[0m\n",
      "\u001b[34m[08/30/2023 11:08:34 INFO 140026071775040] #quality_metric: host=algo-1, epoch=27, train binary_classification_accuracy <score>=0.8193933054393305\u001b[0m\n",
      "\u001b[34m[08/30/2023 11:08:34 INFO 140026071775040] #quality_metric: host=algo-1, epoch=27, train binary_classification_cross_entropy <loss>=0.40514467809190313\u001b[0m\n",
      "\u001b[34m[08/30/2023 11:08:34 INFO 140026071775040] #quality_metric: host=algo-1, epoch=27, train binary_f_1.000 <score>=0.9007324617383605\u001b[0m\n",
      "\u001b[34m#metrics {\"StartTime\": 1693393711.168526, \"EndTime\": 1693393714.305971, \"Dimensions\": {\"Algorithm\": \"factorization-machines\", \"Host\": \"algo-1\", \"Operation\": \"training\"}, \"Metrics\": {\"update.time\": {\"sum\": 3135.9200477600098, \"count\": 1, \"min\": 3135.9200477600098, \"max\": 3135.9200477600098}}}\u001b[0m\n",
      "\u001b[34m[08/30/2023 11:08:34 INFO 140026071775040] #progress_metric: host=algo-1, completed 28.0 % of epochs\u001b[0m\n",
      "\u001b[34m#metrics {\"StartTime\": 1693393711.1700199, \"EndTime\": 1693393714.3062844, \"Dimensions\": {\"Algorithm\": \"factorization-machines\", \"Host\": \"algo-1\", \"Operation\": \"training\", \"epoch\": 27, \"Meta\": \"training_data_iter\"}, \"Metrics\": {\"Total Records Seen\": {\"sum\": 6684072.0, \"count\": 1, \"min\": 6684072, \"max\": 6684072}, \"Total Batches Seen\": {\"sum\": 13385.0, \"count\": 1, \"min\": 13385, \"max\": 13385}, \"Max Records Seen Between Resets\": {\"sum\": 238699.0, \"count\": 1, \"min\": 238699, \"max\": 238699}, \"Max Batches Seen Between Resets\": {\"sum\": 478.0, \"count\": 1, \"min\": 478, \"max\": 478}, \"Reset Count\": {\"sum\": 29.0, \"count\": 1, \"min\": 29, \"max\": 29}, \"Number of Records Since Last Reset\": {\"sum\": 238699.0, \"count\": 1, \"min\": 238699, \"max\": 238699}, \"Number of Batches Since Last Reset\": {\"sum\": 478.0, \"count\": 1, \"min\": 478, \"max\": 478}}}\u001b[0m\n",
      "\u001b[34m[08/30/2023 11:08:34 INFO 140026071775040] #throughput_metric: host=algo-1, train throughput=76105.65791197652 records/second\u001b[0m\n",
      "\u001b[34m[08/30/2023 11:08:34 INFO 140026071775040] #quality_metric: host=algo-1, epoch=28, batch=0 train binary_classification_accuracy <score>=0.846\u001b[0m\n",
      "\u001b[34m[08/30/2023 11:08:34 INFO 140026071775040] #quality_metric: host=algo-1, epoch=28, batch=0 train binary_classification_cross_entropy <loss>=0.38198529052734376\u001b[0m\n",
      "\u001b[34m[08/30/2023 11:08:34 INFO 140026071775040] #quality_metric: host=algo-1, epoch=28, batch=0 train binary_f_1.000 <score>=0.9165763813651138\u001b[0m\n",
      "\u001b[34m[2023-08-30 11:08:37.466] [tensorio] [info] epoch_stats={\"data_pipeline\": \"/opt/ml/input/data/train\", \"epoch\": 58, \"duration\": 3152, \"num_examples\": 478, \"num_bytes\": 16157236}\u001b[0m\n",
      "\u001b[34m[08/30/2023 11:08:37 INFO 140026071775040] #quality_metric: host=algo-1, epoch=28, train binary_classification_accuracy <score>=0.8193933054393305\u001b[0m\n",
      "\u001b[34m[08/30/2023 11:08:37 INFO 140026071775040] #quality_metric: host=algo-1, epoch=28, train binary_classification_cross_entropy <loss>=0.40288325261072133\u001b[0m\n",
      "\u001b[34m[08/30/2023 11:08:37 INFO 140026071775040] #quality_metric: host=algo-1, epoch=28, train binary_f_1.000 <score>=0.9007324617383605\u001b[0m\n",
      "\u001b[34m#metrics {\"StartTime\": 1693393714.3060834, \"EndTime\": 1693393717.467912, \"Dimensions\": {\"Algorithm\": \"factorization-machines\", \"Host\": \"algo-1\", \"Operation\": \"training\"}, \"Metrics\": {\"update.time\": {\"sum\": 3160.276174545288, \"count\": 1, \"min\": 3160.276174545288, \"max\": 3160.276174545288}}}\u001b[0m\n",
      "\u001b[34m[08/30/2023 11:08:37 INFO 140026071775040] #progress_metric: host=algo-1, completed 29.0 % of epochs\u001b[0m\n",
      "\u001b[34m#metrics {\"StartTime\": 1693393714.3076081, \"EndTime\": 1693393717.468148, \"Dimensions\": {\"Algorithm\": \"factorization-machines\", \"Host\": \"algo-1\", \"Operation\": \"training\", \"epoch\": 28, \"Meta\": \"training_data_iter\"}, \"Metrics\": {\"Total Records Seen\": {\"sum\": 6922771.0, \"count\": 1, \"min\": 6922771, \"max\": 6922771}, \"Total Batches Seen\": {\"sum\": 13863.0, \"count\": 1, \"min\": 13863, \"max\": 13863}, \"Max Records Seen Between Resets\": {\"sum\": 238699.0, \"count\": 1, \"min\": 238699, \"max\": 238699}, \"Max Batches Seen Between Resets\": {\"sum\": 478.0, \"count\": 1, \"min\": 478, \"max\": 478}, \"Reset Count\": {\"sum\": 30.0, \"count\": 1, \"min\": 30, \"max\": 30}, \"Number of Records Since Last Reset\": {\"sum\": 238699.0, \"count\": 1, \"min\": 238699, \"max\": 238699}, \"Number of Batches Since Last Reset\": {\"sum\": 478.0, \"count\": 1, \"min\": 478, \"max\": 478}}}\u001b[0m\n",
      "\u001b[34m[08/30/2023 11:08:37 INFO 140026071775040] #throughput_metric: host=algo-1, train throughput=75521.63332891549 records/second\u001b[0m\n",
      "\u001b[34m[08/30/2023 11:08:37 INFO 140026071775040] #quality_metric: host=algo-1, epoch=29, batch=0 train binary_classification_accuracy <score>=0.846\u001b[0m\n",
      "\u001b[34m[08/30/2023 11:08:37 INFO 140026071775040] #quality_metric: host=algo-1, epoch=29, batch=0 train binary_classification_cross_entropy <loss>=0.379911865234375\u001b[0m\n",
      "\u001b[34m[08/30/2023 11:08:37 INFO 140026071775040] #quality_metric: host=algo-1, epoch=29, batch=0 train binary_f_1.000 <score>=0.9165763813651138\u001b[0m\n",
      "\u001b[34m[2023-08-30 11:08:40.595] [tensorio] [info] epoch_stats={\"data_pipeline\": \"/opt/ml/input/data/train\", \"epoch\": 60, \"duration\": 3120, \"num_examples\": 478, \"num_bytes\": 16157236}\u001b[0m\n",
      "\u001b[34m[08/30/2023 11:08:40 INFO 140026071775040] #quality_metric: host=algo-1, epoch=29, train binary_classification_accuracy <score>=0.8193933054393305\u001b[0m\n",
      "\u001b[34m[08/30/2023 11:08:40 INFO 140026071775040] #quality_metric: host=algo-1, epoch=29, train binary_classification_cross_entropy <loss>=0.4006545352057932\u001b[0m\n",
      "\u001b[34m[08/30/2023 11:08:40 INFO 140026071775040] #quality_metric: host=algo-1, epoch=29, train binary_f_1.000 <score>=0.9007324617383605\u001b[0m\n",
      "\u001b[34m#metrics {\"StartTime\": 1693393717.4679942, \"EndTime\": 1693393720.5966065, \"Dimensions\": {\"Algorithm\": \"factorization-machines\", \"Host\": \"algo-1\", \"Operation\": \"training\"}, \"Metrics\": {\"update.time\": {\"sum\": 3127.1939277648926, \"count\": 1, \"min\": 3127.1939277648926, \"max\": 3127.1939277648926}}}\u001b[0m\n",
      "\u001b[34m[08/30/2023 11:08:40 INFO 140026071775040] #progress_metric: host=algo-1, completed 30.0 % of epochs\u001b[0m\n",
      "\u001b[34m#metrics {\"StartTime\": 1693393717.4693866, \"EndTime\": 1693393720.5968955, \"Dimensions\": {\"Algorithm\": \"factorization-machines\", \"Host\": \"algo-1\", \"Operation\": \"training\", \"epoch\": 29, \"Meta\": \"training_data_iter\"}, \"Metrics\": {\"Total Records Seen\": {\"sum\": 7161470.0, \"count\": 1, \"min\": 7161470, \"max\": 7161470}, \"Total Batches Seen\": {\"sum\": 14341.0, \"count\": 1, \"min\": 14341, \"max\": 14341}, \"Max Records Seen Between Resets\": {\"sum\": 238699.0, \"count\": 1, \"min\": 238699, \"max\": 238699}, \"Max Batches Seen Between Resets\": {\"sum\": 478.0, \"count\": 1, \"min\": 478, \"max\": 478}, \"Reset Count\": {\"sum\": 31.0, \"count\": 1, \"min\": 31, \"max\": 31}, \"Number of Records Since Last Reset\": {\"sum\": 238699.0, \"count\": 1, \"min\": 238699, \"max\": 238699}, \"Number of Batches Since Last Reset\": {\"sum\": 478.0, \"count\": 1, \"min\": 478, \"max\": 478}}}\u001b[0m\n",
      "\u001b[34m[08/30/2023 11:08:40 INFO 140026071775040] #throughput_metric: host=algo-1, train throughput=76318.55954940792 records/second\u001b[0m\n",
      "\u001b[34m[08/30/2023 11:08:40 INFO 140026071775040] #quality_metric: host=algo-1, epoch=30, batch=0 train binary_classification_accuracy <score>=0.846\u001b[0m\n",
      "\u001b[34m[08/30/2023 11:08:40 INFO 140026071775040] #quality_metric: host=algo-1, epoch=30, batch=0 train binary_classification_cross_entropy <loss>=0.3778629150390625\u001b[0m\n",
      "\u001b[34m[08/30/2023 11:08:40 INFO 140026071775040] #quality_metric: host=algo-1, epoch=30, batch=0 train binary_f_1.000 <score>=0.9165763813651138\u001b[0m\n",
      "\u001b[34m[2023-08-30 11:08:43.710] [tensorio] [info] epoch_stats={\"data_pipeline\": \"/opt/ml/input/data/train\", \"epoch\": 62, \"duration\": 3106, \"num_examples\": 478, \"num_bytes\": 16157236}\u001b[0m\n",
      "\u001b[34m[08/30/2023 11:08:43 INFO 140026071775040] #quality_metric: host=algo-1, epoch=30, train binary_classification_accuracy <score>=0.8193933054393305\u001b[0m\n",
      "\u001b[34m[08/30/2023 11:08:43 INFO 140026071775040] #quality_metric: host=algo-1, epoch=30, train binary_classification_cross_entropy <loss>=0.3984576875056183\u001b[0m\n",
      "\u001b[34m[08/30/2023 11:08:43 INFO 140026071775040] #quality_metric: host=algo-1, epoch=30, train binary_f_1.000 <score>=0.9007324617383605\u001b[0m\n",
      "\u001b[34m#metrics {\"StartTime\": 1693393720.5967026, \"EndTime\": 1693393723.7112696, \"Dimensions\": {\"Algorithm\": \"factorization-machines\", \"Host\": \"algo-1\", \"Operation\": \"training\"}, \"Metrics\": {\"update.time\": {\"sum\": 3113.135576248169, \"count\": 1, \"min\": 3113.135576248169, \"max\": 3113.135576248169}}}\u001b[0m\n",
      "\u001b[34m[08/30/2023 11:08:43 INFO 140026071775040] #progress_metric: host=algo-1, completed 31.0 % of epochs\u001b[0m\n",
      "\u001b[34m#metrics {\"StartTime\": 1693393720.5981011, \"EndTime\": 1693393723.7116313, \"Dimensions\": {\"Algorithm\": \"factorization-machines\", \"Host\": \"algo-1\", \"Operation\": \"training\", \"epoch\": 30, \"Meta\": \"training_data_iter\"}, \"Metrics\": {\"Total Records Seen\": {\"sum\": 7400169.0, \"count\": 1, \"min\": 7400169, \"max\": 7400169}, \"Total Batches Seen\": {\"sum\": 14819.0, \"count\": 1, \"min\": 14819, \"max\": 14819}, \"Max Records Seen Between Resets\": {\"sum\": 238699.0, \"count\": 1, \"min\": 238699, \"max\": 238699}, \"Max Batches Seen Between Resets\": {\"sum\": 478.0, \"count\": 1, \"min\": 478, \"max\": 478}, \"Reset Count\": {\"sum\": 32.0, \"count\": 1, \"min\": 32, \"max\": 32}, \"Number of Records Since Last Reset\": {\"sum\": 238699.0, \"count\": 1, \"min\": 238699, \"max\": 238699}, \"Number of Batches Since Last Reset\": {\"sum\": 478.0, \"count\": 1, \"min\": 478, \"max\": 478}}}\u001b[0m\n",
      "\u001b[34m[08/30/2023 11:08:43 INFO 140026071775040] #throughput_metric: host=algo-1, train throughput=76661.02291424335 records/second\u001b[0m\n",
      "\u001b[34m[08/30/2023 11:08:43 INFO 140026071775040] #quality_metric: host=algo-1, epoch=31, batch=0 train binary_classification_accuracy <score>=0.846\u001b[0m\n",
      "\u001b[34m[08/30/2023 11:08:43 INFO 140026071775040] #quality_metric: host=algo-1, epoch=31, batch=0 train binary_classification_cross_entropy <loss>=0.3758379821777344\u001b[0m\n",
      "\u001b[34m[08/30/2023 11:08:43 INFO 140026071775040] #quality_metric: host=algo-1, epoch=31, batch=0 train binary_f_1.000 <score>=0.9165763813651138\u001b[0m\n",
      "\u001b[34m[2023-08-30 11:08:46.859] [tensorio] [info] epoch_stats={\"data_pipeline\": \"/opt/ml/input/data/train\", \"epoch\": 64, \"duration\": 3139, \"num_examples\": 478, \"num_bytes\": 16157236}\u001b[0m\n",
      "\u001b[34m[08/30/2023 11:08:46 INFO 140026071775040] #quality_metric: host=algo-1, epoch=31, train binary_classification_accuracy <score>=0.8193933054393305\u001b[0m\n",
      "\u001b[34m[08/30/2023 11:08:46 INFO 140026071775040] #quality_metric: host=algo-1, epoch=31, train binary_classification_cross_entropy <loss>=0.3962918820241505\u001b[0m\n",
      "\u001b[34m[08/30/2023 11:08:46 INFO 140026071775040] #quality_metric: host=algo-1, epoch=31, train binary_f_1.000 <score>=0.9007324617383605\u001b[0m\n",
      "\u001b[34m#metrics {\"StartTime\": 1693393723.7113693, \"EndTime\": 1693393726.8600492, \"Dimensions\": {\"Algorithm\": \"factorization-machines\", \"Host\": \"algo-1\", \"Operation\": \"training\"}, \"Metrics\": {\"update.time\": {\"sum\": 3147.1049785614014, \"count\": 1, \"min\": 3147.1049785614014, \"max\": 3147.1049785614014}}}\u001b[0m\n",
      "\u001b[34m[08/30/2023 11:08:46 INFO 140026071775040] #progress_metric: host=algo-1, completed 32.0 % of epochs\u001b[0m\n",
      "\u001b[34m#metrics {\"StartTime\": 1693393723.7129128, \"EndTime\": 1693393726.8603702, \"Dimensions\": {\"Algorithm\": \"factorization-machines\", \"Host\": \"algo-1\", \"Operation\": \"training\", \"epoch\": 31, \"Meta\": \"training_data_iter\"}, \"Metrics\": {\"Total Records Seen\": {\"sum\": 7638868.0, \"count\": 1, \"min\": 7638868, \"max\": 7638868}, \"Total Batches Seen\": {\"sum\": 15297.0, \"count\": 1, \"min\": 15297, \"max\": 15297}, \"Max Records Seen Between Resets\": {\"sum\": 238699.0, \"count\": 1, \"min\": 238699, \"max\": 238699}, \"Max Batches Seen Between Resets\": {\"sum\": 478.0, \"count\": 1, \"min\": 478, \"max\": 478}, \"Reset Count\": {\"sum\": 33.0, \"count\": 1, \"min\": 33, \"max\": 33}, \"Number of Records Since Last Reset\": {\"sum\": 238699.0, \"count\": 1, \"min\": 238699, \"max\": 238699}, \"Number of Batches Since Last Reset\": {\"sum\": 478.0, \"count\": 1, \"min\": 478, \"max\": 478}}}\u001b[0m\n",
      "\u001b[34m[08/30/2023 11:08:46 INFO 140026071775040] #throughput_metric: host=algo-1, train throughput=75835.14919330069 records/second\u001b[0m\n",
      "\u001b[34m[08/30/2023 11:08:46 INFO 140026071775040] #quality_metric: host=algo-1, epoch=32, batch=0 train binary_classification_accuracy <score>=0.846\u001b[0m\n",
      "\u001b[34m[08/30/2023 11:08:46 INFO 140026071775040] #quality_metric: host=algo-1, epoch=32, batch=0 train binary_classification_cross_entropy <loss>=0.37383648681640624\u001b[0m\n",
      "\u001b[34m[08/30/2023 11:08:46 INFO 140026071775040] #quality_metric: host=algo-1, epoch=32, batch=0 train binary_f_1.000 <score>=0.9165763813651138\u001b[0m\n",
      "\u001b[34m[2023-08-30 11:08:49.976] [tensorio] [info] epoch_stats={\"data_pipeline\": \"/opt/ml/input/data/train\", \"epoch\": 66, \"duration\": 3107, \"num_examples\": 478, \"num_bytes\": 16157236}\u001b[0m\n",
      "\u001b[34m[08/30/2023 11:08:49 INFO 140026071775040] #quality_metric: host=algo-1, epoch=32, train binary_classification_accuracy <score>=0.8193933054393305\u001b[0m\n",
      "\u001b[34m[08/30/2023 11:08:49 INFO 140026071775040] #quality_metric: host=algo-1, epoch=32, train binary_classification_cross_entropy <loss>=0.3941562980747622\u001b[0m\n",
      "\u001b[34m[08/30/2023 11:08:49 INFO 140026071775040] #quality_metric: host=algo-1, epoch=32, train binary_f_1.000 <score>=0.9007324617383605\u001b[0m\n",
      "\u001b[34m#metrics {\"StartTime\": 1693393726.8601608, \"EndTime\": 1693393729.977632, \"Dimensions\": {\"Algorithm\": \"factorization-machines\", \"Host\": \"algo-1\", \"Operation\": \"training\"}, \"Metrics\": {\"update.time\": {\"sum\": 3115.8816814422607, \"count\": 1, \"min\": 3115.8816814422607, \"max\": 3115.8816814422607}}}\u001b[0m\n",
      "\u001b[34m[08/30/2023 11:08:49 INFO 140026071775040] #progress_metric: host=algo-1, completed 33.0 % of epochs\u001b[0m\n",
      "\u001b[34m#metrics {\"StartTime\": 1693393726.8617167, \"EndTime\": 1693393729.9779181, \"Dimensions\": {\"Algorithm\": \"factorization-machines\", \"Host\": \"algo-1\", \"Operation\": \"training\", \"epoch\": 32, \"Meta\": \"training_data_iter\"}, \"Metrics\": {\"Total Records Seen\": {\"sum\": 7877567.0, \"count\": 1, \"min\": 7877567, \"max\": 7877567}, \"Total Batches Seen\": {\"sum\": 15775.0, \"count\": 1, \"min\": 15775, \"max\": 15775}, \"Max Records Seen Between Resets\": {\"sum\": 238699.0, \"count\": 1, \"min\": 238699, \"max\": 238699}, \"Max Batches Seen Between Resets\": {\"sum\": 478.0, \"count\": 1, \"min\": 478, \"max\": 478}, \"Reset Count\": {\"sum\": 34.0, \"count\": 1, \"min\": 34, \"max\": 34}, \"Number of Records Since Last Reset\": {\"sum\": 238699.0, \"count\": 1, \"min\": 238699, \"max\": 238699}, \"Number of Batches Since Last Reset\": {\"sum\": 478.0, \"count\": 1, \"min\": 478, \"max\": 478}}}\u001b[0m\n",
      "\u001b[34m[08/30/2023 11:08:49 INFO 140026071775040] #throughput_metric: host=algo-1, train throughput=76595.51681369756 records/second\u001b[0m\n",
      "\u001b[34m[08/30/2023 11:08:50 INFO 140026071775040] #quality_metric: host=algo-1, epoch=33, batch=0 train binary_classification_accuracy <score>=0.846\u001b[0m\n",
      "\u001b[34m[08/30/2023 11:08:50 INFO 140026071775040] #quality_metric: host=algo-1, epoch=33, batch=0 train binary_classification_cross_entropy <loss>=0.37185797119140623\u001b[0m\n",
      "\u001b[34m[08/30/2023 11:08:50 INFO 140026071775040] #quality_metric: host=algo-1, epoch=33, batch=0 train binary_f_1.000 <score>=0.9165763813651138\u001b[0m\n"
     ]
    },
    {
     "name": "stdout",
     "output_type": "stream",
     "text": [
      "\u001b[34m[2023-08-30 11:08:53.101] [tensorio] [info] epoch_stats={\"data_pipeline\": \"/opt/ml/input/data/train\", \"epoch\": 68, \"duration\": 3116, \"num_examples\": 478, \"num_bytes\": 16157236}\u001b[0m\n",
      "\u001b[34m[08/30/2023 11:08:53 INFO 140026071775040] #quality_metric: host=algo-1, epoch=33, train binary_classification_accuracy <score>=0.819397489539749\u001b[0m\n",
      "\u001b[34m[08/30/2023 11:08:53 INFO 140026071775040] #quality_metric: host=algo-1, epoch=33, train binary_classification_cross_entropy <loss>=0.3920501337410516\u001b[0m\n",
      "\u001b[34m[08/30/2023 11:08:53 INFO 140026071775040] #quality_metric: host=algo-1, epoch=33, train binary_f_1.000 <score>=0.9007345331781783\u001b[0m\n",
      "\u001b[34m#metrics {\"StartTime\": 1693393729.9777217, \"EndTime\": 1693393733.1023881, \"Dimensions\": {\"Algorithm\": \"factorization-machines\", \"Host\": \"algo-1\", \"Operation\": \"training\"}, \"Metrics\": {\"update.time\": {\"sum\": 3123.1396198272705, \"count\": 1, \"min\": 3123.1396198272705, \"max\": 3123.1396198272705}}}\u001b[0m\n",
      "\u001b[34m[08/30/2023 11:08:53 INFO 140026071775040] #progress_metric: host=algo-1, completed 34.0 % of epochs\u001b[0m\n",
      "\u001b[34m#metrics {\"StartTime\": 1693393729.9792206, \"EndTime\": 1693393733.1026344, \"Dimensions\": {\"Algorithm\": \"factorization-machines\", \"Host\": \"algo-1\", \"Operation\": \"training\", \"epoch\": 33, \"Meta\": \"training_data_iter\"}, \"Metrics\": {\"Total Records Seen\": {\"sum\": 8116266.0, \"count\": 1, \"min\": 8116266, \"max\": 8116266}, \"Total Batches Seen\": {\"sum\": 16253.0, \"count\": 1, \"min\": 16253, \"max\": 16253}, \"Max Records Seen Between Resets\": {\"sum\": 238699.0, \"count\": 1, \"min\": 238699, \"max\": 238699}, \"Max Batches Seen Between Resets\": {\"sum\": 478.0, \"count\": 1, \"min\": 478, \"max\": 478}, \"Reset Count\": {\"sum\": 35.0, \"count\": 1, \"min\": 35, \"max\": 35}, \"Number of Records Since Last Reset\": {\"sum\": 238699.0, \"count\": 1, \"min\": 238699, \"max\": 238699}, \"Number of Batches Since Last Reset\": {\"sum\": 478.0, \"count\": 1, \"min\": 478, \"max\": 478}}}\u001b[0m\n",
      "\u001b[34m[08/30/2023 11:08:53 INFO 140026071775040] #throughput_metric: host=algo-1, train throughput=76418.96500184565 records/second\u001b[0m\n",
      "\u001b[34m[08/30/2023 11:08:53 INFO 140026071775040] #quality_metric: host=algo-1, epoch=34, batch=0 train binary_classification_accuracy <score>=0.846\u001b[0m\n",
      "\u001b[34m[08/30/2023 11:08:53 INFO 140026071775040] #quality_metric: host=algo-1, epoch=34, batch=0 train binary_classification_cross_entropy <loss>=0.3699018859863281\u001b[0m\n",
      "\u001b[34m[08/30/2023 11:08:53 INFO 140026071775040] #quality_metric: host=algo-1, epoch=34, batch=0 train binary_f_1.000 <score>=0.9165763813651138\u001b[0m\n",
      "\u001b[34m[2023-08-30 11:08:56.296] [tensorio] [info] epoch_stats={\"data_pipeline\": \"/opt/ml/input/data/train\", \"epoch\": 70, \"duration\": 3186, \"num_examples\": 478, \"num_bytes\": 16157236}\u001b[0m\n",
      "\u001b[34m[08/30/2023 11:08:56 INFO 140026071775040] #quality_metric: host=algo-1, epoch=34, train binary_classification_accuracy <score>=0.819397489539749\u001b[0m\n",
      "\u001b[34m[08/30/2023 11:08:56 INFO 140026071775040] #quality_metric: host=algo-1, epoch=34, train binary_classification_cross_entropy <loss>=0.38997260383382504\u001b[0m\n",
      "\u001b[34m[08/30/2023 11:08:56 INFO 140026071775040] #quality_metric: host=algo-1, epoch=34, train binary_f_1.000 <score>=0.9007345331781783\u001b[0m\n",
      "\u001b[34m#metrics {\"StartTime\": 1693393733.1024706, \"EndTime\": 1693393736.2975523, \"Dimensions\": {\"Algorithm\": \"factorization-machines\", \"Host\": \"algo-1\", \"Operation\": \"training\"}, \"Metrics\": {\"update.time\": {\"sum\": 3193.5269832611084, \"count\": 1, \"min\": 3193.5269832611084, \"max\": 3193.5269832611084}}}\u001b[0m\n",
      "\u001b[34m[08/30/2023 11:08:56 INFO 140026071775040] #progress_metric: host=algo-1, completed 35.0 % of epochs\u001b[0m\n",
      "\u001b[34m#metrics {\"StartTime\": 1693393733.1039917, \"EndTime\": 1693393736.297856, \"Dimensions\": {\"Algorithm\": \"factorization-machines\", \"Host\": \"algo-1\", \"Operation\": \"training\", \"epoch\": 34, \"Meta\": \"training_data_iter\"}, \"Metrics\": {\"Total Records Seen\": {\"sum\": 8354965.0, \"count\": 1, \"min\": 8354965, \"max\": 8354965}, \"Total Batches Seen\": {\"sum\": 16731.0, \"count\": 1, \"min\": 16731, \"max\": 16731}, \"Max Records Seen Between Resets\": {\"sum\": 238699.0, \"count\": 1, \"min\": 238699, \"max\": 238699}, \"Max Batches Seen Between Resets\": {\"sum\": 478.0, \"count\": 1, \"min\": 478, \"max\": 478}, \"Reset Count\": {\"sum\": 36.0, \"count\": 1, \"min\": 36, \"max\": 36}, \"Number of Records Since Last Reset\": {\"sum\": 238699.0, \"count\": 1, \"min\": 238699, \"max\": 238699}, \"Number of Batches Since Last Reset\": {\"sum\": 478.0, \"count\": 1, \"min\": 478, \"max\": 478}}}\u001b[0m\n",
      "\u001b[34m[08/30/2023 11:08:56 INFO 140026071775040] #throughput_metric: host=algo-1, train throughput=74733.38428362517 records/second\u001b[0m\n",
      "\u001b[34m[08/30/2023 11:08:56 INFO 140026071775040] #quality_metric: host=algo-1, epoch=35, batch=0 train binary_classification_accuracy <score>=0.846\u001b[0m\n",
      "\u001b[34m[08/30/2023 11:08:56 INFO 140026071775040] #quality_metric: host=algo-1, epoch=35, batch=0 train binary_classification_cross_entropy <loss>=0.3679678649902344\u001b[0m\n",
      "\u001b[34m[08/30/2023 11:08:56 INFO 140026071775040] #quality_metric: host=algo-1, epoch=35, batch=0 train binary_f_1.000 <score>=0.9165763813651138\u001b[0m\n",
      "\u001b[34m[2023-08-30 11:08:59.458] [tensorio] [info] epoch_stats={\"data_pipeline\": \"/opt/ml/input/data/train\", \"epoch\": 72, \"duration\": 3153, \"num_examples\": 478, \"num_bytes\": 16157236}\u001b[0m\n",
      "\u001b[34m[08/30/2023 11:08:59 INFO 140026071775040] #quality_metric: host=algo-1, epoch=35, train binary_classification_accuracy <score>=0.819397489539749\u001b[0m\n",
      "\u001b[34m[08/30/2023 11:08:59 INFO 140026071775040] #quality_metric: host=algo-1, epoch=35, train binary_classification_cross_entropy <loss>=0.38792293966764185\u001b[0m\n",
      "\u001b[34m[08/30/2023 11:08:59 INFO 140026071775040] #quality_metric: host=algo-1, epoch=35, train binary_f_1.000 <score>=0.9007345331781783\u001b[0m\n",
      "\u001b[34m#metrics {\"StartTime\": 1693393736.2976434, \"EndTime\": 1693393739.459004, \"Dimensions\": {\"Algorithm\": \"factorization-machines\", \"Host\": \"algo-1\", \"Operation\": \"training\"}, \"Metrics\": {\"update.time\": {\"sum\": 3159.799337387085, \"count\": 1, \"min\": 3159.799337387085, \"max\": 3159.799337387085}}}\u001b[0m\n",
      "\u001b[34m[08/30/2023 11:08:59 INFO 140026071775040] #progress_metric: host=algo-1, completed 36.0 % of epochs\u001b[0m\n",
      "\u001b[34m#metrics {\"StartTime\": 1693393736.299172, \"EndTime\": 1693393739.459319, \"Dimensions\": {\"Algorithm\": \"factorization-machines\", \"Host\": \"algo-1\", \"Operation\": \"training\", \"epoch\": 35, \"Meta\": \"training_data_iter\"}, \"Metrics\": {\"Total Records Seen\": {\"sum\": 8593664.0, \"count\": 1, \"min\": 8593664, \"max\": 8593664}, \"Total Batches Seen\": {\"sum\": 17209.0, \"count\": 1, \"min\": 17209, \"max\": 17209}, \"Max Records Seen Between Resets\": {\"sum\": 238699.0, \"count\": 1, \"min\": 238699, \"max\": 238699}, \"Max Batches Seen Between Resets\": {\"sum\": 478.0, \"count\": 1, \"min\": 478, \"max\": 478}, \"Reset Count\": {\"sum\": 37.0, \"count\": 1, \"min\": 37, \"max\": 37}, \"Number of Records Since Last Reset\": {\"sum\": 238699.0, \"count\": 1, \"min\": 238699, \"max\": 238699}, \"Number of Batches Since Last Reset\": {\"sum\": 478.0, \"count\": 1, \"min\": 478, \"max\": 478}}}\u001b[0m\n",
      "\u001b[34m[08/30/2023 11:08:59 INFO 140026071775040] #throughput_metric: host=algo-1, train throughput=75530.05986088318 records/second\u001b[0m\n",
      "\u001b[34m[08/30/2023 11:08:59 INFO 140026071775040] #quality_metric: host=algo-1, epoch=36, batch=0 train binary_classification_accuracy <score>=0.846\u001b[0m\n",
      "\u001b[34m[08/30/2023 11:08:59 INFO 140026071775040] #quality_metric: host=algo-1, epoch=36, batch=0 train binary_classification_cross_entropy <loss>=0.3660553894042969\u001b[0m\n",
      "\u001b[34m[08/30/2023 11:08:59 INFO 140026071775040] #quality_metric: host=algo-1, epoch=36, batch=0 train binary_f_1.000 <score>=0.9165763813651138\u001b[0m\n",
      "\u001b[34m[2023-08-30 11:09:02.787] [tensorio] [info] epoch_stats={\"data_pipeline\": \"/opt/ml/input/data/train\", \"epoch\": 74, \"duration\": 3320, \"num_examples\": 478, \"num_bytes\": 16157236}\u001b[0m\n",
      "\u001b[34m[08/30/2023 11:09:02 INFO 140026071775040] #quality_metric: host=algo-1, epoch=36, train binary_classification_accuracy <score>=0.819397489539749\u001b[0m\n",
      "\u001b[34m[08/30/2023 11:09:02 INFO 140026071775040] #quality_metric: host=algo-1, epoch=36, train binary_classification_cross_entropy <loss>=0.38590039905244833\u001b[0m\n",
      "\u001b[34m[08/30/2023 11:09:02 INFO 140026071775040] #quality_metric: host=algo-1, epoch=36, train binary_f_1.000 <score>=0.9007345331781783\u001b[0m\n",
      "\u001b[34m#metrics {\"StartTime\": 1693393739.4591126, \"EndTime\": 1693393742.78844, \"Dimensions\": {\"Algorithm\": \"factorization-machines\", \"Host\": \"algo-1\", \"Operation\": \"training\"}, \"Metrics\": {\"update.time\": {\"sum\": 3327.7428150177, \"count\": 1, \"min\": 3327.7428150177, \"max\": 3327.7428150177}}}\u001b[0m\n",
      "\u001b[34m[08/30/2023 11:09:02 INFO 140026071775040] #progress_metric: host=algo-1, completed 37.0 % of epochs\u001b[0m\n",
      "\u001b[34m#metrics {\"StartTime\": 1693393739.4606674, \"EndTime\": 1693393742.7887745, \"Dimensions\": {\"Algorithm\": \"factorization-machines\", \"Host\": \"algo-1\", \"Operation\": \"training\", \"epoch\": 36, \"Meta\": \"training_data_iter\"}, \"Metrics\": {\"Total Records Seen\": {\"sum\": 8832363.0, \"count\": 1, \"min\": 8832363, \"max\": 8832363}, \"Total Batches Seen\": {\"sum\": 17687.0, \"count\": 1, \"min\": 17687, \"max\": 17687}, \"Max Records Seen Between Resets\": {\"sum\": 238699.0, \"count\": 1, \"min\": 238699, \"max\": 238699}, \"Max Batches Seen Between Resets\": {\"sum\": 478.0, \"count\": 1, \"min\": 478, \"max\": 478}, \"Reset Count\": {\"sum\": 38.0, \"count\": 1, \"min\": 38, \"max\": 38}, \"Number of Records Since Last Reset\": {\"sum\": 238699.0, \"count\": 1, \"min\": 238699, \"max\": 238699}, \"Number of Batches Since Last Reset\": {\"sum\": 478.0, \"count\": 1, \"min\": 478, \"max\": 478}}}\u001b[0m\n",
      "\u001b[34m[08/30/2023 11:09:02 INFO 140026071775040] #throughput_metric: host=algo-1, train throughput=71718.46683414746 records/second\u001b[0m\n",
      "\u001b[34m[08/30/2023 11:09:02 INFO 140026071775040] #quality_metric: host=algo-1, epoch=37, batch=0 train binary_classification_accuracy <score>=0.846\u001b[0m\n",
      "\u001b[34m[08/30/2023 11:09:02 INFO 140026071775040] #quality_metric: host=algo-1, epoch=37, batch=0 train binary_classification_cross_entropy <loss>=0.36416412353515626\u001b[0m\n",
      "\u001b[34m[08/30/2023 11:09:02 INFO 140026071775040] #quality_metric: host=algo-1, epoch=37, batch=0 train binary_f_1.000 <score>=0.9165763813651138\u001b[0m\n",
      "\u001b[34m[2023-08-30 11:09:06.394] [tensorio] [info] epoch_stats={\"data_pipeline\": \"/opt/ml/input/data/train\", \"epoch\": 76, \"duration\": 3595, \"num_examples\": 478, \"num_bytes\": 16157236}\u001b[0m\n",
      "\u001b[34m[08/30/2023 11:09:06 INFO 140026071775040] #quality_metric: host=algo-1, epoch=37, train binary_classification_accuracy <score>=0.819397489539749\u001b[0m\n",
      "\u001b[34m[08/30/2023 11:09:06 INFO 140026071775040] #quality_metric: host=algo-1, epoch=37, train binary_classification_cross_entropy <loss>=0.38390425269474043\u001b[0m\n",
      "\u001b[34m[08/30/2023 11:09:06 INFO 140026071775040] #quality_metric: host=algo-1, epoch=37, train binary_f_1.000 <score>=0.9007345331781783\u001b[0m\n",
      "\u001b[34m#metrics {\"StartTime\": 1693393742.7885365, \"EndTime\": 1693393746.3952658, \"Dimensions\": {\"Algorithm\": \"factorization-machines\", \"Host\": \"algo-1\", \"Operation\": \"training\"}, \"Metrics\": {\"update.time\": {\"sum\": 3604.4538021087646, \"count\": 1, \"min\": 3604.4538021087646, \"max\": 3604.4538021087646}}}\u001b[0m\n",
      "\u001b[34m[08/30/2023 11:09:06 INFO 140026071775040] #progress_metric: host=algo-1, completed 38.0 % of epochs\u001b[0m\n",
      "\u001b[34m#metrics {\"StartTime\": 1693393742.790781, \"EndTime\": 1693393746.3957798, \"Dimensions\": {\"Algorithm\": \"factorization-machines\", \"Host\": \"algo-1\", \"Operation\": \"training\", \"epoch\": 37, \"Meta\": \"training_data_iter\"}, \"Metrics\": {\"Total Records Seen\": {\"sum\": 9071062.0, \"count\": 1, \"min\": 9071062, \"max\": 9071062}, \"Total Batches Seen\": {\"sum\": 18165.0, \"count\": 1, \"min\": 18165, \"max\": 18165}, \"Max Records Seen Between Resets\": {\"sum\": 238699.0, \"count\": 1, \"min\": 238699, \"max\": 238699}, \"Max Batches Seen Between Resets\": {\"sum\": 478.0, \"count\": 1, \"min\": 478, \"max\": 478}, \"Reset Count\": {\"sum\": 39.0, \"count\": 1, \"min\": 39, \"max\": 39}, \"Number of Records Since Last Reset\": {\"sum\": 238699.0, \"count\": 1, \"min\": 238699, \"max\": 238699}, \"Number of Batches Since Last Reset\": {\"sum\": 478.0, \"count\": 1, \"min\": 478, \"max\": 478}}}\u001b[0m\n",
      "\u001b[34m[08/30/2023 11:09:06 INFO 140026071775040] #throughput_metric: host=algo-1, train throughput=66210.54704466567 records/second\u001b[0m\n",
      "\u001b[34m[08/30/2023 11:09:06 INFO 140026071775040] #quality_metric: host=algo-1, epoch=38, batch=0 train binary_classification_accuracy <score>=0.846\u001b[0m\n",
      "\u001b[34m[08/30/2023 11:09:06 INFO 140026071775040] #quality_metric: host=algo-1, epoch=38, batch=0 train binary_classification_cross_entropy <loss>=0.3622935791015625\u001b[0m\n",
      "\u001b[34m[08/30/2023 11:09:06 INFO 140026071775040] #quality_metric: host=algo-1, epoch=38, batch=0 train binary_f_1.000 <score>=0.9165763813651138\u001b[0m\n",
      "\u001b[34m[2023-08-30 11:09:09.530] [tensorio] [info] epoch_stats={\"data_pipeline\": \"/opt/ml/input/data/train\", \"epoch\": 78, \"duration\": 3127, \"num_examples\": 478, \"num_bytes\": 16157236}\u001b[0m\n",
      "\u001b[34m[08/30/2023 11:09:09 INFO 140026071775040] #quality_metric: host=algo-1, epoch=38, train binary_classification_accuracy <score>=0.819397489539749\u001b[0m\n",
      "\u001b[34m[08/30/2023 11:09:09 INFO 140026071775040] #quality_metric: host=algo-1, epoch=38, train binary_classification_cross_entropy <loss>=0.3819337930719224\u001b[0m\n",
      "\u001b[34m[08/30/2023 11:09:09 INFO 140026071775040] #quality_metric: host=algo-1, epoch=38, train binary_f_1.000 <score>=0.9007345331781783\u001b[0m\n",
      "\u001b[34m#metrics {\"StartTime\": 1693393746.3954055, \"EndTime\": 1693393749.5315728, \"Dimensions\": {\"Algorithm\": \"factorization-machines\", \"Host\": \"algo-1\", \"Operation\": \"training\"}, \"Metrics\": {\"update.time\": {\"sum\": 3134.622812271118, \"count\": 1, \"min\": 3134.622812271118, \"max\": 3134.622812271118}}}\u001b[0m\n",
      "\u001b[34m[08/30/2023 11:09:09 INFO 140026071775040] #progress_metric: host=algo-1, completed 39.0 % of epochs\u001b[0m\n",
      "\u001b[34m#metrics {\"StartTime\": 1693393746.396916, \"EndTime\": 1693393749.531891, \"Dimensions\": {\"Algorithm\": \"factorization-machines\", \"Host\": \"algo-1\", \"Operation\": \"training\", \"epoch\": 38, \"Meta\": \"training_data_iter\"}, \"Metrics\": {\"Total Records Seen\": {\"sum\": 9309761.0, \"count\": 1, \"min\": 9309761, \"max\": 9309761}, \"Total Batches Seen\": {\"sum\": 18643.0, \"count\": 1, \"min\": 18643, \"max\": 18643}, \"Max Records Seen Between Resets\": {\"sum\": 238699.0, \"count\": 1, \"min\": 238699, \"max\": 238699}, \"Max Batches Seen Between Resets\": {\"sum\": 478.0, \"count\": 1, \"min\": 478, \"max\": 478}, \"Reset Count\": {\"sum\": 40.0, \"count\": 1, \"min\": 40, \"max\": 40}, \"Number of Records Since Last Reset\": {\"sum\": 238699.0, \"count\": 1, \"min\": 238699, \"max\": 238699}, \"Number of Batches Since Last Reset\": {\"sum\": 478.0, \"count\": 1, \"min\": 478, \"max\": 478}}}\u001b[0m\n",
      "\u001b[34m[08/30/2023 11:09:09 INFO 140026071775040] #throughput_metric: host=algo-1, train throughput=76136.84170110726 records/second\u001b[0m\n",
      "\u001b[34m[08/30/2023 11:09:09 INFO 140026071775040] #quality_metric: host=algo-1, epoch=39, batch=0 train binary_classification_accuracy <score>=0.846\u001b[0m\n",
      "\u001b[34m[08/30/2023 11:09:09 INFO 140026071775040] #quality_metric: host=algo-1, epoch=39, batch=0 train binary_classification_cross_entropy <loss>=0.36044332885742186\u001b[0m\n",
      "\u001b[34m[08/30/2023 11:09:09 INFO 140026071775040] #quality_metric: host=algo-1, epoch=39, batch=0 train binary_f_1.000 <score>=0.9165763813651138\u001b[0m\n"
     ]
    },
    {
     "name": "stdout",
     "output_type": "stream",
     "text": [
      "\u001b[34m[2023-08-30 11:09:12.680] [tensorio] [info] epoch_stats={\"data_pipeline\": \"/opt/ml/input/data/train\", \"epoch\": 80, \"duration\": 3141, \"num_examples\": 478, \"num_bytes\": 16157236}\u001b[0m\n",
      "\u001b[34m[08/30/2023 11:09:12 INFO 140026071775040] #quality_metric: host=algo-1, epoch=39, train binary_classification_accuracy <score>=0.819397489539749\u001b[0m\n",
      "\u001b[34m[08/30/2023 11:09:12 INFO 140026071775040] #quality_metric: host=algo-1, epoch=39, train binary_classification_cross_entropy <loss>=0.379988334719606\u001b[0m\n",
      "\u001b[34m[08/30/2023 11:09:12 INFO 140026071775040] #quality_metric: host=algo-1, epoch=39, train binary_f_1.000 <score>=0.9007345331781783\u001b[0m\n",
      "\u001b[34m#metrics {\"StartTime\": 1693393749.5316727, \"EndTime\": 1693393752.6809046, \"Dimensions\": {\"Algorithm\": \"factorization-machines\", \"Host\": \"algo-1\", \"Operation\": \"training\"}, \"Metrics\": {\"update.time\": {\"sum\": 3147.6590633392334, \"count\": 1, \"min\": 3147.6590633392334, \"max\": 3147.6590633392334}}}\u001b[0m\n",
      "\u001b[34m[08/30/2023 11:09:12 INFO 140026071775040] #progress_metric: host=algo-1, completed 40.0 % of epochs\u001b[0m\n",
      "\u001b[34m#metrics {\"StartTime\": 1693393749.533217, \"EndTime\": 1693393752.6811993, \"Dimensions\": {\"Algorithm\": \"factorization-machines\", \"Host\": \"algo-1\", \"Operation\": \"training\", \"epoch\": 39, \"Meta\": \"training_data_iter\"}, \"Metrics\": {\"Total Records Seen\": {\"sum\": 9548460.0, \"count\": 1, \"min\": 9548460, \"max\": 9548460}, \"Total Batches Seen\": {\"sum\": 19121.0, \"count\": 1, \"min\": 19121, \"max\": 19121}, \"Max Records Seen Between Resets\": {\"sum\": 238699.0, \"count\": 1, \"min\": 238699, \"max\": 238699}, \"Max Batches Seen Between Resets\": {\"sum\": 478.0, \"count\": 1, \"min\": 478, \"max\": 478}, \"Reset Count\": {\"sum\": 41.0, \"count\": 1, \"min\": 41, \"max\": 41}, \"Number of Records Since Last Reset\": {\"sum\": 238699.0, \"count\": 1, \"min\": 238699, \"max\": 238699}, \"Number of Batches Since Last Reset\": {\"sum\": 478.0, \"count\": 1, \"min\": 478, \"max\": 478}}}\u001b[0m\n",
      "\u001b[34m[08/30/2023 11:09:12 INFO 140026071775040] #throughput_metric: host=algo-1, train throughput=75822.60016334207 records/second\u001b[0m\n",
      "\u001b[34m[08/30/2023 11:09:12 INFO 140026071775040] #quality_metric: host=algo-1, epoch=40, batch=0 train binary_classification_accuracy <score>=0.846\u001b[0m\n",
      "\u001b[34m[08/30/2023 11:09:12 INFO 140026071775040] #quality_metric: host=algo-1, epoch=40, batch=0 train binary_classification_cross_entropy <loss>=0.3586129150390625\u001b[0m\n",
      "\u001b[34m[08/30/2023 11:09:12 INFO 140026071775040] #quality_metric: host=algo-1, epoch=40, batch=0 train binary_f_1.000 <score>=0.9165763813651138\u001b[0m\n",
      "\u001b[34m[2023-08-30 11:09:15.777] [tensorio] [info] epoch_stats={\"data_pipeline\": \"/opt/ml/input/data/train\", \"epoch\": 82, \"duration\": 3088, \"num_examples\": 478, \"num_bytes\": 16157236}\u001b[0m\n",
      "\u001b[34m[08/30/2023 11:09:15 INFO 140026071775040] #quality_metric: host=algo-1, epoch=40, train binary_classification_accuracy <score>=0.819397489539749\u001b[0m\n",
      "\u001b[34m[08/30/2023 11:09:15 INFO 140026071775040] #quality_metric: host=algo-1, epoch=40, train binary_classification_cross_entropy <loss>=0.3780672127312696\u001b[0m\n",
      "\u001b[34m[08/30/2023 11:09:15 INFO 140026071775040] #quality_metric: host=algo-1, epoch=40, train binary_f_1.000 <score>=0.9007345331781783\u001b[0m\n",
      "\u001b[34m#metrics {\"StartTime\": 1693393752.6809835, \"EndTime\": 1693393755.7786036, \"Dimensions\": {\"Algorithm\": \"factorization-machines\", \"Host\": \"algo-1\", \"Operation\": \"training\"}, \"Metrics\": {\"update.time\": {\"sum\": 3096.05073928833, \"count\": 1, \"min\": 3096.05073928833, \"max\": 3096.05073928833}}}\u001b[0m\n",
      "\u001b[34m[08/30/2023 11:09:15 INFO 140026071775040] #progress_metric: host=algo-1, completed 41.0 % of epochs\u001b[0m\n",
      "\u001b[34m#metrics {\"StartTime\": 1693393752.6825235, \"EndTime\": 1693393755.778888, \"Dimensions\": {\"Algorithm\": \"factorization-machines\", \"Host\": \"algo-1\", \"Operation\": \"training\", \"epoch\": 40, \"Meta\": \"training_data_iter\"}, \"Metrics\": {\"Total Records Seen\": {\"sum\": 9787159.0, \"count\": 1, \"min\": 9787159, \"max\": 9787159}, \"Total Batches Seen\": {\"sum\": 19599.0, \"count\": 1, \"min\": 19599, \"max\": 19599}, \"Max Records Seen Between Resets\": {\"sum\": 238699.0, \"count\": 1, \"min\": 238699, \"max\": 238699}, \"Max Batches Seen Between Resets\": {\"sum\": 478.0, \"count\": 1, \"min\": 478, \"max\": 478}, \"Reset Count\": {\"sum\": 42.0, \"count\": 1, \"min\": 42, \"max\": 42}, \"Number of Records Since Last Reset\": {\"sum\": 238699.0, \"count\": 1, \"min\": 238699, \"max\": 238699}, \"Number of Batches Since Last Reset\": {\"sum\": 478.0, \"count\": 1, \"min\": 478, \"max\": 478}}}\u001b[0m\n",
      "\u001b[34m[08/30/2023 11:09:15 INFO 140026071775040] #throughput_metric: host=algo-1, train throughput=77086.61189547417 records/second\u001b[0m\n",
      "\u001b[34m[08/30/2023 11:09:15 INFO 140026071775040] #quality_metric: host=algo-1, epoch=41, batch=0 train binary_classification_accuracy <score>=0.846\u001b[0m\n",
      "\u001b[34m[08/30/2023 11:09:15 INFO 140026071775040] #quality_metric: host=algo-1, epoch=41, batch=0 train binary_classification_cross_entropy <loss>=0.35680194091796874\u001b[0m\n",
      "\u001b[34m[08/30/2023 11:09:15 INFO 140026071775040] #quality_metric: host=algo-1, epoch=41, batch=0 train binary_f_1.000 <score>=0.9165763813651138\u001b[0m\n",
      "\u001b[34m[2023-08-30 11:09:18.942] [tensorio] [info] epoch_stats={\"data_pipeline\": \"/opt/ml/input/data/train\", \"epoch\": 84, \"duration\": 3155, \"num_examples\": 478, \"num_bytes\": 16157236}\u001b[0m\n",
      "\u001b[34m[08/30/2023 11:09:18 INFO 140026071775040] #quality_metric: host=algo-1, epoch=41, train binary_classification_accuracy <score>=0.819397489539749\u001b[0m\n",
      "\u001b[34m[08/30/2023 11:09:18 INFO 140026071775040] #quality_metric: host=algo-1, epoch=41, train binary_classification_cross_entropy <loss>=0.37616978001295276\u001b[0m\n",
      "\u001b[34m[08/30/2023 11:09:18 INFO 140026071775040] #quality_metric: host=algo-1, epoch=41, train binary_f_1.000 <score>=0.9007345331781783\u001b[0m\n",
      "\u001b[34m#metrics {\"StartTime\": 1693393755.778684, \"EndTime\": 1693393758.943172, \"Dimensions\": {\"Algorithm\": \"factorization-machines\", \"Host\": \"algo-1\", \"Operation\": \"training\"}, \"Metrics\": {\"update.time\": {\"sum\": 3162.980318069458, \"count\": 1, \"min\": 3162.980318069458, \"max\": 3162.980318069458}}}\u001b[0m\n",
      "\u001b[34m[08/30/2023 11:09:18 INFO 140026071775040] #progress_metric: host=algo-1, completed 42.0 % of epochs\u001b[0m\n",
      "\u001b[34m#metrics {\"StartTime\": 1693393755.780163, \"EndTime\": 1693393758.9434214, \"Dimensions\": {\"Algorithm\": \"factorization-machines\", \"Host\": \"algo-1\", \"Operation\": \"training\", \"epoch\": 41, \"Meta\": \"training_data_iter\"}, \"Metrics\": {\"Total Records Seen\": {\"sum\": 10025858.0, \"count\": 1, \"min\": 10025858, \"max\": 10025858}, \"Total Batches Seen\": {\"sum\": 20077.0, \"count\": 1, \"min\": 20077, \"max\": 20077}, \"Max Records Seen Between Resets\": {\"sum\": 238699.0, \"count\": 1, \"min\": 238699, \"max\": 238699}, \"Max Batches Seen Between Resets\": {\"sum\": 478.0, \"count\": 1, \"min\": 478, \"max\": 478}, \"Reset Count\": {\"sum\": 43.0, \"count\": 1, \"min\": 43, \"max\": 43}, \"Number of Records Since Last Reset\": {\"sum\": 238699.0, \"count\": 1, \"min\": 238699, \"max\": 238699}, \"Number of Batches Since Last Reset\": {\"sum\": 478.0, \"count\": 1, \"min\": 478, \"max\": 478}}}\u001b[0m\n",
      "\u001b[34m[08/30/2023 11:09:18 INFO 140026071775040] #throughput_metric: host=algo-1, train throughput=75455.22132458116 records/second\u001b[0m\n",
      "\u001b[34m[08/30/2023 11:09:19 INFO 140026071775040] #quality_metric: host=algo-1, epoch=42, batch=0 train binary_classification_accuracy <score>=0.846\u001b[0m\n",
      "\u001b[34m[08/30/2023 11:09:19 INFO 140026071775040] #quality_metric: host=algo-1, epoch=42, batch=0 train binary_classification_cross_entropy <loss>=0.355010009765625\u001b[0m\n",
      "\u001b[34m[08/30/2023 11:09:19 INFO 140026071775040] #quality_metric: host=algo-1, epoch=42, batch=0 train binary_f_1.000 <score>=0.9165763813651138\u001b[0m\n",
      "\u001b[34m[2023-08-30 11:09:22.105] [tensorio] [info] epoch_stats={\"data_pipeline\": \"/opt/ml/input/data/train\", \"epoch\": 86, \"duration\": 3155, \"num_examples\": 478, \"num_bytes\": 16157236}\u001b[0m\n",
      "\u001b[34m[08/30/2023 11:09:22 INFO 140026071775040] #quality_metric: host=algo-1, epoch=42, train binary_classification_accuracy <score>=0.8194100418410042\u001b[0m\n",
      "\u001b[34m[08/30/2023 11:09:22 INFO 140026071775040] #quality_metric: host=algo-1, epoch=42, train binary_classification_cross_entropy <loss>=0.37429541223118995\u001b[0m\n",
      "\u001b[34m[08/30/2023 11:09:22 INFO 140026071775040] #quality_metric: host=algo-1, epoch=42, train binary_f_1.000 <score>=0.9007407475547972\u001b[0m\n",
      "\u001b[34m#metrics {\"StartTime\": 1693393758.9432573, \"EndTime\": 1693393762.106712, \"Dimensions\": {\"Algorithm\": \"factorization-machines\", \"Host\": \"algo-1\", \"Operation\": \"training\"}, \"Metrics\": {\"update.time\": {\"sum\": 3161.8752479553223, \"count\": 1, \"min\": 3161.8752479553223, \"max\": 3161.8752479553223}}}\u001b[0m\n",
      "\u001b[34m[08/30/2023 11:09:22 INFO 140026071775040] #progress_metric: host=algo-1, completed 43.0 % of epochs\u001b[0m\n",
      "\u001b[34m#metrics {\"StartTime\": 1693393758.9448006, \"EndTime\": 1693393762.1070228, \"Dimensions\": {\"Algorithm\": \"factorization-machines\", \"Host\": \"algo-1\", \"Operation\": \"training\", \"epoch\": 42, \"Meta\": \"training_data_iter\"}, \"Metrics\": {\"Total Records Seen\": {\"sum\": 10264557.0, \"count\": 1, \"min\": 10264557, \"max\": 10264557}, \"Total Batches Seen\": {\"sum\": 20555.0, \"count\": 1, \"min\": 20555, \"max\": 20555}, \"Max Records Seen Between Resets\": {\"sum\": 238699.0, \"count\": 1, \"min\": 238699, \"max\": 238699}, \"Max Batches Seen Between Resets\": {\"sum\": 478.0, \"count\": 1, \"min\": 478, \"max\": 478}, \"Reset Count\": {\"sum\": 44.0, \"count\": 1, \"min\": 44, \"max\": 44}, \"Number of Records Since Last Reset\": {\"sum\": 238699.0, \"count\": 1, \"min\": 238699, \"max\": 238699}, \"Number of Batches Since Last Reset\": {\"sum\": 478.0, \"count\": 1, \"min\": 478, \"max\": 478}}}\u001b[0m\n",
      "\u001b[34m[08/30/2023 11:09:22 INFO 140026071775040] #throughput_metric: host=algo-1, train throughput=75481.0425510003 records/second\u001b[0m\n",
      "\u001b[34m[08/30/2023 11:09:22 INFO 140026071775040] #quality_metric: host=algo-1, epoch=43, batch=0 train binary_classification_accuracy <score>=0.846\u001b[0m\n",
      "\u001b[34m[08/30/2023 11:09:22 INFO 140026071775040] #quality_metric: host=algo-1, epoch=43, batch=0 train binary_classification_cross_entropy <loss>=0.3532366943359375\u001b[0m\n",
      "\u001b[34m[08/30/2023 11:09:22 INFO 140026071775040] #quality_metric: host=algo-1, epoch=43, batch=0 train binary_f_1.000 <score>=0.9165763813651138\u001b[0m\n"
     ]
    },
    {
     "name": "stdout",
     "output_type": "stream",
     "text": [
      "\u001b[34m[2023-08-30 11:09:25.279] [tensorio] [info] epoch_stats={\"data_pipeline\": \"/opt/ml/input/data/train\", \"epoch\": 88, \"duration\": 3161, \"num_examples\": 478, \"num_bytes\": 16157236}\u001b[0m\n",
      "\u001b[34m[08/30/2023 11:09:25 INFO 140026071775040] #quality_metric: host=algo-1, epoch=43, train binary_classification_accuracy <score>=0.8194267782426778\u001b[0m\n",
      "\u001b[34m[08/30/2023 11:09:25 INFO 140026071775040] #quality_metric: host=algo-1, epoch=43, train binary_classification_cross_entropy <loss>=0.37244350701495693\u001b[0m\n",
      "\u001b[34m[08/30/2023 11:09:25 INFO 140026071775040] #quality_metric: host=algo-1, epoch=43, train binary_f_1.000 <score>=0.9007490335236772\u001b[0m\n",
      "\u001b[34m#metrics {\"StartTime\": 1693393762.1068163, \"EndTime\": 1693393765.2805686, \"Dimensions\": {\"Algorithm\": \"factorization-machines\", \"Host\": \"algo-1\", \"Operation\": \"training\"}, \"Metrics\": {\"update.time\": {\"sum\": 3172.1646785736084, \"count\": 1, \"min\": 3172.1646785736084, \"max\": 3172.1646785736084}}}\u001b[0m\n",
      "\u001b[34m[08/30/2023 11:09:25 INFO 140026071775040] #progress_metric: host=algo-1, completed 44.0 % of epochs\u001b[0m\n",
      "\u001b[34m#metrics {\"StartTime\": 1693393762.1083713, \"EndTime\": 1693393765.280916, \"Dimensions\": {\"Algorithm\": \"factorization-machines\", \"Host\": \"algo-1\", \"Operation\": \"training\", \"epoch\": 43, \"Meta\": \"training_data_iter\"}, \"Metrics\": {\"Total Records Seen\": {\"sum\": 10503256.0, \"count\": 1, \"min\": 10503256, \"max\": 10503256}, \"Total Batches Seen\": {\"sum\": 21033.0, \"count\": 1, \"min\": 21033, \"max\": 21033}, \"Max Records Seen Between Resets\": {\"sum\": 238699.0, \"count\": 1, \"min\": 238699, \"max\": 238699}, \"Max Batches Seen Between Resets\": {\"sum\": 478.0, \"count\": 1, \"min\": 478, \"max\": 478}, \"Reset Count\": {\"sum\": 45.0, \"count\": 1, \"min\": 45, \"max\": 45}, \"Number of Records Since Last Reset\": {\"sum\": 238699.0, \"count\": 1, \"min\": 238699, \"max\": 238699}, \"Number of Batches Since Last Reset\": {\"sum\": 478.0, \"count\": 1, \"min\": 478, \"max\": 478}}}\u001b[0m\n",
      "\u001b[34m[08/30/2023 11:09:25 INFO 140026071775040] #throughput_metric: host=algo-1, train throughput=75235.67470963088 records/second\u001b[0m\n",
      "\u001b[34m[08/30/2023 11:09:25 INFO 140026071775040] #quality_metric: host=algo-1, epoch=44, batch=0 train binary_classification_accuracy <score>=0.846\u001b[0m\n",
      "\u001b[34m[08/30/2023 11:09:25 INFO 140026071775040] #quality_metric: host=algo-1, epoch=44, batch=0 train binary_classification_cross_entropy <loss>=0.35148162841796876\u001b[0m\n",
      "\u001b[34m[08/30/2023 11:09:25 INFO 140026071775040] #quality_metric: host=algo-1, epoch=44, batch=0 train binary_f_1.000 <score>=0.9165763813651138\u001b[0m\n",
      "\u001b[34m[2023-08-30 11:09:28.443] [tensorio] [info] epoch_stats={\"data_pipeline\": \"/opt/ml/input/data/train\", \"epoch\": 90, \"duration\": 3154, \"num_examples\": 478, \"num_bytes\": 16157236}\u001b[0m\n",
      "\u001b[34m[08/30/2023 11:09:28 INFO 140026071775040] #quality_metric: host=algo-1, epoch=44, train binary_classification_accuracy <score>=0.8194351464435147\u001b[0m\n",
      "\u001b[34m[08/30/2023 11:09:28 INFO 140026071775040] #quality_metric: host=algo-1, epoch=44, train binary_classification_cross_entropy <loss>=0.37061348095498825\u001b[0m\n",
      "\u001b[34m[08/30/2023 11:09:28 INFO 140026071775040] #quality_metric: host=algo-1, epoch=44, train binary_f_1.000 <score>=0.9007531765652849\u001b[0m\n",
      "\u001b[34m#metrics {\"StartTime\": 1693393765.2806704, \"EndTime\": 1693393768.4442985, \"Dimensions\": {\"Algorithm\": \"factorization-machines\", \"Host\": \"algo-1\", \"Operation\": \"training\"}, \"Metrics\": {\"update.time\": {\"sum\": 3162.0829105377197, \"count\": 1, \"min\": 3162.0829105377197, \"max\": 3162.0829105377197}}}\u001b[0m\n",
      "\u001b[34m[08/30/2023 11:09:28 INFO 140026071775040] #progress_metric: host=algo-1, completed 45.0 % of epochs\u001b[0m\n",
      "\u001b[34m#metrics {\"StartTime\": 1693393765.2821836, \"EndTime\": 1693393768.4445798, \"Dimensions\": {\"Algorithm\": \"factorization-machines\", \"Host\": \"algo-1\", \"Operation\": \"training\", \"epoch\": 44, \"Meta\": \"training_data_iter\"}, \"Metrics\": {\"Total Records Seen\": {\"sum\": 10741955.0, \"count\": 1, \"min\": 10741955, \"max\": 10741955}, \"Total Batches Seen\": {\"sum\": 21511.0, \"count\": 1, \"min\": 21511, \"max\": 21511}, \"Max Records Seen Between Resets\": {\"sum\": 238699.0, \"count\": 1, \"min\": 238699, \"max\": 238699}, \"Max Batches Seen Between Resets\": {\"sum\": 478.0, \"count\": 1, \"min\": 478, \"max\": 478}, \"Reset Count\": {\"sum\": 46.0, \"count\": 1, \"min\": 46, \"max\": 46}, \"Number of Records Since Last Reset\": {\"sum\": 238699.0, \"count\": 1, \"min\": 238699, \"max\": 238699}, \"Number of Batches Since Last Reset\": {\"sum\": 478.0, \"count\": 1, \"min\": 478, \"max\": 478}}}\u001b[0m\n",
      "\u001b[34m[08/30/2023 11:09:28 INFO 140026071775040] #throughput_metric: host=algo-1, train throughput=75476.24560036216 records/second\u001b[0m\n",
      "\u001b[34m[08/30/2023 11:09:28 INFO 140026071775040] #quality_metric: host=algo-1, epoch=45, batch=0 train binary_classification_accuracy <score>=0.846\u001b[0m\n",
      "\u001b[34m[08/30/2023 11:09:28 INFO 140026071775040] #quality_metric: host=algo-1, epoch=45, batch=0 train binary_classification_cross_entropy <loss>=0.3497445068359375\u001b[0m\n",
      "\u001b[34m[08/30/2023 11:09:28 INFO 140026071775040] #quality_metric: host=algo-1, epoch=45, batch=0 train binary_f_1.000 <score>=0.9165763813651138\u001b[0m\n",
      "\u001b[34m[2023-08-30 11:09:31.591] [tensorio] [info] epoch_stats={\"data_pipeline\": \"/opt/ml/input/data/train\", \"epoch\": 92, \"duration\": 3138, \"num_examples\": 478, \"num_bytes\": 16157236}\u001b[0m\n",
      "\u001b[34m[08/30/2023 11:09:31 INFO 140026071775040] #quality_metric: host=algo-1, epoch=45, train binary_classification_accuracy <score>=0.8194476987447699\u001b[0m\n",
      "\u001b[34m[08/30/2023 11:09:31 INFO 140026071775040] #quality_metric: host=algo-1, epoch=45, train binary_classification_cross_entropy <loss>=0.3688047667946277\u001b[0m\n",
      "\u001b[34m[08/30/2023 11:09:31 INFO 140026071775040] #quality_metric: host=algo-1, epoch=45, train binary_f_1.000 <score>=0.9007593911991574\u001b[0m\n",
      "\u001b[34m#metrics {\"StartTime\": 1693393768.4443963, \"EndTime\": 1693393771.59248, \"Dimensions\": {\"Algorithm\": \"factorization-machines\", \"Host\": \"algo-1\", \"Operation\": \"training\"}, \"Metrics\": {\"update.time\": {\"sum\": 3146.4905738830566, \"count\": 1, \"min\": 3146.4905738830566, \"max\": 3146.4905738830566}}}\u001b[0m\n",
      "\u001b[34m[08/30/2023 11:09:31 INFO 140026071775040] #progress_metric: host=algo-1, completed 46.0 % of epochs\u001b[0m\n",
      "\u001b[34m#metrics {\"StartTime\": 1693393768.4459653, \"EndTime\": 1693393771.5927584, \"Dimensions\": {\"Algorithm\": \"factorization-machines\", \"Host\": \"algo-1\", \"Operation\": \"training\", \"epoch\": 45, \"Meta\": \"training_data_iter\"}, \"Metrics\": {\"Total Records Seen\": {\"sum\": 10980654.0, \"count\": 1, \"min\": 10980654, \"max\": 10980654}, \"Total Batches Seen\": {\"sum\": 21989.0, \"count\": 1, \"min\": 21989, \"max\": 21989}, \"Max Records Seen Between Resets\": {\"sum\": 238699.0, \"count\": 1, \"min\": 238699, \"max\": 238699}, \"Max Batches Seen Between Resets\": {\"sum\": 478.0, \"count\": 1, \"min\": 478, \"max\": 478}, \"Reset Count\": {\"sum\": 47.0, \"count\": 1, \"min\": 47, \"max\": 47}, \"Number of Records Since Last Reset\": {\"sum\": 238699.0, \"count\": 1, \"min\": 238699, \"max\": 238699}, \"Number of Batches Since Last Reset\": {\"sum\": 478.0, \"count\": 1, \"min\": 478, \"max\": 478}}}\u001b[0m\n",
      "\u001b[34m[08/30/2023 11:09:31 INFO 140026071775040] #throughput_metric: host=algo-1, train throughput=75851.17319041173 records/second\u001b[0m\n",
      "\u001b[34m[08/30/2023 11:09:31 INFO 140026071775040] #quality_metric: host=algo-1, epoch=46, batch=0 train binary_classification_accuracy <score>=0.846\u001b[0m\n",
      "\u001b[34m[08/30/2023 11:09:31 INFO 140026071775040] #quality_metric: host=algo-1, epoch=46, batch=0 train binary_classification_cross_entropy <loss>=0.34802484130859374\u001b[0m\n",
      "\u001b[34m[08/30/2023 11:09:31 INFO 140026071775040] #quality_metric: host=algo-1, epoch=46, batch=0 train binary_f_1.000 <score>=0.9165763813651138\u001b[0m\n",
      "\u001b[34m[2023-08-30 11:09:34.745] [tensorio] [info] epoch_stats={\"data_pipeline\": \"/opt/ml/input/data/train\", \"epoch\": 94, \"duration\": 3145, \"num_examples\": 478, \"num_bytes\": 16157236}\u001b[0m\n",
      "\u001b[34m[08/30/2023 11:09:34 INFO 140026071775040] #quality_metric: host=algo-1, epoch=46, train binary_classification_accuracy <score>=0.8194602510460252\u001b[0m\n",
      "\u001b[34m[08/30/2023 11:09:34 INFO 140026071775040] #quality_metric: host=algo-1, epoch=46, train binary_classification_cross_entropy <loss>=0.36701682204880975\u001b[0m\n",
      "\u001b[34m[08/30/2023 11:09:34 INFO 140026071775040] #quality_metric: host=algo-1, epoch=46, train binary_f_1.000 <score>=0.9007656059187846\u001b[0m\n",
      "\u001b[34m#metrics {\"StartTime\": 1693393771.5925756, \"EndTime\": 1693393774.7465804, \"Dimensions\": {\"Algorithm\": \"factorization-machines\", \"Host\": \"algo-1\", \"Operation\": \"training\"}, \"Metrics\": {\"update.time\": {\"sum\": 3152.583360671997, \"count\": 1, \"min\": 3152.583360671997, \"max\": 3152.583360671997}}}\u001b[0m\n",
      "\u001b[34m[08/30/2023 11:09:34 INFO 140026071775040] #progress_metric: host=algo-1, completed 47.0 % of epochs\u001b[0m\n",
      "\u001b[34m#metrics {\"StartTime\": 1693393771.593968, \"EndTime\": 1693393774.7468834, \"Dimensions\": {\"Algorithm\": \"factorization-machines\", \"Host\": \"algo-1\", \"Operation\": \"training\", \"epoch\": 46, \"Meta\": \"training_data_iter\"}, \"Metrics\": {\"Total Records Seen\": {\"sum\": 11219353.0, \"count\": 1, \"min\": 11219353, \"max\": 11219353}, \"Total Batches Seen\": {\"sum\": 22467.0, \"count\": 1, \"min\": 22467, \"max\": 22467}, \"Max Records Seen Between Resets\": {\"sum\": 238699.0, \"count\": 1, \"min\": 238699, \"max\": 238699}, \"Max Batches Seen Between Resets\": {\"sum\": 478.0, \"count\": 1, \"min\": 478, \"max\": 478}, \"Reset Count\": {\"sum\": 48.0, \"count\": 1, \"min\": 48, \"max\": 48}, \"Number of Records Since Last Reset\": {\"sum\": 238699.0, \"count\": 1, \"min\": 238699, \"max\": 238699}, \"Number of Batches Since Last Reset\": {\"sum\": 478.0, \"count\": 1, \"min\": 478, \"max\": 478}}}\u001b[0m\n",
      "\u001b[34m[08/30/2023 11:09:34 INFO 140026071775040] #throughput_metric: host=algo-1, train throughput=75704.01765581906 records/second\u001b[0m\n",
      "\u001b[34m[08/30/2023 11:09:34 INFO 140026071775040] #quality_metric: host=algo-1, epoch=47, batch=0 train binary_classification_accuracy <score>=0.846\u001b[0m\n",
      "\u001b[34m[08/30/2023 11:09:34 INFO 140026071775040] #quality_metric: host=algo-1, epoch=47, batch=0 train binary_classification_cross_entropy <loss>=0.34632235717773435\u001b[0m\n",
      "\u001b[34m[08/30/2023 11:09:34 INFO 140026071775040] #quality_metric: host=algo-1, epoch=47, batch=0 train binary_f_1.000 <score>=0.9165763813651138\u001b[0m\n",
      "\u001b[34m[2023-08-30 11:09:37.899] [tensorio] [info] epoch_stats={\"data_pipeline\": \"/opt/ml/input/data/train\", \"epoch\": 96, \"duration\": 3141, \"num_examples\": 478, \"num_bytes\": 16157236}\u001b[0m\n",
      "\u001b[34m[08/30/2023 11:09:37 INFO 140026071775040] #quality_metric: host=algo-1, epoch=47, train binary_classification_accuracy <score>=0.8194644351464435\u001b[0m\n",
      "\u001b[34m[08/30/2023 11:09:37 INFO 140026071775040] #quality_metric: host=algo-1, epoch=47, train binary_classification_cross_entropy <loss>=0.36524911687364137\u001b[0m\n",
      "\u001b[34m[08/30/2023 11:09:37 INFO 140026071775040] #quality_metric: host=algo-1, epoch=47, train binary_f_1.000 <score>=0.9007676775110506\u001b[0m\n",
      "\u001b[34m#metrics {\"StartTime\": 1693393774.746674, \"EndTime\": 1693393777.9001548, \"Dimensions\": {\"Algorithm\": \"factorization-machines\", \"Host\": \"algo-1\", \"Operation\": \"training\"}, \"Metrics\": {\"update.time\": {\"sum\": 3151.9205570220947, \"count\": 1, \"min\": 3151.9205570220947, \"max\": 3151.9205570220947}}}\u001b[0m\n",
      "\u001b[34m[08/30/2023 11:09:37 INFO 140026071775040] #progress_metric: host=algo-1, completed 48.0 % of epochs\u001b[0m\n",
      "\u001b[34m#metrics {\"StartTime\": 1693393774.748203, \"EndTime\": 1693393777.9004593, \"Dimensions\": {\"Algorithm\": \"factorization-machines\", \"Host\": \"algo-1\", \"Operation\": \"training\", \"epoch\": 47, \"Meta\": \"training_data_iter\"}, \"Metrics\": {\"Total Records Seen\": {\"sum\": 11458052.0, \"count\": 1, \"min\": 11458052, \"max\": 11458052}, \"Total Batches Seen\": {\"sum\": 22945.0, \"count\": 1, \"min\": 22945, \"max\": 22945}, \"Max Records Seen Between Resets\": {\"sum\": 238699.0, \"count\": 1, \"min\": 238699, \"max\": 238699}, \"Max Batches Seen Between Resets\": {\"sum\": 478.0, \"count\": 1, \"min\": 478, \"max\": 478}, \"Reset Count\": {\"sum\": 49.0, \"count\": 1, \"min\": 49, \"max\": 49}, \"Number of Records Since Last Reset\": {\"sum\": 238699.0, \"count\": 1, \"min\": 238699, \"max\": 238699}, \"Number of Batches Since Last Reset\": {\"sum\": 478.0, \"count\": 1, \"min\": 478, \"max\": 478}}}\u001b[0m\n",
      "\u001b[34m[08/30/2023 11:09:37 INFO 140026071775040] #throughput_metric: host=algo-1, train throughput=75719.59685963421 records/second\u001b[0m\n",
      "\u001b[34m[08/30/2023 11:09:37 INFO 140026071775040] #quality_metric: host=algo-1, epoch=48, batch=0 train binary_classification_accuracy <score>=0.846\u001b[0m\n",
      "\u001b[34m[08/30/2023 11:09:37 INFO 140026071775040] #quality_metric: host=algo-1, epoch=48, batch=0 train binary_classification_cross_entropy <loss>=0.34463671875\u001b[0m\n",
      "\u001b[34m[08/30/2023 11:09:37 INFO 140026071775040] #quality_metric: host=algo-1, epoch=48, batch=0 train binary_f_1.000 <score>=0.9165763813651138\u001b[0m\n",
      "\u001b[34m[2023-08-30 11:09:41.079] [tensorio] [info] epoch_stats={\"data_pipeline\": \"/opt/ml/input/data/train\", \"epoch\": 98, \"duration\": 3109, \"num_examples\": 478, \"num_bytes\": 16157236}\u001b[0m\n",
      "\u001b[34m[08/30/2023 11:09:41 INFO 140026071775040] #quality_metric: host=algo-1, epoch=48, train binary_classification_accuracy <score>=0.8194686192468619\u001b[0m\n",
      "\u001b[34m[08/30/2023 11:09:41 INFO 140026071775040] #quality_metric: host=algo-1, epoch=48, train binary_classification_cross_entropy <loss>=0.3635011466437304\u001b[0m\n",
      "\u001b[34m[08/30/2023 11:09:41 INFO 140026071775040] #quality_metric: host=algo-1, epoch=48, train binary_f_1.000 <score>=0.9007697491128451\u001b[0m\n",
      "\u001b[34m#metrics {\"StartTime\": 1693393777.9002535, \"EndTime\": 1693393781.0804892, \"Dimensions\": {\"Algorithm\": \"factorization-machines\", \"Host\": \"algo-1\", \"Operation\": \"training\"}, \"Metrics\": {\"update.time\": {\"sum\": 3178.755760192871, \"count\": 1, \"min\": 3178.755760192871, \"max\": 3178.755760192871}}}\u001b[0m\n",
      "\u001b[34m[08/30/2023 11:09:41 INFO 140026071775040] #progress_metric: host=algo-1, completed 49.0 % of epochs\u001b[0m\n",
      "\u001b[34m#metrics {\"StartTime\": 1693393777.9016986, \"EndTime\": 1693393781.0808134, \"Dimensions\": {\"Algorithm\": \"factorization-machines\", \"Host\": \"algo-1\", \"Operation\": \"training\", \"epoch\": 48, \"Meta\": \"training_data_iter\"}, \"Metrics\": {\"Total Records Seen\": {\"sum\": 11696751.0, \"count\": 1, \"min\": 11696751, \"max\": 11696751}, \"Total Batches Seen\": {\"sum\": 23423.0, \"count\": 1, \"min\": 23423, \"max\": 23423}, \"Max Records Seen Between Resets\": {\"sum\": 238699.0, \"count\": 1, \"min\": 238699, \"max\": 238699}, \"Max Batches Seen Between Resets\": {\"sum\": 478.0, \"count\": 1, \"min\": 478, \"max\": 478}, \"Reset Count\": {\"sum\": 50.0, \"count\": 1, \"min\": 50, \"max\": 50}, \"Number of Records Since Last Reset\": {\"sum\": 238699.0, \"count\": 1, \"min\": 238699, \"max\": 238699}, \"Number of Batches Since Last Reset\": {\"sum\": 478.0, \"count\": 1, \"min\": 478, \"max\": 478}}}\u001b[0m\n",
      "\u001b[34m[08/30/2023 11:09:41 INFO 140026071775040] #throughput_metric: host=algo-1, train throughput=75079.70625648113 records/second\u001b[0m\n",
      "\u001b[34m[08/30/2023 11:09:41 INFO 140026071775040] #quality_metric: host=algo-1, epoch=49, batch=0 train binary_classification_accuracy <score>=0.846\u001b[0m\n",
      "\u001b[34m[08/30/2023 11:09:41 INFO 140026071775040] #quality_metric: host=algo-1, epoch=49, batch=0 train binary_classification_cross_entropy <loss>=0.34296762084960936\u001b[0m\n",
      "\u001b[34m[08/30/2023 11:09:41 INFO 140026071775040] #quality_metric: host=algo-1, epoch=49, batch=0 train binary_f_1.000 <score>=0.9165763813651138\u001b[0m\n"
     ]
    },
    {
     "name": "stdout",
     "output_type": "stream",
     "text": [
      "\u001b[34m[2023-08-30 11:09:44.209] [tensorio] [info] epoch_stats={\"data_pipeline\": \"/opt/ml/input/data/train\", \"epoch\": 100, \"duration\": 3121, \"num_examples\": 478, \"num_bytes\": 16157236}\u001b[0m\n",
      "\u001b[34m[08/30/2023 11:09:44 INFO 140026071775040] #quality_metric: host=algo-1, epoch=49, train binary_classification_accuracy <score>=0.8194686192468619\u001b[0m\n",
      "\u001b[34m[08/30/2023 11:09:44 INFO 140026071775040] #quality_metric: host=algo-1, epoch=49, train binary_classification_cross_entropy <loss>=0.3617724178425937\u001b[0m\n",
      "\u001b[34m[08/30/2023 11:09:44 INFO 140026071775040] #quality_metric: host=algo-1, epoch=49, train binary_f_1.000 <score>=0.9007697491128451\u001b[0m\n",
      "\u001b[34m#metrics {\"StartTime\": 1693393781.080576, \"EndTime\": 1693393784.2102673, \"Dimensions\": {\"Algorithm\": \"factorization-machines\", \"Host\": \"algo-1\", \"Operation\": \"training\"}, \"Metrics\": {\"update.time\": {\"sum\": 3128.09419631958, \"count\": 1, \"min\": 3128.09419631958, \"max\": 3128.09419631958}}}\u001b[0m\n",
      "\u001b[34m[08/30/2023 11:09:44 INFO 140026071775040] #progress_metric: host=algo-1, completed 50.0 % of epochs\u001b[0m\n",
      "\u001b[34m#metrics {\"StartTime\": 1693393781.082144, \"EndTime\": 1693393784.2105267, \"Dimensions\": {\"Algorithm\": \"factorization-machines\", \"Host\": \"algo-1\", \"Operation\": \"training\", \"epoch\": 49, \"Meta\": \"training_data_iter\"}, \"Metrics\": {\"Total Records Seen\": {\"sum\": 11935450.0, \"count\": 1, \"min\": 11935450, \"max\": 11935450}, \"Total Batches Seen\": {\"sum\": 23901.0, \"count\": 1, \"min\": 23901, \"max\": 23901}, \"Max Records Seen Between Resets\": {\"sum\": 238699.0, \"count\": 1, \"min\": 238699, \"max\": 238699}, \"Max Batches Seen Between Resets\": {\"sum\": 478.0, \"count\": 1, \"min\": 478, \"max\": 478}, \"Reset Count\": {\"sum\": 51.0, \"count\": 1, \"min\": 51, \"max\": 51}, \"Number of Records Since Last Reset\": {\"sum\": 238699.0, \"count\": 1, \"min\": 238699, \"max\": 238699}, \"Number of Batches Since Last Reset\": {\"sum\": 478.0, \"count\": 1, \"min\": 478, \"max\": 478}}}\u001b[0m\n",
      "\u001b[34m[08/30/2023 11:09:44 INFO 140026071775040] #throughput_metric: host=algo-1, train throughput=76296.70296937802 records/second\u001b[0m\n",
      "\u001b[34m[08/30/2023 11:09:44 INFO 140026071775040] #quality_metric: host=algo-1, epoch=50, batch=0 train binary_classification_accuracy <score>=0.846\u001b[0m\n",
      "\u001b[34m[08/30/2023 11:09:44 INFO 140026071775040] #quality_metric: host=algo-1, epoch=50, batch=0 train binary_classification_cross_entropy <loss>=0.34131475830078123\u001b[0m\n",
      "\u001b[34m[08/30/2023 11:09:44 INFO 140026071775040] #quality_metric: host=algo-1, epoch=50, batch=0 train binary_f_1.000 <score>=0.9165763813651138\u001b[0m\n",
      "\u001b[34m[2023-08-30 11:09:47.346] [tensorio] [info] epoch_stats={\"data_pipeline\": \"/opt/ml/input/data/train\", \"epoch\": 102, \"duration\": 3127, \"num_examples\": 478, \"num_bytes\": 16157236}\u001b[0m\n",
      "\u001b[34m[08/30/2023 11:09:47 INFO 140026071775040] #quality_metric: host=algo-1, epoch=50, train binary_classification_accuracy <score>=0.819489539748954\u001b[0m\n",
      "\u001b[34m[08/30/2023 11:09:47 INFO 140026071775040] #quality_metric: host=algo-1, epoch=50, train binary_classification_cross_entropy <loss>=0.36006246178918305\u001b[0m\n",
      "\u001b[34m[08/30/2023 11:09:47 INFO 140026071775040] #quality_metric: host=algo-1, epoch=50, train binary_f_1.000 <score>=0.9007801072647489\u001b[0m\n",
      "\u001b[34m#metrics {\"StartTime\": 1693393784.210362, \"EndTime\": 1693393787.3474982, \"Dimensions\": {\"Algorithm\": \"factorization-machines\", \"Host\": \"algo-1\", \"Operation\": \"training\"}, \"Metrics\": {\"update.time\": {\"sum\": 3135.5230808258057, \"count\": 1, \"min\": 3135.5230808258057, \"max\": 3135.5230808258057}}}\u001b[0m\n",
      "\u001b[34m[08/30/2023 11:09:47 INFO 140026071775040] #progress_metric: host=algo-1, completed 51.0 % of epochs\u001b[0m\n",
      "\u001b[34m#metrics {\"StartTime\": 1693393784.211946, \"EndTime\": 1693393787.3477933, \"Dimensions\": {\"Algorithm\": \"factorization-machines\", \"Host\": \"algo-1\", \"Operation\": \"training\", \"epoch\": 50, \"Meta\": \"training_data_iter\"}, \"Metrics\": {\"Total Records Seen\": {\"sum\": 12174149.0, \"count\": 1, \"min\": 12174149, \"max\": 12174149}, \"Total Batches Seen\": {\"sum\": 24379.0, \"count\": 1, \"min\": 24379, \"max\": 24379}, \"Max Records Seen Between Resets\": {\"sum\": 238699.0, \"count\": 1, \"min\": 238699, \"max\": 238699}, \"Max Batches Seen Between Resets\": {\"sum\": 478.0, \"count\": 1, \"min\": 478, \"max\": 478}, \"Reset Count\": {\"sum\": 52.0, \"count\": 1, \"min\": 52, \"max\": 52}, \"Number of Records Since Last Reset\": {\"sum\": 238699.0, \"count\": 1, \"min\": 238699, \"max\": 238699}, \"Number of Batches Since Last Reset\": {\"sum\": 478.0, \"count\": 1, \"min\": 478, \"max\": 478}}}\u001b[0m\n",
      "\u001b[34m[08/30/2023 11:09:47 INFO 140026071775040] #throughput_metric: host=algo-1, train throughput=76116.03230918138 records/second\u001b[0m\n",
      "\u001b[34m[08/30/2023 11:09:47 INFO 140026071775040] #quality_metric: host=algo-1, epoch=51, batch=0 train binary_classification_accuracy <score>=0.846\u001b[0m\n",
      "\u001b[34m[08/30/2023 11:09:47 INFO 140026071775040] #quality_metric: host=algo-1, epoch=51, batch=0 train binary_classification_cross_entropy <loss>=0.33967791748046877\u001b[0m\n",
      "\u001b[34m[08/30/2023 11:09:47 INFO 140026071775040] #quality_metric: host=algo-1, epoch=51, batch=0 train binary_f_1.000 <score>=0.9165763813651138\u001b[0m\n",
      "\u001b[34m[2023-08-30 11:09:50.433] [tensorio] [info] epoch_stats={\"data_pipeline\": \"/opt/ml/input/data/train\", \"epoch\": 104, \"duration\": 3078, \"num_examples\": 478, \"num_bytes\": 16157236}\u001b[0m\n",
      "\u001b[34m[08/30/2023 11:09:50 INFO 140026071775040] #quality_metric: host=algo-1, epoch=51, train binary_classification_accuracy <score>=0.8195146443514645\u001b[0m\n",
      "\u001b[34m[08/30/2023 11:09:50 INFO 140026071775040] #quality_metric: host=algo-1, epoch=51, train binary_classification_cross_entropy <loss>=0.3583708253166167\u001b[0m\n",
      "\u001b[34m[08/30/2023 11:09:50 INFO 140026071775040] #quality_metric: host=algo-1, epoch=51, train binary_f_1.000 <score>=0.9007925373614899\u001b[0m\n",
      "\u001b[34m#metrics {\"StartTime\": 1693393787.3476293, \"EndTime\": 1693393790.4346192, \"Dimensions\": {\"Algorithm\": \"factorization-machines\", \"Host\": \"algo-1\", \"Operation\": \"training\"}, \"Metrics\": {\"update.time\": {\"sum\": 3085.5493545532227, \"count\": 1, \"min\": 3085.5493545532227, \"max\": 3085.5493545532227}}}\u001b[0m\n",
      "\u001b[34m[08/30/2023 11:09:50 INFO 140026071775040] #progress_metric: host=algo-1, completed 52.0 % of epochs\u001b[0m\n",
      "\u001b[34m#metrics {\"StartTime\": 1693393787.349042, \"EndTime\": 1693393790.434863, \"Dimensions\": {\"Algorithm\": \"factorization-machines\", \"Host\": \"algo-1\", \"Operation\": \"training\", \"epoch\": 51, \"Meta\": \"training_data_iter\"}, \"Metrics\": {\"Total Records Seen\": {\"sum\": 12412848.0, \"count\": 1, \"min\": 12412848, \"max\": 12412848}, \"Total Batches Seen\": {\"sum\": 24857.0, \"count\": 1, \"min\": 24857, \"max\": 24857}, \"Max Records Seen Between Resets\": {\"sum\": 238699.0, \"count\": 1, \"min\": 238699, \"max\": 238699}, \"Max Batches Seen Between Resets\": {\"sum\": 478.0, \"count\": 1, \"min\": 478, \"max\": 478}, \"Reset Count\": {\"sum\": 53.0, \"count\": 1, \"min\": 53, \"max\": 53}, \"Number of Records Since Last Reset\": {\"sum\": 238699.0, \"count\": 1, \"min\": 238699, \"max\": 238699}, \"Number of Batches Since Last Reset\": {\"sum\": 478.0, \"count\": 1, \"min\": 478, \"max\": 478}}}\u001b[0m\n",
      "\u001b[34m[08/30/2023 11:09:50 INFO 140026071775040] #throughput_metric: host=algo-1, train throughput=77350.32895887703 records/second\u001b[0m\n",
      "\u001b[34m[08/30/2023 11:09:50 INFO 140026071775040] #quality_metric: host=algo-1, epoch=52, batch=0 train binary_classification_accuracy <score>=0.846\u001b[0m\n",
      "\u001b[34m[08/30/2023 11:09:50 INFO 140026071775040] #quality_metric: host=algo-1, epoch=52, batch=0 train binary_classification_cross_entropy <loss>=0.3380567016601562\u001b[0m\n",
      "\u001b[34m[08/30/2023 11:09:50 INFO 140026071775040] #quality_metric: host=algo-1, epoch=52, batch=0 train binary_f_1.000 <score>=0.9165763813651138\u001b[0m\n",
      "\u001b[34m[2023-08-30 11:09:53.646] [tensorio] [info] epoch_stats={\"data_pipeline\": \"/opt/ml/input/data/train\", \"epoch\": 106, \"duration\": 3205, \"num_examples\": 478, \"num_bytes\": 16157236}\u001b[0m\n",
      "\u001b[34m[08/30/2023 11:09:53 INFO 140026071775040] #quality_metric: host=algo-1, epoch=52, train binary_classification_accuracy <score>=0.819531380753138\u001b[0m\n",
      "\u001b[34m[08/30/2023 11:09:53 INFO 140026071775040] #quality_metric: host=algo-1, epoch=52, train binary_classification_cross_entropy <loss>=0.3566970646750478\u001b[0m\n",
      "\u001b[34m[08/30/2023 11:09:53 INFO 140026071775040] #quality_metric: host=algo-1, epoch=52, train binary_f_1.000 <score>=0.9008008242832369\u001b[0m\n",
      "\u001b[34m#metrics {\"StartTime\": 1693393790.4347026, \"EndTime\": 1693393793.647798, \"Dimensions\": {\"Algorithm\": \"factorization-machines\", \"Host\": \"algo-1\", \"Operation\": \"training\"}, \"Metrics\": {\"update.time\": {\"sum\": 3211.5259170532227, \"count\": 1, \"min\": 3211.5259170532227, \"max\": 3211.5259170532227}}}\u001b[0m\n",
      "\u001b[34m[08/30/2023 11:09:53 INFO 140026071775040] #progress_metric: host=algo-1, completed 53.0 % of epochs\u001b[0m\n",
      "\u001b[34m#metrics {\"StartTime\": 1693393790.43624, \"EndTime\": 1693393793.6481674, \"Dimensions\": {\"Algorithm\": \"factorization-machines\", \"Host\": \"algo-1\", \"Operation\": \"training\", \"epoch\": 52, \"Meta\": \"training_data_iter\"}, \"Metrics\": {\"Total Records Seen\": {\"sum\": 12651547.0, \"count\": 1, \"min\": 12651547, \"max\": 12651547}, \"Total Batches Seen\": {\"sum\": 25335.0, \"count\": 1, \"min\": 25335, \"max\": 25335}, \"Max Records Seen Between Resets\": {\"sum\": 238699.0, \"count\": 1, \"min\": 238699, \"max\": 238699}, \"Max Batches Seen Between Resets\": {\"sum\": 478.0, \"count\": 1, \"min\": 478, \"max\": 478}, \"Reset Count\": {\"sum\": 54.0, \"count\": 1, \"min\": 54, \"max\": 54}, \"Number of Records Since Last Reset\": {\"sum\": 238699.0, \"count\": 1, \"min\": 238699, \"max\": 238699}, \"Number of Batches Since Last Reset\": {\"sum\": 478.0, \"count\": 1, \"min\": 478, \"max\": 478}}}\u001b[0m\n",
      "\u001b[34m[08/30/2023 11:09:53 INFO 140026071775040] #throughput_metric: host=algo-1, train throughput=74312.93933197223 records/second\u001b[0m\n",
      "\u001b[34m[08/30/2023 11:09:53 INFO 140026071775040] #quality_metric: host=algo-1, epoch=53, batch=0 train binary_classification_accuracy <score>=0.846\u001b[0m\n",
      "\u001b[34m[08/30/2023 11:09:53 INFO 140026071775040] #quality_metric: host=algo-1, epoch=53, batch=0 train binary_classification_cross_entropy <loss>=0.33645086669921875\u001b[0m\n",
      "\u001b[34m[08/30/2023 11:09:53 INFO 140026071775040] #quality_metric: host=algo-1, epoch=53, batch=0 train binary_f_1.000 <score>=0.9165763813651138\u001b[0m\n"
     ]
    },
    {
     "name": "stdout",
     "output_type": "stream",
     "text": [
      "\u001b[34m[2023-08-30 11:09:56.793] [tensorio] [info] epoch_stats={\"data_pipeline\": \"/opt/ml/input/data/train\", \"epoch\": 108, \"duration\": 3137, \"num_examples\": 478, \"num_bytes\": 16157236}\u001b[0m\n",
      "\u001b[34m[08/30/2023 11:09:56 INFO 140026071775040] #quality_metric: host=algo-1, epoch=53, train binary_classification_accuracy <score>=0.8195523012552302\u001b[0m\n",
      "\u001b[34m[08/30/2023 11:09:56 INFO 140026071775040] #quality_metric: host=algo-1, epoch=53, train binary_classification_cross_entropy <loss>=0.3550407562575081\u001b[0m\n",
      "\u001b[34m[08/30/2023 11:09:56 INFO 140026071775040] #quality_metric: host=algo-1, epoch=53, train binary_f_1.000 <score>=0.9008111831498378\u001b[0m\n",
      "\u001b[34m#metrics {\"StartTime\": 1693393793.647896, \"EndTime\": 1693393796.794708, \"Dimensions\": {\"Algorithm\": \"factorization-machines\", \"Host\": \"algo-1\", \"Operation\": \"training\"}, \"Metrics\": {\"update.time\": {\"sum\": 3145.205497741699, \"count\": 1, \"min\": 3145.205497741699, \"max\": 3145.205497741699}}}\u001b[0m\n",
      "\u001b[34m[08/30/2023 11:09:56 INFO 140026071775040] #progress_metric: host=algo-1, completed 54.0 % of epochs\u001b[0m\n",
      "\u001b[34m#metrics {\"StartTime\": 1693393793.6494691, \"EndTime\": 1693393796.7950325, \"Dimensions\": {\"Algorithm\": \"factorization-machines\", \"Host\": \"algo-1\", \"Operation\": \"training\", \"epoch\": 53, \"Meta\": \"training_data_iter\"}, \"Metrics\": {\"Total Records Seen\": {\"sum\": 12890246.0, \"count\": 1, \"min\": 12890246, \"max\": 12890246}, \"Total Batches Seen\": {\"sum\": 25813.0, \"count\": 1, \"min\": 25813, \"max\": 25813}, \"Max Records Seen Between Resets\": {\"sum\": 238699.0, \"count\": 1, \"min\": 238699, \"max\": 238699}, \"Max Batches Seen Between Resets\": {\"sum\": 478.0, \"count\": 1, \"min\": 478, \"max\": 478}, \"Reset Count\": {\"sum\": 55.0, \"count\": 1, \"min\": 55, \"max\": 55}, \"Number of Records Since Last Reset\": {\"sum\": 238699.0, \"count\": 1, \"min\": 238699, \"max\": 238699}, \"Number of Batches Since Last Reset\": {\"sum\": 478.0, \"count\": 1, \"min\": 478, \"max\": 478}}}\u001b[0m\n",
      "\u001b[34m[08/30/2023 11:09:56 INFO 140026071775040] #throughput_metric: host=algo-1, train throughput=75880.5844077907 records/second\u001b[0m\n",
      "\u001b[34m[08/30/2023 11:09:56 INFO 140026071775040] #quality_metric: host=algo-1, epoch=54, batch=0 train binary_classification_accuracy <score>=0.846\u001b[0m\n",
      "\u001b[34m[08/30/2023 11:09:56 INFO 140026071775040] #quality_metric: host=algo-1, epoch=54, batch=0 train binary_classification_cross_entropy <loss>=0.334860107421875\u001b[0m\n",
      "\u001b[34m[08/30/2023 11:09:56 INFO 140026071775040] #quality_metric: host=algo-1, epoch=54, batch=0 train binary_f_1.000 <score>=0.9165763813651138\u001b[0m\n",
      "\u001b[34m[2023-08-30 11:09:59.953] [tensorio] [info] epoch_stats={\"data_pipeline\": \"/opt/ml/input/data/train\", \"epoch\": 110, \"duration\": 3151, \"num_examples\": 478, \"num_bytes\": 16157236}\u001b[0m\n",
      "\u001b[34m[08/30/2023 11:09:59 INFO 140026071775040] #quality_metric: host=algo-1, epoch=54, train binary_classification_accuracy <score>=0.819581589958159\u001b[0m\n",
      "\u001b[34m[08/30/2023 11:09:59 INFO 140026071775040] #quality_metric: host=algo-1, epoch=54, train binary_classification_cross_entropy <loss>=0.35340149171581825\u001b[0m\n",
      "\u001b[34m[08/30/2023 11:09:59 INFO 140026071775040] #quality_metric: host=algo-1, epoch=54, train binary_f_1.000 <score>=0.9008256859633387\u001b[0m\n",
      "\u001b[34m#metrics {\"StartTime\": 1693393796.794824, \"EndTime\": 1693393799.954631, \"Dimensions\": {\"Algorithm\": \"factorization-machines\", \"Host\": \"algo-1\", \"Operation\": \"training\"}, \"Metrics\": {\"update.time\": {\"sum\": 3158.18452835083, \"count\": 1, \"min\": 3158.18452835083, \"max\": 3158.18452835083}}}\u001b[0m\n",
      "\u001b[34m[08/30/2023 11:09:59 INFO 140026071775040] #progress_metric: host=algo-1, completed 55.0 % of epochs\u001b[0m\n",
      "\u001b[34m#metrics {\"StartTime\": 1693393796.796415, \"EndTime\": 1693393799.9549608, \"Dimensions\": {\"Algorithm\": \"factorization-machines\", \"Host\": \"algo-1\", \"Operation\": \"training\", \"epoch\": 54, \"Meta\": \"training_data_iter\"}, \"Metrics\": {\"Total Records Seen\": {\"sum\": 13128945.0, \"count\": 1, \"min\": 13128945, \"max\": 13128945}, \"Total Batches Seen\": {\"sum\": 26291.0, \"count\": 1, \"min\": 26291, \"max\": 26291}, \"Max Records Seen Between Resets\": {\"sum\": 238699.0, \"count\": 1, \"min\": 238699, \"max\": 238699}, \"Max Batches Seen Between Resets\": {\"sum\": 478.0, \"count\": 1, \"min\": 478, \"max\": 478}, \"Reset Count\": {\"sum\": 56.0, \"count\": 1, \"min\": 56, \"max\": 56}, \"Number of Records Since Last Reset\": {\"sum\": 238699.0, \"count\": 1, \"min\": 238699, \"max\": 238699}, \"Number of Batches Since Last Reset\": {\"sum\": 478.0, \"count\": 1, \"min\": 478, \"max\": 478}}}\u001b[0m\n",
      "\u001b[34m[08/30/2023 11:09:59 INFO 140026071775040] #throughput_metric: host=algo-1, train throughput=75568.58147829764 records/second\u001b[0m\n",
      "\u001b[34m[08/30/2023 11:10:00 INFO 140026071775040] #quality_metric: host=algo-1, epoch=55, batch=0 train binary_classification_accuracy <score>=0.846\u001b[0m\n",
      "\u001b[34m[08/30/2023 11:10:00 INFO 140026071775040] #quality_metric: host=algo-1, epoch=55, batch=0 train binary_classification_cross_entropy <loss>=0.33328411865234375\u001b[0m\n",
      "\u001b[34m[08/30/2023 11:10:00 INFO 140026071775040] #quality_metric: host=algo-1, epoch=55, batch=0 train binary_f_1.000 <score>=0.9165763813651138\u001b[0m\n",
      "\u001b[34m[2023-08-30 11:10:03.669] [tensorio] [info] epoch_stats={\"data_pipeline\": \"/opt/ml/input/data/train\", \"epoch\": 112, \"duration\": 3706, \"num_examples\": 478, \"num_bytes\": 16157236}\u001b[0m\n",
      "\u001b[34m[08/30/2023 11:10:03 INFO 140026071775040] #quality_metric: host=algo-1, epoch=55, train binary_classification_accuracy <score>=0.8196150627615063\u001b[0m\n",
      "\u001b[34m[08/30/2023 11:10:03 INFO 140026071775040] #quality_metric: host=algo-1, epoch=55, train binary_classification_cross_entropy <loss>=0.35177887314034306\u001b[0m\n",
      "\u001b[34m[08/30/2023 11:10:03 INFO 140026071775040] #quality_metric: host=algo-1, epoch=55, train binary_f_1.000 <score>=0.9008422611791657\u001b[0m\n",
      "\u001b[34m#metrics {\"StartTime\": 1693393799.9547281, \"EndTime\": 1693393803.6705782, \"Dimensions\": {\"Algorithm\": \"factorization-machines\", \"Host\": \"algo-1\", \"Operation\": \"training\"}, \"Metrics\": {\"update.time\": {\"sum\": 3714.2250537872314, \"count\": 1, \"min\": 3714.2250537872314, \"max\": 3714.2250537872314}}}\u001b[0m\n",
      "\u001b[34m[08/30/2023 11:10:03 INFO 140026071775040] #progress_metric: host=algo-1, completed 56.0 % of epochs\u001b[0m\n",
      "\u001b[34m#metrics {\"StartTime\": 1693393799.9563196, \"EndTime\": 1693393803.6708972, \"Dimensions\": {\"Algorithm\": \"factorization-machines\", \"Host\": \"algo-1\", \"Operation\": \"training\", \"epoch\": 55, \"Meta\": \"training_data_iter\"}, \"Metrics\": {\"Total Records Seen\": {\"sum\": 13367644.0, \"count\": 1, \"min\": 13367644, \"max\": 13367644}, \"Total Batches Seen\": {\"sum\": 26769.0, \"count\": 1, \"min\": 26769, \"max\": 26769}, \"Max Records Seen Between Resets\": {\"sum\": 238699.0, \"count\": 1, \"min\": 238699, \"max\": 238699}, \"Max Batches Seen Between Resets\": {\"sum\": 478.0, \"count\": 1, \"min\": 478, \"max\": 478}, \"Reset Count\": {\"sum\": 57.0, \"count\": 1, \"min\": 57, \"max\": 57}, \"Number of Records Since Last Reset\": {\"sum\": 238699.0, \"count\": 1, \"min\": 238699, \"max\": 238699}, \"Number of Batches Since Last Reset\": {\"sum\": 478.0, \"count\": 1, \"min\": 478, \"max\": 478}}}\u001b[0m\n",
      "\u001b[34m[08/30/2023 11:10:03 INFO 140026071775040] #throughput_metric: host=algo-1, train throughput=64256.97513140678 records/second\u001b[0m\n",
      "\u001b[34m[08/30/2023 11:10:03 INFO 140026071775040] #quality_metric: host=algo-1, epoch=56, batch=0 train binary_classification_accuracy <score>=0.846\u001b[0m\n",
      "\u001b[34m[08/30/2023 11:10:03 INFO 140026071775040] #quality_metric: host=algo-1, epoch=56, batch=0 train binary_classification_cross_entropy <loss>=0.33172265625\u001b[0m\n",
      "\u001b[34m[08/30/2023 11:10:03 INFO 140026071775040] #quality_metric: host=algo-1, epoch=56, batch=0 train binary_f_1.000 <score>=0.9165763813651138\u001b[0m\n",
      "\u001b[34m[2023-08-30 11:10:06.988] [tensorio] [info] epoch_stats={\"data_pipeline\": \"/opt/ml/input/data/train\", \"epoch\": 114, \"duration\": 3308, \"num_examples\": 478, \"num_bytes\": 16157236}\u001b[0m\n",
      "\u001b[34m[08/30/2023 11:10:06 INFO 140026071775040] #quality_metric: host=algo-1, epoch=56, train binary_classification_accuracy <score>=0.8196443514644352\u001b[0m\n",
      "\u001b[34m[08/30/2023 11:10:06 INFO 140026071775040] #quality_metric: host=algo-1, epoch=56, train binary_classification_cross_entropy <loss>=0.3501725238177567\u001b[0m\n",
      "\u001b[34m[08/30/2023 11:10:06 INFO 140026071775040] #quality_metric: host=algo-1, epoch=56, train binary_f_1.000 <score>=0.9008567649933874\u001b[0m\n",
      "\u001b[34m#metrics {\"StartTime\": 1693393803.6706827, \"EndTime\": 1693393806.9899817, \"Dimensions\": {\"Algorithm\": \"factorization-machines\", \"Host\": \"algo-1\", \"Operation\": \"training\"}, \"Metrics\": {\"update.time\": {\"sum\": 3317.488670349121, \"count\": 1, \"min\": 3317.488670349121, \"max\": 3317.488670349121}}}\u001b[0m\n",
      "\u001b[34m[08/30/2023 11:10:06 INFO 140026071775040] #progress_metric: host=algo-1, completed 57.0 % of epochs\u001b[0m\n",
      "\u001b[34m#metrics {\"StartTime\": 1693393803.6724586, \"EndTime\": 1693393806.990247, \"Dimensions\": {\"Algorithm\": \"factorization-machines\", \"Host\": \"algo-1\", \"Operation\": \"training\", \"epoch\": 56, \"Meta\": \"training_data_iter\"}, \"Metrics\": {\"Total Records Seen\": {\"sum\": 13606343.0, \"count\": 1, \"min\": 13606343, \"max\": 13606343}, \"Total Batches Seen\": {\"sum\": 27247.0, \"count\": 1, \"min\": 27247, \"max\": 27247}, \"Max Records Seen Between Resets\": {\"sum\": 238699.0, \"count\": 1, \"min\": 238699, \"max\": 238699}, \"Max Batches Seen Between Resets\": {\"sum\": 478.0, \"count\": 1, \"min\": 478, \"max\": 478}, \"Reset Count\": {\"sum\": 58.0, \"count\": 1, \"min\": 58, \"max\": 58}, \"Number of Records Since Last Reset\": {\"sum\": 238699.0, \"count\": 1, \"min\": 238699, \"max\": 238699}, \"Number of Batches Since Last Reset\": {\"sum\": 478.0, \"count\": 1, \"min\": 478, \"max\": 478}}}\u001b[0m\n",
      "\u001b[34m[08/30/2023 11:10:06 INFO 140026071775040] #throughput_metric: host=algo-1, train throughput=71940.73374511737 records/second\u001b[0m\n",
      "\u001b[34m[08/30/2023 11:10:07 INFO 140026071775040] #quality_metric: host=algo-1, epoch=57, batch=0 train binary_classification_accuracy <score>=0.846\u001b[0m\n",
      "\u001b[34m[08/30/2023 11:10:07 INFO 140026071775040] #quality_metric: host=algo-1, epoch=57, batch=0 train binary_classification_cross_entropy <loss>=0.33017547607421877\u001b[0m\n",
      "\u001b[34m[08/30/2023 11:10:07 INFO 140026071775040] #quality_metric: host=algo-1, epoch=57, batch=0 train binary_f_1.000 <score>=0.9165763813651138\u001b[0m\n",
      "\u001b[34m[2023-08-30 11:10:10.156] [tensorio] [info] epoch_stats={\"data_pipeline\": \"/opt/ml/input/data/train\", \"epoch\": 116, \"duration\": 3157, \"num_examples\": 478, \"num_bytes\": 16157236}\u001b[0m\n",
      "\u001b[34m[08/30/2023 11:10:10 INFO 140026071775040] #quality_metric: host=algo-1, epoch=57, train binary_classification_accuracy <score>=0.8196903765690376\u001b[0m\n",
      "\u001b[34m[08/30/2023 11:10:10 INFO 140026071775040] #quality_metric: host=algo-1, epoch=57, train binary_classification_cross_entropy <loss>=0.3485820724934215\u001b[0m\n",
      "\u001b[34m[08/30/2023 11:10:10 INFO 140026071775040] #quality_metric: host=algo-1, epoch=57, train binary_f_1.000 <score>=0.9008795576450672\u001b[0m\n",
      "\u001b[34m#metrics {\"StartTime\": 1693393806.990063, \"EndTime\": 1693393810.1576126, \"Dimensions\": {\"Algorithm\": \"factorization-machines\", \"Host\": \"algo-1\", \"Operation\": \"training\"}, \"Metrics\": {\"update.time\": {\"sum\": 3166.024684906006, \"count\": 1, \"min\": 3166.024684906006, \"max\": 3166.024684906006}}}\u001b[0m\n",
      "\u001b[34m[08/30/2023 11:10:10 INFO 140026071775040] #progress_metric: host=algo-1, completed 58.0 % of epochs\u001b[0m\n",
      "\u001b[34m#metrics {\"StartTime\": 1693393806.9915593, \"EndTime\": 1693393810.157863, \"Dimensions\": {\"Algorithm\": \"factorization-machines\", \"Host\": \"algo-1\", \"Operation\": \"training\", \"epoch\": 57, \"Meta\": \"training_data_iter\"}, \"Metrics\": {\"Total Records Seen\": {\"sum\": 13845042.0, \"count\": 1, \"min\": 13845042, \"max\": 13845042}, \"Total Batches Seen\": {\"sum\": 27725.0, \"count\": 1, \"min\": 27725, \"max\": 27725}, \"Max Records Seen Between Resets\": {\"sum\": 238699.0, \"count\": 1, \"min\": 238699, \"max\": 238699}, \"Max Batches Seen Between Resets\": {\"sum\": 478.0, \"count\": 1, \"min\": 478, \"max\": 478}, \"Reset Count\": {\"sum\": 59.0, \"count\": 1, \"min\": 59, \"max\": 59}, \"Number of Records Since Last Reset\": {\"sum\": 238699.0, \"count\": 1, \"min\": 238699, \"max\": 238699}, \"Number of Batches Since Last Reset\": {\"sum\": 478.0, \"count\": 1, \"min\": 478, \"max\": 478}}}\u001b[0m\n",
      "\u001b[34m[08/30/2023 11:10:10 INFO 140026071775040] #throughput_metric: host=algo-1, train throughput=75383.2269303727 records/second\u001b[0m\n",
      "\u001b[34m[08/30/2023 11:10:10 INFO 140026071775040] #quality_metric: host=algo-1, epoch=58, batch=0 train binary_classification_accuracy <score>=0.846\u001b[0m\n",
      "\u001b[34m[08/30/2023 11:10:10 INFO 140026071775040] #quality_metric: host=algo-1, epoch=58, batch=0 train binary_classification_cross_entropy <loss>=0.32864230346679685\u001b[0m\n",
      "\u001b[34m[08/30/2023 11:10:10 INFO 140026071775040] #quality_metric: host=algo-1, epoch=58, batch=0 train binary_f_1.000 <score>=0.9165763813651138\u001b[0m\n",
      "\u001b[34m[2023-08-30 11:10:13.325] [tensorio] [info] epoch_stats={\"data_pipeline\": \"/opt/ml/input/data/train\", \"epoch\": 118, \"duration\": 3159, \"num_examples\": 478, \"num_bytes\": 16157236}\u001b[0m\n",
      "\u001b[34m[08/30/2023 11:10:13 INFO 140026071775040] #quality_metric: host=algo-1, epoch=58, train binary_classification_accuracy <score>=0.8197322175732218\u001b[0m\n",
      "\u001b[34m[08/30/2023 11:10:13 INFO 140026071775040] #quality_metric: host=algo-1, epoch=58, train binary_classification_cross_entropy <loss>=0.34700716594871617\u001b[0m\n",
      "\u001b[34m[08/30/2023 11:10:13 INFO 140026071775040] #quality_metric: host=algo-1, epoch=58, train binary_f_1.000 <score>=0.9009002792383739\u001b[0m\n",
      "\u001b[34m#metrics {\"StartTime\": 1693393810.1576946, \"EndTime\": 1693393813.3258195, \"Dimensions\": {\"Algorithm\": \"factorization-machines\", \"Host\": \"algo-1\", \"Operation\": \"training\"}, \"Metrics\": {\"update.time\": {\"sum\": 3166.5186882019043, \"count\": 1, \"min\": 3166.5186882019043, \"max\": 3166.5186882019043}}}\u001b[0m\n",
      "\u001b[34m[08/30/2023 11:10:13 INFO 140026071775040] #progress_metric: host=algo-1, completed 59.0 % of epochs\u001b[0m\n",
      "\u001b[34m#metrics {\"StartTime\": 1693393810.1592677, \"EndTime\": 1693393813.3260558, \"Dimensions\": {\"Algorithm\": \"factorization-machines\", \"Host\": \"algo-1\", \"Operation\": \"training\", \"epoch\": 58, \"Meta\": \"training_data_iter\"}, \"Metrics\": {\"Total Records Seen\": {\"sum\": 14083741.0, \"count\": 1, \"min\": 14083741, \"max\": 14083741}, \"Total Batches Seen\": {\"sum\": 28203.0, \"count\": 1, \"min\": 28203, \"max\": 28203}, \"Max Records Seen Between Resets\": {\"sum\": 238699.0, \"count\": 1, \"min\": 238699, \"max\": 238699}, \"Max Batches Seen Between Resets\": {\"sum\": 478.0, \"count\": 1, \"min\": 478, \"max\": 478}, \"Reset Count\": {\"sum\": 60.0, \"count\": 1, \"min\": 60, \"max\": 60}, \"Number of Records Since Last Reset\": {\"sum\": 238699.0, \"count\": 1, \"min\": 238699, \"max\": 238699}, \"Number of Batches Since Last Reset\": {\"sum\": 478.0, \"count\": 1, \"min\": 478, \"max\": 478}}}\u001b[0m\n",
      "\u001b[34m[08/30/2023 11:10:13 INFO 140026071775040] #throughput_metric: host=algo-1, train throughput=75371.93914632547 records/second\u001b[0m\n",
      "\u001b[34m[08/30/2023 11:10:13 INFO 140026071775040] #quality_metric: host=algo-1, epoch=59, batch=0 train binary_classification_accuracy <score>=0.846\u001b[0m\n",
      "\u001b[34m[08/30/2023 11:10:13 INFO 140026071775040] #quality_metric: host=algo-1, epoch=59, batch=0 train binary_classification_cross_entropy <loss>=0.3271229248046875\u001b[0m\n",
      "\u001b[34m[08/30/2023 11:10:13 INFO 140026071775040] #quality_metric: host=algo-1, epoch=59, batch=0 train binary_f_1.000 <score>=0.9165763813651138\u001b[0m\n"
     ]
    },
    {
     "name": "stdout",
     "output_type": "stream",
     "text": [
      "\u001b[34m[2023-08-30 11:10:16.481] [tensorio] [info] epoch_stats={\"data_pipeline\": \"/opt/ml/input/data/train\", \"epoch\": 120, \"duration\": 3148, \"num_examples\": 478, \"num_bytes\": 16157236}\u001b[0m\n",
      "\u001b[34m[08/30/2023 11:10:16 INFO 140026071775040] #quality_metric: host=algo-1, epoch=59, train binary_classification_accuracy <score>=0.8198075313807531\u001b[0m\n",
      "\u001b[34m[08/30/2023 11:10:16 INFO 140026071775040] #quality_metric: host=algo-1, epoch=59, train binary_classification_cross_entropy <loss>=0.34544746239315016\u001b[0m\n",
      "\u001b[34m[08/30/2023 11:10:16 INFO 140026071775040] #quality_metric: host=algo-1, epoch=59, train binary_f_1.000 <score>=0.9009375805086305\u001b[0m\n",
      "\u001b[34m#metrics {\"StartTime\": 1693393813.3259013, \"EndTime\": 1693393816.4822085, \"Dimensions\": {\"Algorithm\": \"factorization-machines\", \"Host\": \"algo-1\", \"Operation\": \"training\"}, \"Metrics\": {\"update.time\": {\"sum\": 3154.7670364379883, \"count\": 1, \"min\": 3154.7670364379883, \"max\": 3154.7670364379883}}}\u001b[0m\n",
      "\u001b[34m[08/30/2023 11:10:16 INFO 140026071775040] #progress_metric: host=algo-1, completed 60.0 % of epochs\u001b[0m\n",
      "\u001b[34m#metrics {\"StartTime\": 1693393813.3274076, \"EndTime\": 1693393816.4825323, \"Dimensions\": {\"Algorithm\": \"factorization-machines\", \"Host\": \"algo-1\", \"Operation\": \"training\", \"epoch\": 59, \"Meta\": \"training_data_iter\"}, \"Metrics\": {\"Total Records Seen\": {\"sum\": 14322440.0, \"count\": 1, \"min\": 14322440, \"max\": 14322440}, \"Total Batches Seen\": {\"sum\": 28681.0, \"count\": 1, \"min\": 28681, \"max\": 28681}, \"Max Records Seen Between Resets\": {\"sum\": 238699.0, \"count\": 1, \"min\": 238699, \"max\": 238699}, \"Max Batches Seen Between Resets\": {\"sum\": 478.0, \"count\": 1, \"min\": 478, \"max\": 478}, \"Reset Count\": {\"sum\": 61.0, \"count\": 1, \"min\": 61, \"max\": 61}, \"Number of Records Since Last Reset\": {\"sum\": 238699.0, \"count\": 1, \"min\": 238699, \"max\": 238699}, \"Number of Batches Since Last Reset\": {\"sum\": 478.0, \"count\": 1, \"min\": 478, \"max\": 478}}}\u001b[0m\n",
      "\u001b[34m[08/30/2023 11:10:16 INFO 140026071775040] #throughput_metric: host=algo-1, train throughput=75650.46977369906 records/second\u001b[0m\n",
      "\u001b[34m[08/30/2023 11:10:16 INFO 140026071775040] #quality_metric: host=algo-1, epoch=60, batch=0 train binary_classification_accuracy <score>=0.846\u001b[0m\n",
      "\u001b[34m[08/30/2023 11:10:16 INFO 140026071775040] #quality_metric: host=algo-1, epoch=60, batch=0 train binary_classification_cross_entropy <loss>=0.32561712646484375\u001b[0m\n",
      "\u001b[34m[08/30/2023 11:10:16 INFO 140026071775040] #quality_metric: host=algo-1, epoch=60, batch=0 train binary_f_1.000 <score>=0.9165763813651138\u001b[0m\n",
      "\u001b[34m[2023-08-30 11:10:19.666] [tensorio] [info] epoch_stats={\"data_pipeline\": \"/opt/ml/input/data/train\", \"epoch\": 122, \"duration\": 3175, \"num_examples\": 478, \"num_bytes\": 16157236}\u001b[0m\n",
      "\u001b[34m[08/30/2023 11:10:19 INFO 140026071775040] #quality_metric: host=algo-1, epoch=60, train binary_classification_accuracy <score>=0.8198493723849373\u001b[0m\n",
      "\u001b[34m[08/30/2023 11:10:19 INFO 140026071775040] #quality_metric: host=algo-1, epoch=60, train binary_classification_cross_entropy <loss>=0.3439026261972084\u001b[0m\n",
      "\u001b[34m[08/30/2023 11:10:19 INFO 140026071775040] #quality_metric: host=algo-1, epoch=60, train binary_f_1.000 <score>=0.9009583047712812\u001b[0m\n",
      "\u001b[34m#metrics {\"StartTime\": 1693393816.4823132, \"EndTime\": 1693393819.6674767, \"Dimensions\": {\"Algorithm\": \"factorization-machines\", \"Host\": \"algo-1\", \"Operation\": \"training\"}, \"Metrics\": {\"update.time\": {\"sum\": 3183.494806289673, \"count\": 1, \"min\": 3183.494806289673, \"max\": 3183.494806289673}}}\u001b[0m\n",
      "\u001b[34m[08/30/2023 11:10:19 INFO 140026071775040] #progress_metric: host=algo-1, completed 61.0 % of epochs\u001b[0m\n",
      "\u001b[34m#metrics {\"StartTime\": 1693393816.4839463, \"EndTime\": 1693393819.6678317, \"Dimensions\": {\"Algorithm\": \"factorization-machines\", \"Host\": \"algo-1\", \"Operation\": \"training\", \"epoch\": 60, \"Meta\": \"training_data_iter\"}, \"Metrics\": {\"Total Records Seen\": {\"sum\": 14561139.0, \"count\": 1, \"min\": 14561139, \"max\": 14561139}, \"Total Batches Seen\": {\"sum\": 29159.0, \"count\": 1, \"min\": 29159, \"max\": 29159}, \"Max Records Seen Between Resets\": {\"sum\": 238699.0, \"count\": 1, \"min\": 238699, \"max\": 238699}, \"Max Batches Seen Between Resets\": {\"sum\": 478.0, \"count\": 1, \"min\": 478, \"max\": 478}, \"Reset Count\": {\"sum\": 62.0, \"count\": 1, \"min\": 62, \"max\": 62}, \"Number of Records Since Last Reset\": {\"sum\": 238699.0, \"count\": 1, \"min\": 238699, \"max\": 238699}, \"Number of Batches Since Last Reset\": {\"sum\": 478.0, \"count\": 1, \"min\": 478, \"max\": 478}}}\u001b[0m\n",
      "\u001b[34m[08/30/2023 11:10:19 INFO 140026071775040] #throughput_metric: host=algo-1, train throughput=74967.34668251112 records/second\u001b[0m\n",
      "\u001b[34m[08/30/2023 11:10:19 INFO 140026071775040] #quality_metric: host=algo-1, epoch=61, batch=0 train binary_classification_accuracy <score>=0.846\u001b[0m\n",
      "\u001b[34m[08/30/2023 11:10:19 INFO 140026071775040] #quality_metric: host=algo-1, epoch=61, batch=0 train binary_classification_cross_entropy <loss>=0.3241246032714844\u001b[0m\n",
      "\u001b[34m[08/30/2023 11:10:19 INFO 140026071775040] #quality_metric: host=algo-1, epoch=61, batch=0 train binary_f_1.000 <score>=0.9165763813651138\u001b[0m\n",
      "\u001b[34m[2023-08-30 11:10:22.844] [tensorio] [info] epoch_stats={\"data_pipeline\": \"/opt/ml/input/data/train\", \"epoch\": 124, \"duration\": 3168, \"num_examples\": 478, \"num_bytes\": 16157236}\u001b[0m\n",
      "\u001b[34m[08/30/2023 11:10:22 INFO 140026071775040] #quality_metric: host=algo-1, epoch=61, train binary_classification_accuracy <score>=0.819907949790795\u001b[0m\n",
      "\u001b[34m[08/30/2023 11:10:22 INFO 140026071775040] #quality_metric: host=algo-1, epoch=61, train binary_classification_cross_entropy <loss>=0.34237233584096743\u001b[0m\n",
      "\u001b[34m[08/30/2023 11:10:22 INFO 140026071775040] #quality_metric: host=algo-1, epoch=61, train binary_f_1.000 <score>=0.9009873203408233\u001b[0m\n",
      "\u001b[34m#metrics {\"StartTime\": 1693393819.6676233, \"EndTime\": 1693393822.845132, \"Dimensions\": {\"Algorithm\": \"factorization-machines\", \"Host\": \"algo-1\", \"Operation\": \"training\"}, \"Metrics\": {\"update.time\": {\"sum\": 3175.9307384490967, \"count\": 1, \"min\": 3175.9307384490967, \"max\": 3175.9307384490967}}}\u001b[0m\n",
      "\u001b[34m[08/30/2023 11:10:22 INFO 140026071775040] #progress_metric: host=algo-1, completed 62.0 % of epochs\u001b[0m\n",
      "\u001b[34m#metrics {\"StartTime\": 1693393819.669172, \"EndTime\": 1693393822.8454187, \"Dimensions\": {\"Algorithm\": \"factorization-machines\", \"Host\": \"algo-1\", \"Operation\": \"training\", \"epoch\": 61, \"Meta\": \"training_data_iter\"}, \"Metrics\": {\"Total Records Seen\": {\"sum\": 14799838.0, \"count\": 1, \"min\": 14799838, \"max\": 14799838}, \"Total Batches Seen\": {\"sum\": 29637.0, \"count\": 1, \"min\": 29637, \"max\": 29637}, \"Max Records Seen Between Resets\": {\"sum\": 238699.0, \"count\": 1, \"min\": 238699, \"max\": 238699}, \"Max Batches Seen Between Resets\": {\"sum\": 478.0, \"count\": 1, \"min\": 478, \"max\": 478}, \"Reset Count\": {\"sum\": 63.0, \"count\": 1, \"min\": 63, \"max\": 63}, \"Number of Records Since Last Reset\": {\"sum\": 238699.0, \"count\": 1, \"min\": 238699, \"max\": 238699}, \"Number of Batches Since Last Reset\": {\"sum\": 478.0, \"count\": 1, \"min\": 478, \"max\": 478}}}\u001b[0m\n",
      "\u001b[34m[08/30/2023 11:10:22 INFO 140026071775040] #throughput_metric: host=algo-1, train throughput=75147.4270810542 records/second\u001b[0m\n",
      "\u001b[34m[08/30/2023 11:10:22 INFO 140026071775040] #quality_metric: host=algo-1, epoch=62, batch=0 train binary_classification_accuracy <score>=0.846\u001b[0m\n",
      "\u001b[34m[08/30/2023 11:10:22 INFO 140026071775040] #quality_metric: host=algo-1, epoch=62, batch=0 train binary_classification_cross_entropy <loss>=0.3226452331542969\u001b[0m\n",
      "\u001b[34m[08/30/2023 11:10:22 INFO 140026071775040] #quality_metric: host=algo-1, epoch=62, batch=0 train binary_f_1.000 <score>=0.9165763813651138\u001b[0m\n",
      "\u001b[34m[2023-08-30 11:10:25.986] [tensorio] [info] epoch_stats={\"data_pipeline\": \"/opt/ml/input/data/train\", \"epoch\": 126, \"duration\": 3074, \"num_examples\": 478, \"num_bytes\": 16157236}\u001b[0m\n",
      "\u001b[34m[08/30/2023 11:10:25 INFO 140026071775040] #quality_metric: host=algo-1, epoch=62, train binary_classification_accuracy <score>=0.8199790794979079\u001b[0m\n",
      "\u001b[34m[08/30/2023 11:10:25 INFO 140026071775040] #quality_metric: host=algo-1, epoch=62, train binary_classification_cross_entropy <loss>=0.3408562853825142\u001b[0m\n",
      "\u001b[34m[08/30/2023 11:10:25 INFO 140026071775040] #quality_metric: host=algo-1, epoch=62, train binary_f_1.000 <score>=0.9010225560450431\u001b[0m\n",
      "\u001b[34m#metrics {\"StartTime\": 1693393822.8452485, \"EndTime\": 1693393825.987004, \"Dimensions\": {\"Algorithm\": \"factorization-machines\", \"Host\": \"algo-1\", \"Operation\": \"training\"}, \"Metrics\": {\"update.time\": {\"sum\": 3140.192747116089, \"count\": 1, \"min\": 3140.192747116089, \"max\": 3140.192747116089}}}\u001b[0m\n",
      "\u001b[34m[08/30/2023 11:10:25 INFO 140026071775040] #progress_metric: host=algo-1, completed 63.0 % of epochs\u001b[0m\n",
      "\u001b[34m#metrics {\"StartTime\": 1693393822.8467784, \"EndTime\": 1693393825.9873266, \"Dimensions\": {\"Algorithm\": \"factorization-machines\", \"Host\": \"algo-1\", \"Operation\": \"training\", \"epoch\": 62, \"Meta\": \"training_data_iter\"}, \"Metrics\": {\"Total Records Seen\": {\"sum\": 15038537.0, \"count\": 1, \"min\": 15038537, \"max\": 15038537}, \"Total Batches Seen\": {\"sum\": 30115.0, \"count\": 1, \"min\": 30115, \"max\": 30115}, \"Max Records Seen Between Resets\": {\"sum\": 238699.0, \"count\": 1, \"min\": 238699, \"max\": 238699}, \"Max Batches Seen Between Resets\": {\"sum\": 478.0, \"count\": 1, \"min\": 478, \"max\": 478}, \"Reset Count\": {\"sum\": 64.0, \"count\": 1, \"min\": 64, \"max\": 64}, \"Number of Records Since Last Reset\": {\"sum\": 238699.0, \"count\": 1, \"min\": 238699, \"max\": 238699}, \"Number of Batches Since Last Reset\": {\"sum\": 478.0, \"count\": 1, \"min\": 478, \"max\": 478}}}\u001b[0m\n",
      "\u001b[34m[08/30/2023 11:10:25 INFO 140026071775040] #throughput_metric: host=algo-1, train throughput=76001.91349133635 records/second\u001b[0m\n",
      "\u001b[34m[08/30/2023 11:10:26 INFO 140026071775040] #quality_metric: host=algo-1, epoch=63, batch=0 train binary_classification_accuracy <score>=0.846\u001b[0m\n",
      "\u001b[34m[08/30/2023 11:10:26 INFO 140026071775040] #quality_metric: host=algo-1, epoch=63, batch=0 train binary_classification_cross_entropy <loss>=0.3211787109375\u001b[0m\n",
      "\u001b[34m[08/30/2023 11:10:26 INFO 140026071775040] #quality_metric: host=algo-1, epoch=63, batch=0 train binary_f_1.000 <score>=0.9165763813651138\u001b[0m\n",
      "\u001b[34m[2023-08-30 11:10:29.142] [tensorio] [info] epoch_stats={\"data_pipeline\": \"/opt/ml/input/data/train\", \"epoch\": 128, \"duration\": 3146, \"num_examples\": 478, \"num_bytes\": 16157236}\u001b[0m\n",
      "\u001b[34m[08/30/2023 11:10:29 INFO 140026071775040] #quality_metric: host=algo-1, epoch=63, train binary_classification_accuracy <score>=0.8200251046025104\u001b[0m\n",
      "\u001b[34m[08/30/2023 11:10:29 INFO 140026071775040] #quality_metric: host=algo-1, epoch=63, train binary_classification_cross_entropy <loss>=0.3393541730298158\u001b[0m\n",
      "\u001b[34m[08/30/2023 11:10:29 INFO 140026071775040] #quality_metric: host=algo-1, epoch=63, train binary_f_1.000 <score>=0.9010453570869873\u001b[0m\n",
      "\u001b[34m#metrics {\"StartTime\": 1693393825.987116, \"EndTime\": 1693393829.1427104, \"Dimensions\": {\"Algorithm\": \"factorization-machines\", \"Host\": \"algo-1\", \"Operation\": \"training\"}, \"Metrics\": {\"update.time\": {\"sum\": 3154.003620147705, \"count\": 1, \"min\": 3154.003620147705, \"max\": 3154.003620147705}}}\u001b[0m\n",
      "\u001b[34m[08/30/2023 11:10:29 INFO 140026071775040] #progress_metric: host=algo-1, completed 64.0 % of epochs\u001b[0m\n",
      "\u001b[34m#metrics {\"StartTime\": 1693393825.9886777, \"EndTime\": 1693393829.142976, \"Dimensions\": {\"Algorithm\": \"factorization-machines\", \"Host\": \"algo-1\", \"Operation\": \"training\", \"epoch\": 63, \"Meta\": \"training_data_iter\"}, \"Metrics\": {\"Total Records Seen\": {\"sum\": 15277236.0, \"count\": 1, \"min\": 15277236, \"max\": 15277236}, \"Total Batches Seen\": {\"sum\": 30593.0, \"count\": 1, \"min\": 30593, \"max\": 30593}, \"Max Records Seen Between Resets\": {\"sum\": 238699.0, \"count\": 1, \"min\": 238699, \"max\": 238699}, \"Max Batches Seen Between Resets\": {\"sum\": 478.0, \"count\": 1, \"min\": 478, \"max\": 478}, \"Reset Count\": {\"sum\": 65.0, \"count\": 1, \"min\": 65, \"max\": 65}, \"Number of Records Since Last Reset\": {\"sum\": 238699.0, \"count\": 1, \"min\": 238699, \"max\": 238699}, \"Number of Batches Since Last Reset\": {\"sum\": 478.0, \"count\": 1, \"min\": 478, \"max\": 478}}}\u001b[0m\n",
      "\u001b[34m[08/30/2023 11:10:29 INFO 140026071775040] #throughput_metric: host=algo-1, train throughput=75670.95671664883 records/second\u001b[0m\n",
      "\u001b[34m[08/30/2023 11:10:29 INFO 140026071775040] #quality_metric: host=algo-1, epoch=64, batch=0 train binary_classification_accuracy <score>=0.846\u001b[0m\n",
      "\u001b[34m[08/30/2023 11:10:29 INFO 140026071775040] #quality_metric: host=algo-1, epoch=64, batch=0 train binary_classification_cross_entropy <loss>=0.319724853515625\u001b[0m\n",
      "\u001b[34m[08/30/2023 11:10:29 INFO 140026071775040] #quality_metric: host=algo-1, epoch=64, batch=0 train binary_f_1.000 <score>=0.9165763813651138\u001b[0m\n",
      "\u001b[34m[2023-08-30 11:10:32.302] [tensorio] [info] epoch_stats={\"data_pipeline\": \"/opt/ml/input/data/train\", \"epoch\": 130, \"duration\": 3152, \"num_examples\": 478, \"num_bytes\": 16157236}\u001b[0m\n",
      "\u001b[34m[08/30/2023 11:10:32 INFO 140026071775040] #quality_metric: host=algo-1, epoch=64, train binary_classification_accuracy <score>=0.8201046025104602\u001b[0m\n",
      "\u001b[34m[08/30/2023 11:10:32 INFO 140026071775040] #quality_metric: host=algo-1, epoch=64, train binary_classification_cross_entropy <loss>=0.33786570624826345\u001b[0m\n",
      "\u001b[34m[08/30/2023 11:10:32 INFO 140026071775040] #quality_metric: host=algo-1, epoch=64, train binary_f_1.000 <score>=0.901084743423096\u001b[0m\n",
      "\u001b[34m#metrics {\"StartTime\": 1693393829.1428025, \"EndTime\": 1693393832.3031435, \"Dimensions\": {\"Algorithm\": \"factorization-machines\", \"Host\": \"algo-1\", \"Operation\": \"training\"}, \"Metrics\": {\"update.time\": {\"sum\": 3158.752918243408, \"count\": 1, \"min\": 3158.752918243408, \"max\": 3158.752918243408}}}\u001b[0m\n",
      "\u001b[34m[08/30/2023 11:10:32 INFO 140026071775040] #progress_metric: host=algo-1, completed 65.0 % of epochs\u001b[0m\n",
      "\u001b[34m#metrics {\"StartTime\": 1693393829.1443582, \"EndTime\": 1693393832.303437, \"Dimensions\": {\"Algorithm\": \"factorization-machines\", \"Host\": \"algo-1\", \"Operation\": \"training\", \"epoch\": 64, \"Meta\": \"training_data_iter\"}, \"Metrics\": {\"Total Records Seen\": {\"sum\": 15515935.0, \"count\": 1, \"min\": 15515935, \"max\": 15515935}, \"Total Batches Seen\": {\"sum\": 31071.0, \"count\": 1, \"min\": 31071, \"max\": 31071}, \"Max Records Seen Between Resets\": {\"sum\": 238699.0, \"count\": 1, \"min\": 238699, \"max\": 238699}, \"Max Batches Seen Between Resets\": {\"sum\": 478.0, \"count\": 1, \"min\": 478, \"max\": 478}, \"Reset Count\": {\"sum\": 66.0, \"count\": 1, \"min\": 66, \"max\": 66}, \"Number of Records Since Last Reset\": {\"sum\": 238699.0, \"count\": 1, \"min\": 238699, \"max\": 238699}, \"Number of Batches Since Last Reset\": {\"sum\": 478.0, \"count\": 1, \"min\": 478, \"max\": 478}}}\u001b[0m\n",
      "\u001b[34m[08/30/2023 11:10:32 INFO 140026071775040] #throughput_metric: host=algo-1, train throughput=75555.45337754575 records/second\u001b[0m\n",
      "\u001b[34m[08/30/2023 11:10:32 INFO 140026071775040] #quality_metric: host=algo-1, epoch=65, batch=0 train binary_classification_accuracy <score>=0.846\u001b[0m\n",
      "\u001b[34m[08/30/2023 11:10:32 INFO 140026071775040] #quality_metric: host=algo-1, epoch=65, batch=0 train binary_classification_cross_entropy <loss>=0.31828353881835936\u001b[0m\n",
      "\u001b[34m[08/30/2023 11:10:32 INFO 140026071775040] #quality_metric: host=algo-1, epoch=65, batch=0 train binary_f_1.000 <score>=0.9165763813651138\u001b[0m\n"
     ]
    },
    {
     "name": "stdout",
     "output_type": "stream",
     "text": [
      "\u001b[34m[2023-08-30 11:10:35.439] [tensorio] [info] epoch_stats={\"data_pipeline\": \"/opt/ml/input/data/train\", \"epoch\": 132, \"duration\": 3127, \"num_examples\": 478, \"num_bytes\": 16157236}\u001b[0m\n",
      "\u001b[34m[08/30/2023 11:10:35 INFO 140026071775040] #quality_metric: host=algo-1, epoch=65, train binary_classification_accuracy <score>=0.8202175732217574\u001b[0m\n",
      "\u001b[34m[08/30/2023 11:10:35 INFO 140026071775040] #quality_metric: host=algo-1, epoch=65, train binary_classification_cross_entropy <loss>=0.3363906063255406\u001b[0m\n",
      "\u001b[34m[08/30/2023 11:10:35 INFO 140026071775040] #quality_metric: host=algo-1, epoch=65, train binary_f_1.000 <score>=0.9011407194032736\u001b[0m\n",
      "\u001b[34m#metrics {\"StartTime\": 1693393832.3032444, \"EndTime\": 1693393835.4397037, \"Dimensions\": {\"Algorithm\": \"factorization-machines\", \"Host\": \"algo-1\", \"Operation\": \"training\"}, \"Metrics\": {\"update.time\": {\"sum\": 3134.890079498291, \"count\": 1, \"min\": 3134.890079498291, \"max\": 3134.890079498291}}}\u001b[0m\n",
      "\u001b[34m[08/30/2023 11:10:35 INFO 140026071775040] #progress_metric: host=algo-1, completed 66.0 % of epochs\u001b[0m\n",
      "\u001b[34m#metrics {\"StartTime\": 1693393832.3047857, \"EndTime\": 1693393835.4399498, \"Dimensions\": {\"Algorithm\": \"factorization-machines\", \"Host\": \"algo-1\", \"Operation\": \"training\", \"epoch\": 65, \"Meta\": \"training_data_iter\"}, \"Metrics\": {\"Total Records Seen\": {\"sum\": 15754634.0, \"count\": 1, \"min\": 15754634, \"max\": 15754634}, \"Total Batches Seen\": {\"sum\": 31549.0, \"count\": 1, \"min\": 31549, \"max\": 31549}, \"Max Records Seen Between Resets\": {\"sum\": 238699.0, \"count\": 1, \"min\": 238699, \"max\": 238699}, \"Max Batches Seen Between Resets\": {\"sum\": 478.0, \"count\": 1, \"min\": 478, \"max\": 478}, \"Reset Count\": {\"sum\": 67.0, \"count\": 1, \"min\": 67, \"max\": 67}, \"Number of Records Since Last Reset\": {\"sum\": 238699.0, \"count\": 1, \"min\": 238699, \"max\": 238699}, \"Number of Batches Since Last Reset\": {\"sum\": 478.0, \"count\": 1, \"min\": 478, \"max\": 478}}}\u001b[0m\n",
      "\u001b[34m[08/30/2023 11:10:35 INFO 140026071775040] #throughput_metric: host=algo-1, train throughput=76132.84680477771 records/second\u001b[0m\n",
      "\u001b[34m[08/30/2023 11:10:35 INFO 140026071775040] #quality_metric: host=algo-1, epoch=66, batch=0 train binary_classification_accuracy <score>=0.846\u001b[0m\n",
      "\u001b[34m[08/30/2023 11:10:35 INFO 140026071775040] #quality_metric: host=algo-1, epoch=66, batch=0 train binary_classification_cross_entropy <loss>=0.3168544921875\u001b[0m\n",
      "\u001b[34m[08/30/2023 11:10:35 INFO 140026071775040] #quality_metric: host=algo-1, epoch=66, batch=0 train binary_f_1.000 <score>=0.9165763813651138\u001b[0m\n",
      "\u001b[34m[2023-08-30 11:10:38.593] [tensorio] [info] epoch_stats={\"data_pipeline\": \"/opt/ml/input/data/train\", \"epoch\": 134, \"duration\": 3145, \"num_examples\": 478, \"num_bytes\": 16157236}\u001b[0m\n",
      "\u001b[34m[08/30/2023 11:10:38 INFO 140026071775040] #quality_metric: host=algo-1, epoch=66, train binary_classification_accuracy <score>=0.8202970711297071\u001b[0m\n",
      "\u001b[34m[08/30/2023 11:10:38 INFO 140026071775040] #quality_metric: host=algo-1, epoch=66, train binary_classification_cross_entropy <loss>=0.33492860243410244\u001b[0m\n",
      "\u001b[34m[08/30/2023 11:10:38 INFO 140026071775040] #quality_metric: host=algo-1, epoch=66, train binary_f_1.000 <score>=0.9011801140769271\u001b[0m\n",
      "\u001b[34m#metrics {\"StartTime\": 1693393835.439784, \"EndTime\": 1693393838.5938368, \"Dimensions\": {\"Algorithm\": \"factorization-machines\", \"Host\": \"algo-1\", \"Operation\": \"training\"}, \"Metrics\": {\"update.time\": {\"sum\": 3152.52947807312, \"count\": 1, \"min\": 3152.52947807312, \"max\": 3152.52947807312}}}\u001b[0m\n",
      "\u001b[34m[08/30/2023 11:10:38 INFO 140026071775040] #progress_metric: host=algo-1, completed 67.0 % of epochs\u001b[0m\n",
      "\u001b[34m#metrics {\"StartTime\": 1693393835.4412751, \"EndTime\": 1693393838.5941443, \"Dimensions\": {\"Algorithm\": \"factorization-machines\", \"Host\": \"algo-1\", \"Operation\": \"training\", \"epoch\": 66, \"Meta\": \"training_data_iter\"}, \"Metrics\": {\"Total Records Seen\": {\"sum\": 15993333.0, \"count\": 1, \"min\": 15993333, \"max\": 15993333}, \"Total Batches Seen\": {\"sum\": 32027.0, \"count\": 1, \"min\": 32027, \"max\": 32027}, \"Max Records Seen Between Resets\": {\"sum\": 238699.0, \"count\": 1, \"min\": 238699, \"max\": 238699}, \"Max Batches Seen Between Resets\": {\"sum\": 478.0, \"count\": 1, \"min\": 478, \"max\": 478}, \"Reset Count\": {\"sum\": 68.0, \"count\": 1, \"min\": 68, \"max\": 68}, \"Number of Records Since Last Reset\": {\"sum\": 238699.0, \"count\": 1, \"min\": 238699, \"max\": 238699}, \"Number of Batches Since Last Reset\": {\"sum\": 478.0, \"count\": 1, \"min\": 478, \"max\": 478}}}\u001b[0m\n",
      "\u001b[34m[08/30/2023 11:10:38 INFO 140026071775040] #throughput_metric: host=algo-1, train throughput=75704.84197342086 records/second\u001b[0m\n",
      "\u001b[34m[08/30/2023 11:10:38 INFO 140026071775040] #quality_metric: host=algo-1, epoch=67, batch=0 train binary_classification_accuracy <score>=0.846\u001b[0m\n",
      "\u001b[34m[08/30/2023 11:10:38 INFO 140026071775040] #quality_metric: host=algo-1, epoch=67, batch=0 train binary_classification_cross_entropy <loss>=0.31543756103515624\u001b[0m\n",
      "\u001b[34m[08/30/2023 11:10:38 INFO 140026071775040] #quality_metric: host=algo-1, epoch=67, batch=0 train binary_f_1.000 <score>=0.9165763813651138\u001b[0m\n",
      "\u001b[34m[2023-08-30 11:10:41.730] [tensorio] [info] epoch_stats={\"data_pipeline\": \"/opt/ml/input/data/train\", \"epoch\": 136, \"duration\": 3128, \"num_examples\": 478, \"num_bytes\": 16157236}\u001b[0m\n",
      "\u001b[34m[08/30/2023 11:10:41 INFO 140026071775040] #quality_metric: host=algo-1, epoch=67, train binary_classification_accuracy <score>=0.8204058577405857\u001b[0m\n",
      "\u001b[34m[08/30/2023 11:10:41 INFO 140026071775040] #quality_metric: host=algo-1, epoch=67, train binary_classification_cross_entropy <loss>=0.33347942859857155\u001b[0m\n",
      "\u001b[34m[08/30/2023 11:10:41 INFO 140026071775040] #quality_metric: host=algo-1, epoch=67, train binary_f_1.000 <score>=0.9012340281596805\u001b[0m\n",
      "\u001b[34m#metrics {\"StartTime\": 1693393838.593934, \"EndTime\": 1693393841.7310996, \"Dimensions\": {\"Algorithm\": \"factorization-machines\", \"Host\": \"algo-1\", \"Operation\": \"training\"}, \"Metrics\": {\"update.time\": {\"sum\": 3135.571241378784, \"count\": 1, \"min\": 3135.571241378784, \"max\": 3135.571241378784}}}\u001b[0m\n",
      "\u001b[34m[08/30/2023 11:10:41 INFO 140026071775040] #progress_metric: host=algo-1, completed 68.0 % of epochs\u001b[0m\n",
      "\u001b[34m#metrics {\"StartTime\": 1693393838.595498, \"EndTime\": 1693393841.73136, \"Dimensions\": {\"Algorithm\": \"factorization-machines\", \"Host\": \"algo-1\", \"Operation\": \"training\", \"epoch\": 67, \"Meta\": \"training_data_iter\"}, \"Metrics\": {\"Total Records Seen\": {\"sum\": 16232032.0, \"count\": 1, \"min\": 16232032, \"max\": 16232032}, \"Total Batches Seen\": {\"sum\": 32505.0, \"count\": 1, \"min\": 32505, \"max\": 32505}, \"Max Records Seen Between Resets\": {\"sum\": 238699.0, \"count\": 1, \"min\": 238699, \"max\": 238699}, \"Max Batches Seen Between Resets\": {\"sum\": 478.0, \"count\": 1, \"min\": 478, \"max\": 478}, \"Reset Count\": {\"sum\": 69.0, \"count\": 1, \"min\": 69, \"max\": 69}, \"Number of Records Since Last Reset\": {\"sum\": 238699.0, \"count\": 1, \"min\": 238699, \"max\": 238699}, \"Number of Batches Since Last Reset\": {\"sum\": 478.0, \"count\": 1, \"min\": 478, \"max\": 478}}}\u001b[0m\n",
      "\u001b[34m[08/30/2023 11:10:41 INFO 140026071775040] #throughput_metric: host=algo-1, train throughput=76115.91657247617 records/second\u001b[0m\n",
      "\u001b[34m[08/30/2023 11:10:41 INFO 140026071775040] #quality_metric: host=algo-1, epoch=68, batch=0 train binary_classification_accuracy <score>=0.846\u001b[0m\n",
      "\u001b[34m[08/30/2023 11:10:41 INFO 140026071775040] #quality_metric: host=algo-1, epoch=68, batch=0 train binary_classification_cross_entropy <loss>=0.3140325927734375\u001b[0m\n",
      "\u001b[34m[08/30/2023 11:10:41 INFO 140026071775040] #quality_metric: host=algo-1, epoch=68, batch=0 train binary_f_1.000 <score>=0.9165763813651138\u001b[0m\n",
      "\u001b[34m[2023-08-30 11:10:44.850] [tensorio] [info] epoch_stats={\"data_pipeline\": \"/opt/ml/input/data/train\", \"epoch\": 138, \"duration\": 3108, \"num_examples\": 478, \"num_bytes\": 16157236}\u001b[0m\n",
      "\u001b[34m[08/30/2023 11:10:44 INFO 140026071775040] #quality_metric: host=algo-1, epoch=68, train binary_classification_accuracy <score>=0.8205732217573222\u001b[0m\n",
      "\u001b[34m[08/30/2023 11:10:44 INFO 140026071775040] #quality_metric: host=algo-1, epoch=68, train binary_classification_cross_entropy <loss>=0.33204283250625166\u001b[0m\n",
      "\u001b[34m[08/30/2023 11:10:44 INFO 140026071775040] #quality_metric: host=algo-1, epoch=68, train binary_f_1.000 <score>=0.9013169855000426\u001b[0m\n",
      "\u001b[34m#metrics {\"StartTime\": 1693393841.7311916, \"EndTime\": 1693393844.8515127, \"Dimensions\": {\"Algorithm\": \"factorization-machines\", \"Host\": \"algo-1\", \"Operation\": \"training\"}, \"Metrics\": {\"update.time\": {\"sum\": 3118.7784671783447, \"count\": 1, \"min\": 3118.7784671783447, \"max\": 3118.7784671783447}}}\u001b[0m\n",
      "\u001b[34m[08/30/2023 11:10:44 INFO 140026071775040] #progress_metric: host=algo-1, completed 69.0 % of epochs\u001b[0m\n",
      "\u001b[34m#metrics {\"StartTime\": 1693393841.732703, \"EndTime\": 1693393844.85188, \"Dimensions\": {\"Algorithm\": \"factorization-machines\", \"Host\": \"algo-1\", \"Operation\": \"training\", \"epoch\": 68, \"Meta\": \"training_data_iter\"}, \"Metrics\": {\"Total Records Seen\": {\"sum\": 16470731.0, \"count\": 1, \"min\": 16470731, \"max\": 16470731}, \"Total Batches Seen\": {\"sum\": 32983.0, \"count\": 1, \"min\": 32983, \"max\": 32983}, \"Max Records Seen Between Resets\": {\"sum\": 238699.0, \"count\": 1, \"min\": 238699, \"max\": 238699}, \"Max Batches Seen Between Resets\": {\"sum\": 478.0, \"count\": 1, \"min\": 478, \"max\": 478}, \"Reset Count\": {\"sum\": 70.0, \"count\": 1, \"min\": 70, \"max\": 70}, \"Number of Records Since Last Reset\": {\"sum\": 238699.0, \"count\": 1, \"min\": 238699, \"max\": 238699}, \"Number of Batches Since Last Reset\": {\"sum\": 478.0, \"count\": 1, \"min\": 478, \"max\": 478}}}\u001b[0m\n",
      "\u001b[34m[08/30/2023 11:10:44 INFO 140026071775040] #throughput_metric: host=algo-1, train throughput=76522.01535414248 records/second\u001b[0m\n",
      "\u001b[34m[08/30/2023 11:10:44 INFO 140026071775040] #quality_metric: host=algo-1, epoch=69, batch=0 train binary_classification_accuracy <score>=0.846\u001b[0m\n",
      "\u001b[34m[08/30/2023 11:10:44 INFO 140026071775040] #quality_metric: host=algo-1, epoch=69, batch=0 train binary_classification_cross_entropy <loss>=0.31263931274414064\u001b[0m\n",
      "\u001b[34m[08/30/2023 11:10:44 INFO 140026071775040] #quality_metric: host=algo-1, epoch=69, batch=0 train binary_f_1.000 <score>=0.9165763813651138\u001b[0m\n"
     ]
    },
    {
     "name": "stdout",
     "output_type": "stream",
     "text": [
      "\u001b[34m[2023-08-30 11:10:47.978] [tensorio] [info] epoch_stats={\"data_pipeline\": \"/opt/ml/input/data/train\", \"epoch\": 140, \"duration\": 3119, \"num_examples\": 478, \"num_bytes\": 16157236}\u001b[0m\n",
      "\u001b[34m[08/30/2023 11:10:47 INFO 140026071775040] #quality_metric: host=algo-1, epoch=69, train binary_classification_accuracy <score>=0.8207824267782426\u001b[0m\n",
      "\u001b[34m[08/30/2023 11:10:47 INFO 140026071775040] #quality_metric: host=algo-1, epoch=69, train binary_classification_cross_entropy <loss>=0.33061856992075134\u001b[0m\n",
      "\u001b[34m[08/30/2023 11:10:47 INFO 140026071775040] #quality_metric: host=algo-1, epoch=69, train binary_f_1.000 <score>=0.9014207036545202\u001b[0m\n",
      "\u001b[34m#metrics {\"StartTime\": 1693393844.8516638, \"EndTime\": 1693393847.9795132, \"Dimensions\": {\"Algorithm\": \"factorization-machines\", \"Host\": \"algo-1\", \"Operation\": \"training\"}, \"Metrics\": {\"update.time\": {\"sum\": 3126.283645629883, \"count\": 1, \"min\": 3126.283645629883, \"max\": 3126.283645629883}}}\u001b[0m\n",
      "\u001b[34m[08/30/2023 11:10:47 INFO 140026071775040] #progress_metric: host=algo-1, completed 70.0 % of epochs\u001b[0m\n",
      "\u001b[34m#metrics {\"StartTime\": 1693393844.8531973, \"EndTime\": 1693393847.9799078, \"Dimensions\": {\"Algorithm\": \"factorization-machines\", \"Host\": \"algo-1\", \"Operation\": \"training\", \"epoch\": 69, \"Meta\": \"training_data_iter\"}, \"Metrics\": {\"Total Records Seen\": {\"sum\": 16709430.0, \"count\": 1, \"min\": 16709430, \"max\": 16709430}, \"Total Batches Seen\": {\"sum\": 33461.0, \"count\": 1, \"min\": 33461, \"max\": 33461}, \"Max Records Seen Between Resets\": {\"sum\": 238699.0, \"count\": 1, \"min\": 238699, \"max\": 238699}, \"Max Batches Seen Between Resets\": {\"sum\": 478.0, \"count\": 1, \"min\": 478, \"max\": 478}, \"Reset Count\": {\"sum\": 71.0, \"count\": 1, \"min\": 71, \"max\": 71}, \"Number of Records Since Last Reset\": {\"sum\": 238699.0, \"count\": 1, \"min\": 238699, \"max\": 238699}, \"Number of Batches Since Last Reset\": {\"sum\": 478.0, \"count\": 1, \"min\": 478, \"max\": 478}}}\u001b[0m\n",
      "\u001b[34m[08/30/2023 11:10:47 INFO 140026071775040] #throughput_metric: host=algo-1, train throughput=76338.08867933793 records/second\u001b[0m\n",
      "\u001b[34m[08/30/2023 11:10:48 INFO 140026071775040] #quality_metric: host=algo-1, epoch=70, batch=0 train binary_classification_accuracy <score>=0.846\u001b[0m\n",
      "\u001b[34m[08/30/2023 11:10:48 INFO 140026071775040] #quality_metric: host=algo-1, epoch=70, batch=0 train binary_classification_cross_entropy <loss>=0.31125765991210935\u001b[0m\n",
      "\u001b[34m[08/30/2023 11:10:48 INFO 140026071775040] #quality_metric: host=algo-1, epoch=70, batch=0 train binary_f_1.000 <score>=0.9165763813651138\u001b[0m\n",
      "\u001b[34m[2023-08-30 11:10:51.124] [tensorio] [info] epoch_stats={\"data_pipeline\": \"/opt/ml/input/data/train\", \"epoch\": 142, \"duration\": 3137, \"num_examples\": 478, \"num_bytes\": 16157236}\u001b[0m\n",
      "\u001b[34m[08/30/2023 11:10:51 INFO 140026071775040] #quality_metric: host=algo-1, epoch=70, train binary_classification_accuracy <score>=0.8210292887029289\u001b[0m\n",
      "\u001b[34m[08/30/2023 11:10:51 INFO 140026071775040] #quality_metric: host=algo-1, epoch=70, train binary_classification_cross_entropy <loss>=0.3292063977229545\u001b[0m\n",
      "\u001b[34m[08/30/2023 11:10:51 INFO 140026071775040] #quality_metric: host=algo-1, epoch=70, train binary_f_1.000 <score>=0.9015431217832448\u001b[0m\n",
      "\u001b[34m#metrics {\"StartTime\": 1693393847.9796429, \"EndTime\": 1693393851.1252806, \"Dimensions\": {\"Algorithm\": \"factorization-machines\", \"Host\": \"algo-1\", \"Operation\": \"training\"}, \"Metrics\": {\"update.time\": {\"sum\": 3144.0463066101074, \"count\": 1, \"min\": 3144.0463066101074, \"max\": 3144.0463066101074}}}\u001b[0m\n",
      "\u001b[34m[08/30/2023 11:10:51 INFO 140026071775040] #progress_metric: host=algo-1, completed 71.0 % of epochs\u001b[0m\n",
      "\u001b[34m#metrics {\"StartTime\": 1693393847.9812064, \"EndTime\": 1693393851.1255107, \"Dimensions\": {\"Algorithm\": \"factorization-machines\", \"Host\": \"algo-1\", \"Operation\": \"training\", \"epoch\": 70, \"Meta\": \"training_data_iter\"}, \"Metrics\": {\"Total Records Seen\": {\"sum\": 16948129.0, \"count\": 1, \"min\": 16948129, \"max\": 16948129}, \"Total Batches Seen\": {\"sum\": 33939.0, \"count\": 1, \"min\": 33939, \"max\": 33939}, \"Max Records Seen Between Resets\": {\"sum\": 238699.0, \"count\": 1, \"min\": 238699, \"max\": 238699}, \"Max Batches Seen Between Resets\": {\"sum\": 478.0, \"count\": 1, \"min\": 478, \"max\": 478}, \"Reset Count\": {\"sum\": 72.0, \"count\": 1, \"min\": 72, \"max\": 72}, \"Number of Records Since Last Reset\": {\"sum\": 238699.0, \"count\": 1, \"min\": 238699, \"max\": 238699}, \"Number of Batches Since Last Reset\": {\"sum\": 478.0, \"count\": 1, \"min\": 478, \"max\": 478}}}\u001b[0m\n",
      "\u001b[34m[08/30/2023 11:10:51 INFO 140026071775040] #throughput_metric: host=algo-1, train throughput=75911.4631157575 records/second\u001b[0m\n",
      "\u001b[34m[08/30/2023 11:10:51 INFO 140026071775040] #quality_metric: host=algo-1, epoch=71, batch=0 train binary_classification_accuracy <score>=0.846\u001b[0m\n",
      "\u001b[34m[08/30/2023 11:10:51 INFO 140026071775040] #quality_metric: host=algo-1, epoch=71, batch=0 train binary_classification_cross_entropy <loss>=0.30988739013671873\u001b[0m\n",
      "\u001b[34m[08/30/2023 11:10:51 INFO 140026071775040] #quality_metric: host=algo-1, epoch=71, batch=0 train binary_f_1.000 <score>=0.9165763813651138\u001b[0m\n",
      "\u001b[34m[2023-08-30 11:10:54.251] [tensorio] [info] epoch_stats={\"data_pipeline\": \"/opt/ml/input/data/train\", \"epoch\": 144, \"duration\": 3071, \"num_examples\": 478, \"num_bytes\": 16157236}\u001b[0m\n",
      "\u001b[34m[08/30/2023 11:10:54 INFO 140026071775040] #quality_metric: host=algo-1, epoch=71, train binary_classification_accuracy <score>=0.821326359832636\u001b[0m\n",
      "\u001b[34m[08/30/2023 11:10:54 INFO 140026071775040] #quality_metric: host=algo-1, epoch=71, train binary_classification_cross_entropy <loss>=0.3278060883717557\u001b[0m\n",
      "\u001b[34m[08/30/2023 11:10:54 INFO 140026071775040] #quality_metric: host=algo-1, epoch=71, train binary_f_1.000 <score>=0.9016904826036609\u001b[0m\n",
      "\u001b[34m#metrics {\"StartTime\": 1693393851.1253605, \"EndTime\": 1693393854.253076, \"Dimensions\": {\"Algorithm\": \"factorization-machines\", \"Host\": \"algo-1\", \"Operation\": \"training\"}, \"Metrics\": {\"update.time\": {\"sum\": 3126.0859966278076, \"count\": 1, \"min\": 3126.0859966278076, \"max\": 3126.0859966278076}}}\u001b[0m\n",
      "\u001b[34m[08/30/2023 11:10:54 INFO 140026071775040] #progress_metric: host=algo-1, completed 72.0 % of epochs\u001b[0m\n",
      "\u001b[34m#metrics {\"StartTime\": 1693393851.1269584, \"EndTime\": 1693393854.2533698, \"Dimensions\": {\"Algorithm\": \"factorization-machines\", \"Host\": \"algo-1\", \"Operation\": \"training\", \"epoch\": 71, \"Meta\": \"training_data_iter\"}, \"Metrics\": {\"Total Records Seen\": {\"sum\": 17186828.0, \"count\": 1, \"min\": 17186828, \"max\": 17186828}, \"Total Batches Seen\": {\"sum\": 34417.0, \"count\": 1, \"min\": 34417, \"max\": 34417}, \"Max Records Seen Between Resets\": {\"sum\": 238699.0, \"count\": 1, \"min\": 238699, \"max\": 238699}, \"Max Batches Seen Between Resets\": {\"sum\": 478.0, \"count\": 1, \"min\": 478, \"max\": 478}, \"Reset Count\": {\"sum\": 73.0, \"count\": 1, \"min\": 73, \"max\": 73}, \"Number of Records Since Last Reset\": {\"sum\": 238699.0, \"count\": 1, \"min\": 238699, \"max\": 238699}, \"Number of Batches Since Last Reset\": {\"sum\": 478.0, \"count\": 1, \"min\": 478, \"max\": 478}}}\u001b[0m\n",
      "\u001b[34m[08/30/2023 11:10:54 INFO 140026071775040] #throughput_metric: host=algo-1, train throughput=76345.48163051355 records/second\u001b[0m\n",
      "\u001b[34m[08/30/2023 11:10:54 INFO 140026071775040] #quality_metric: host=algo-1, epoch=72, batch=0 train binary_classification_accuracy <score>=0.846\u001b[0m\n",
      "\u001b[34m[08/30/2023 11:10:54 INFO 140026071775040] #quality_metric: host=algo-1, epoch=72, batch=0 train binary_classification_cross_entropy <loss>=0.3085284118652344\u001b[0m\n",
      "\u001b[34m[08/30/2023 11:10:54 INFO 140026071775040] #quality_metric: host=algo-1, epoch=72, batch=0 train binary_f_1.000 <score>=0.9165763813651138\u001b[0m\n",
      "\u001b[34m[2023-08-30 11:10:57.396] [tensorio] [info] epoch_stats={\"data_pipeline\": \"/opt/ml/input/data/train\", \"epoch\": 146, \"duration\": 3131, \"num_examples\": 478, \"num_bytes\": 16157236}\u001b[0m\n",
      "\u001b[34m[08/30/2023 11:10:57 INFO 140026071775040] #quality_metric: host=algo-1, epoch=72, train binary_classification_accuracy <score>=0.8215941422594142\u001b[0m\n",
      "\u001b[34m[08/30/2023 11:10:57 INFO 140026071775040] #quality_metric: host=algo-1, epoch=72, train binary_classification_cross_entropy <loss>=0.3264174168159772\u001b[0m\n",
      "\u001b[34m[08/30/2023 11:10:57 INFO 140026071775040] #quality_metric: host=algo-1, epoch=72, train binary_f_1.000 <score>=0.9018233561818889\u001b[0m\n",
      "\u001b[34m#metrics {\"StartTime\": 1693393854.2531574, \"EndTime\": 1693393857.3970873, \"Dimensions\": {\"Algorithm\": \"factorization-machines\", \"Host\": \"algo-1\", \"Operation\": \"training\"}, \"Metrics\": {\"update.time\": {\"sum\": 3142.312526702881, \"count\": 1, \"min\": 3142.312526702881, \"max\": 3142.312526702881}}}\u001b[0m\n",
      "\u001b[34m[08/30/2023 11:10:57 INFO 140026071775040] #progress_metric: host=algo-1, completed 73.0 % of epochs\u001b[0m\n",
      "\u001b[34m#metrics {\"StartTime\": 1693393854.2547462, \"EndTime\": 1693393857.3974166, \"Dimensions\": {\"Algorithm\": \"factorization-machines\", \"Host\": \"algo-1\", \"Operation\": \"training\", \"epoch\": 72, \"Meta\": \"training_data_iter\"}, \"Metrics\": {\"Total Records Seen\": {\"sum\": 17425527.0, \"count\": 1, \"min\": 17425527, \"max\": 17425527}, \"Total Batches Seen\": {\"sum\": 34895.0, \"count\": 1, \"min\": 34895, \"max\": 34895}, \"Max Records Seen Between Resets\": {\"sum\": 238699.0, \"count\": 1, \"min\": 238699, \"max\": 238699}, \"Max Batches Seen Between Resets\": {\"sum\": 478.0, \"count\": 1, \"min\": 478, \"max\": 478}, \"Reset Count\": {\"sum\": 74.0, \"count\": 1, \"min\": 74, \"max\": 74}, \"Number of Records Since Last Reset\": {\"sum\": 238699.0, \"count\": 1, \"min\": 238699, \"max\": 238699}, \"Number of Batches Since Last Reset\": {\"sum\": 478.0, \"count\": 1, \"min\": 478, \"max\": 478}}}\u001b[0m\n",
      "\u001b[34m[08/30/2023 11:10:57 INFO 140026071775040] #throughput_metric: host=algo-1, train throughput=75950.00035244916 records/second\u001b[0m\n",
      "\u001b[34m[08/30/2023 11:10:57 INFO 140026071775040] #quality_metric: host=algo-1, epoch=73, batch=0 train binary_classification_accuracy <score>=0.846\u001b[0m\n",
      "\u001b[34m[08/30/2023 11:10:57 INFO 140026071775040] #quality_metric: host=algo-1, epoch=73, batch=0 train binary_classification_cross_entropy <loss>=0.3071805419921875\u001b[0m\n",
      "\u001b[34m[08/30/2023 11:10:57 INFO 140026071775040] #quality_metric: host=algo-1, epoch=73, batch=0 train binary_f_1.000 <score>=0.9165763813651138\u001b[0m\n"
     ]
    },
    {
     "name": "stdout",
     "output_type": "stream",
     "text": [
      "\u001b[34m[2023-08-30 11:11:00.572] [tensorio] [info] epoch_stats={\"data_pipeline\": \"/opt/ml/input/data/train\", \"epoch\": 148, \"duration\": 3167, \"num_examples\": 478, \"num_bytes\": 16157236}\u001b[0m\n",
      "\u001b[34m[08/30/2023 11:11:00 INFO 140026071775040] #quality_metric: host=algo-1, epoch=73, train binary_classification_accuracy <score>=0.8218242677824268\u001b[0m\n",
      "\u001b[34m[08/30/2023 11:11:00 INFO 140026071775040] #quality_metric: host=algo-1, epoch=73, train binary_classification_cross_entropy <loss>=0.32504016563383603\u001b[0m\n",
      "\u001b[34m[08/30/2023 11:11:00 INFO 140026071775040] #quality_metric: host=algo-1, epoch=73, train binary_f_1.000 <score>=0.9019375757045416\u001b[0m\n",
      "\u001b[34m#metrics {\"StartTime\": 1693393857.3971896, \"EndTime\": 1693393860.5735042, \"Dimensions\": {\"Algorithm\": \"factorization-machines\", \"Host\": \"algo-1\", \"Operation\": \"training\"}, \"Metrics\": {\"update.time\": {\"sum\": 3174.7591495513916, \"count\": 1, \"min\": 3174.7591495513916, \"max\": 3174.7591495513916}}}\u001b[0m\n",
      "\u001b[34m[08/30/2023 11:11:00 INFO 140026071775040] #progress_metric: host=algo-1, completed 74.0 % of epochs\u001b[0m\n",
      "\u001b[34m#metrics {\"StartTime\": 1693393857.3987122, \"EndTime\": 1693393860.5738695, \"Dimensions\": {\"Algorithm\": \"factorization-machines\", \"Host\": \"algo-1\", \"Operation\": \"training\", \"epoch\": 73, \"Meta\": \"training_data_iter\"}, \"Metrics\": {\"Total Records Seen\": {\"sum\": 17664226.0, \"count\": 1, \"min\": 17664226, \"max\": 17664226}, \"Total Batches Seen\": {\"sum\": 35373.0, \"count\": 1, \"min\": 35373, \"max\": 35373}, \"Max Records Seen Between Resets\": {\"sum\": 238699.0, \"count\": 1, \"min\": 238699, \"max\": 238699}, \"Max Batches Seen Between Resets\": {\"sum\": 478.0, \"count\": 1, \"min\": 478, \"max\": 478}, \"Reset Count\": {\"sum\": 75.0, \"count\": 1, \"min\": 75, \"max\": 75}, \"Number of Records Since Last Reset\": {\"sum\": 238699.0, \"count\": 1, \"min\": 238699, \"max\": 238699}, \"Number of Batches Since Last Reset\": {\"sum\": 478.0, \"count\": 1, \"min\": 478, \"max\": 478}}}\u001b[0m\n",
      "\u001b[34m[08/30/2023 11:11:00 INFO 140026071775040] #throughput_metric: host=algo-1, train throughput=75172.63729683214 records/second\u001b[0m\n",
      "\u001b[34m[08/30/2023 11:11:00 INFO 140026071775040] #quality_metric: host=algo-1, epoch=74, batch=0 train binary_classification_accuracy <score>=0.846\u001b[0m\n",
      "\u001b[34m[08/30/2023 11:11:00 INFO 140026071775040] #quality_metric: host=algo-1, epoch=74, batch=0 train binary_classification_cross_entropy <loss>=0.3058436279296875\u001b[0m\n",
      "\u001b[34m[08/30/2023 11:11:00 INFO 140026071775040] #quality_metric: host=algo-1, epoch=74, batch=0 train binary_f_1.000 <score>=0.9165763813651138\u001b[0m\n",
      "\u001b[34m[2023-08-30 11:11:04.383] [tensorio] [info] epoch_stats={\"data_pipeline\": \"/opt/ml/input/data/train\", \"epoch\": 150, \"duration\": 3802, \"num_examples\": 478, \"num_bytes\": 16157236}\u001b[0m\n",
      "\u001b[34m[08/30/2023 11:11:04 INFO 140026071775040] #quality_metric: host=algo-1, epoch=74, train binary_classification_accuracy <score>=0.8219916317991631\u001b[0m\n",
      "\u001b[34m[08/30/2023 11:11:04 INFO 140026071775040] #quality_metric: host=algo-1, epoch=74, train binary_classification_cross_entropy <loss>=0.3236741278740153\u001b[0m\n",
      "\u001b[34m[08/30/2023 11:11:04 INFO 140026071775040] #quality_metric: host=algo-1, epoch=74, train binary_f_1.000 <score>=0.9020206626225779\u001b[0m\n",
      "\u001b[34m#metrics {\"StartTime\": 1693393860.573637, \"EndTime\": 1693393864.3841612, \"Dimensions\": {\"Algorithm\": \"factorization-machines\", \"Host\": \"algo-1\", \"Operation\": \"training\"}, \"Metrics\": {\"update.time\": {\"sum\": 3808.870315551758, \"count\": 1, \"min\": 3808.870315551758, \"max\": 3808.870315551758}}}\u001b[0m\n",
      "\u001b[34m[08/30/2023 11:11:04 INFO 140026071775040] #progress_metric: host=algo-1, completed 75.0 % of epochs\u001b[0m\n",
      "\u001b[34m#metrics {\"StartTime\": 1693393860.5752604, \"EndTime\": 1693393864.38446, \"Dimensions\": {\"Algorithm\": \"factorization-machines\", \"Host\": \"algo-1\", \"Operation\": \"training\", \"epoch\": 74, \"Meta\": \"training_data_iter\"}, \"Metrics\": {\"Total Records Seen\": {\"sum\": 17902925.0, \"count\": 1, \"min\": 17902925, \"max\": 17902925}, \"Total Batches Seen\": {\"sum\": 35851.0, \"count\": 1, \"min\": 35851, \"max\": 35851}, \"Max Records Seen Between Resets\": {\"sum\": 238699.0, \"count\": 1, \"min\": 238699, \"max\": 238699}, \"Max Batches Seen Between Resets\": {\"sum\": 478.0, \"count\": 1, \"min\": 478, \"max\": 478}, \"Reset Count\": {\"sum\": 76.0, \"count\": 1, \"min\": 76, \"max\": 76}, \"Number of Records Since Last Reset\": {\"sum\": 238699.0, \"count\": 1, \"min\": 238699, \"max\": 238699}, \"Number of Batches Since Last Reset\": {\"sum\": 478.0, \"count\": 1, \"min\": 478, \"max\": 478}}}\u001b[0m\n",
      "\u001b[34m[08/30/2023 11:11:04 INFO 140026071775040] #throughput_metric: host=algo-1, train throughput=62661.13441984435 records/second\u001b[0m\n",
      "\u001b[34m[08/30/2023 11:11:04 INFO 140026071775040] #quality_metric: host=algo-1, epoch=75, batch=0 train binary_classification_accuracy <score>=0.846\u001b[0m\n",
      "\u001b[34m[08/30/2023 11:11:04 INFO 140026071775040] #quality_metric: host=algo-1, epoch=75, batch=0 train binary_classification_cross_entropy <loss>=0.3045174560546875\u001b[0m\n",
      "\u001b[34m[08/30/2023 11:11:04 INFO 140026071775040] #quality_metric: host=algo-1, epoch=75, batch=0 train binary_f_1.000 <score>=0.9165763813651138\u001b[0m\n",
      "\u001b[34m[2023-08-30 11:11:07.585] [tensorio] [info] epoch_stats={\"data_pipeline\": \"/opt/ml/input/data/train\", \"epoch\": 152, \"duration\": 3192, \"num_examples\": 478, \"num_bytes\": 16157236}\u001b[0m\n",
      "\u001b[34m[08/30/2023 11:11:07 INFO 140026071775040] #quality_metric: host=algo-1, epoch=75, train binary_classification_accuracy <score>=0.8222259414225942\u001b[0m\n",
      "\u001b[34m[08/30/2023 11:11:07 INFO 140026071775040] #quality_metric: host=algo-1, epoch=75, train binary_classification_cross_entropy <loss>=0.3223191003200898\u001b[0m\n",
      "\u001b[34m[08/30/2023 11:11:07 INFO 140026071775040] #quality_metric: host=algo-1, epoch=75, train binary_f_1.000 <score>=0.9021370100286071\u001b[0m\n",
      "\u001b[34m#metrics {\"StartTime\": 1693393864.384259, \"EndTime\": 1693393867.5859182, \"Dimensions\": {\"Algorithm\": \"factorization-machines\", \"Host\": \"algo-1\", \"Operation\": \"training\"}, \"Metrics\": {\"update.time\": {\"sum\": 3200.005054473877, \"count\": 1, \"min\": 3200.005054473877, \"max\": 3200.005054473877}}}\u001b[0m\n",
      "\u001b[34m[08/30/2023 11:11:07 INFO 140026071775040] #progress_metric: host=algo-1, completed 76.0 % of epochs\u001b[0m\n",
      "\u001b[34m#metrics {\"StartTime\": 1693393864.3858814, \"EndTime\": 1693393867.586205, \"Dimensions\": {\"Algorithm\": \"factorization-machines\", \"Host\": \"algo-1\", \"Operation\": \"training\", \"epoch\": 75, \"Meta\": \"training_data_iter\"}, \"Metrics\": {\"Total Records Seen\": {\"sum\": 18141624.0, \"count\": 1, \"min\": 18141624, \"max\": 18141624}, \"Total Batches Seen\": {\"sum\": 36329.0, \"count\": 1, \"min\": 36329, \"max\": 36329}, \"Max Records Seen Between Resets\": {\"sum\": 238699.0, \"count\": 1, \"min\": 238699, \"max\": 238699}, \"Max Batches Seen Between Resets\": {\"sum\": 478.0, \"count\": 1, \"min\": 478, \"max\": 478}, \"Reset Count\": {\"sum\": 77.0, \"count\": 1, \"min\": 77, \"max\": 77}, \"Number of Records Since Last Reset\": {\"sum\": 238699.0, \"count\": 1, \"min\": 238699, \"max\": 238699}, \"Number of Batches Since Last Reset\": {\"sum\": 478.0, \"count\": 1, \"min\": 478, \"max\": 478}}}\u001b[0m\n",
      "\u001b[34m[08/30/2023 11:11:07 INFO 140026071775040] #throughput_metric: host=algo-1, train throughput=74582.29497657067 records/second\u001b[0m\n",
      "\u001b[34m[08/30/2023 11:11:07 INFO 140026071775040] #quality_metric: host=algo-1, epoch=76, batch=0 train binary_classification_accuracy <score>=0.846\u001b[0m\n",
      "\u001b[34m[08/30/2023 11:11:07 INFO 140026071775040] #quality_metric: host=algo-1, epoch=76, batch=0 train binary_classification_cross_entropy <loss>=0.3032019958496094\u001b[0m\n",
      "\u001b[34m[08/30/2023 11:11:07 INFO 140026071775040] #quality_metric: host=algo-1, epoch=76, batch=0 train binary_f_1.000 <score>=0.9165763813651138\u001b[0m\n",
      "\u001b[34m[2023-08-30 11:11:10.706] [tensorio] [info] epoch_stats={\"data_pipeline\": \"/opt/ml/input/data/train\", \"epoch\": 154, \"duration\": 3108, \"num_examples\": 478, \"num_bytes\": 16157236}\u001b[0m\n",
      "\u001b[34m[08/30/2023 11:11:10 INFO 140026071775040] #quality_metric: host=algo-1, epoch=76, train binary_classification_accuracy <score>=0.8224476987447699\u001b[0m\n",
      "\u001b[34m[08/30/2023 11:11:10 INFO 140026071775040] #quality_metric: host=algo-1, epoch=76, train binary_classification_cross_entropy <loss>=0.32097488339476005\u001b[0m\n",
      "\u001b[34m[08/30/2023 11:11:10 INFO 140026071775040] #quality_metric: host=algo-1, epoch=76, train binary_f_1.000 <score>=0.9022471521866829\u001b[0m\n",
      "\u001b[34m#metrics {\"StartTime\": 1693393867.5860205, \"EndTime\": 1693393870.7066474, \"Dimensions\": {\"Algorithm\": \"factorization-machines\", \"Host\": \"algo-1\", \"Operation\": \"training\"}, \"Metrics\": {\"update.time\": {\"sum\": 3119.004964828491, \"count\": 1, \"min\": 3119.004964828491, \"max\": 3119.004964828491}}}\u001b[0m\n",
      "\u001b[34m[08/30/2023 11:11:10 INFO 140026071775040] #progress_metric: host=algo-1, completed 77.0 % of epochs\u001b[0m\n",
      "\u001b[34m#metrics {\"StartTime\": 1693393867.587614, \"EndTime\": 1693393870.7068942, \"Dimensions\": {\"Algorithm\": \"factorization-machines\", \"Host\": \"algo-1\", \"Operation\": \"training\", \"epoch\": 76, \"Meta\": \"training_data_iter\"}, \"Metrics\": {\"Total Records Seen\": {\"sum\": 18380323.0, \"count\": 1, \"min\": 18380323, \"max\": 18380323}, \"Total Batches Seen\": {\"sum\": 36807.0, \"count\": 1, \"min\": 36807, \"max\": 36807}, \"Max Records Seen Between Resets\": {\"sum\": 238699.0, \"count\": 1, \"min\": 238699, \"max\": 238699}, \"Max Batches Seen Between Resets\": {\"sum\": 478.0, \"count\": 1, \"min\": 478, \"max\": 478}, \"Reset Count\": {\"sum\": 78.0, \"count\": 1, \"min\": 78, \"max\": 78}, \"Number of Records Since Last Reset\": {\"sum\": 238699.0, \"count\": 1, \"min\": 238699, \"max\": 238699}, \"Number of Batches Since Last Reset\": {\"sum\": 478.0, \"count\": 1, \"min\": 478, \"max\": 478}}}\u001b[0m\n",
      "\u001b[34m[08/30/2023 11:11:10 INFO 140026071775040] #throughput_metric: host=algo-1, train throughput=76520.45377250537 records/second\u001b[0m\n",
      "\u001b[34m[08/30/2023 11:11:10 INFO 140026071775040] #quality_metric: host=algo-1, epoch=77, batch=0 train binary_classification_accuracy <score>=0.846\u001b[0m\n",
      "\u001b[34m[08/30/2023 11:11:10 INFO 140026071775040] #quality_metric: host=algo-1, epoch=77, batch=0 train binary_classification_cross_entropy <loss>=0.30189697265625\u001b[0m\n",
      "\u001b[34m[08/30/2023 11:11:10 INFO 140026071775040] #quality_metric: host=algo-1, epoch=77, batch=0 train binary_f_1.000 <score>=0.9165763813651138\u001b[0m\n",
      "\u001b[34m[2023-08-30 11:11:13.879] [tensorio] [info] epoch_stats={\"data_pipeline\": \"/opt/ml/input/data/train\", \"epoch\": 156, \"duration\": 3165, \"num_examples\": 478, \"num_bytes\": 16157236}\u001b[0m\n",
      "\u001b[34m[08/30/2023 11:11:13 INFO 140026071775040] #quality_metric: host=algo-1, epoch=77, train binary_classification_accuracy <score>=0.8226694560669456\u001b[0m\n",
      "\u001b[34m[08/30/2023 11:11:13 INFO 140026071775040] #quality_metric: host=algo-1, epoch=77, train binary_classification_cross_entropy <loss>=0.3196412861077855\u001b[0m\n",
      "\u001b[34m[08/30/2023 11:11:13 INFO 140026071775040] #quality_metric: host=algo-1, epoch=77, train binary_f_1.000 <score>=0.9023573212426161\u001b[0m\n",
      "\u001b[34m#metrics {\"StartTime\": 1693393870.7067282, \"EndTime\": 1693393873.8805802, \"Dimensions\": {\"Algorithm\": \"factorization-machines\", \"Host\": \"algo-1\", \"Operation\": \"training\"}, \"Metrics\": {\"update.time\": {\"sum\": 3172.2848415374756, \"count\": 1, \"min\": 3172.2848415374756, \"max\": 3172.2848415374756}}}\u001b[0m\n",
      "\u001b[34m[08/30/2023 11:11:13 INFO 140026071775040] #progress_metric: host=algo-1, completed 78.0 % of epochs\u001b[0m\n",
      "\u001b[34m#metrics {\"StartTime\": 1693393870.7082634, \"EndTime\": 1693393873.880879, \"Dimensions\": {\"Algorithm\": \"factorization-machines\", \"Host\": \"algo-1\", \"Operation\": \"training\", \"epoch\": 77, \"Meta\": \"training_data_iter\"}, \"Metrics\": {\"Total Records Seen\": {\"sum\": 18619022.0, \"count\": 1, \"min\": 18619022, \"max\": 18619022}, \"Total Batches Seen\": {\"sum\": 37285.0, \"count\": 1, \"min\": 37285, \"max\": 37285}, \"Max Records Seen Between Resets\": {\"sum\": 238699.0, \"count\": 1, \"min\": 238699, \"max\": 238699}, \"Max Batches Seen Between Resets\": {\"sum\": 478.0, \"count\": 1, \"min\": 478, \"max\": 478}, \"Reset Count\": {\"sum\": 79.0, \"count\": 1, \"min\": 79, \"max\": 79}, \"Number of Records Since Last Reset\": {\"sum\": 238699.0, \"count\": 1, \"min\": 238699, \"max\": 238699}, \"Number of Batches Since Last Reset\": {\"sum\": 478.0, \"count\": 1, \"min\": 478, \"max\": 478}}}\u001b[0m\n",
      "\u001b[34m[08/30/2023 11:11:13 INFO 140026071775040] #throughput_metric: host=algo-1, train throughput=75233.86555090656 records/second\u001b[0m\n",
      "\u001b[34m[08/30/2023 11:11:13 INFO 140026071775040] #quality_metric: host=algo-1, epoch=78, batch=0 train binary_classification_accuracy <score>=0.846\u001b[0m\n",
      "\u001b[34m[08/30/2023 11:11:13 INFO 140026071775040] #quality_metric: host=algo-1, epoch=78, batch=0 train binary_classification_cross_entropy <loss>=0.300602294921875\u001b[0m\n",
      "\u001b[34m[08/30/2023 11:11:13 INFO 140026071775040] #quality_metric: host=algo-1, epoch=78, batch=0 train binary_f_1.000 <score>=0.9165763813651138\u001b[0m\n",
      "\u001b[34m[2023-08-30 11:11:16.998] [tensorio] [info] epoch_stats={\"data_pipeline\": \"/opt/ml/input/data/train\", \"epoch\": 158, \"duration\": 3110, \"num_examples\": 478, \"num_bytes\": 16157236}\u001b[0m\n",
      "\u001b[34m[08/30/2023 11:11:16 INFO 140026071775040] #quality_metric: host=algo-1, epoch=78, train binary_classification_accuracy <score>=0.8229037656903766\u001b[0m\n",
      "\u001b[34m[08/30/2023 11:11:16 INFO 140026071775040] #quality_metric: host=algo-1, epoch=78, train binary_classification_cross_entropy <loss>=0.31831812484294303\u001b[0m\n",
      "\u001b[34m[08/30/2023 11:11:16 INFO 140026071775040] #quality_metric: host=algo-1, epoch=78, train binary_f_1.000 <score>=0.9024737555184841\u001b[0m\n",
      "\u001b[34m#metrics {\"StartTime\": 1693393873.880678, \"EndTime\": 1693393876.9994628, \"Dimensions\": {\"Algorithm\": \"factorization-machines\", \"Host\": \"algo-1\", \"Operation\": \"training\"}, \"Metrics\": {\"update.time\": {\"sum\": 3117.1445846557617, \"count\": 1, \"min\": 3117.1445846557617, \"max\": 3117.1445846557617}}}\u001b[0m\n",
      "\u001b[34m[08/30/2023 11:11:16 INFO 140026071775040] #progress_metric: host=algo-1, completed 79.0 % of epochs\u001b[0m\n",
      "\u001b[34m#metrics {\"StartTime\": 1693393873.8822875, \"EndTime\": 1693393876.999779, \"Dimensions\": {\"Algorithm\": \"factorization-machines\", \"Host\": \"algo-1\", \"Operation\": \"training\", \"epoch\": 78, \"Meta\": \"training_data_iter\"}, \"Metrics\": {\"Total Records Seen\": {\"sum\": 18857721.0, \"count\": 1, \"min\": 18857721, \"max\": 18857721}, \"Total Batches Seen\": {\"sum\": 37763.0, \"count\": 1, \"min\": 37763, \"max\": 37763}, \"Max Records Seen Between Resets\": {\"sum\": 238699.0, \"count\": 1, \"min\": 238699, \"max\": 238699}, \"Max Batches Seen Between Resets\": {\"sum\": 478.0, \"count\": 1, \"min\": 478, \"max\": 478}, \"Reset Count\": {\"sum\": 80.0, \"count\": 1, \"min\": 80, \"max\": 80}, \"Number of Records Since Last Reset\": {\"sum\": 238699.0, \"count\": 1, \"min\": 238699, \"max\": 238699}, \"Number of Batches Since Last Reset\": {\"sum\": 478.0, \"count\": 1, \"min\": 478, \"max\": 478}}}\u001b[0m\n",
      "\u001b[34m[08/30/2023 11:11:16 INFO 140026071775040] #throughput_metric: host=algo-1, train throughput=76564.20801886161 records/second\u001b[0m\n",
      "\u001b[34m[08/30/2023 11:11:17 INFO 140026071775040] #quality_metric: host=algo-1, epoch=79, batch=0 train binary_classification_accuracy <score>=0.846\u001b[0m\n",
      "\u001b[34m[08/30/2023 11:11:17 INFO 140026071775040] #quality_metric: host=algo-1, epoch=79, batch=0 train binary_classification_cross_entropy <loss>=0.29931787109375\u001b[0m\n",
      "\u001b[34m[08/30/2023 11:11:17 INFO 140026071775040] #quality_metric: host=algo-1, epoch=79, batch=0 train binary_f_1.000 <score>=0.9165763813651138\u001b[0m\n"
     ]
    },
    {
     "name": "stdout",
     "output_type": "stream",
     "text": [
      "\u001b[34m[2023-08-30 11:11:20.124] [tensorio] [info] epoch_stats={\"data_pipeline\": \"/opt/ml/input/data/train\", \"epoch\": 160, \"duration\": 3116, \"num_examples\": 478, \"num_bytes\": 16157236}\u001b[0m\n",
      "\u001b[34m[08/30/2023 11:11:20 INFO 140026071775040] #quality_metric: host=algo-1, epoch=79, train binary_classification_accuracy <score>=0.8231715481171548\u001b[0m\n",
      "\u001b[34m[08/30/2023 11:11:20 INFO 140026071775040] #quality_metric: host=algo-1, epoch=79, train binary_classification_cross_entropy <loss>=0.3170052192400689\u001b[0m\n",
      "\u001b[34m[08/30/2023 11:11:20 INFO 140026071775040] #quality_metric: host=algo-1, epoch=79, train binary_f_1.000 <score>=0.9026068600610234\u001b[0m\n",
      "\u001b[34m#metrics {\"StartTime\": 1693393876.9995906, \"EndTime\": 1693393880.1252203, \"Dimensions\": {\"Algorithm\": \"factorization-machines\", \"Host\": \"algo-1\", \"Operation\": \"training\"}, \"Metrics\": {\"update.time\": {\"sum\": 3124.0296363830566, \"count\": 1, \"min\": 3124.0296363830566, \"max\": 3124.0296363830566}}}\u001b[0m\n",
      "\u001b[34m[08/30/2023 11:11:20 INFO 140026071775040] #progress_metric: host=algo-1, completed 80.0 % of epochs\u001b[0m\n",
      "\u001b[34m#metrics {\"StartTime\": 1693393877.0011587, \"EndTime\": 1693393880.125555, \"Dimensions\": {\"Algorithm\": \"factorization-machines\", \"Host\": \"algo-1\", \"Operation\": \"training\", \"epoch\": 79, \"Meta\": \"training_data_iter\"}, \"Metrics\": {\"Total Records Seen\": {\"sum\": 19096420.0, \"count\": 1, \"min\": 19096420, \"max\": 19096420}, \"Total Batches Seen\": {\"sum\": 38241.0, \"count\": 1, \"min\": 38241, \"max\": 38241}, \"Max Records Seen Between Resets\": {\"sum\": 238699.0, \"count\": 1, \"min\": 238699, \"max\": 238699}, \"Max Batches Seen Between Resets\": {\"sum\": 478.0, \"count\": 1, \"min\": 478, \"max\": 478}, \"Reset Count\": {\"sum\": 81.0, \"count\": 1, \"min\": 81, \"max\": 81}, \"Number of Records Since Last Reset\": {\"sum\": 238699.0, \"count\": 1, \"min\": 238699, \"max\": 238699}, \"Number of Batches Since Last Reset\": {\"sum\": 478.0, \"count\": 1, \"min\": 478, \"max\": 478}}}\u001b[0m\n",
      "\u001b[34m[08/30/2023 11:11:20 INFO 140026071775040] #throughput_metric: host=algo-1, train throughput=76395.02804684504 records/second\u001b[0m\n",
      "\u001b[34m[08/30/2023 11:11:20 INFO 140026071775040] #quality_metric: host=algo-1, epoch=80, batch=0 train binary_classification_accuracy <score>=0.846\u001b[0m\n",
      "\u001b[34m[08/30/2023 11:11:20 INFO 140026071775040] #quality_metric: host=algo-1, epoch=80, batch=0 train binary_classification_cross_entropy <loss>=0.29804348754882815\u001b[0m\n",
      "\u001b[34m[08/30/2023 11:11:20 INFO 140026071775040] #quality_metric: host=algo-1, epoch=80, batch=0 train binary_f_1.000 <score>=0.9165763813651138\u001b[0m\n",
      "\u001b[34m[2023-08-30 11:11:23.294] [tensorio] [info] epoch_stats={\"data_pipeline\": \"/opt/ml/input/data/train\", \"epoch\": 162, \"duration\": 3157, \"num_examples\": 478, \"num_bytes\": 16157236}\u001b[0m\n",
      "\u001b[34m[08/30/2023 11:11:23 INFO 140026071775040] #quality_metric: host=algo-1, epoch=80, train binary_classification_accuracy <score>=0.8234225941422594\u001b[0m\n",
      "\u001b[34m[08/30/2023 11:11:23 INFO 140026071775040] #quality_metric: host=algo-1, epoch=80, train binary_classification_cross_entropy <loss>=0.31570239561072955\u001b[0m\n",
      "\u001b[34m[08/30/2023 11:11:23 INFO 140026071775040] #quality_metric: host=algo-1, epoch=80, train binary_f_1.000 <score>=0.9027312328577685\u001b[0m\n",
      "\u001b[34m#metrics {\"StartTime\": 1693393880.1253376, \"EndTime\": 1693393883.2957273, \"Dimensions\": {\"Algorithm\": \"factorization-machines\", \"Host\": \"algo-1\", \"Operation\": \"training\"}, \"Metrics\": {\"update.time\": {\"sum\": 3168.7958240509033, \"count\": 1, \"min\": 3168.7958240509033, \"max\": 3168.7958240509033}}}\u001b[0m\n",
      "\u001b[34m[08/30/2023 11:11:23 INFO 140026071775040] #progress_metric: host=algo-1, completed 81.0 % of epochs\u001b[0m\n",
      "\u001b[34m#metrics {\"StartTime\": 1693393880.1268983, \"EndTime\": 1693393883.2960308, \"Dimensions\": {\"Algorithm\": \"factorization-machines\", \"Host\": \"algo-1\", \"Operation\": \"training\", \"epoch\": 80, \"Meta\": \"training_data_iter\"}, \"Metrics\": {\"Total Records Seen\": {\"sum\": 19335119.0, \"count\": 1, \"min\": 19335119, \"max\": 19335119}, \"Total Batches Seen\": {\"sum\": 38719.0, \"count\": 1, \"min\": 38719, \"max\": 38719}, \"Max Records Seen Between Resets\": {\"sum\": 238699.0, \"count\": 1, \"min\": 238699, \"max\": 238699}, \"Max Batches Seen Between Resets\": {\"sum\": 478.0, \"count\": 1, \"min\": 478, \"max\": 478}, \"Reset Count\": {\"sum\": 82.0, \"count\": 1, \"min\": 82, \"max\": 82}, \"Number of Records Since Last Reset\": {\"sum\": 238699.0, \"count\": 1, \"min\": 238699, \"max\": 238699}, \"Number of Batches Since Last Reset\": {\"sum\": 478.0, \"count\": 1, \"min\": 478, \"max\": 478}}}\u001b[0m\n",
      "\u001b[34m[08/30/2023 11:11:23 INFO 140026071775040] #throughput_metric: host=algo-1, train throughput=75316.15713677445 records/second\u001b[0m\n",
      "\u001b[34m[08/30/2023 11:11:23 INFO 140026071775040] #quality_metric: host=algo-1, epoch=81, batch=0 train binary_classification_accuracy <score>=0.848\u001b[0m\n",
      "\u001b[34m[08/30/2023 11:11:23 INFO 140026071775040] #quality_metric: host=algo-1, epoch=81, batch=0 train binary_classification_cross_entropy <loss>=0.29677899169921873\u001b[0m\n",
      "\u001b[34m[08/30/2023 11:11:23 INFO 140026071775040] #quality_metric: host=algo-1, epoch=81, batch=0 train binary_f_1.000 <score>=0.9175704989154013\u001b[0m\n",
      "\u001b[34m[2023-08-30 11:11:26.375] [tensorio] [info] epoch_stats={\"data_pipeline\": \"/opt/ml/input/data/train\", \"epoch\": 164, \"duration\": 3072, \"num_examples\": 478, \"num_bytes\": 16157236}\u001b[0m\n",
      "\u001b[34m[08/30/2023 11:11:26 INFO 140026071775040] #quality_metric: host=algo-1, epoch=81, train binary_classification_accuracy <score>=0.8236987447698745\u001b[0m\n",
      "\u001b[34m[08/30/2023 11:11:26 INFO 140026071775040] #quality_metric: host=algo-1, epoch=81, train binary_classification_cross_entropy <loss>=0.31440948339486224\u001b[0m\n",
      "\u001b[34m[08/30/2023 11:11:26 INFO 140026071775040] #quality_metric: host=algo-1, epoch=81, train binary_f_1.000 <score>=0.9028685765921937\u001b[0m\n",
      "\u001b[34m#metrics {\"StartTime\": 1693393883.295824, \"EndTime\": 1693393886.3766367, \"Dimensions\": {\"Algorithm\": \"factorization-machines\", \"Host\": \"algo-1\", \"Operation\": \"training\"}, \"Metrics\": {\"update.time\": {\"sum\": 3079.3259143829346, \"count\": 1, \"min\": 3079.3259143829346, \"max\": 3079.3259143829346}}}\u001b[0m\n",
      "\u001b[34m[08/30/2023 11:11:26 INFO 140026071775040] #progress_metric: host=algo-1, completed 82.0 % of epochs\u001b[0m\n",
      "\u001b[34m#metrics {\"StartTime\": 1693393883.297283, \"EndTime\": 1693393886.3768816, \"Dimensions\": {\"Algorithm\": \"factorization-machines\", \"Host\": \"algo-1\", \"Operation\": \"training\", \"epoch\": 81, \"Meta\": \"training_data_iter\"}, \"Metrics\": {\"Total Records Seen\": {\"sum\": 19573818.0, \"count\": 1, \"min\": 19573818, \"max\": 19573818}, \"Total Batches Seen\": {\"sum\": 39197.0, \"count\": 1, \"min\": 39197, \"max\": 39197}, \"Max Records Seen Between Resets\": {\"sum\": 238699.0, \"count\": 1, \"min\": 238699, \"max\": 238699}, \"Max Batches Seen Between Resets\": {\"sum\": 478.0, \"count\": 1, \"min\": 478, \"max\": 478}, \"Reset Count\": {\"sum\": 83.0, \"count\": 1, \"min\": 83, \"max\": 83}, \"Number of Records Since Last Reset\": {\"sum\": 238699.0, \"count\": 1, \"min\": 238699, \"max\": 238699}, \"Number of Batches Since Last Reset\": {\"sum\": 478.0, \"count\": 1, \"min\": 478, \"max\": 478}}}\u001b[0m\n",
      "\u001b[34m[08/30/2023 11:11:26 INFO 140026071775040] #throughput_metric: host=algo-1, train throughput=77506.70287881703 records/second\u001b[0m\n",
      "\u001b[34m[08/30/2023 11:11:26 INFO 140026071775040] #quality_metric: host=algo-1, epoch=82, batch=0 train binary_classification_accuracy <score>=0.85\u001b[0m\n",
      "\u001b[34m[08/30/2023 11:11:26 INFO 140026071775040] #quality_metric: host=algo-1, epoch=82, batch=0 train binary_classification_cross_entropy <loss>=0.2955243835449219\u001b[0m\n",
      "\u001b[34m[08/30/2023 11:11:26 INFO 140026071775040] #quality_metric: host=algo-1, epoch=82, batch=0 train binary_f_1.000 <score>=0.9185667752442996\u001b[0m\n",
      "\u001b[34m[2023-08-30 11:11:29.545] [tensorio] [info] epoch_stats={\"data_pipeline\": \"/opt/ml/input/data/train\", \"epoch\": 166, \"duration\": 3161, \"num_examples\": 478, \"num_bytes\": 16157236}\u001b[0m\n",
      "\u001b[34m[08/30/2023 11:11:29 INFO 140026071775040] #quality_metric: host=algo-1, epoch=82, train binary_classification_accuracy <score>=0.8240543933054393\u001b[0m\n",
      "\u001b[34m[08/30/2023 11:11:29 INFO 140026071775040] #quality_metric: host=algo-1, epoch=82, train binary_classification_cross_entropy <loss>=0.3131263216090502\u001b[0m\n",
      "\u001b[34m[08/30/2023 11:11:29 INFO 140026071775040] #quality_metric: host=algo-1, epoch=82, train binary_f_1.000 <score>=0.9030455202562028\u001b[0m\n",
      "\u001b[34m#metrics {\"StartTime\": 1693393886.3767252, \"EndTime\": 1693393889.546555, \"Dimensions\": {\"Algorithm\": \"factorization-machines\", \"Host\": \"algo-1\", \"Operation\": \"training\"}, \"Metrics\": {\"update.time\": {\"sum\": 3168.3473587036133, \"count\": 1, \"min\": 3168.3473587036133, \"max\": 3168.3473587036133}}}\u001b[0m\n",
      "\u001b[34m[08/30/2023 11:11:29 INFO 140026071775040] #progress_metric: host=algo-1, completed 83.0 % of epochs\u001b[0m\n",
      "\u001b[34m#metrics {\"StartTime\": 1693393886.378175, \"EndTime\": 1693393889.5468657, \"Dimensions\": {\"Algorithm\": \"factorization-machines\", \"Host\": \"algo-1\", \"Operation\": \"training\", \"epoch\": 82, \"Meta\": \"training_data_iter\"}, \"Metrics\": {\"Total Records Seen\": {\"sum\": 19812517.0, \"count\": 1, \"min\": 19812517, \"max\": 19812517}, \"Total Batches Seen\": {\"sum\": 39675.0, \"count\": 1, \"min\": 39675, \"max\": 39675}, \"Max Records Seen Between Resets\": {\"sum\": 238699.0, \"count\": 1, \"min\": 238699, \"max\": 238699}, \"Max Batches Seen Between Resets\": {\"sum\": 478.0, \"count\": 1, \"min\": 478, \"max\": 478}, \"Reset Count\": {\"sum\": 84.0, \"count\": 1, \"min\": 84, \"max\": 84}, \"Number of Records Since Last Reset\": {\"sum\": 238699.0, \"count\": 1, \"min\": 238699, \"max\": 238699}, \"Number of Batches Since Last Reset\": {\"sum\": 478.0, \"count\": 1, \"min\": 478, \"max\": 478}}}\u001b[0m\n",
      "\u001b[34m[08/30/2023 11:11:29 INFO 140026071775040] #throughput_metric: host=algo-1, train throughput=75327.04849350594 records/second\u001b[0m\n",
      "\u001b[34m[08/30/2023 11:11:29 INFO 140026071775040] #quality_metric: host=algo-1, epoch=83, batch=0 train binary_classification_accuracy <score>=0.85\u001b[0m\n",
      "\u001b[34m[08/30/2023 11:11:29 INFO 140026071775040] #quality_metric: host=algo-1, epoch=83, batch=0 train binary_classification_cross_entropy <loss>=0.2942794189453125\u001b[0m\n",
      "\u001b[34m[08/30/2023 11:11:29 INFO 140026071775040] #quality_metric: host=algo-1, epoch=83, batch=0 train binary_f_1.000 <score>=0.9185667752442996\u001b[0m\n",
      "\u001b[34m[2023-08-30 11:11:32.729] [tensorio] [info] epoch_stats={\"data_pipeline\": \"/opt/ml/input/data/train\", \"epoch\": 168, \"duration\": 3174, \"num_examples\": 478, \"num_bytes\": 16157236}\u001b[0m\n",
      "\u001b[34m[08/30/2023 11:11:32 INFO 140026071775040] #quality_metric: host=algo-1, epoch=83, train binary_classification_accuracy <score>=0.8244309623430962\u001b[0m\n",
      "\u001b[34m[08/30/2023 11:11:32 INFO 140026071775040] #quality_metric: host=algo-1, epoch=83, train binary_classification_cross_entropy <loss>=0.31185274480077513\u001b[0m\n",
      "\u001b[34m[08/30/2023 11:11:32 INFO 140026071775040] #quality_metric: host=algo-1, epoch=83, train binary_f_1.000 <score>=0.9032329479808776\u001b[0m\n",
      "\u001b[34m#metrics {\"StartTime\": 1693393889.5466633, \"EndTime\": 1693393892.7303145, \"Dimensions\": {\"Algorithm\": \"factorization-machines\", \"Host\": \"algo-1\", \"Operation\": \"training\"}, \"Metrics\": {\"update.time\": {\"sum\": 3182.060956954956, \"count\": 1, \"min\": 3182.060956954956, \"max\": 3182.060956954956}}}\u001b[0m\n",
      "\u001b[34m[08/30/2023 11:11:32 INFO 140026071775040] #progress_metric: host=algo-1, completed 84.0 % of epochs\u001b[0m\n",
      "\u001b[34m#metrics {\"StartTime\": 1693393889.5482275, \"EndTime\": 1693393892.7305446, \"Dimensions\": {\"Algorithm\": \"factorization-machines\", \"Host\": \"algo-1\", \"Operation\": \"training\", \"epoch\": 83, \"Meta\": \"training_data_iter\"}, \"Metrics\": {\"Total Records Seen\": {\"sum\": 20051216.0, \"count\": 1, \"min\": 20051216, \"max\": 20051216}, \"Total Batches Seen\": {\"sum\": 40153.0, \"count\": 1, \"min\": 40153, \"max\": 40153}, \"Max Records Seen Between Resets\": {\"sum\": 238699.0, \"count\": 1, \"min\": 238699, \"max\": 238699}, \"Max Batches Seen Between Resets\": {\"sum\": 478.0, \"count\": 1, \"min\": 478, \"max\": 478}, \"Reset Count\": {\"sum\": 85.0, \"count\": 1, \"min\": 85, \"max\": 85}, \"Number of Records Since Last Reset\": {\"sum\": 238699.0, \"count\": 1, \"min\": 238699, \"max\": 238699}, \"Number of Batches Since Last Reset\": {\"sum\": 478.0, \"count\": 1, \"min\": 478, \"max\": 478}}}\u001b[0m\n",
      "\u001b[34m[08/30/2023 11:11:32 INFO 140026071775040] #throughput_metric: host=algo-1, train throughput=75005.08839798294 records/second\u001b[0m\n",
      "\u001b[34m[08/30/2023 11:11:32 INFO 140026071775040] #quality_metric: host=algo-1, epoch=84, batch=0 train binary_classification_accuracy <score>=0.85\u001b[0m\n",
      "\u001b[34m[08/30/2023 11:11:32 INFO 140026071775040] #quality_metric: host=algo-1, epoch=84, batch=0 train binary_classification_cross_entropy <loss>=0.2930439453125\u001b[0m\n",
      "\u001b[34m[08/30/2023 11:11:32 INFO 140026071775040] #quality_metric: host=algo-1, epoch=84, batch=0 train binary_f_1.000 <score>=0.9185667752442996\u001b[0m\n",
      "\u001b[34m[2023-08-30 11:11:35.856] [tensorio] [info] epoch_stats={\"data_pipeline\": \"/opt/ml/input/data/train\", \"epoch\": 170, \"duration\": 3114, \"num_examples\": 478, \"num_bytes\": 16157236}\u001b[0m\n",
      "\u001b[34m[08/30/2023 11:11:35 INFO 140026071775040] #quality_metric: host=algo-1, epoch=84, train binary_classification_accuracy <score>=0.8249330543933054\u001b[0m\n",
      "\u001b[34m[08/30/2023 11:11:35 INFO 140026071775040] #quality_metric: host=algo-1, epoch=84, train binary_classification_cross_entropy <loss>=0.31058860255285287\u001b[0m\n",
      "\u001b[34m[08/30/2023 11:11:35 INFO 140026071775040] #quality_metric: host=algo-1, epoch=84, train binary_f_1.000 <score>=0.9034829726718476\u001b[0m\n",
      "\u001b[34m#metrics {\"StartTime\": 1693393892.7303932, \"EndTime\": 1693393895.8572247, \"Dimensions\": {\"Algorithm\": \"factorization-machines\", \"Host\": \"algo-1\", \"Operation\": \"training\"}, \"Metrics\": {\"update.time\": {\"sum\": 3125.236749649048, \"count\": 1, \"min\": 3125.236749649048, \"max\": 3125.236749649048}}}\u001b[0m\n",
      "\u001b[34m[08/30/2023 11:11:35 INFO 140026071775040] #progress_metric: host=algo-1, completed 85.0 % of epochs\u001b[0m\n",
      "\u001b[34m#metrics {\"StartTime\": 1693393892.73196, \"EndTime\": 1693393895.8574672, \"Dimensions\": {\"Algorithm\": \"factorization-machines\", \"Host\": \"algo-1\", \"Operation\": \"training\", \"epoch\": 84, \"Meta\": \"training_data_iter\"}, \"Metrics\": {\"Total Records Seen\": {\"sum\": 20289915.0, \"count\": 1, \"min\": 20289915, \"max\": 20289915}, \"Total Batches Seen\": {\"sum\": 40631.0, \"count\": 1, \"min\": 40631, \"max\": 40631}, \"Max Records Seen Between Resets\": {\"sum\": 238699.0, \"count\": 1, \"min\": 238699, \"max\": 238699}, \"Max Batches Seen Between Resets\": {\"sum\": 478.0, \"count\": 1, \"min\": 478, \"max\": 478}, \"Reset Count\": {\"sum\": 86.0, \"count\": 1, \"min\": 86, \"max\": 86}, \"Number of Records Since Last Reset\": {\"sum\": 238699.0, \"count\": 1, \"min\": 238699, \"max\": 238699}, \"Number of Batches Since Last Reset\": {\"sum\": 478.0, \"count\": 1, \"min\": 478, \"max\": 478}}}\u001b[0m\n",
      "\u001b[34m[08/30/2023 11:11:35 INFO 140026071775040] #throughput_metric: host=algo-1, train throughput=76368.05354129046 records/second\u001b[0m\n",
      "\u001b[34m[08/30/2023 11:11:35 INFO 140026071775040] #quality_metric: host=algo-1, epoch=85, batch=0 train binary_classification_accuracy <score>=0.85\u001b[0m\n",
      "\u001b[34m[08/30/2023 11:11:35 INFO 140026071775040] #quality_metric: host=algo-1, epoch=85, batch=0 train binary_classification_cross_entropy <loss>=0.29181787109375\u001b[0m\n",
      "\u001b[34m[08/30/2023 11:11:35 INFO 140026071775040] #quality_metric: host=algo-1, epoch=85, batch=0 train binary_f_1.000 <score>=0.9185667752442996\u001b[0m\n"
     ]
    },
    {
     "name": "stdout",
     "output_type": "stream",
     "text": [
      "\u001b[34m[2023-08-30 11:11:39.049] [tensorio] [info] epoch_stats={\"data_pipeline\": \"/opt/ml/input/data/train\", \"epoch\": 172, \"duration\": 3181, \"num_examples\": 478, \"num_bytes\": 16157236}\u001b[0m\n",
      "\u001b[34m[08/30/2023 11:11:39 INFO 140026071775040] #quality_metric: host=algo-1, epoch=85, train binary_classification_accuracy <score>=0.8255020920502092\u001b[0m\n",
      "\u001b[34m[08/30/2023 11:11:39 INFO 140026071775040] #quality_metric: host=algo-1, epoch=85, train binary_classification_cross_entropy <loss>=0.3093337420539377\u001b[0m\n",
      "\u001b[34m[08/30/2023 11:11:39 INFO 140026071775040] #quality_metric: host=algo-1, epoch=85, train binary_f_1.000 <score>=0.903766501374105\u001b[0m\n",
      "\u001b[34m#metrics {\"StartTime\": 1693393895.8573039, \"EndTime\": 1693393899.0503602, \"Dimensions\": {\"Algorithm\": \"factorization-machines\", \"Host\": \"algo-1\", \"Operation\": \"training\"}, \"Metrics\": {\"update.time\": {\"sum\": 3191.538095474243, \"count\": 1, \"min\": 3191.538095474243, \"max\": 3191.538095474243}}}\u001b[0m\n",
      "\u001b[34m[08/30/2023 11:11:39 INFO 140026071775040] #progress_metric: host=algo-1, completed 86.0 % of epochs\u001b[0m\n",
      "\u001b[34m#metrics {\"StartTime\": 1693393895.8587914, \"EndTime\": 1693393899.0506148, \"Dimensions\": {\"Algorithm\": \"factorization-machines\", \"Host\": \"algo-1\", \"Operation\": \"training\", \"epoch\": 85, \"Meta\": \"training_data_iter\"}, \"Metrics\": {\"Total Records Seen\": {\"sum\": 20528614.0, \"count\": 1, \"min\": 20528614, \"max\": 20528614}, \"Total Batches Seen\": {\"sum\": 41109.0, \"count\": 1, \"min\": 41109, \"max\": 41109}, \"Max Records Seen Between Resets\": {\"sum\": 238699.0, \"count\": 1, \"min\": 238699, \"max\": 238699}, \"Max Batches Seen Between Resets\": {\"sum\": 478.0, \"count\": 1, \"min\": 478, \"max\": 478}, \"Reset Count\": {\"sum\": 87.0, \"count\": 1, \"min\": 87, \"max\": 87}, \"Number of Records Since Last Reset\": {\"sum\": 238699.0, \"count\": 1, \"min\": 238699, \"max\": 238699}, \"Number of Batches Since Last Reset\": {\"sum\": 478.0, \"count\": 1, \"min\": 478, \"max\": 478}}}\u001b[0m\n",
      "\u001b[34m[08/30/2023 11:11:39 INFO 140026071775040] #throughput_metric: host=algo-1, train throughput=74781.47413658655 records/second\u001b[0m\n",
      "\u001b[34m[08/30/2023 11:11:39 INFO 140026071775040] #quality_metric: host=algo-1, epoch=86, batch=0 train binary_classification_accuracy <score>=0.85\u001b[0m\n",
      "\u001b[34m[08/30/2023 11:11:39 INFO 140026071775040] #quality_metric: host=algo-1, epoch=86, batch=0 train binary_classification_cross_entropy <loss>=0.29060107421875\u001b[0m\n",
      "\u001b[34m[08/30/2023 11:11:39 INFO 140026071775040] #quality_metric: host=algo-1, epoch=86, batch=0 train binary_f_1.000 <score>=0.9185667752442996\u001b[0m\n",
      "\u001b[34m[2023-08-30 11:11:42.191] [tensorio] [info] epoch_stats={\"data_pipeline\": \"/opt/ml/input/data/train\", \"epoch\": 174, \"duration\": 3134, \"num_examples\": 478, \"num_bytes\": 16157236}\u001b[0m\n",
      "\u001b[34m[08/30/2023 11:11:42 INFO 140026071775040] #quality_metric: host=algo-1, epoch=86, train binary_classification_accuracy <score>=0.8259916317991631\u001b[0m\n",
      "\u001b[34m[08/30/2023 11:11:42 INFO 140026071775040] #quality_metric: host=algo-1, epoch=86, train binary_classification_cross_entropy <loss>=0.30808801805823416\u001b[0m\n",
      "\u001b[34m[08/30/2023 11:11:42 INFO 140026071775040] #quality_metric: host=algo-1, epoch=86, train binary_f_1.000 <score>=0.9040105618848903\u001b[0m\n",
      "\u001b[34m#metrics {\"StartTime\": 1693393899.050443, \"EndTime\": 1693393902.192282, \"Dimensions\": {\"Algorithm\": \"factorization-machines\", \"Host\": \"algo-1\", \"Operation\": \"training\"}, \"Metrics\": {\"update.time\": {\"sum\": 3140.31720161438, \"count\": 1, \"min\": 3140.31720161438, \"max\": 3140.31720161438}}}\u001b[0m\n",
      "\u001b[34m[08/30/2023 11:11:42 INFO 140026071775040] #progress_metric: host=algo-1, completed 87.0 % of epochs\u001b[0m\n",
      "\u001b[34m#metrics {\"StartTime\": 1693393899.0519292, \"EndTime\": 1693393902.1925762, \"Dimensions\": {\"Algorithm\": \"factorization-machines\", \"Host\": \"algo-1\", \"Operation\": \"training\", \"epoch\": 86, \"Meta\": \"training_data_iter\"}, \"Metrics\": {\"Total Records Seen\": {\"sum\": 20767313.0, \"count\": 1, \"min\": 20767313, \"max\": 20767313}, \"Total Batches Seen\": {\"sum\": 41587.0, \"count\": 1, \"min\": 41587, \"max\": 41587}, \"Max Records Seen Between Resets\": {\"sum\": 238699.0, \"count\": 1, \"min\": 238699, \"max\": 238699}, \"Max Batches Seen Between Resets\": {\"sum\": 478.0, \"count\": 1, \"min\": 478, \"max\": 478}, \"Reset Count\": {\"sum\": 88.0, \"count\": 1, \"min\": 88, \"max\": 88}, \"Number of Records Since Last Reset\": {\"sum\": 238699.0, \"count\": 1, \"min\": 238699, \"max\": 238699}, \"Number of Batches Since Last Reset\": {\"sum\": 478.0, \"count\": 1, \"min\": 478, \"max\": 478}}}\u001b[0m\n",
      "\u001b[34m[08/30/2023 11:11:42 INFO 140026071775040] #throughput_metric: host=algo-1, train throughput=75999.53652964588 records/second\u001b[0m\n",
      "\u001b[34m[08/30/2023 11:11:42 INFO 140026071775040] #quality_metric: host=algo-1, epoch=87, batch=0 train binary_classification_accuracy <score>=0.85\u001b[0m\n",
      "\u001b[34m[08/30/2023 11:11:42 INFO 140026071775040] #quality_metric: host=algo-1, epoch=87, batch=0 train binary_classification_cross_entropy <loss>=0.2893934631347656\u001b[0m\n",
      "\u001b[34m[08/30/2023 11:11:42 INFO 140026071775040] #quality_metric: host=algo-1, epoch=87, batch=0 train binary_f_1.000 <score>=0.9185667752442996\u001b[0m\n",
      "\u001b[34m[2023-08-30 11:11:45.364] [tensorio] [info] epoch_stats={\"data_pipeline\": \"/opt/ml/input/data/train\", \"epoch\": 176, \"duration\": 3103, \"num_examples\": 478, \"num_bytes\": 16157236}\u001b[0m\n",
      "\u001b[34m[08/30/2023 11:11:45 INFO 140026071775040] #quality_metric: host=algo-1, epoch=87, train binary_classification_accuracy <score>=0.826460251046025\u001b[0m\n",
      "\u001b[34m[08/30/2023 11:11:45 INFO 140026071775040] #quality_metric: host=algo-1, epoch=87, train binary_classification_cross_entropy <loss>=0.30685129128938937\u001b[0m\n",
      "\u001b[34m[08/30/2023 11:11:45 INFO 140026071775040] #quality_metric: host=algo-1, epoch=87, train binary_f_1.000 <score>=0.9042443159780581\u001b[0m\n",
      "\u001b[34m#metrics {\"StartTime\": 1693393902.1923776, \"EndTime\": 1693393905.365304, \"Dimensions\": {\"Algorithm\": \"factorization-machines\", \"Host\": \"algo-1\", \"Operation\": \"training\"}, \"Metrics\": {\"update.time\": {\"sum\": 3171.4043617248535, \"count\": 1, \"min\": 3171.4043617248535, \"max\": 3171.4043617248535}}}\u001b[0m\n",
      "\u001b[34m[08/30/2023 11:11:45 INFO 140026071775040] #progress_metric: host=algo-1, completed 88.0 % of epochs\u001b[0m\n",
      "\u001b[34m#metrics {\"StartTime\": 1693393902.1938667, \"EndTime\": 1693393905.3656244, \"Dimensions\": {\"Algorithm\": \"factorization-machines\", \"Host\": \"algo-1\", \"Operation\": \"training\", \"epoch\": 87, \"Meta\": \"training_data_iter\"}, \"Metrics\": {\"Total Records Seen\": {\"sum\": 21006012.0, \"count\": 1, \"min\": 21006012, \"max\": 21006012}, \"Total Batches Seen\": {\"sum\": 42065.0, \"count\": 1, \"min\": 42065, \"max\": 42065}, \"Max Records Seen Between Resets\": {\"sum\": 238699.0, \"count\": 1, \"min\": 238699, \"max\": 238699}, \"Max Batches Seen Between Resets\": {\"sum\": 478.0, \"count\": 1, \"min\": 478, \"max\": 478}, \"Reset Count\": {\"sum\": 89.0, \"count\": 1, \"min\": 89, \"max\": 89}, \"Number of Records Since Last Reset\": {\"sum\": 238699.0, \"count\": 1, \"min\": 238699, \"max\": 238699}, \"Number of Batches Since Last Reset\": {\"sum\": 478.0, \"count\": 1, \"min\": 478, \"max\": 478}}}\u001b[0m\n",
      "\u001b[34m[08/30/2023 11:11:45 INFO 140026071775040] #throughput_metric: host=algo-1, train throughput=75254.65350435558 records/second\u001b[0m\n",
      "\u001b[34m[08/30/2023 11:11:45 INFO 140026071775040] #quality_metric: host=algo-1, epoch=88, batch=0 train binary_classification_accuracy <score>=0.85\u001b[0m\n",
      "\u001b[34m[08/30/2023 11:11:45 INFO 140026071775040] #quality_metric: host=algo-1, epoch=88, batch=0 train binary_classification_cross_entropy <loss>=0.28819482421875\u001b[0m\n",
      "\u001b[34m[08/30/2023 11:11:45 INFO 140026071775040] #quality_metric: host=algo-1, epoch=88, batch=0 train binary_f_1.000 <score>=0.9185667752442996\u001b[0m\n",
      "\u001b[34m[2023-08-30 11:11:48.544] [tensorio] [info] epoch_stats={\"data_pipeline\": \"/opt/ml/input/data/train\", \"epoch\": 178, \"duration\": 3170, \"num_examples\": 478, \"num_bytes\": 16157236}\u001b[0m\n",
      "\u001b[34m[08/30/2023 11:11:48 INFO 140026071775040] #quality_metric: host=algo-1, epoch=88, train binary_classification_accuracy <score>=0.8270251046025104\u001b[0m\n",
      "\u001b[34m[08/30/2023 11:11:48 INFO 140026071775040] #quality_metric: host=algo-1, epoch=88, train binary_classification_cross_entropy <loss>=0.3056234191830687\u001b[0m\n",
      "\u001b[34m[08/30/2023 11:11:48 INFO 140026071775040] #quality_metric: host=algo-1, epoch=88, train binary_f_1.000 <score>=0.9045262338658088\u001b[0m\n",
      "\u001b[34m#metrics {\"StartTime\": 1693393905.365414, \"EndTime\": 1693393908.5454285, \"Dimensions\": {\"Algorithm\": \"factorization-machines\", \"Host\": \"algo-1\", \"Operation\": \"training\"}, \"Metrics\": {\"update.time\": {\"sum\": 3178.4727573394775, \"count\": 1, \"min\": 3178.4727573394775, \"max\": 3178.4727573394775}}}\u001b[0m\n",
      "\u001b[34m[08/30/2023 11:11:48 INFO 140026071775040] #progress_metric: host=algo-1, completed 89.0 % of epochs\u001b[0m\n",
      "\u001b[34m#metrics {\"StartTime\": 1693393905.3669229, \"EndTime\": 1693393908.545737, \"Dimensions\": {\"Algorithm\": \"factorization-machines\", \"Host\": \"algo-1\", \"Operation\": \"training\", \"epoch\": 88, \"Meta\": \"training_data_iter\"}, \"Metrics\": {\"Total Records Seen\": {\"sum\": 21244711.0, \"count\": 1, \"min\": 21244711, \"max\": 21244711}, \"Total Batches Seen\": {\"sum\": 42543.0, \"count\": 1, \"min\": 42543, \"max\": 42543}, \"Max Records Seen Between Resets\": {\"sum\": 238699.0, \"count\": 1, \"min\": 238699, \"max\": 238699}, \"Max Batches Seen Between Resets\": {\"sum\": 478.0, \"count\": 1, \"min\": 478, \"max\": 478}, \"Reset Count\": {\"sum\": 90.0, \"count\": 1, \"min\": 90, \"max\": 90}, \"Number of Records Since Last Reset\": {\"sum\": 238699.0, \"count\": 1, \"min\": 238699, \"max\": 238699}, \"Number of Batches Since Last Reset\": {\"sum\": 478.0, \"count\": 1, \"min\": 478, \"max\": 478}}}\u001b[0m\n",
      "\u001b[34m[08/30/2023 11:11:48 INFO 140026071775040] #throughput_metric: host=algo-1, train throughput=75086.55337437043 records/second\u001b[0m\n",
      "\u001b[34m[08/30/2023 11:11:48 INFO 140026071775040] #quality_metric: host=algo-1, epoch=89, batch=0 train binary_classification_accuracy <score>=0.85\u001b[0m\n",
      "\u001b[34m[08/30/2023 11:11:48 INFO 140026071775040] #quality_metric: host=algo-1, epoch=89, batch=0 train binary_classification_cross_entropy <loss>=0.28700518798828123\u001b[0m\n",
      "\u001b[34m[08/30/2023 11:11:48 INFO 140026071775040] #quality_metric: host=algo-1, epoch=89, batch=0 train binary_f_1.000 <score>=0.9185667752442996\u001b[0m\n"
     ]
    },
    {
     "name": "stdout",
     "output_type": "stream",
     "text": [
      "\u001b[34m[2023-08-30 11:11:51.702] [tensorio] [info] epoch_stats={\"data_pipeline\": \"/opt/ml/input/data/train\", \"epoch\": 180, \"duration\": 3145, \"num_examples\": 478, \"num_bytes\": 16157236}\u001b[0m\n",
      "\u001b[34m[08/30/2023 11:11:51 INFO 140026071775040] #quality_metric: host=algo-1, epoch=89, train binary_classification_accuracy <score>=0.8274518828451883\u001b[0m\n",
      "\u001b[34m[08/30/2023 11:11:51 INFO 140026071775040] #quality_metric: host=algo-1, epoch=89, train binary_classification_cross_entropy <loss>=0.3044042696454036\u001b[0m\n",
      "\u001b[34m[08/30/2023 11:11:51 INFO 140026071775040] #quality_metric: host=algo-1, epoch=89, train binary_f_1.000 <score>=0.9047393551039831\u001b[0m\n",
      "\u001b[34m#metrics {\"StartTime\": 1693393908.5455408, \"EndTime\": 1693393911.7038286, \"Dimensions\": {\"Algorithm\": \"factorization-machines\", \"Host\": \"algo-1\", \"Operation\": \"training\"}, \"Metrics\": {\"update.time\": {\"sum\": 3156.6367149353027, \"count\": 1, \"min\": 3156.6367149353027, \"max\": 3156.6367149353027}}}\u001b[0m\n",
      "\u001b[34m[08/30/2023 11:11:51 INFO 140026071775040] #progress_metric: host=algo-1, completed 90.0 % of epochs\u001b[0m\n",
      "\u001b[34m#metrics {\"StartTime\": 1693393908.5471578, \"EndTime\": 1693393911.704188, \"Dimensions\": {\"Algorithm\": \"factorization-machines\", \"Host\": \"algo-1\", \"Operation\": \"training\", \"epoch\": 89, \"Meta\": \"training_data_iter\"}, \"Metrics\": {\"Total Records Seen\": {\"sum\": 21483410.0, \"count\": 1, \"min\": 21483410, \"max\": 21483410}, \"Total Batches Seen\": {\"sum\": 43021.0, \"count\": 1, \"min\": 43021, \"max\": 43021}, \"Max Records Seen Between Resets\": {\"sum\": 238699.0, \"count\": 1, \"min\": 238699, \"max\": 238699}, \"Max Batches Seen Between Resets\": {\"sum\": 478.0, \"count\": 1, \"min\": 478, \"max\": 478}, \"Reset Count\": {\"sum\": 91.0, \"count\": 1, \"min\": 91, \"max\": 91}, \"Number of Records Since Last Reset\": {\"sum\": 238699.0, \"count\": 1, \"min\": 238699, \"max\": 238699}, \"Number of Batches Since Last Reset\": {\"sum\": 478.0, \"count\": 1, \"min\": 478, \"max\": 478}}}\u001b[0m\n",
      "\u001b[34m[08/30/2023 11:11:51 INFO 140026071775040] #throughput_metric: host=algo-1, train throughput=75604.73869158552 records/second\u001b[0m\n",
      "\u001b[34m[08/30/2023 11:11:51 INFO 140026071775040] #quality_metric: host=algo-1, epoch=90, batch=0 train binary_classification_accuracy <score>=0.85\u001b[0m\n",
      "\u001b[34m[08/30/2023 11:11:51 INFO 140026071775040] #quality_metric: host=algo-1, epoch=90, batch=0 train binary_classification_cross_entropy <loss>=0.28582421875\u001b[0m\n",
      "\u001b[34m[08/30/2023 11:11:51 INFO 140026071775040] #quality_metric: host=algo-1, epoch=90, batch=0 train binary_f_1.000 <score>=0.9185667752442996\u001b[0m\n",
      "\u001b[34m[2023-08-30 11:11:54.856] [tensorio] [info] epoch_stats={\"data_pipeline\": \"/opt/ml/input/data/train\", \"epoch\": 182, \"duration\": 3139, \"num_examples\": 478, \"num_bytes\": 16157236}\u001b[0m\n",
      "\u001b[34m[08/30/2023 11:11:54 INFO 140026071775040] #quality_metric: host=algo-1, epoch=90, train binary_classification_accuracy <score>=0.8279246861924686\u001b[0m\n",
      "\u001b[34m[08/30/2023 11:11:54 INFO 140026071775040] #quality_metric: host=algo-1, epoch=90, train binary_classification_cross_entropy <loss>=0.3031937117636453\u001b[0m\n",
      "\u001b[34m[08/30/2023 11:11:54 INFO 140026071775040] #quality_metric: host=algo-1, epoch=90, train binary_f_1.000 <score>=0.9049755772954339\u001b[0m\n",
      "\u001b[34m#metrics {\"StartTime\": 1693393911.7039442, \"EndTime\": 1693393914.8573637, \"Dimensions\": {\"Algorithm\": \"factorization-machines\", \"Host\": \"algo-1\", \"Operation\": \"training\"}, \"Metrics\": {\"update.time\": {\"sum\": 3151.793956756592, \"count\": 1, \"min\": 3151.793956756592, \"max\": 3151.793956756592}}}\u001b[0m\n",
      "\u001b[34m[08/30/2023 11:11:54 INFO 140026071775040] #progress_metric: host=algo-1, completed 91.0 % of epochs\u001b[0m\n",
      "\u001b[34m#metrics {\"StartTime\": 1693393911.705539, \"EndTime\": 1693393914.8576694, \"Dimensions\": {\"Algorithm\": \"factorization-machines\", \"Host\": \"algo-1\", \"Operation\": \"training\", \"epoch\": 90, \"Meta\": \"training_data_iter\"}, \"Metrics\": {\"Total Records Seen\": {\"sum\": 21722109.0, \"count\": 1, \"min\": 21722109, \"max\": 21722109}, \"Total Batches Seen\": {\"sum\": 43499.0, \"count\": 1, \"min\": 43499, \"max\": 43499}, \"Max Records Seen Between Resets\": {\"sum\": 238699.0, \"count\": 1, \"min\": 238699, \"max\": 238699}, \"Max Batches Seen Between Resets\": {\"sum\": 478.0, \"count\": 1, \"min\": 478, \"max\": 478}, \"Reset Count\": {\"sum\": 92.0, \"count\": 1, \"min\": 92, \"max\": 92}, \"Number of Records Since Last Reset\": {\"sum\": 238699.0, \"count\": 1, \"min\": 238699, \"max\": 238699}, \"Number of Batches Since Last Reset\": {\"sum\": 478.0, \"count\": 1, \"min\": 478, \"max\": 478}}}\u001b[0m\n",
      "\u001b[34m[08/30/2023 11:11:54 INFO 140026071775040] #throughput_metric: host=algo-1, train throughput=75722.21978904976 records/second\u001b[0m\n",
      "\u001b[34m[08/30/2023 11:11:54 INFO 140026071775040] #quality_metric: host=algo-1, epoch=91, batch=0 train binary_classification_accuracy <score>=0.85\u001b[0m\n",
      "\u001b[34m[08/30/2023 11:11:54 INFO 140026071775040] #quality_metric: host=algo-1, epoch=91, batch=0 train binary_classification_cross_entropy <loss>=0.28465200805664065\u001b[0m\n",
      "\u001b[34m[08/30/2023 11:11:54 INFO 140026071775040] #quality_metric: host=algo-1, epoch=91, batch=0 train binary_f_1.000 <score>=0.9185667752442996\u001b[0m\n",
      "\u001b[34m[2023-08-30 11:11:57.974] [tensorio] [info] epoch_stats={\"data_pipeline\": \"/opt/ml/input/data/train\", \"epoch\": 184, \"duration\": 3105, \"num_examples\": 478, \"num_bytes\": 16157236}\u001b[0m\n",
      "\u001b[34m[08/30/2023 11:11:57 INFO 140026071775040] #quality_metric: host=algo-1, epoch=91, train binary_classification_accuracy <score>=0.8284100418410042\u001b[0m\n",
      "\u001b[34m[08/30/2023 11:11:57 INFO 140026071775040] #quality_metric: host=algo-1, epoch=91, train binary_classification_cross_entropy <loss>=0.3019916172107393\u001b[0m\n",
      "\u001b[34m[08/30/2023 11:11:57 INFO 140026071775040] #quality_metric: host=algo-1, epoch=91, train binary_f_1.000 <score>=0.9052181992151207\u001b[0m\n",
      "\u001b[34m#metrics {\"StartTime\": 1693393914.8574657, \"EndTime\": 1693393917.975315, \"Dimensions\": {\"Algorithm\": \"factorization-machines\", \"Host\": \"algo-1\", \"Operation\": \"training\"}, \"Metrics\": {\"update.time\": {\"sum\": 3115.924119949341, \"count\": 1, \"min\": 3115.924119949341, \"max\": 3115.924119949341}}}\u001b[0m\n",
      "\u001b[34m[08/30/2023 11:11:57 INFO 140026071775040] #progress_metric: host=algo-1, completed 92.0 % of epochs\u001b[0m\n",
      "\u001b[34m#metrics {\"StartTime\": 1693393914.8593638, \"EndTime\": 1693393917.975633, \"Dimensions\": {\"Algorithm\": \"factorization-machines\", \"Host\": \"algo-1\", \"Operation\": \"training\", \"epoch\": 91, \"Meta\": \"training_data_iter\"}, \"Metrics\": {\"Total Records Seen\": {\"sum\": 21960808.0, \"count\": 1, \"min\": 21960808, \"max\": 21960808}, \"Total Batches Seen\": {\"sum\": 43977.0, \"count\": 1, \"min\": 43977, \"max\": 43977}, \"Max Records Seen Between Resets\": {\"sum\": 238699.0, \"count\": 1, \"min\": 238699, \"max\": 238699}, \"Max Batches Seen Between Resets\": {\"sum\": 478.0, \"count\": 1, \"min\": 478, \"max\": 478}, \"Reset Count\": {\"sum\": 93.0, \"count\": 1, \"min\": 93, \"max\": 93}, \"Number of Records Since Last Reset\": {\"sum\": 238699.0, \"count\": 1, \"min\": 238699, \"max\": 238699}, \"Number of Batches Since Last Reset\": {\"sum\": 478.0, \"count\": 1, \"min\": 478, \"max\": 478}}}\u001b[0m\n",
      "\u001b[34m[08/30/2023 11:11:57 INFO 140026071775040] #throughput_metric: host=algo-1, train throughput=76593.65924481537 records/second\u001b[0m\n",
      "\u001b[34m[08/30/2023 11:11:58 INFO 140026071775040] #quality_metric: host=algo-1, epoch=92, batch=0 train binary_classification_accuracy <score>=0.85\u001b[0m\n",
      "\u001b[34m[08/30/2023 11:11:58 INFO 140026071775040] #quality_metric: host=algo-1, epoch=92, batch=0 train binary_classification_cross_entropy <loss>=0.2834884033203125\u001b[0m\n",
      "\u001b[34m[08/30/2023 11:11:58 INFO 140026071775040] #quality_metric: host=algo-1, epoch=92, batch=0 train binary_f_1.000 <score>=0.9185667752442996\u001b[0m\n",
      "\u001b[34m[2023-08-30 11:12:01.162] [tensorio] [info] epoch_stats={\"data_pipeline\": \"/opt/ml/input/data/train\", \"epoch\": 186, \"duration\": 3178, \"num_examples\": 478, \"num_bytes\": 16157236}\u001b[0m\n",
      "\u001b[34m[08/30/2023 11:12:01 INFO 140026071775040] #quality_metric: host=algo-1, epoch=92, train binary_classification_accuracy <score>=0.8290041841004184\u001b[0m\n",
      "\u001b[34m[08/30/2023 11:12:01 INFO 140026071775040] #quality_metric: host=algo-1, epoch=92, train binary_classification_cross_entropy <loss>=0.3007978633736966\u001b[0m\n",
      "\u001b[34m[08/30/2023 11:12:01 INFO 140026071775040] #quality_metric: host=algo-1, epoch=92, train binary_f_1.000 <score>=0.9055153790667135\u001b[0m\n",
      "\u001b[34m#metrics {\"StartTime\": 1693393917.975406, \"EndTime\": 1693393921.1637118, \"Dimensions\": {\"Algorithm\": \"factorization-machines\", \"Host\": \"algo-1\", \"Operation\": \"training\"}, \"Metrics\": {\"update.time\": {\"sum\": 3186.6843700408936, \"count\": 1, \"min\": 3186.6843700408936, \"max\": 3186.6843700408936}}}\u001b[0m\n",
      "\u001b[34m[08/30/2023 11:12:01 INFO 140026071775040] #progress_metric: host=algo-1, completed 93.0 % of epochs\u001b[0m\n",
      "\u001b[34m#metrics {\"StartTime\": 1693393917.976993, \"EndTime\": 1693393921.1640341, \"Dimensions\": {\"Algorithm\": \"factorization-machines\", \"Host\": \"algo-1\", \"Operation\": \"training\", \"epoch\": 92, \"Meta\": \"training_data_iter\"}, \"Metrics\": {\"Total Records Seen\": {\"sum\": 22199507.0, \"count\": 1, \"min\": 22199507, \"max\": 22199507}, \"Total Batches Seen\": {\"sum\": 44455.0, \"count\": 1, \"min\": 44455, \"max\": 44455}, \"Max Records Seen Between Resets\": {\"sum\": 238699.0, \"count\": 1, \"min\": 238699, \"max\": 238699}, \"Max Batches Seen Between Resets\": {\"sum\": 478.0, \"count\": 1, \"min\": 478, \"max\": 478}, \"Reset Count\": {\"sum\": 94.0, \"count\": 1, \"min\": 94, \"max\": 94}, \"Number of Records Since Last Reset\": {\"sum\": 238699.0, \"count\": 1, \"min\": 238699, \"max\": 238699}, \"Number of Batches Since Last Reset\": {\"sum\": 478.0, \"count\": 1, \"min\": 478, \"max\": 478}}}\u001b[0m\n",
      "\u001b[34m[08/30/2023 11:12:01 INFO 140026071775040] #throughput_metric: host=algo-1, train throughput=74893.1871831158 records/second\u001b[0m\n",
      "\u001b[34m[08/30/2023 11:12:01 INFO 140026071775040] #quality_metric: host=algo-1, epoch=93, batch=0 train binary_classification_accuracy <score>=0.85\u001b[0m\n",
      "\u001b[34m[08/30/2023 11:12:01 INFO 140026071775040] #quality_metric: host=algo-1, epoch=93, batch=0 train binary_classification_cross_entropy <loss>=0.28233319091796877\u001b[0m\n",
      "\u001b[34m[08/30/2023 11:12:01 INFO 140026071775040] #quality_metric: host=algo-1, epoch=93, batch=0 train binary_f_1.000 <score>=0.9185667752442996\u001b[0m\n",
      "\u001b[34m[2023-08-30 11:12:04.897] [tensorio] [info] epoch_stats={\"data_pipeline\": \"/opt/ml/input/data/train\", \"epoch\": 188, \"duration\": 3664, \"num_examples\": 478, \"num_bytes\": 16157236}\u001b[0m\n",
      "\u001b[34m[08/30/2023 11:12:04 INFO 140026071775040] #quality_metric: host=algo-1, epoch=93, train binary_classification_accuracy <score>=0.8296652719665272\u001b[0m\n",
      "\u001b[34m[08/30/2023 11:12:04 INFO 140026071775040] #quality_metric: host=algo-1, epoch=93, train binary_classification_cross_entropy <loss>=0.29961232996984505\u001b[0m\n",
      "\u001b[34m[08/30/2023 11:12:04 INFO 140026071775040] #quality_metric: host=algo-1, epoch=93, train binary_f_1.000 <score>=0.9058462733996642\u001b[0m\n",
      "\u001b[34m#metrics {\"StartTime\": 1693393921.1638172, \"EndTime\": 1693393924.8979623, \"Dimensions\": {\"Algorithm\": \"factorization-machines\", \"Host\": \"algo-1\", \"Operation\": \"training\"}, \"Metrics\": {\"update.time\": {\"sum\": 3732.036590576172, \"count\": 1, \"min\": 3732.036590576172, \"max\": 3732.036590576172}}}\u001b[0m\n",
      "\u001b[34m[08/30/2023 11:12:04 INFO 140026071775040] #progress_metric: host=algo-1, completed 94.0 % of epochs\u001b[0m\n",
      "\u001b[34m#metrics {\"StartTime\": 1693393921.16589, \"EndTime\": 1693393924.898283, \"Dimensions\": {\"Algorithm\": \"factorization-machines\", \"Host\": \"algo-1\", \"Operation\": \"training\", \"epoch\": 93, \"Meta\": \"training_data_iter\"}, \"Metrics\": {\"Total Records Seen\": {\"sum\": 22438206.0, \"count\": 1, \"min\": 22438206, \"max\": 22438206}, \"Total Batches Seen\": {\"sum\": 44933.0, \"count\": 1, \"min\": 44933, \"max\": 44933}, \"Max Records Seen Between Resets\": {\"sum\": 238699.0, \"count\": 1, \"min\": 238699, \"max\": 238699}, \"Max Batches Seen Between Resets\": {\"sum\": 478.0, \"count\": 1, \"min\": 478, \"max\": 478}, \"Reset Count\": {\"sum\": 95.0, \"count\": 1, \"min\": 95, \"max\": 95}, \"Number of Records Since Last Reset\": {\"sum\": 238699.0, \"count\": 1, \"min\": 238699, \"max\": 238699}, \"Number of Batches Since Last Reset\": {\"sum\": 478.0, \"count\": 1, \"min\": 478, \"max\": 478}}}\u001b[0m\n",
      "\u001b[34m[08/30/2023 11:12:04 INFO 140026071775040] #throughput_metric: host=algo-1, train throughput=63948.752560597866 records/second\u001b[0m\n",
      "\u001b[34m[08/30/2023 11:12:04 INFO 140026071775040] #quality_metric: host=algo-1, epoch=94, batch=0 train binary_classification_accuracy <score>=0.85\u001b[0m\n",
      "\u001b[34m[08/30/2023 11:12:04 INFO 140026071775040] #quality_metric: host=algo-1, epoch=94, batch=0 train binary_classification_cross_entropy <loss>=0.28118634033203127\u001b[0m\n",
      "\u001b[34m[08/30/2023 11:12:04 INFO 140026071775040] #quality_metric: host=algo-1, epoch=94, batch=0 train binary_f_1.000 <score>=0.9185667752442996\u001b[0m\n",
      "\u001b[34m[2023-08-30 11:12:08.024] [tensorio] [info] epoch_stats={\"data_pipeline\": \"/opt/ml/input/data/train\", \"epoch\": 190, \"duration\": 3118, \"num_examples\": 478, \"num_bytes\": 16157236}\u001b[0m\n",
      "\u001b[34m[08/30/2023 11:12:08 INFO 140026071775040] #quality_metric: host=algo-1, epoch=94, train binary_classification_accuracy <score>=0.8305230125523012\u001b[0m\n",
      "\u001b[34m[08/30/2023 11:12:08 INFO 140026071775040] #quality_metric: host=algo-1, epoch=94, train binary_classification_cross_entropy <loss>=0.29843489828069836\u001b[0m\n",
      "\u001b[34m[08/30/2023 11:12:08 INFO 140026071775040] #quality_metric: host=algo-1, epoch=94, train binary_f_1.000 <score>=0.9062759589331124\u001b[0m\n",
      "\u001b[34m#metrics {\"StartTime\": 1693393924.8980708, \"EndTime\": 1693393928.0255098, \"Dimensions\": {\"Algorithm\": \"factorization-machines\", \"Host\": \"algo-1\", \"Operation\": \"training\"}, \"Metrics\": {\"update.time\": {\"sum\": 3125.826358795166, \"count\": 1, \"min\": 3125.826358795166, \"max\": 3125.826358795166}}}\u001b[0m\n",
      "\u001b[34m[08/30/2023 11:12:08 INFO 140026071775040] #progress_metric: host=algo-1, completed 95.0 % of epochs\u001b[0m\n",
      "\u001b[34m#metrics {\"StartTime\": 1693393924.899624, \"EndTime\": 1693393928.0257628, \"Dimensions\": {\"Algorithm\": \"factorization-machines\", \"Host\": \"algo-1\", \"Operation\": \"training\", \"epoch\": 94, \"Meta\": \"training_data_iter\"}, \"Metrics\": {\"Total Records Seen\": {\"sum\": 22676905.0, \"count\": 1, \"min\": 22676905, \"max\": 22676905}, \"Total Batches Seen\": {\"sum\": 45411.0, \"count\": 1, \"min\": 45411, \"max\": 45411}, \"Max Records Seen Between Resets\": {\"sum\": 238699.0, \"count\": 1, \"min\": 238699, \"max\": 238699}, \"Max Batches Seen Between Resets\": {\"sum\": 478.0, \"count\": 1, \"min\": 478, \"max\": 478}, \"Reset Count\": {\"sum\": 96.0, \"count\": 1, \"min\": 96, \"max\": 96}, \"Number of Records Since Last Reset\": {\"sum\": 238699.0, \"count\": 1, \"min\": 238699, \"max\": 238699}, \"Number of Batches Since Last Reset\": {\"sum\": 478.0, \"count\": 1, \"min\": 478, \"max\": 478}}}\u001b[0m\n",
      "\u001b[34m[08/30/2023 11:12:08 INFO 140026071775040] #throughput_metric: host=algo-1, train throughput=76352.89348250923 records/second\u001b[0m\n",
      "\u001b[34m[08/30/2023 11:12:08 INFO 140026071775040] #quality_metric: host=algo-1, epoch=95, batch=0 train binary_classification_accuracy <score>=0.85\u001b[0m\n",
      "\u001b[34m[08/30/2023 11:12:08 INFO 140026071775040] #quality_metric: host=algo-1, epoch=95, batch=0 train binary_classification_cross_entropy <loss>=0.2800477294921875\u001b[0m\n",
      "\u001b[34m[08/30/2023 11:12:08 INFO 140026071775040] #quality_metric: host=algo-1, epoch=95, batch=0 train binary_f_1.000 <score>=0.9185667752442996\u001b[0m\n"
     ]
    },
    {
     "name": "stdout",
     "output_type": "stream",
     "text": [
      "\u001b[34m[2023-08-30 11:12:11.202] [tensorio] [info] epoch_stats={\"data_pipeline\": \"/opt/ml/input/data/train\", \"epoch\": 192, \"duration\": 3170, \"num_examples\": 478, \"num_bytes\": 16157236}\u001b[0m\n",
      "\u001b[34m[08/30/2023 11:12:11 INFO 140026071775040] #quality_metric: host=algo-1, epoch=95, train binary_classification_accuracy <score>=0.831326359832636\u001b[0m\n",
      "\u001b[34m[08/30/2023 11:12:11 INFO 140026071775040] #quality_metric: host=algo-1, epoch=95, train binary_classification_cross_entropy <loss>=0.2972654538972607\u001b[0m\n",
      "\u001b[34m[08/30/2023 11:12:11 INFO 140026071775040] #quality_metric: host=algo-1, epoch=95, train binary_f_1.000 <score>=0.9066787659642438\u001b[0m\n",
      "\u001b[34m#metrics {\"StartTime\": 1693393928.0255997, \"EndTime\": 1693393931.203824, \"Dimensions\": {\"Algorithm\": \"factorization-machines\", \"Host\": \"algo-1\", \"Operation\": \"training\"}, \"Metrics\": {\"update.time\": {\"sum\": 3176.701068878174, \"count\": 1, \"min\": 3176.701068878174, \"max\": 3176.701068878174}}}\u001b[0m\n",
      "\u001b[34m[08/30/2023 11:12:11 INFO 140026071775040] #progress_metric: host=algo-1, completed 96.0 % of epochs\u001b[0m\n",
      "\u001b[34m#metrics {\"StartTime\": 1693393928.027095, \"EndTime\": 1693393931.2040799, \"Dimensions\": {\"Algorithm\": \"factorization-machines\", \"Host\": \"algo-1\", \"Operation\": \"training\", \"epoch\": 95, \"Meta\": \"training_data_iter\"}, \"Metrics\": {\"Total Records Seen\": {\"sum\": 22915604.0, \"count\": 1, \"min\": 22915604, \"max\": 22915604}, \"Total Batches Seen\": {\"sum\": 45889.0, \"count\": 1, \"min\": 45889, \"max\": 45889}, \"Max Records Seen Between Resets\": {\"sum\": 238699.0, \"count\": 1, \"min\": 238699, \"max\": 238699}, \"Max Batches Seen Between Resets\": {\"sum\": 478.0, \"count\": 1, \"min\": 478, \"max\": 478}, \"Reset Count\": {\"sum\": 97.0, \"count\": 1, \"min\": 97, \"max\": 97}, \"Number of Records Since Last Reset\": {\"sum\": 238699.0, \"count\": 1, \"min\": 238699, \"max\": 238699}, \"Number of Batches Since Last Reset\": {\"sum\": 478.0, \"count\": 1, \"min\": 478, \"max\": 478}}}\u001b[0m\n",
      "\u001b[34m[08/30/2023 11:12:11 INFO 140026071775040] #throughput_metric: host=algo-1, train throughput=75130.93223526898 records/second\u001b[0m\n",
      "\u001b[34m[08/30/2023 11:12:11 INFO 140026071775040] #quality_metric: host=algo-1, epoch=96, batch=0 train binary_classification_accuracy <score>=0.85\u001b[0m\n",
      "\u001b[34m[08/30/2023 11:12:11 INFO 140026071775040] #quality_metric: host=algo-1, epoch=96, batch=0 train binary_classification_cross_entropy <loss>=0.27891729736328125\u001b[0m\n",
      "\u001b[34m[08/30/2023 11:12:11 INFO 140026071775040] #quality_metric: host=algo-1, epoch=96, batch=0 train binary_f_1.000 <score>=0.9185667752442996\u001b[0m\n",
      "\u001b[34m[2023-08-30 11:12:14.357] [tensorio] [info] epoch_stats={\"data_pipeline\": \"/opt/ml/input/data/train\", \"epoch\": 194, \"duration\": 3146, \"num_examples\": 478, \"num_bytes\": 16157236}\u001b[0m\n",
      "\u001b[34m[08/30/2023 11:12:14 INFO 140026071775040] #quality_metric: host=algo-1, epoch=96, train binary_classification_accuracy <score>=0.8321673640167364\u001b[0m\n",
      "\u001b[34m[08/30/2023 11:12:14 INFO 140026071775040] #quality_metric: host=algo-1, epoch=96, train binary_classification_cross_entropy <loss>=0.29610388627311673\u001b[0m\n",
      "\u001b[34m[08/30/2023 11:12:14 INFO 140026071775040] #quality_metric: host=algo-1, epoch=96, train binary_f_1.000 <score>=0.9071008383899208\u001b[0m\n",
      "\u001b[34m#metrics {\"StartTime\": 1693393931.203914, \"EndTime\": 1693393934.359015, \"Dimensions\": {\"Algorithm\": \"factorization-machines\", \"Host\": \"algo-1\", \"Operation\": \"training\"}, \"Metrics\": {\"update.time\": {\"sum\": 3153.5422801971436, \"count\": 1, \"min\": 3153.5422801971436, \"max\": 3153.5422801971436}}}\u001b[0m\n",
      "\u001b[34m[08/30/2023 11:12:14 INFO 140026071775040] #progress_metric: host=algo-1, completed 97.0 % of epochs\u001b[0m\n",
      "\u001b[34m#metrics {\"StartTime\": 1693393931.2054377, \"EndTime\": 1693393934.3593402, \"Dimensions\": {\"Algorithm\": \"factorization-machines\", \"Host\": \"algo-1\", \"Operation\": \"training\", \"epoch\": 96, \"Meta\": \"training_data_iter\"}, \"Metrics\": {\"Total Records Seen\": {\"sum\": 23154303.0, \"count\": 1, \"min\": 23154303, \"max\": 23154303}, \"Total Batches Seen\": {\"sum\": 46367.0, \"count\": 1, \"min\": 46367, \"max\": 46367}, \"Max Records Seen Between Resets\": {\"sum\": 238699.0, \"count\": 1, \"min\": 238699, \"max\": 238699}, \"Max Batches Seen Between Resets\": {\"sum\": 478.0, \"count\": 1, \"min\": 478, \"max\": 478}, \"Reset Count\": {\"sum\": 98.0, \"count\": 1, \"min\": 98, \"max\": 98}, \"Number of Records Since Last Reset\": {\"sum\": 238699.0, \"count\": 1, \"min\": 238699, \"max\": 238699}, \"Number of Batches Since Last Reset\": {\"sum\": 478.0, \"count\": 1, \"min\": 478, \"max\": 478}}}\u001b[0m\n",
      "\u001b[34m[08/30/2023 11:12:14 INFO 140026071775040] #throughput_metric: host=algo-1, train throughput=75679.62827023411 records/second\u001b[0m\n",
      "\u001b[34m[08/30/2023 11:12:14 INFO 140026071775040] #quality_metric: host=algo-1, epoch=97, batch=0 train binary_classification_accuracy <score>=0.852\u001b[0m\n",
      "\u001b[34m[08/30/2023 11:12:14 INFO 140026071775040] #quality_metric: host=algo-1, epoch=97, batch=0 train binary_classification_cross_entropy <loss>=0.2777948608398437\u001b[0m\n",
      "\u001b[34m[08/30/2023 11:12:14 INFO 140026071775040] #quality_metric: host=algo-1, epoch=97, batch=0 train binary_f_1.000 <score>=0.9195652173913044\u001b[0m\n",
      "\u001b[34m[2023-08-30 11:12:17.541] [tensorio] [info] epoch_stats={\"data_pipeline\": \"/opt/ml/input/data/train\", \"epoch\": 196, \"duration\": 3173, \"num_examples\": 478, \"num_bytes\": 16157236}\u001b[0m\n",
      "\u001b[34m[08/30/2023 11:12:17 INFO 140026071775040] #quality_metric: host=algo-1, epoch=97, train binary_classification_accuracy <score>=0.8329874476987448\u001b[0m\n",
      "\u001b[34m[08/30/2023 11:12:17 INFO 140026071775040] #quality_metric: host=algo-1, epoch=97, train binary_classification_cross_entropy <loss>=0.2949500879902221\u001b[0m\n",
      "\u001b[34m[08/30/2023 11:12:17 INFO 140026071775040] #quality_metric: host=algo-1, epoch=97, train binary_f_1.000 <score>=0.9075127900941647\u001b[0m\n",
      "\u001b[34m#metrics {\"StartTime\": 1693393934.359106, \"EndTime\": 1693393937.5420759, \"Dimensions\": {\"Algorithm\": \"factorization-machines\", \"Host\": \"algo-1\", \"Operation\": \"training\"}, \"Metrics\": {\"update.time\": {\"sum\": 3181.278944015503, \"count\": 1, \"min\": 3181.278944015503, \"max\": 3181.278944015503}}}\u001b[0m\n",
      "\u001b[34m[08/30/2023 11:12:17 INFO 140026071775040] #progress_metric: host=algo-1, completed 98.0 % of epochs\u001b[0m\n",
      "\u001b[34m#metrics {\"StartTime\": 1693393934.360766, \"EndTime\": 1693393937.5423074, \"Dimensions\": {\"Algorithm\": \"factorization-machines\", \"Host\": \"algo-1\", \"Operation\": \"training\", \"epoch\": 97, \"Meta\": \"training_data_iter\"}, \"Metrics\": {\"Total Records Seen\": {\"sum\": 23393002.0, \"count\": 1, \"min\": 23393002, \"max\": 23393002}, \"Total Batches Seen\": {\"sum\": 46845.0, \"count\": 1, \"min\": 46845, \"max\": 46845}, \"Max Records Seen Between Resets\": {\"sum\": 238699.0, \"count\": 1, \"min\": 238699, \"max\": 238699}, \"Max Batches Seen Between Resets\": {\"sum\": 478.0, \"count\": 1, \"min\": 478, \"max\": 478}, \"Reset Count\": {\"sum\": 99.0, \"count\": 1, \"min\": 99, \"max\": 99}, \"Number of Records Since Last Reset\": {\"sum\": 238699.0, \"count\": 1, \"min\": 238699, \"max\": 238699}, \"Number of Batches Since Last Reset\": {\"sum\": 478.0, \"count\": 1, \"min\": 478, \"max\": 478}}}\u001b[0m\n",
      "\u001b[34m[08/30/2023 11:12:17 INFO 140026071775040] #throughput_metric: host=algo-1, train throughput=75022.00024533347 records/second\u001b[0m\n",
      "\u001b[34m[08/30/2023 11:12:17 INFO 140026071775040] #quality_metric: host=algo-1, epoch=98, batch=0 train binary_classification_accuracy <score>=0.856\u001b[0m\n",
      "\u001b[34m[08/30/2023 11:12:17 INFO 140026071775040] #quality_metric: host=algo-1, epoch=98, batch=0 train binary_classification_cross_entropy <loss>=0.2766803894042969\u001b[0m\n",
      "\u001b[34m[08/30/2023 11:12:17 INFO 140026071775040] #quality_metric: host=algo-1, epoch=98, batch=0 train binary_f_1.000 <score>=0.9215686274509803\u001b[0m\n",
      "\u001b[34m[2023-08-30 11:12:20.700] [tensorio] [info] epoch_stats={\"data_pipeline\": \"/opt/ml/input/data/train\", \"epoch\": 198, \"duration\": 3150, \"num_examples\": 478, \"num_bytes\": 16157236}\u001b[0m\n",
      "\u001b[34m[08/30/2023 11:12:20 INFO 140026071775040] #quality_metric: host=algo-1, epoch=98, train binary_classification_accuracy <score>=0.8338075313807531\u001b[0m\n",
      "\u001b[34m[08/30/2023 11:12:20 INFO 140026071775040] #quality_metric: host=algo-1, epoch=98, train binary_classification_cross_entropy <loss>=0.29380395009826915\u001b[0m\n",
      "\u001b[34m[08/30/2023 11:12:20 INFO 140026071775040] #quality_metric: host=algo-1, epoch=98, train binary_f_1.000 <score>=0.9079251161367493\u001b[0m\n",
      "\u001b[34m#metrics {\"StartTime\": 1693393937.5421538, \"EndTime\": 1693393940.700955, \"Dimensions\": {\"Algorithm\": \"factorization-machines\", \"Host\": \"algo-1\", \"Operation\": \"training\"}, \"Metrics\": {\"update.time\": {\"sum\": 3157.209634780884, \"count\": 1, \"min\": 3157.209634780884, \"max\": 3157.209634780884}}}\u001b[0m\n",
      "\u001b[34m[08/30/2023 11:12:20 INFO 140026071775040] #progress_metric: host=algo-1, completed 99.0 % of epochs\u001b[0m\n",
      "\u001b[34m#metrics {\"StartTime\": 1693393937.5437179, \"EndTime\": 1693393940.7012198, \"Dimensions\": {\"Algorithm\": \"factorization-machines\", \"Host\": \"algo-1\", \"Operation\": \"training\", \"epoch\": 98, \"Meta\": \"training_data_iter\"}, \"Metrics\": {\"Total Records Seen\": {\"sum\": 23631701.0, \"count\": 1, \"min\": 23631701, \"max\": 23631701}, \"Total Batches Seen\": {\"sum\": 47323.0, \"count\": 1, \"min\": 47323, \"max\": 47323}, \"Max Records Seen Between Resets\": {\"sum\": 238699.0, \"count\": 1, \"min\": 238699, \"max\": 238699}, \"Max Batches Seen Between Resets\": {\"sum\": 478.0, \"count\": 1, \"min\": 478, \"max\": 478}, \"Reset Count\": {\"sum\": 100.0, \"count\": 1, \"min\": 100, \"max\": 100}, \"Number of Records Since Last Reset\": {\"sum\": 238699.0, \"count\": 1, \"min\": 238699, \"max\": 238699}, \"Number of Batches Since Last Reset\": {\"sum\": 478.0, \"count\": 1, \"min\": 478, \"max\": 478}}}\u001b[0m\n",
      "\u001b[34m[08/30/2023 11:12:20 INFO 140026071775040] #throughput_metric: host=algo-1, train throughput=75594.42328327411 records/second\u001b[0m\n",
      "\u001b[34m[08/30/2023 11:12:20 INFO 140026071775040] #quality_metric: host=algo-1, epoch=99, batch=0 train binary_classification_accuracy <score>=0.864\u001b[0m\n",
      "\u001b[34m[08/30/2023 11:12:20 INFO 140026071775040] #quality_metric: host=algo-1, epoch=99, batch=0 train binary_classification_cross_entropy <loss>=0.27557373046875\u001b[0m\n",
      "\u001b[34m[08/30/2023 11:12:20 INFO 140026071775040] #quality_metric: host=algo-1, epoch=99, batch=0 train binary_f_1.000 <score>=0.925601750547046\u001b[0m\n",
      "\u001b[34m[2023-08-30 11:12:23.865] [tensorio] [info] epoch_stats={\"data_pipeline\": \"/opt/ml/input/data/train\", \"epoch\": 200, \"duration\": 3153, \"num_examples\": 478, \"num_bytes\": 16157236}\u001b[0m\n",
      "\u001b[34m[08/30/2023 11:12:23 INFO 140026071775040] #quality_metric: host=algo-1, epoch=99, train binary_classification_accuracy <score>=0.8348661087866108\u001b[0m\n",
      "\u001b[34m[08/30/2023 11:12:23 INFO 140026071775040] #quality_metric: host=algo-1, epoch=99, train binary_classification_cross_entropy <loss>=0.29266537232977574\u001b[0m\n",
      "\u001b[34m[08/30/2023 11:12:23 INFO 140026071775040] #quality_metric: host=algo-1, epoch=99, train binary_f_1.000 <score>=0.9084579076159439\u001b[0m\n",
      "\u001b[34m[08/30/2023 11:12:23 INFO 140026071775040] #quality_metric: host=algo-1, train binary_classification_accuracy <score>=0.8348661087866108\u001b[0m\n",
      "\u001b[34m[08/30/2023 11:12:23 INFO 140026071775040] #quality_metric: host=algo-1, train binary_classification_cross_entropy <loss>=0.29266537232977574\u001b[0m\n",
      "\u001b[34m[08/30/2023 11:12:23 INFO 140026071775040] #quality_metric: host=algo-1, train binary_f_1.000 <score>=0.9084579076159439\u001b[0m\n",
      "\u001b[34m#metrics {\"StartTime\": 1693393940.701048, \"EndTime\": 1693393943.8663855, \"Dimensions\": {\"Algorithm\": \"factorization-machines\", \"Host\": \"algo-1\", \"Operation\": \"training\"}, \"Metrics\": {\"update.time\": {\"sum\": 3163.7589931488037, \"count\": 1, \"min\": 3163.7589931488037, \"max\": 3163.7589931488037}}}\u001b[0m\n",
      "\u001b[34m[08/30/2023 11:12:23 INFO 140026071775040] #progress_metric: host=algo-1, completed 100.0 % of epochs\u001b[0m\n",
      "\u001b[34m#metrics {\"StartTime\": 1693393940.7025983, \"EndTime\": 1693393943.8666134, \"Dimensions\": {\"Algorithm\": \"factorization-machines\", \"Host\": \"algo-1\", \"Operation\": \"training\", \"epoch\": 99, \"Meta\": \"training_data_iter\"}, \"Metrics\": {\"Total Records Seen\": {\"sum\": 23870400.0, \"count\": 1, \"min\": 23870400, \"max\": 23870400}, \"Total Batches Seen\": {\"sum\": 47801.0, \"count\": 1, \"min\": 47801, \"max\": 47801}, \"Max Records Seen Between Resets\": {\"sum\": 238699.0, \"count\": 1, \"min\": 238699, \"max\": 238699}, \"Max Batches Seen Between Resets\": {\"sum\": 478.0, \"count\": 1, \"min\": 478, \"max\": 478}, \"Reset Count\": {\"sum\": 101.0, \"count\": 1, \"min\": 101, \"max\": 101}, \"Number of Records Since Last Reset\": {\"sum\": 238699.0, \"count\": 1, \"min\": 238699, \"max\": 238699}, \"Number of Batches Since Last Reset\": {\"sum\": 478.0, \"count\": 1, \"min\": 478, \"max\": 478}}}\u001b[0m\n",
      "\u001b[34m[08/30/2023 11:12:23 INFO 140026071775040] #throughput_metric: host=algo-1, train throughput=75438.89236432788 records/second\u001b[0m\n",
      "\u001b[34m[08/30/2023 11:12:23 WARNING 140026071775040] wait_for_all_workers will not sync workers since the kv store is not running distributed\u001b[0m\n",
      "\u001b[34m[08/30/2023 11:12:23 INFO 140026071775040] Pulling entire model from kvstore to finalize\u001b[0m\n",
      "\u001b[34m#metrics {\"StartTime\": 1693393943.866464, \"EndTime\": 1693393943.9307168, \"Dimensions\": {\"Algorithm\": \"factorization-machines\", \"Host\": \"algo-1\", \"Operation\": \"training\"}, \"Metrics\": {\"finalize.time\": {\"sum\": 63.756465911865234, \"count\": 1, \"min\": 63.756465911865234, \"max\": 63.756465911865234}}}\u001b[0m\n",
      "\u001b[34m[08/30/2023 11:12:24 INFO 140026071775040] Saved checkpoint to \"/tmp/tmpkml7xnx9/state-0001.params\"\u001b[0m\n",
      "\u001b[34m[2023-08-30 11:12:24.397] [tensorio] [info] epoch_stats={\"data_pipeline\": \"/opt/ml/input/data/test\", \"epoch\": 0, \"duration\": 320238, \"num_examples\": 1, \"num_bytes\": 33820}\u001b[0m\n"
     ]
    },
    {
     "name": "stdout",
     "output_type": "stream",
     "text": [
      "\u001b[34m[2023-08-30 11:12:28.925] [tensorio] [info] epoch_stats={\"data_pipeline\": \"/opt/ml/input/data/test\", \"epoch\": 1, \"duration\": 4527, \"num_examples\": 96, \"num_bytes\": 3229628}\u001b[0m\n",
      "\u001b[34m#metrics {\"StartTime\": 1693393944.3974333, \"EndTime\": 1693393948.9254818, \"Dimensions\": {\"Algorithm\": \"factorization-machines\", \"Host\": \"algo-1\", \"Operation\": \"training\", \"Meta\": \"test_data_iter\"}, \"Metrics\": {\"Total Records Seen\": {\"sum\": 47739.0, \"count\": 1, \"min\": 47739, \"max\": 47739}, \"Total Batches Seen\": {\"sum\": 96.0, \"count\": 1, \"min\": 96, \"max\": 96}, \"Max Records Seen Between Resets\": {\"sum\": 47739.0, \"count\": 1, \"min\": 47739, \"max\": 47739}, \"Max Batches Seen Between Resets\": {\"sum\": 96.0, \"count\": 1, \"min\": 96, \"max\": 96}, \"Reset Count\": {\"sum\": 1.0, \"count\": 1, \"min\": 1, \"max\": 1}, \"Number of Records Since Last Reset\": {\"sum\": 47739.0, \"count\": 1, \"min\": 47739, \"max\": 47739}, \"Number of Batches Since Last Reset\": {\"sum\": 96.0, \"count\": 1, \"min\": 96, \"max\": 96}}}\u001b[0m\n",
      "\u001b[34m[08/30/2023 11:12:28 INFO 140026071775040] #test_score (algo-1) : ('binary_classification_accuracy', 0.88791135130606)\u001b[0m\n",
      "\u001b[34m[08/30/2023 11:12:28 INFO 140026071775040] #test_score (algo-1) : ('binary_classification_cross_entropy', 0.28633937828901235)\u001b[0m\n",
      "\u001b[34m[08/30/2023 11:12:28 INFO 140026071775040] #test_score (algo-1) : ('binary_f_1.000', 0.9364421375206377)\u001b[0m\n",
      "\u001b[34m[08/30/2023 11:12:28 INFO 140026071775040] #quality_metric: host=algo-1, test binary_classification_accuracy <score>=0.88791135130606\u001b[0m\n",
      "\u001b[34m[08/30/2023 11:12:28 INFO 140026071775040] #quality_metric: host=algo-1, test binary_classification_cross_entropy <loss>=0.28633937828901235\u001b[0m\n",
      "\u001b[34m[08/30/2023 11:12:28 INFO 140026071775040] #quality_metric: host=algo-1, test binary_f_1.000 <score>=0.9364421375206377\u001b[0m\n",
      "\u001b[34m#metrics {\"StartTime\": 1693393943.9309034, \"EndTime\": 1693393948.9271777, \"Dimensions\": {\"Algorithm\": \"factorization-machines\", \"Host\": \"algo-1\", \"Operation\": \"training\"}, \"Metrics\": {\"setuptime\": {\"sum\": 20.227909088134766, \"count\": 1, \"min\": 20.227909088134766, \"max\": 20.227909088134766}, \"totaltime\": {\"sum\": 324795.3839302063, \"count\": 1, \"min\": 324795.3839302063, \"max\": 324795.3839302063}}}\u001b[0m\n",
      "\n",
      "2023-08-30 11:12:47 Uploading - Uploading generated training model\n",
      "2023-08-30 11:13:20 Completed - Training job completed\n",
      "LossNotDecreasing: Error\n",
      "Overtraining: InProgress\n",
      "Overfit: InProgress\n",
      "Training seconds: 539\n",
      "Billable seconds: 539\n"
     ]
    }
   ],
   "source": [
    "fm.fit(\n",
    "    {\"train\": train_data_location, \"test\": test_data_location},\n",
    "    experiment_config={\n",
    "        \"ExperimentName\": sagemaker_experiment.experiment_name,\n",
    "        \"TrialName\": trial.trial_name,\n",
    "        \"TrialComponentDisplayName\": \"TrainingTrial\",\n",
    "    }, logs=True\n",
    ")"
   ]
  },
  {
   "cell_type": "code",
   "execution_count": 39,
   "id": "9e938042",
   "metadata": {},
   "outputs": [
    {
     "data": {
      "text/html": [
       "<div>\n",
       "<style scoped>\n",
       "    .dataframe tbody tr th:only-of-type {\n",
       "        vertical-align: middle;\n",
       "    }\n",
       "\n",
       "    .dataframe tbody tr th {\n",
       "        vertical-align: top;\n",
       "    }\n",
       "\n",
       "    .dataframe thead th {\n",
       "        text-align: right;\n",
       "    }\n",
       "</style>\n",
       "<table border=\"1\" class=\"dataframe\">\n",
       "  <thead>\n",
       "    <tr style=\"text-align: right;\">\n",
       "      <th></th>\n",
       "      <th>TrialComponentName</th>\n",
       "      <th>DisplayName</th>\n",
       "      <th>SourceArn</th>\n",
       "      <th>SageMaker.ImageUri</th>\n",
       "      <th>SageMaker.InstanceCount</th>\n",
       "      <th>SageMaker.InstanceType</th>\n",
       "      <th>SageMaker.VolumeSizeInGB</th>\n",
       "      <th>epochs</th>\n",
       "      <th>feature_dim</th>\n",
       "      <th>mini_batch_size</th>\n",
       "      <th>...</th>\n",
       "      <th>test - MediaType</th>\n",
       "      <th>test - Value</th>\n",
       "      <th>train - MediaType</th>\n",
       "      <th>train - Value</th>\n",
       "      <th>SageMaker.DebugHookOutput - MediaType</th>\n",
       "      <th>SageMaker.DebugHookOutput - Value</th>\n",
       "      <th>SageMaker.ModelArtifact - MediaType</th>\n",
       "      <th>SageMaker.ModelArtifact - Value</th>\n",
       "      <th>Trials</th>\n",
       "      <th>Experiments</th>\n",
       "    </tr>\n",
       "  </thead>\n",
       "  <tbody>\n",
       "    <tr>\n",
       "      <th>0</th>\n",
       "      <td>factorization-machines-2023-08-30-11-02-34-424...</td>\n",
       "      <td>TrainingTrial</td>\n",
       "      <td>arn:aws:sagemaker:ap-southeast-1:964448433964:...</td>\n",
       "      <td>475088953585.dkr.ecr.ap-southeast-1.amazonaws....</td>\n",
       "      <td>1.0</td>\n",
       "      <td>ml.m4.xlarge</td>\n",
       "      <td>30.0</td>\n",
       "      <td>100.0</td>\n",
       "      <td>230845.0</td>\n",
       "      <td>500.0</td>\n",
       "      <td>...</td>\n",
       "      <td>None</td>\n",
       "      <td>s3://sagemaker-ap-southeast-1-964448433964/bui...</td>\n",
       "      <td>None</td>\n",
       "      <td>s3://sagemaker-ap-southeast-1-964448433964/bui...</td>\n",
       "      <td>None</td>\n",
       "      <td>s3://sagemaker-ap-southeast-1-964448433964/bui...</td>\n",
       "      <td>None</td>\n",
       "      <td>s3://sagemaker-ap-southeast-1-964448433964/bui...</td>\n",
       "      <td>[algorithm-mode-trial-2023-08-30-11-02-34]</td>\n",
       "      <td>[Experiment2023-08-30-11-02-33]</td>\n",
       "    </tr>\n",
       "  </tbody>\n",
       "</table>\n",
       "<p>1 rows × 106 columns</p>\n",
       "</div>"
      ],
      "text/plain": [
       "                                  TrialComponentName    DisplayName  \\\n",
       "0  factorization-machines-2023-08-30-11-02-34-424...  TrainingTrial   \n",
       "\n",
       "                                           SourceArn  \\\n",
       "0  arn:aws:sagemaker:ap-southeast-1:964448433964:...   \n",
       "\n",
       "                                  SageMaker.ImageUri  SageMaker.InstanceCount  \\\n",
       "0  475088953585.dkr.ecr.ap-southeast-1.amazonaws....                      1.0   \n",
       "\n",
       "  SageMaker.InstanceType  SageMaker.VolumeSizeInGB  epochs  feature_dim  \\\n",
       "0           ml.m4.xlarge                      30.0   100.0     230845.0   \n",
       "\n",
       "   mini_batch_size  ...  test - MediaType  \\\n",
       "0            500.0  ...              None   \n",
       "\n",
       "                                        test - Value  train - MediaType  \\\n",
       "0  s3://sagemaker-ap-southeast-1-964448433964/bui...               None   \n",
       "\n",
       "                                       train - Value  \\\n",
       "0  s3://sagemaker-ap-southeast-1-964448433964/bui...   \n",
       "\n",
       "   SageMaker.DebugHookOutput - MediaType  \\\n",
       "0                                   None   \n",
       "\n",
       "                   SageMaker.DebugHookOutput - Value  \\\n",
       "0  s3://sagemaker-ap-southeast-1-964448433964/bui...   \n",
       "\n",
       "   SageMaker.ModelArtifact - MediaType  \\\n",
       "0                                 None   \n",
       "\n",
       "                     SageMaker.ModelArtifact - Value  \\\n",
       "0  s3://sagemaker-ap-southeast-1-964448433964/bui...   \n",
       "\n",
       "                                       Trials                      Experiments  \n",
       "0  [algorithm-mode-trial-2023-08-30-11-02-34]  [Experiment2023-08-30-11-02-33]  \n",
       "\n",
       "[1 rows x 106 columns]"
      ]
     },
     "execution_count": 39,
     "metadata": {},
     "output_type": "execute_result"
    }
   ],
   "source": [
    "from sagemaker import analytics\n",
    "trial_component_analytics = analytics.ExperimentAnalytics(experiment_name=sagemaker_experiment.experiment_name)\n",
    "\n",
    "analytic_table = trial_component_analytics.dataframe()\n",
    "analytic_table"
   ]
  },
  {
   "cell_type": "code",
   "execution_count": 40,
   "id": "cc708ec4-43d4-410b-bfb7-5535ed5be75b",
   "metadata": {
    "tags": []
   },
   "outputs": [],
   "source": [
    "# %%time \n",
    "\n",
    "# fm.fit(inputs=data_channels, logs=True)"
   ]
  },
  {
   "cell_type": "code",
   "execution_count": 41,
   "id": "33fa4166",
   "metadata": {},
   "outputs": [
    {
     "data": {
      "text/plain": [
       "'factorization-machines-2023-08-30-11-02-34-424'"
      ]
     },
     "execution_count": 41,
     "metadata": {},
     "output_type": "execute_result"
    }
   ],
   "source": [
    "training_job_name = fm._current_job_name\n",
    "metric_name = 'train:binary_classification_cross_entropy:epoch'\n",
    "training_job_name"
   ]
  },
  {
   "cell_type": "code",
   "execution_count": 42,
   "id": "6c65a938",
   "metadata": {},
   "outputs": [
    {
     "name": "stdout",
     "output_type": "stream",
     "text": [
      "The training job is completed\n"
     ]
    }
   ],
   "source": [
    "# run this cell to check current status of training job\n",
    "fm_training_job_result = sagemaker_boto_client.describe_training_job(TrainingJobName=training_job_name)\n",
    "\n",
    "status = fm_training_job_result['TrainingJobStatus']\n",
    "if status != 'Completed':\n",
    "    print('Reminder: the training job has not been completed.')\n",
    "else:\n",
    "    print('The training job is completed')"
   ]
  },
  {
   "cell_type": "code",
   "execution_count": 43,
   "id": "47b32ab4",
   "metadata": {},
   "outputs": [
    {
     "data": {
      "text/html": [
       "<div>\n",
       "<style scoped>\n",
       "    .dataframe tbody tr th:only-of-type {\n",
       "        vertical-align: middle;\n",
       "    }\n",
       "\n",
       "    .dataframe tbody tr th {\n",
       "        vertical-align: top;\n",
       "    }\n",
       "\n",
       "    .dataframe thead th {\n",
       "        text-align: right;\n",
       "    }\n",
       "</style>\n",
       "<table border=\"1\" class=\"dataframe\">\n",
       "  <thead>\n",
       "    <tr style=\"text-align: right;\">\n",
       "      <th></th>\n",
       "      <th>timestamp</th>\n",
       "      <th>metric_name</th>\n",
       "      <th>value</th>\n",
       "    </tr>\n",
       "  </thead>\n",
       "  <tbody>\n",
       "    <tr>\n",
       "      <th>0</th>\n",
       "      <td>0.0</td>\n",
       "      <td>train:binary_classification_cross_entropy:epoch</td>\n",
       "      <td>0.454677</td>\n",
       "    </tr>\n",
       "    <tr>\n",
       "      <th>1</th>\n",
       "      <td>60.0</td>\n",
       "      <td>train:binary_classification_cross_entropy:epoch</td>\n",
       "      <td>0.409067</td>\n",
       "    </tr>\n",
       "    <tr>\n",
       "      <th>2</th>\n",
       "      <td>120.0</td>\n",
       "      <td>train:binary_classification_cross_entropy:epoch</td>\n",
       "      <td>0.370934</td>\n",
       "    </tr>\n",
       "    <tr>\n",
       "      <th>3</th>\n",
       "      <td>180.0</td>\n",
       "      <td>train:binary_classification_cross_entropy:epoch</td>\n",
       "      <td>0.339560</td>\n",
       "    </tr>\n",
       "    <tr>\n",
       "      <th>4</th>\n",
       "      <td>240.0</td>\n",
       "      <td>train:binary_classification_cross_entropy:epoch</td>\n",
       "      <td>0.313270</td>\n",
       "    </tr>\n",
       "    <tr>\n",
       "      <th>5</th>\n",
       "      <td>300.0</td>\n",
       "      <td>train:binary_classification_cross_entropy:epoch</td>\n",
       "      <td>0.296704</td>\n",
       "    </tr>\n",
       "  </tbody>\n",
       "</table>\n",
       "</div>"
      ],
      "text/plain": [
       "   timestamp                                      metric_name     value\n",
       "0        0.0  train:binary_classification_cross_entropy:epoch  0.454677\n",
       "1       60.0  train:binary_classification_cross_entropy:epoch  0.409067\n",
       "2      120.0  train:binary_classification_cross_entropy:epoch  0.370934\n",
       "3      180.0  train:binary_classification_cross_entropy:epoch  0.339560\n",
       "4      240.0  train:binary_classification_cross_entropy:epoch  0.313270\n",
       "5      300.0  train:binary_classification_cross_entropy:epoch  0.296704"
      ]
     },
     "execution_count": 43,
     "metadata": {},
     "output_type": "execute_result"
    }
   ],
   "source": [
    "from sagemaker.analytics import HyperparameterTuningJobAnalytics, TrainingJobAnalytics\n",
    "# plug-in the training job name and metrics to be captured\n",
    "metrics_dataframe = TrainingJobAnalytics(training_job_name=training_job_name,metric_names=[metric_name]).dataframe()\n",
    "metrics_dataframe"
   ]
  },
  {
   "cell_type": "code",
   "execution_count": 44,
   "id": "3df2f60e",
   "metadata": {},
   "outputs": [
    {
     "data": {
      "image/png": "[encoded data removed]",
      "text/plain": [
       "<Figure size 1200x500 with 1 Axes>"
      ]
     },
     "metadata": {},
     "output_type": "display_data"
    }
   ],
   "source": [
    "plt = metrics_dataframe.plot(kind='line', figsize=(12,5), x='timestamp', y='value', style='b-', legend=False)\n",
    "plt.set_ylabel(metric_name);"
   ]
  },
  {
   "cell_type": "code",
   "execution_count": 45,
   "id": "dedd7c56-7f35-47e0-9bc0-aa65ebc6a0e3",
   "metadata": {
    "tags": []
   },
   "outputs": [
    {
     "data": {
      "text/markdown": [
       "# **Train Job**\n",
       "| | |\n",
       "|---|---|\n",
       "| **Name** | factorization-machines-2023-08-30-11-02-34-424 |\n",
       "| **ARN**  | arn:aws:sagemaker:ap-southeast-1:964448433964:training-job/factorization-machines-2023-08-30-11-02-34-424 |\n",
       "| **Creation Time** | 2023-08-30 18:02:34.608000+07:00 |\n",
       "| **Output** | s3://sagemaker-ap-southeast-1-964448433964/builtin-notebooks/Recomendation-Machine/Explicit/output/factorization-machines-2023-08-30-11-02-34-424/output/model.tar.gz |\n",
       "| **Training Start Time** | 2023-08-30 18:04:03.772000+07:00 |\n",
       "| **Training End Time** | 2023-08-30 18:13:02.950000+07:00 |\n",
       "| **Training Time** | 539 seconds |\n",
       "| **Training Set Input** | s3://sagemaker-ap-southeast-1-964448433964/builtin-notebooks/Recomendation-Machine/Explicit/train/ |\n",
       "\n",
       "## Hyperparameters\n",
       "| | |\n",
       "|---|---|\n",
       "| **epochs** | 100 |\n",
       "| **feature_dim** | 230845 |\n",
       "| **mini_batch_size** | 500 |\n",
       "| **num_factors** | 64 |\n",
       "| **predictor_type** | binary_classifier |\n",
       "\n",
       "## Metrics\n",
       "| | |\n",
       "|---|---|\n",
       "| **train:progress** | 100.0 |\n",
       "| **test:binary_f_beta** | 0.9364421367645264 |\n",
       "| **train:binary_classification_accuracy:batch** | 0.8640000224113464 |\n",
       "| **train:binary_f_beta:batch** | 0.9256017208099365 |\n",
       "| **train:binary_classification_cross_entropy:epoch** | 0.29266536235809326 |\n",
       "| **train:binary_f_beta** | 0.9084579348564148 |\n",
       "| **train:binary_classification_cross_entropy** | 0.29266536235809326 |\n",
       "| **train:binary_f_beta:epoch** | 0.9084579348564148 |\n",
       "| **train:binary_classification_accuracy:epoch** | 0.8348661065101624 |\n",
       "| **train:binary_classification_accuracy** | 0.8348661065101624 |\n",
       "| **test:binary_classification_cross_entropy** | 0.2863393723964691 |\n",
       "| **train:throughput** | 75438.890625 |\n",
       "| **test:binary_classification_accuracy** | 0.8879113793373108 |\n",
       "| **train:binary_classification_cross_entropy:batch** | 0.27557373046875 |\n"
      ]
     },
     "metadata": {},
     "output_type": "display_data"
    }
   ],
   "source": [
    "from IPython.display import display, display_markdown\n",
    "\n",
    "job_desc = fm.latest_training_job.describe()\n",
    "\n",
    "job_name = job_desc[\"TrainingJobName\"]\n",
    "job_arn = job_desc[\"TrainingJobArn\"]\n",
    "creation_time = job_desc[\"CreationTime\"]\n",
    "train_start_time = job_desc[\"TrainingStartTime\"]\n",
    "train_end_time = job_desc[\"TrainingEndTime\"]\n",
    "job_output = job_desc[\"ModelArtifacts\"][\"S3ModelArtifacts\"]\n",
    "train_time = job_desc[\"TrainingTimeInSeconds\"]\n",
    "\n",
    "desc_md = f\"\"\"# **Train Job**\n",
    "| | |\n",
    "|---|---|\n",
    "| **Name** | {job_name} |\n",
    "| **ARN**  | {job_arn} |\n",
    "| **Creation Time** | {creation_time} |\n",
    "| **Output** | {job_output} |\n",
    "| **Training Start Time** | {train_start_time} |\n",
    "| **Training End Time** | {train_end_time} |\n",
    "| **Training Time** | {train_time} seconds |\n",
    "| **Training Set Input** | {s3_train} |\n",
    "\n",
    "## Hyperparameters\n",
    "| | |\n",
    "|---|---|\n",
    "\"\"\"\n",
    "for name, val in job_desc[\"HyperParameters\"].items():\n",
    "    desc_md += f\"| **{name}** | {val} |\\n\"\n",
    "\n",
    "desc_md += \"\"\"\n",
    "## Metrics\n",
    "| | |\n",
    "|---|---|\n",
    "\"\"\"\n",
    "for metric in job_desc[\"FinalMetricDataList\"]:\n",
    "    name, val = metric[\"MetricName\"], metric[\"Value\"]\n",
    "    desc_md += f\"| **{name}** | {val} |\\n\"\n",
    "\n",
    "display_markdown(desc_md, raw=True)"
   ]
  },
  {
   "cell_type": "markdown",
   "id": "9b65859b-a84e-4abf-a417-158e917d8f98",
   "metadata": {},
   "source": [
    "# Perform Batch Inference"
   ]
  },
  {
   "cell_type": "code",
   "execution_count": 46,
   "id": "c08de518-31b5-446f-866d-5cc340cb7566",
   "metadata": {
    "tags": []
   },
   "outputs": [],
   "source": [
    "def writeDatasetToProtobuf2(X, bucket, prefix, key, d_type, Y=None):\n",
    "    buf = io.BytesIO()\n",
    "    if d_type==\"sparse\":\n",
    "        smac.write_spmatrix_to_sparse_tensor(buf, X, labels=Y)\n",
    "    else:\n",
    "        smac.write_numpy_to_dense_tensor(buf, X, labels=Y)\n",
    "        \n",
    "    buf.seek(0)\n",
    "    obj = '{}/{}'.format(prefix, key)\n",
    "    boto3.resource('s3').Bucket(bucket).Object(obj).upload_fileobj(buf)\n",
    "    return 's3://{}/{}'.format(bucket,obj)"
   ]
  },
  {
   "cell_type": "code",
   "execution_count": 47,
   "id": "5ef6f10a-e185-4d47-b03f-911981a61b49",
   "metadata": {
    "tags": []
   },
   "outputs": [
    {
     "name": "stdout",
     "output_type": "stream",
     "text": [
      "Batch inference data path:  s3://sagemaker-ap-southeast-1-964448433964/builtin-notebooks/Recomendation-Machine/Explicit/batch_inference/test.protobuf\n"
     ]
    }
   ],
   "source": [
    "#upload inference data to S3\n",
    "s3_batch_output = \"s3://{}/{}/batch_output/\".format(bucket, prefix)\n",
    "prefix_batch = \"{}/batch_inference\".format(prefix)\n",
    "\n",
    "s3_batch_input = writeDatasetToProtobuf2(X_test, bucket, prefix_batch, test_key, \"sparse\")\n",
    "print (\"Batch inference data path: \",s3_batch_input)"
   ]
  },
  {
   "cell_type": "code",
   "execution_count": 48,
   "id": "681e54f3-1d8b-4460-aa21-ff180974e030",
   "metadata": {
    "tags": []
   },
   "outputs": [
    {
     "name": "stderr",
     "output_type": "stream",
     "text": [
      "INFO:sagemaker:Creating model with name: factorization-machines-2023-08-30-11-13-42-915\n"
     ]
    }
   ],
   "source": [
    "fm_transformer = fm.transformer(\n",
    "    instance_count=1,\n",
    "    output_path=s3_batch_output,\n",
    "    instance_type=\"ml.m4.xlarge\",\n",
    "    max_payload=1,\n",
    ")"
   ]
  },
  {
   "cell_type": "code",
   "execution_count": 49,
   "id": "69e906f3-1a69-4b1c-b429-e22b3dc5022c",
   "metadata": {
    "tags": []
   },
   "outputs": [],
   "source": [
    "import uuid"
   ]
  },
  {
   "cell_type": "code",
   "execution_count": 50,
   "id": "4be8ec74-f79c-409d-9d98-a7893ef17e8b",
   "metadata": {
    "tags": []
   },
   "outputs": [
    {
     "data": {
      "text/plain": [
       "'Launching Batch Transform Job factorization-machines-2023-08-30-11-02-34-424-d7f39078'"
      ]
     },
     "metadata": {},
     "output_type": "display_data"
    },
    {
     "name": "stderr",
     "output_type": "stream",
     "text": [
      "INFO:sagemaker:Creating transform job with name: factorization-machines-2023-08-30-11-02-34-424-d7f39078\n"
     ]
    },
    {
     "name": "stdout",
     "output_type": "stream",
     "text": [
      ".........................................................................................!\n",
      "CPU times: total: 188 ms\n",
      "Wall time: 7min 35s\n"
     ]
    }
   ],
   "source": [
    "%%time \n",
    "\n",
    "transform_job_name = f\"{job_name}-{str(uuid.uuid4())[:8]}\"\n",
    "display(f\"Launching Batch Transform Job {transform_job_name}\")\n",
    "\n",
    "s3_batch_inference = \"s3://{}/{}/batch_inference/\".format(bucket, prefix)\n",
    "\n",
    "fm_transformer.transform(\n",
    "    data=s3_batch_inference,\n",
    "    split_type='RecordIO',\n",
    "    content_type=\"application/x-recordio-protobuf\",\n",
    "    job_name=transform_job_name,\n",
    "    wait=True,\n",
    "    logs=False\n",
    ")"
   ]
  },
  {
   "cell_type": "code",
   "execution_count": 51,
   "id": "cb68ee05-5172-40dc-9f02-49ccaf36c682",
   "metadata": {
    "tags": []
   },
   "outputs": [],
   "source": [
    "#Download predictions \n",
    "results_file_name = \"inference_batch_output\"\n",
    "results_prefix_name = '{}/batch_output/test.protobuf.out'.format(prefix)\n",
    "s3_client = boto3.client('s3')\n",
    "s3_client.download_file(bucket, results_prefix_name, results_file_name)\n",
    "with open(results_file_name) as f:\n",
    "    results = f.readlines() "
   ]
  },
  {
   "cell_type": "code",
   "execution_count": 52,
   "id": "d9b04929-76d9-41de-b122-c3b917568b5d",
   "metadata": {
    "tags": []
   },
   "outputs": [
    {
     "data": {
      "text/html": [
       "<div>\n",
       "<style scoped>\n",
       "    .dataframe tbody tr th:only-of-type {\n",
       "        vertical-align: middle;\n",
       "    }\n",
       "\n",
       "    .dataframe tbody tr th {\n",
       "        vertical-align: top;\n",
       "    }\n",
       "\n",
       "    .dataframe thead th {\n",
       "        text-align: right;\n",
       "    }\n",
       "</style>\n",
       "<table border=\"1\" class=\"dataframe\">\n",
       "  <thead>\n",
       "    <tr style=\"text-align: right;\">\n",
       "      <th></th>\n",
       "      <th>predicted_label</th>\n",
       "      <th>score</th>\n",
       "      <th>star_rating</th>\n",
       "      <th>rating_bin</th>\n",
       "    </tr>\n",
       "  </thead>\n",
       "  <tbody>\n",
       "    <tr>\n",
       "      <th>0</th>\n",
       "      <td>1.0</td>\n",
       "      <td>0.853028</td>\n",
       "      <td>5</td>\n",
       "      <td>1.0</td>\n",
       "    </tr>\n",
       "    <tr>\n",
       "      <th>1</th>\n",
       "      <td>1.0</td>\n",
       "      <td>0.533257</td>\n",
       "      <td>3</td>\n",
       "      <td>0.0</td>\n",
       "    </tr>\n",
       "    <tr>\n",
       "      <th>2</th>\n",
       "      <td>1.0</td>\n",
       "      <td>0.787258</td>\n",
       "      <td>5</td>\n",
       "      <td>1.0</td>\n",
       "    </tr>\n",
       "    <tr>\n",
       "      <th>3</th>\n",
       "      <td>1.0</td>\n",
       "      <td>0.786216</td>\n",
       "      <td>5</td>\n",
       "      <td>1.0</td>\n",
       "    </tr>\n",
       "    <tr>\n",
       "      <th>4</th>\n",
       "      <td>1.0</td>\n",
       "      <td>0.529200</td>\n",
       "      <td>2</td>\n",
       "      <td>0.0</td>\n",
       "    </tr>\n",
       "    <tr>\n",
       "      <th>...</th>\n",
       "      <td>...</td>\n",
       "      <td>...</td>\n",
       "      <td>...</td>\n",
       "      <td>...</td>\n",
       "    </tr>\n",
       "    <tr>\n",
       "      <th>47734</th>\n",
       "      <td>1.0</td>\n",
       "      <td>0.669164</td>\n",
       "      <td>1</td>\n",
       "      <td>0.0</td>\n",
       "    </tr>\n",
       "    <tr>\n",
       "      <th>47735</th>\n",
       "      <td>1.0</td>\n",
       "      <td>0.859639</td>\n",
       "      <td>5</td>\n",
       "      <td>1.0</td>\n",
       "    </tr>\n",
       "    <tr>\n",
       "      <th>47736</th>\n",
       "      <td>1.0</td>\n",
       "      <td>0.860172</td>\n",
       "      <td>5</td>\n",
       "      <td>1.0</td>\n",
       "    </tr>\n",
       "    <tr>\n",
       "      <th>47737</th>\n",
       "      <td>1.0</td>\n",
       "      <td>0.859965</td>\n",
       "      <td>4</td>\n",
       "      <td>1.0</td>\n",
       "    </tr>\n",
       "    <tr>\n",
       "      <th>47738</th>\n",
       "      <td>1.0</td>\n",
       "      <td>0.857898</td>\n",
       "      <td>5</td>\n",
       "      <td>1.0</td>\n",
       "    </tr>\n",
       "  </tbody>\n",
       "</table>\n",
       "<p>47739 rows × 4 columns</p>\n",
       "</div>"
      ],
      "text/plain": [
       "       predicted_label     score  star_rating  rating_bin\n",
       "0                  1.0  0.853028            5         1.0\n",
       "1                  1.0  0.533257            3         0.0\n",
       "2                  1.0  0.787258            5         1.0\n",
       "3                  1.0  0.786216            5         1.0\n",
       "4                  1.0  0.529200            2         0.0\n",
       "...                ...       ...          ...         ...\n",
       "47734              1.0  0.669164            1         0.0\n",
       "47735              1.0  0.859639            5         1.0\n",
       "47736              1.0  0.860172            5         1.0\n",
       "47737              1.0  0.859965            4         1.0\n",
       "47738              1.0  0.857898            5         1.0\n",
       "\n",
       "[47739 rows x 4 columns]"
      ]
     },
     "execution_count": 52,
     "metadata": {},
     "output_type": "execute_result"
    }
   ],
   "source": [
    "pd.concat([pd.Series(results,name='predicted_label').apply(json.loads).apply(lambda x: x['predicted_label']),pd.Series(results,name='score').apply(json.loads).apply(lambda x: x['score']),test_data.star_rating,Y_test],axis=1)"
   ]
  },
  {
   "cell_type": "code",
   "execution_count": 53,
   "id": "f2a6a625-a000-4582-888c-ebf8fd920927",
   "metadata": {
    "tags": []
   },
   "outputs": [
    {
     "name": "stdout",
     "output_type": "stream",
     "text": [
      "The accuracy in dataset test is: 0.89\n"
     ]
    }
   ],
   "source": [
    "from sklearn.metrics import accuracy_score\n",
    "\n",
    "print('The accuracy in dataset test is: {}'.format(accuracy_score(Y_test, pd.Series(results,name='predicted_label').apply(json.loads).apply(lambda x: x['predicted_label'])).round(2)))"
   ]
  },
  {
   "cell_type": "code",
   "execution_count": 54,
   "id": "58add6c5",
   "metadata": {},
   "outputs": [],
   "source": [
    "# from sklearn.metrics import accuracy_score\n",
    "\n",
    "# pd = pd.concat([pd.Series(results,name='predicted_label_train').apply(json.loads).apply(lambda x: x['predicted_label_train']),pd.Series(results,name='score').apply(json.loads).apply(lambda x: x['score']),train_data.star_rating,Y_train],axis=1)\n",
    "# #print('The accuracy in dataset train is: {}'.format(accuracy_score(Y_train, pd.Series(results,name='predicted_label_train').apply(json.loads).apply(lambda x: x['predicted_label_train'])).round(2)))"
   ]
  },
  {
   "cell_type": "code",
   "execution_count": 55,
   "id": "f5d8bf8b",
   "metadata": {},
   "outputs": [
    {
     "name": "stdout",
     "output_type": "stream",
     "text": [
      "The log loss on the test dataset is: 0.28633937911730345\n"
     ]
    }
   ],
   "source": [
    "from sklearn.metrics import log_loss\n",
    "\n",
    "# Đoạn mã để lấy kết quả dự đoán và điểm số từ mô hình\n",
    "predicted_labels = pd.Series(results, name='predicted_label').apply(json.loads).apply(lambda x: x['predicted_label'])\n",
    "scores = pd.Series(results, name='score').apply(json.loads).apply(lambda x: x['score'])\n",
    "\n",
    "loss = log_loss(Y_test, scores)\n",
    "\n",
    "print('The log loss on the test dataset is: {}'.format(loss))\n"
   ]
  },
  {
   "cell_type": "markdown",
   "id": "f425d121-e78d-4591-9768-77d2f8681c69",
   "metadata": {},
   "source": [
    "# Real-time Prediction"
   ]
  },
  {
   "cell_type": "code",
   "execution_count": 56,
   "id": "a2ec508c-35d6-4d43-9c20-d47c1abe0cc5",
   "metadata": {},
   "outputs": [
    {
     "name": "stderr",
     "output_type": "stream",
     "text": [
      "INFO:sagemaker:Creating model with name: factorization-machines-2023-08-30-11-21-20-714\n",
      "INFO:sagemaker:Creating endpoint-config with name factorization-machines-2023-08-30-11-21-20-714\n",
      "INFO:sagemaker:Creating endpoint with name factorization-machines-2023-08-30-11-21-20-714\n"
     ]
    },
    {
     "name": "stdout",
     "output_type": "stream",
     "text": [
      "-------!CPU times: total: 46.9 ms\n",
      "Wall time: 4min 2s\n"
     ]
    }
   ],
   "source": [
    "%%time\n",
    "fm_predictor = fm.deploy(\n",
    "    initial_instance_count=1,\n",
    "    instance_type=\"ml.m4.xlarge\",\n",
    "    deserializer= JSONDeserializer()\n",
    ")"
   ]
  },
  {
   "cell_type": "code",
   "execution_count": 57,
   "id": "ea41fbd6-b8b2-4c03-84bc-4d5099c819f0",
   "metadata": {},
   "outputs": [
    {
     "data": {
      "text/plain": [
       "'Endpoints name: factorization-machines-2023-08-30-11-21-20-714'"
      ]
     },
     "metadata": {},
     "output_type": "display_data"
    }
   ],
   "source": [
    "endpoint_name = fm_predictor.endpoint_name\n",
    "display(f\"Endpoints name: {endpoint_name}\")"
   ]
  },
  {
   "cell_type": "code",
   "execution_count": 58,
   "id": "372030a6-b694-46fb-a269-e10ddb52ed3d",
   "metadata": {},
   "outputs": [],
   "source": [
    "fm_predictor = sagemaker.predictor.Predictor(endpoint_name, \n",
    "                                             sagemaker_session=sagemaker.Session(), \n",
    "                                             #serializer=FMSerializer(),\n",
    "                                             deserializer=JSONDeserializer()\n",
    "                                            )"
   ]
  },
  {
   "cell_type": "code",
   "execution_count": 65,
   "id": "2ee3ab78",
   "metadata": {},
   "outputs": [],
   "source": [
    "def getDataByYear(data, year = None):\n",
    "    data = data.copy()\n",
    "    if not pd.api.types.is_datetime64_any_dtype(data[\"review_date\"]):\n",
    "        data[\"review_date\"] = pd.to_datetime(data[\"review_date\"])\n",
    "    if year != None:  \n",
    "        filtered_data = data[data[\"review_date\"].dt.year == year]\n",
    "    else:\n",
    "        filtered_data = train_data\n",
    "    \n",
    "    return filtered_data\n",
    "\n",
    "\n",
    "# data = getDataByYear(train_data)\n",
    "# data.head(10)"
   ]
  },
  {
   "cell_type": "code",
   "execution_count": 66,
   "id": "79892adb",
   "metadata": {},
   "outputs": [],
   "source": [
    "def getCustomer(df, num, year=None):\n",
    "    df = df.copy()  # Create a copy of the DataFrame to avoid modifying the original\n",
    "    df[\"review_date\"] = pd.to_datetime(df[\"review_date\"])\n",
    "    if year is not None:\n",
    "        data = df[df[\"review_date\"].dt.year == year]\n",
    "        data = data.groupby(\"customer_id\").count()[\"product_id\"].sort_values(ascending=False).head(num)\n",
    "    else:\n",
    "        data = df.groupby(\"customer_id\").count()[\"product_id\"].sort_values(ascending=False).head(num)\n",
    "    return data\n",
    "\n",
    "# result = getCustomer(train_data,10,2014)\n",
    "# print(result)\n"
   ]
  },
  {
   "cell_type": "code",
   "execution_count": 63,
   "id": "25ecfaf7-6352-49dc-92de-7ba2a4b0b025",
   "metadata": {
    "tags": []
   },
   "outputs": [
    {
     "name": "stdout",
     "output_type": "stream",
     "text": [
      "   product_id                                      product_title     score\n",
      "0       19259  Flower Cake Decorations(9413) - WILDFLOWERS ED...  0.869010\n",
      "1       28135    San-J Szechuan Sauce, 64-Ounce Jugs (Pack of 2)  0.854253\n",
      "2       19254  The Organic Coffee Co. Organic Ground French R...  0.853109\n",
      "3       33890  Stash Pomegranate Raspberry Green Tea with Mat...  0.853058\n",
      "4       20615  Klein's Naturals Dried Blueberries, 5-Ounce Tu...  0.851811\n",
      "5       14099  Betty Lou's Coconut Macadamia Nut Butter Balls...  0.851786\n",
      "6       23462  Imagine Organic Soup,Corn & Lemongrass Soup, 1...  0.850807\n",
      "7       34754         White Chocolate Covered Christmas Pretzels  0.849795\n",
      "8       25701                                      Vanilla Paste  0.849070\n",
      "9       33810                  Frontier Se Chung Oolong (1x1LB )  0.848508\n"
     ]
    }
   ],
   "source": [
    "import numpy as np\n",
    "import pandas as pd\n",
    "import json\n",
    "import pprint\n",
    "\n",
    "# Define the recommend function\n",
    "def getRecommendation(customer_id, df,top_k,year = None):\n",
    "    \n",
    "    product_info = df[['product_id', 'product_title']]\n",
    "    # Remove duplicate rows based on 'product_id'\n",
    "    product_info = product_info.drop_duplicates(subset=['product_id'])\n",
    "    \n",
    "    data = getDataByYear(df,year)\n",
    "    \n",
    "    # Initialize a dictionary to hold instances for inference\n",
    "    js = {'instances': []}\n",
    "    # Calculate the shape of feature space for encoding\n",
    "    shape = len(enc.categories_[0]) + len(enc.categories_[1])\n",
    "\n",
    "    # Number of inferences to make at a time\n",
    "    cant_inferencias = 100\n",
    "    recommend_df = pd.DataFrame()\n",
    "    \n",
    "    # Find product rated by the user and those not rated\n",
    "    product = data.product_id[data.customer_id == customer_id]\n",
    "    product_not = set(data.product_id.unique()) - set(product)\n",
    "    # Get the index of the user from encoding categories\n",
    "    customer_id_index = np.where(enc.categories_[0] == customer_id)[0][0]\n",
    "    \n",
    "    # Populate the js dictionary with instances for inference\n",
    "    for m in product_not:\n",
    "        product_index = np.where(enc.categories_[1] == m)[0][0]\n",
    "        js['instances'].append({\n",
    "            \"data\": {\n",
    "                \"features\": {\n",
    "                    \"keys\": [int(customer_id_index), int(product_index)],\n",
    "                    \"shape\": [shape],\n",
    "                    \"values\": [1, 1]\n",
    "                }\n",
    "            }\n",
    "        })\n",
    "    # Make inferences by parts and join the results\n",
    "    results = []\n",
    "    for i in range(0, len(js['instances']), cant_inferencias):\n",
    "        part_js = {'instances': js['instances'][i:i+cant_inferencias]}\n",
    "        part_json = json.dumps(part_js)\n",
    "        result = fm_predictor.predict(part_json, initial_args={\"ContentType\": \"application/json\"})\n",
    "        results.extend(result['predictions'])\n",
    "    \n",
    "    # Create a DataFrame from the inference results\n",
    "    recommend_df = pd.DataFrame.from_dict(results)\n",
    "    recommend_df['customer_id'] = customer_id\n",
    "    recommend_df['product_id'] = list(product_not)\n",
    "    \n",
    "    # Keep only the top k recommendations based on score\n",
    "    top_recommendations = recommend_df[recommend_df.predicted_label == 1].nlargest(top_k, 'score')\n",
    "    top_recommendations\n",
    "    \n",
    "    # Merge the recommendations DataFrame with the product names DataFrame\n",
    "    top_recommendations_with_names = top_recommendations.merge(product_info, left_on=\"product_id\", right_on=\"product_id\", how=\"left\")\n",
    "\n",
    "    # Drop the 'product_id' column as it's not needed anymore\n",
    "    top_recommendations_with_names = top_recommendations_with_names[[\"product_id\", \"product_title\",\"score\"]].reset_index(drop=True)\n",
    "    \n",
    "    return top_recommendations_with_names\n",
    "    \n",
    "# Call the recommend function with the appropriate customer_id and data\n",
    "recommendations = getRecommendation(507357, train_data,10)\n",
    "print(recommendations)"
   ]
  },
  {
   "cell_type": "code",
   "execution_count": 64,
   "id": "fb116359",
   "metadata": {},
   "outputs": [
    {
     "name": "stdout",
     "output_type": "stream",
     "text": [
      "Program has been exited.\n"
     ]
    }
   ],
   "source": [
    "import pandas as pd\n",
    "import numpy as np\n",
    "import json\n",
    "import ipywidgets as widgets\n",
    "from IPython.display import display, clear_output,Markdown,HTML\n",
    "\n",
    "# Define your train_data\n",
    "train_data = train_data  \n",
    "\n",
    "# Create input widgets\n",
    "customer_id_input = widgets.Text(description='Customer ID:',\n",
    "                                style={'description_width': 'initial', 'border': '5px solid blue', 'color': 'red'},\n",
    "                                layout=widgets.Layout(width='398px', margin='5px 0 1px 54px')\n",
    ")\n",
    "year_input = widgets.Dropdown(description='Year:',\n",
    "                              options=['Get Full Data'] + list(map(str, range(2000, 2020))),\n",
    "                              style={'description_width': 'initial', 'border': '2px solid blue', 'color': 'red'},\n",
    "                              layout=widgets.Layout(margin='5px 0 1px 98px')\n",
    ")\n",
    "num_customers = widgets.Text(\n",
    "    description='Number of Customer:',\n",
    "    style={'description_width': 'initial', 'border': '5px solid blue', 'color': 'red'},\n",
    "    layout=widgets.Layout(width='398px', margin='5px 5px 20px 4px')\n",
    ")\n",
    "\n",
    "top_k_input = widgets.IntSlider(min=1, max=20, value=10)\n",
    "\n",
    "# Create output widgets\n",
    "outPutIds = widgets.Output()\n",
    "output = widgets.Output()\n",
    "\n",
    "# Create the widgets for \"Top Recommendations\"\n",
    "top_k_label = widgets.Label(\"Top Recommendations:\", style={'margin-top': '20px'})\n",
    "top_k_widget = widgets.HBox([top_k_label, top_k_input])\n",
    "top_k_widget.layout.visibility = 'hidden'\n",
    "\n",
    "def get_customer_ids(btn):\n",
    "    with outPutIds:\n",
    "        outPutIds.clear_output()\n",
    "        num = int(num_customers.value)\n",
    "        year = None if year_input.value == 'Get Full Data' else int(year_input.value)\n",
    "        customer_ids = getCustomer(train_data, num, year)\n",
    "        display(HTML(\"<h3>Top {} Customers</h3>\".format(num)))\n",
    "        display(customer_ids)\n",
    "        display(customer_id_input)\n",
    "        top_k_widget.layout.visibility = 'visible'\n",
    "        submit_button.disabled = False\n",
    "\n",
    "def show_recommendations(btn):\n",
    "    with output:\n",
    "        output.clear_output()\n",
    "        customer_id = int(customer_id_input.value)\n",
    "        top_k = int(top_k_input.value)\n",
    "        year = None if year_input.value == 'Get Full Data' else int(year_input.value)\n",
    "        recommendations = getRecommendation(customer_id, train_data, top_k, year)\n",
    "        #display(recommendations)\n",
    "        display(HTML(\"<h3>Top {} Recommendations</h3>\".format(top_k)))\n",
    "        display(recommendations)\n",
    "        \n",
    "\n",
    "def clear_output_widgets(btn):\n",
    "    with outPutIds:\n",
    "        outPutIds.clear_output()\n",
    "        \n",
    "    with output:\n",
    "        output.clear_output()\n",
    "        \n",
    "    num_customers.value = ''\n",
    "    year_input.value = 'Get Full Data'    \n",
    "    customer_id_input.value = ''\n",
    "    top_k_widget.layout.visibility = 'hidden'\n",
    "\n",
    "def exit_program(btn):\n",
    "    clear_output(wait=True)\n",
    "    print(\"Program has been exited.\")\n",
    "\n",
    "# Create buttons\n",
    "submit_button_ids = widgets.Button(description='Get Id List')\n",
    "submit_button_ids.on_click(get_customer_ids)\n",
    "\n",
    "submit_button = widgets.Button(description='Get Recommendations')\n",
    "submit_button.on_click(show_recommendations)\n",
    "submit_button.disabled = True\n",
    "\n",
    "clear_button = widgets.Button(description='Clear Output')\n",
    "clear_button.on_click(clear_output_widgets)\n",
    "\n",
    "exit_button = widgets.Button(description='Exit Program')\n",
    "exit_button.on_click(exit_program)\n",
    "\n",
    "# Arrange widgets\n",
    "input_widgets = widgets.VBox([year_input, num_customers, submit_button_ids])\n",
    "buttons = widgets.HBox([submit_button, clear_button, exit_button])\n",
    "widgets.VBox([input_widgets, outPutIds, output, top_k_widget, buttons])\n"
   ]
  },
  {
   "cell_type": "code",
   "execution_count": null,
   "id": "f0817dc0",
   "metadata": {},
   "outputs": [],
   "source": []
  },
  {
   "cell_type": "code",
   "execution_count": null,
   "id": "2749f4e2",
   "metadata": {},
   "outputs": [],
   "source": []
  },
  {
   "cell_type": "code",
   "execution_count": null,
   "id": "1391f4b3",
   "metadata": {},
   "outputs": [],
   "source": []
  },
  {
   "cell_type": "code",
   "execution_count": null,
   "id": "6009d594",
   "metadata": {},
   "outputs": [],
   "source": []
  }
 ],
 "metadata": {
  "availableInstances": [
   {
    "_defaultOrder": 0,
    "_isFastLaunch": true,
    "category": "General purpose",
    "gpuNum": 0,
    "hideHardwareSpecs": false,
    "memoryGiB": 4,
    "name": "ml.t3.medium",
    "vcpuNum": 2
   },
   {
    "_defaultOrder": 1,
    "_isFastLaunch": false,
    "category": "General purpose",
    "gpuNum": 0,
    "hideHardwareSpecs": false,
    "memoryGiB": 8,
    "name": "ml.t3.large",
    "vcpuNum": 2
   },
   {
    "_defaultOrder": 2,
    "_isFastLaunch": false,
    "category": "General purpose",
    "gpuNum": 0,
    "hideHardwareSpecs": false,
    "memoryGiB": 16,
    "name": "ml.t3.xlarge",
    "vcpuNum": 4
   },
   {
    "_defaultOrder": 3,
    "_isFastLaunch": false,
    "category": "General purpose",
    "gpuNum": 0,
    "hideHardwareSpecs": false,
    "memoryGiB": 32,
    "name": "ml.t3.2xlarge",
    "vcpuNum": 8
   },
   {
    "_defaultOrder": 4,
    "_isFastLaunch": true,
    "category": "General purpose",
    "gpuNum": 0,
    "hideHardwareSpecs": false,
    "memoryGiB": 8,
    "name": "ml.m5.large",
    "vcpuNum": 2
   },
   {
    "_defaultOrder": 5,
    "_isFastLaunch": false,
    "category": "General purpose",
    "gpuNum": 0,
    "hideHardwareSpecs": false,
    "memoryGiB": 16,
    "name": "ml.m5.xlarge",
    "vcpuNum": 4
   },
   {
    "_defaultOrder": 6,
    "_isFastLaunch": false,
    "category": "General purpose",
    "gpuNum": 0,
    "hideHardwareSpecs": false,
    "memoryGiB": 32,
    "name": "ml.m5.2xlarge",
    "vcpuNum": 8
   },
   {
    "_defaultOrder": 7,
    "_isFastLaunch": false,
    "category": "General purpose",
    "gpuNum": 0,
    "hideHardwareSpecs": false,
    "memoryGiB": 64,
    "name": "ml.m5.4xlarge",
    "vcpuNum": 16
   },
   {
    "_defaultOrder": 8,
    "_isFastLaunch": false,
    "category": "General purpose",
    "gpuNum": 0,
    "hideHardwareSpecs": false,
    "memoryGiB": 128,
    "name": "ml.m5.8xlarge",
    "vcpuNum": 32
   },
   {
    "_defaultOrder": 9,
    "_isFastLaunch": false,
    "category": "General purpose",
    "gpuNum": 0,
    "hideHardwareSpecs": false,
    "memoryGiB": 192,
    "name": "ml.m5.12xlarge",
    "vcpuNum": 48
   },
   {
    "_defaultOrder": 10,
    "_isFastLaunch": false,
    "category": "General purpose",
    "gpuNum": 0,
    "hideHardwareSpecs": false,
    "memoryGiB": 256,
    "name": "ml.m5.16xlarge",
    "vcpuNum": 64
   },
   {
    "_defaultOrder": 11,
    "_isFastLaunch": false,
    "category": "General purpose",
    "gpuNum": 0,
    "hideHardwareSpecs": false,
    "memoryGiB": 384,
    "name": "ml.m5.24xlarge",
    "vcpuNum": 96
   },
   {
    "_defaultOrder": 12,
    "_isFastLaunch": false,
    "category": "General purpose",
    "gpuNum": 0,
    "hideHardwareSpecs": false,
    "memoryGiB": 8,
    "name": "ml.m5d.large",
    "vcpuNum": 2
   },
   {
    "_defaultOrder": 13,
    "_isFastLaunch": false,
    "category": "General purpose",
    "gpuNum": 0,
    "hideHardwareSpecs": false,
    "memoryGiB": 16,
    "name": "ml.m5d.xlarge",
    "vcpuNum": 4
   },
   {
    "_defaultOrder": 14,
    "_isFastLaunch": false,
    "category": "General purpose",
    "gpuNum": 0,
    "hideHardwareSpecs": false,
    "memoryGiB": 32,
    "name": "ml.m5d.2xlarge",
    "vcpuNum": 8
   },
   {
    "_defaultOrder": 15,
    "_isFastLaunch": false,
    "category": "General purpose",
    "gpuNum": 0,
    "hideHardwareSpecs": false,
    "memoryGiB": 64,
    "name": "ml.m5d.4xlarge",
    "vcpuNum": 16
   },
   {
    "_defaultOrder": 16,
    "_isFastLaunch": false,
    "category": "General purpose",
    "gpuNum": 0,
    "hideHardwareSpecs": false,
    "memoryGiB": 128,
    "name": "ml.m5d.8xlarge",
    "vcpuNum": 32
   },
   {
    "_defaultOrder": 17,
    "_isFastLaunch": false,
    "category": "General purpose",
    "gpuNum": 0,
    "hideHardwareSpecs": false,
    "memoryGiB": 192,
    "name": "ml.m5d.12xlarge",
    "vcpuNum": 48
   },
   {
    "_defaultOrder": 18,
    "_isFastLaunch": false,
    "category": "General purpose",
    "gpuNum": 0,
    "hideHardwareSpecs": false,
    "memoryGiB": 256,
    "name": "ml.m5d.16xlarge",
    "vcpuNum": 64
   },
   {
    "_defaultOrder": 19,
    "_isFastLaunch": false,
    "category": "General purpose",
    "gpuNum": 0,
    "hideHardwareSpecs": false,
    "memoryGiB": 384,
    "name": "ml.m5d.24xlarge",
    "vcpuNum": 96
   },
   {
    "_defaultOrder": 20,
    "_isFastLaunch": false,
    "category": "General purpose",
    "gpuNum": 0,
    "hideHardwareSpecs": true,
    "memoryGiB": 0,
    "name": "ml.geospatial.interactive",
    "supportedImageNames": [
     "sagemaker-geospatial-v1-0"
    ],
    "vcpuNum": 0
   },
   {
    "_defaultOrder": 21,
    "_isFastLaunch": true,
    "category": "Compute optimized",
    "gpuNum": 0,
    "hideHardwareSpecs": false,
    "memoryGiB": 4,
    "name": "ml.c5.large",
    "vcpuNum": 2
   },
   {
    "_defaultOrder": 22,
    "_isFastLaunch": false,
    "category": "Compute optimized",
    "gpuNum": 0,
    "hideHardwareSpecs": false,
    "memoryGiB": 8,
    "name": "ml.c5.xlarge",
    "vcpuNum": 4
   },
   {
    "_defaultOrder": 23,
    "_isFastLaunch": false,
    "category": "Compute optimized",
    "gpuNum": 0,
    "hideHardwareSpecs": false,
    "memoryGiB": 16,
    "name": "ml.c5.2xlarge",
    "vcpuNum": 8
   },
   {
    "_defaultOrder": 24,
    "_isFastLaunch": false,
    "category": "Compute optimized",
    "gpuNum": 0,
    "hideHardwareSpecs": false,
    "memoryGiB": 32,
    "name": "ml.c5.4xlarge",
    "vcpuNum": 16
   },
   {
    "_defaultOrder": 25,
    "_isFastLaunch": false,
    "category": "Compute optimized",
    "gpuNum": 0,
    "hideHardwareSpecs": false,
    "memoryGiB": 72,
    "name": "ml.c5.9xlarge",
    "vcpuNum": 36
   },
   {
    "_defaultOrder": 26,
    "_isFastLaunch": false,
    "category": "Compute optimized",
    "gpuNum": 0,
    "hideHardwareSpecs": false,
    "memoryGiB": 96,
    "name": "ml.c5.12xlarge",
    "vcpuNum": 48
   },
   {
    "_defaultOrder": 27,
    "_isFastLaunch": false,
    "category": "Compute optimized",
    "gpuNum": 0,
    "hideHardwareSpecs": false,
    "memoryGiB": 144,
    "name": "ml.c5.18xlarge",
    "vcpuNum": 72
   },
   {
    "_defaultOrder": 28,
    "_isFastLaunch": false,
    "category": "Compute optimized",
    "gpuNum": 0,
    "hideHardwareSpecs": false,
    "memoryGiB": 192,
    "name": "ml.c5.24xlarge",
    "vcpuNum": 96
   },
   {
    "_defaultOrder": 29,
    "_isFastLaunch": true,
    "category": "Accelerated computing",
    "gpuNum": 1,
    "hideHardwareSpecs": false,
    "memoryGiB": 16,
    "name": "ml.g4dn.xlarge",
    "vcpuNum": 4
   },
   {
    "_defaultOrder": 30,
    "_isFastLaunch": false,
    "category": "Accelerated computing",
    "gpuNum": 1,
    "hideHardwareSpecs": false,
    "memoryGiB": 32,
    "name": "ml.g4dn.2xlarge",
    "vcpuNum": 8
   },
   {
    "_defaultOrder": 31,
    "_isFastLaunch": false,
    "category": "Accelerated computing",
    "gpuNum": 1,
    "hideHardwareSpecs": false,
    "memoryGiB": 64,
    "name": "ml.g4dn.4xlarge",
    "vcpuNum": 16
   },
   {
    "_defaultOrder": 32,
    "_isFastLaunch": false,
    "category": "Accelerated computing",
    "gpuNum": 1,
    "hideHardwareSpecs": false,
    "memoryGiB": 128,
    "name": "ml.g4dn.8xlarge",
    "vcpuNum": 32
   },
   {
    "_defaultOrder": 33,
    "_isFastLaunch": false,
    "category": "Accelerated computing",
    "gpuNum": 4,
    "hideHardwareSpecs": false,
    "memoryGiB": 192,
    "name": "ml.g4dn.12xlarge",
    "vcpuNum": 48
   },
   {
    "_defaultOrder": 34,
    "_isFastLaunch": false,
    "category": "Accelerated computing",
    "gpuNum": 1,
    "hideHardwareSpecs": false,
    "memoryGiB": 256,
    "name": "ml.g4dn.16xlarge",
    "vcpuNum": 64
   },
   {
    "_defaultOrder": 35,
    "_isFastLaunch": false,
    "category": "Accelerated computing",
    "gpuNum": 1,
    "hideHardwareSpecs": false,
    "memoryGiB": 61,
    "name": "ml.p3.2xlarge",
    "vcpuNum": 8
   },
   {
    "_defaultOrder": 36,
    "_isFastLaunch": false,
    "category": "Accelerated computing",
    "gpuNum": 4,
    "hideHardwareSpecs": false,
    "memoryGiB": 244,
    "name": "ml.p3.8xlarge",
    "vcpuNum": 32
   },
   {
    "_defaultOrder": 37,
    "_isFastLaunch": false,
    "category": "Accelerated computing",
    "gpuNum": 8,
    "hideHardwareSpecs": false,
    "memoryGiB": 488,
    "name": "ml.p3.16xlarge",
    "vcpuNum": 64
   },
   {
    "_defaultOrder": 38,
    "_isFastLaunch": false,
    "category": "Accelerated computing",
    "gpuNum": 8,
    "hideHardwareSpecs": false,
    "memoryGiB": 768,
    "name": "ml.p3dn.24xlarge",
    "vcpuNum": 96
   },
   {
    "_defaultOrder": 39,
    "_isFastLaunch": false,
    "category": "Memory Optimized",
    "gpuNum": 0,
    "hideHardwareSpecs": false,
    "memoryGiB": 16,
    "name": "ml.r5.large",
    "vcpuNum": 2
   },
   {
    "_defaultOrder": 40,
    "_isFastLaunch": false,
    "category": "Memory Optimized",
    "gpuNum": 0,
    "hideHardwareSpecs": false,
    "memoryGiB": 32,
    "name": "ml.r5.xlarge",
    "vcpuNum": 4
   },
   {
    "_defaultOrder": 41,
    "_isFastLaunch": false,
    "category": "Memory Optimized",
    "gpuNum": 0,
    "hideHardwareSpecs": false,
    "memoryGiB": 64,
    "name": "ml.r5.2xlarge",
    "vcpuNum": 8
   },
   {
    "_defaultOrder": 42,
    "_isFastLaunch": false,
    "category": "Memory Optimized",
    "gpuNum": 0,
    "hideHardwareSpecs": false,
    "memoryGiB": 128,
    "name": "ml.r5.4xlarge",
    "vcpuNum": 16
   },
   {
    "_defaultOrder": 43,
    "_isFastLaunch": false,
    "category": "Memory Optimized",
    "gpuNum": 0,
    "hideHardwareSpecs": false,
    "memoryGiB": 256,
    "name": "ml.r5.8xlarge",
    "vcpuNum": 32
   },
   {
    "_defaultOrder": 44,
    "_isFastLaunch": false,
    "category": "Memory Optimized",
    "gpuNum": 0,
    "hideHardwareSpecs": false,
    "memoryGiB": 384,
    "name": "ml.r5.12xlarge",
    "vcpuNum": 48
   },
   {
    "_defaultOrder": 45,
    "_isFastLaunch": false,
    "category": "Memory Optimized",
    "gpuNum": 0,
    "hideHardwareSpecs": false,
    "memoryGiB": 512,
    "name": "ml.r5.16xlarge",
    "vcpuNum": 64
   },
   {
    "_defaultOrder": 46,
    "_isFastLaunch": false,
    "category": "Memory Optimized",
    "gpuNum": 0,
    "hideHardwareSpecs": false,
    "memoryGiB": 768,
    "name": "ml.r5.24xlarge",
    "vcpuNum": 96
   },
   {
    "_defaultOrder": 47,
    "_isFastLaunch": false,
    "category": "Accelerated computing",
    "gpuNum": 1,
    "hideHardwareSpecs": false,
    "memoryGiB": 16,
    "name": "ml.g5.xlarge",
    "vcpuNum": 4
   },
   {
    "_defaultOrder": 48,
    "_isFastLaunch": false,
    "category": "Accelerated computing",
    "gpuNum": 1,
    "hideHardwareSpecs": false,
    "memoryGiB": 32,
    "name": "ml.g5.2xlarge",
    "vcpuNum": 8
   },
   {
    "_defaultOrder": 49,
    "_isFastLaunch": false,
    "category": "Accelerated computing",
    "gpuNum": 1,
    "hideHardwareSpecs": false,
    "memoryGiB": 64,
    "name": "ml.g5.4xlarge",
    "vcpuNum": 16
   },
   {
    "_defaultOrder": 50,
    "_isFastLaunch": false,
    "category": "Accelerated computing",
    "gpuNum": 1,
    "hideHardwareSpecs": false,
    "memoryGiB": 128,
    "name": "ml.g5.8xlarge",
    "vcpuNum": 32
   },
   {
    "_defaultOrder": 51,
    "_isFastLaunch": false,
    "category": "Accelerated computing",
    "gpuNum": 1,
    "hideHardwareSpecs": false,
    "memoryGiB": 256,
    "name": "ml.g5.16xlarge",
    "vcpuNum": 64
   },
   {
    "_defaultOrder": 52,
    "_isFastLaunch": false,
    "category": "Accelerated computing",
    "gpuNum": 4,
    "hideHardwareSpecs": false,
    "memoryGiB": 192,
    "name": "ml.g5.12xlarge",
    "vcpuNum": 48
   },
   {
    "_defaultOrder": 53,
    "_isFastLaunch": false,
    "category": "Accelerated computing",
    "gpuNum": 4,
    "hideHardwareSpecs": false,
    "memoryGiB": 384,
    "name": "ml.g5.24xlarge",
    "vcpuNum": 96
   },
   {
    "_defaultOrder": 54,
    "_isFastLaunch": false,
    "category": "Accelerated computing",
    "gpuNum": 8,
    "hideHardwareSpecs": false,
    "memoryGiB": 768,
    "name": "ml.g5.48xlarge",
    "vcpuNum": 192
   },
   {
    "_defaultOrder": 55,
    "_isFastLaunch": false,
    "category": "Accelerated computing",
    "gpuNum": 8,
    "hideHardwareSpecs": false,
    "memoryGiB": 1152,
    "name": "ml.p4d.24xlarge",
    "vcpuNum": 96
   },
   {
    "_defaultOrder": 56,
    "_isFastLaunch": false,
    "category": "Accelerated computing",
    "gpuNum": 8,
    "hideHardwareSpecs": false,
    "memoryGiB": 1152,
    "name": "ml.p4de.24xlarge",
    "vcpuNum": 96
   }
  ],
  "instance_type": "ml.t3.medium",
  "kernelspec": {
   "display_name": "Python 3 (ipykernel)",
   "language": "python",
   "name": "python3"
  },
  "language_info": {
   "codemirror_mode": {
    "name": "ipython",
    "version": 3
   },
   "file_extension": ".py",
   "mimetype": "text/x-python",
   "name": "python",
   "nbconvert_exporter": "python",
   "pygments_lexer": "ipython3",
   "version": "3.11.3"
  }
 },
 "nbformat": 4,
 "nbformat_minor": 5
}
