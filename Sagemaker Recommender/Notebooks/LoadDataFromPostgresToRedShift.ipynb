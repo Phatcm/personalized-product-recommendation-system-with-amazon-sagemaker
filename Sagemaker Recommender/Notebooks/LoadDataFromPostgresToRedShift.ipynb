{
 "cells": [
  {
   "cell_type": "code",
   "execution_count": 1,
   "id": "52b63f64",
   "metadata": {},
   "outputs": [],
   "source": [
    "from psycopg2 import sql\n",
    "import pandas as pd\n",
    "import boto3\n",
    "import os\n",
    "from dotenv import load_dotenv\n",
    "folder_path = r\"../Resources/data/\"\n",
    "env_path = r\"../Resources/env/\"\n",
    "load_dotenv(env_path + 'AwsCfg.env')\n",
    "\n",
    "table_name = 'GroceryProducts'\n",
    "default_region = os.getenv(\"region\")\n",
    "s3 = boto3.client('s3')\n",
    "bucket_name = 'posgresdata'"
   ]
  },
  {
   "cell_type": "code",
   "execution_count": null,
   "id": "46a7c7c3",
   "metadata": {},
   "outputs": [],
   "source": [
    "import psycopg2\n",
    "import csv\n",
    "\n",
    "folder_path = r\"../Resources/data/\"\n",
    "# Connect to PostgreSQL\n",
    "conn = psycopg2.connect(\n",
    "    host=\"localhost\",\n",
    "    database=\"DA2\",\n",
    "    user=\"postgres\",\n",
    "    password=\"123456\",\n",
    "    port = '5432'\n",
    ")\n",
    "# Save data as CSV with specified encoding\n",
    "csv_file_path_train_data = 'GroceryProducts.csv'\n",
    "csv_file_path_product_data = 'ProductsData.csv'\n",
    "csv_file_path_customer_data = 'CustomersData.csv'\n",
    "csv_file_path_reviews_data = 'ReviewsData.csv'\n",
    "\n",
    "# Query data\n",
    "train_data_query = 'select r.customer_fk as customer_id,p.product_pk as product_id,p.product_title,p.product_category,r.star_rating,r.review_date from core.products p left join core.reviews r on p.product_pk = r.product_fk order by p.product_pk ASC'\n",
    "product_query = 'select * from core.products order by product_pk asc'\n",
    "customer_query = 'select * from core.customers order by customer_pk asc'\n",
    "review_query = 'select * from core.reviews order by review_pk asc'\n",
    "# Define a list of queries and corresponding file names\n",
    "queries = [\n",
    "    (train_data_query, csv_file_path_train_data),\n",
    "    (product_query, csv_file_path_product_data),\n",
    "    (customer_query, csv_file_path_customer_data),\n",
    "    (product_query, csv_file_path_reviews_data),\n",
    "]\n",
    "cursor = conn.cursor()\n",
    "for query, csv_filename in queries:\n",
    "    # Execute the query\n",
    "    cursor.execute(query)\n",
    "    # Save data as CSV with specified encoding\n",
    "    csv_file_path = folder_path + csv_filename\n",
    "    with open(csv_file_path, \"w\", newline=\"\", encoding=\"utf-8\") as csv_file:\n",
    "        csv_writer = csv.writer(csv_file)\n",
    "        csv_writer.writerow([desc[0] for desc in cursor.description])  # Write column headers\n",
    "        csv_writer.writerows(cursor)\n",
    "        \n",
    "     # Upload CSV to S3\n",
    "    s3_file_path = 's3://' + bucket_name + '/' + csv_filename\n",
    "    s3.upload_file(csv_file_path, bucket_name, os.path.basename(s3_file_path))\n",
    "    print('Upload successful')\n",
    "\n",
    "\n",
    "\n",
    "cursor.close()\n",
    "conn.close()\n"
   ]
  },
  {
   "cell_type": "code",
   "execution_count": 41,
   "id": "0f96fd53",
   "metadata": {
    "scrolled": true
   },
   "outputs": [
    {
     "name": "stdout",
     "output_type": "stream",
     "text": [
      "Bucket created: {'ResponseMetadata': {'RequestId': 'HG1WT9ABFF9X8E6C', 'HostId': 'qx+Vd/eIb63/P9tG92pUUiK3/zW59wEz6xgQvtjAN8Y8nPTSsiyavvLvEfGwiPt1RsjR3UDEyADyKnuAyxUhlA==', 'HTTPStatusCode': 200, 'HTTPHeaders': {'x-amz-id-2': 'qx+Vd/eIb63/P9tG92pUUiK3/zW59wEz6xgQvtjAN8Y8nPTSsiyavvLvEfGwiPt1RsjR3UDEyADyKnuAyxUhlA==', 'x-amz-request-id': 'HG1WT9ABFF9X8E6C', 'date': 'Mon, 14 Aug 2023 13:18:49 GMT', 'location': 'http://posgresdata.s3.amazonaws.com/', 'server': 'AmazonS3', 'content-length': '0'}, 'RetryAttempts': 0}, 'Location': 'http://posgresdata.s3.amazonaws.com/'}\n"
     ]
    }
   ],
   "source": [
    "s3 = boto3.client('s3')\n",
    "bucket_name = 'posgresdata'\n",
    "\n",
    "response = s3.create_bucket(\n",
    "    Bucket=bucket_name,\n",
    "    CreateBucketConfiguration={\n",
    "        'LocationConstraint': 'ap-southeast-1'\n",
    "    }\n",
    ")\n",
    "\n",
    "print('Bucket created:', response)\n"
   ]
  },
  {
   "cell_type": "code",
   "execution_count": 43,
   "id": "a7ad75d0",
   "metadata": {},
   "outputs": [
    {
     "name": "stdout",
     "output_type": "stream",
     "text": [
      "Connected to Redshift successfully!\n",
      "drop query sucessfully\n",
      "create query sucessfuly\n",
      "copy query sucessfuly\n",
      "Connection to Redshift closed.\n"
     ]
    }
   ],
   "source": [
    "dbname = os.getenv(\"dbname\")\n",
    "user = os.getenv(\"user\")\n",
    "password = os.getenv(\"password\")\n",
    "host = os.getenv(\"host\")\n",
    "port = os.getenv(\"port\")\n",
    "role = os.getenv(\"role\")\n",
    "\n",
    "# Construct the connection string\n",
    "conn_string = f\"dbname='{dbname}' user='{user}' password='{password}' host='{host}' port='{port}'\"\n",
    "\n",
    "try:\n",
    "    # Connect to Redshift\n",
    "    redshift_conn = psycopg2.connect(conn_string)\n",
    "    print(\"Connected to Redshift successfully!\")\n",
    "    # Create a cursor for Redshift\n",
    "    redshift_cursor = redshift_conn.cursor()\n",
    "\n",
    "    # Define the TABLE query\n",
    "    drop_query = f\"\"\"DROP TABLE IF EXISTS public.{table_name};\"\"\"\n",
    "    \n",
    "    create_query = f\"\"\"\n",
    "        CREATE TABLE IF NOT EXISTS {table_name} (\n",
    "            customer_id int,\n",
    "            product_id int,\n",
    "            product_title varchar(512),\n",
    "            product_category varchar(256),\n",
    "            star_rating int,\n",
    "            review_date date\n",
    "        )\n",
    "        SORTKEY (product_id);\"\"\"\n",
    "    \n",
    "    copy_query = f\"\"\"COPY dev.public.{table_name} (customer_id, product_id, product_title, product_category, star_rating, review_date) \n",
    "    FROM '{s3_file_path}' IAM_ROLE '{role}' FORMAT AS CSV DELIMITER ',' QUOTE '\"' IGNOREHEADER 1 REGION AS '{default_region}'\"\"\"\n",
    "    \n",
    "    # Execute the CREATE TABLE query\n",
    "    redshift_cursor.execute(drop_query)\n",
    "    print(\"drop query sucessfully\")\n",
    "    redshift_cursor.execute(create_query)\n",
    "    print(\"create query sucessfuly\")\n",
    "    redshift_cursor.execute(copy_query)\n",
    "    print(\"copy query sucessfuly\")\n",
    "    redshift_conn.commit()\n",
    "\n",
    "except Exception as e:\n",
    "    print(\"Error:\", e)\n",
    "\n",
    "finally:\n",
    "    if redshift_conn is not None:\n",
    "        redshift_conn.close()\n",
    "        print(\"Connection to Redshift closed.\")\n"
   ]
  },
  {
   "cell_type": "code",
   "execution_count": null,
   "id": "1a4ad709",
   "metadata": {},
   "outputs": [],
   "source": []
  },
  {
   "cell_type": "code",
   "execution_count": null,
   "id": "185219bc",
   "metadata": {},
   "outputs": [],
   "source": []
  }
 ],
 "metadata": {
  "kernelspec": {
   "display_name": "Python 3 (ipykernel)",
   "language": "python",
   "name": "python3"
  },
  "language_info": {
   "codemirror_mode": {
    "name": "ipython",
    "version": 3
   },
   "file_extension": ".py",
   "mimetype": "text/x-python",
   "name": "python",
   "nbconvert_exporter": "python",
   "pygments_lexer": "ipython3",
   "version": "3.11.3"
  }
 },
 "nbformat": 4,
 "nbformat_minor": 5
}
